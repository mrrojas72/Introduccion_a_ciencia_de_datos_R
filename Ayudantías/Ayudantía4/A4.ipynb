{
  "nbformat": 4,
  "nbformat_minor": 0,
  "metadata": {
    "colab": {
      "name": "A4.ipynb",
      "provenance": [],
      "collapsed_sections": [],
      "include_colab_link": true
    },
    "kernelspec": {
      "name": "ir",
      "display_name": "R"
    }
  },
  "cells": [
    {
      "cell_type": "markdown",
      "metadata": {
        "id": "view-in-github",
        "colab_type": "text"
      },
      "source": [
        "<a href=\"https://colab.research.google.com/github/majorquev/Introduccion_a_ciencia_de_datos_R/blob/master/Ayudant%C3%ADas/Ayudant%C3%ADa4/A4.ipynb\" target=\"_parent\"><img src=\"https://colab.research.google.com/assets/colab-badge.svg\" alt=\"Open In Colab\"/></a>"
      ]
    },
    {
      "cell_type": "markdown",
      "metadata": {
        "id": "4jo-Of-RUzwk"
      },
      "source": [
        "# **Parte 3: Reglas de Asociación y Clustering (I)**\n",
        "\n",
        "**Autor:** Miguel Jorquera Viguera<br>\n",
        "**E-mail:** majorquev@gmail.com<br>\n",
        "**Ayudante:** Bastián Aballay Leiva<br>\n",
        "**E-mail ayudante:** bastian.aballayleiva@gmail.com\n",
        "\n",
        "   \n",
        "   "
      ]
    },
    {
      "cell_type": "markdown",
      "metadata": {
        "id": "yJ1fSI4qUzxm"
      },
      "source": [
        "# Sección 1\n",
        "## ¿Un cafecito?\n",
        "A usted se le solicita analizar las ventas de los distintos productos ofrecidos por una cafetería. Para ello usted deberá generar una descripción de dichas ventas,utilizando estadísticos descriptivos, gráficos  y además deberá incluir un análisis de la venta cruzada de los productos en cuestión. "
      ]
    },
    {
      "cell_type": "markdown",
      "metadata": {
        "id": "iQ6oredvUzxt"
      },
      "source": [
        "El siguiente archivo contiene los registros de las ventas de una cafetería en un determinado período.\n",
        "Ustede deberá responder las siguientes preguntas con el objetivo de generar recomendaciones de ventas en distintos períodos de tiempo."
      ]
    },
    {
      "cell_type": "code",
      "metadata": {
        "id": "eF7XEES9e48h"
      },
      "source": [
        "trans_original <- read.csv(\"https://raw.githubusercontent.com/majorquev/Introduccion_a_ciencia_de_datos_R/master/Ayudant%C3%ADas/Ayudant%C3%ADa4/cafeteria.csv\")"
      ],
      "execution_count": 5,
      "outputs": []
    },
    {
      "cell_type": "code",
      "metadata": {
        "id": "OOJzEbRRfA-I",
        "outputId": "d6f08de7-e651-4a54-a79e-5d57de05bba5",
        "colab": {
          "base_uri": "https://localhost:8080/",
          "height": 144
        }
      },
      "source": [
        "summary(trans_original)"
      ],
      "execution_count": 6,
      "outputs": [
        {
          "output_type": "display_data",
          "data": {
            "text/plain": [
              "     Date               Time            Transaction       Item          \n",
              " Length:21293       Length:21293       Min.   :   1   Length:21293      \n",
              " Class :character   Class :character   1st Qu.:2548   Class :character  \n",
              " Mode  :character   Mode  :character   Median :5067   Mode  :character  \n",
              "                                       Mean   :4952                     \n",
              "                                       3rd Qu.:7329                     \n",
              "                                       Max.   :9684                     "
            ]
          },
          "metadata": {
            "tags": []
          }
        }
      ]
    },
    {
      "cell_type": "code",
      "metadata": {
        "id": "3-ZAPwyafJLF",
        "outputId": "687f4537-1f96-43dc-a0a1-3080c7920ef6",
        "colab": {
          "base_uri": "https://localhost:8080/",
          "height": 108
        }
      },
      "source": [
        "str(trans_original)"
      ],
      "execution_count": 66,
      "outputs": [
        {
          "output_type": "stream",
          "text": [
            "'data.frame':\t21293 obs. of  4 variables:\n",
            " $ Date       : chr  \"2016-10-30\" \"2016-10-30\" \"2016-10-30\" \"2016-10-30\" ...\n",
            " $ Time       : chr  \"09:58:11\" \"10:05:34\" \"10:05:34\" \"10:07:57\" ...\n",
            " $ Transaction: int  1 2 2 3 3 3 4 5 5 5 ...\n",
            " $ Item       : chr  \"Bread\" \"Scandinavian\" \"Scandinavian\" \"Hot chocolate\" ...\n"
          ],
          "name": "stdout"
        }
      ]
    },
    {
      "cell_type": "code",
      "metadata": {
        "id": "DxX6ue2OfQ4F",
        "outputId": "59a9d622-27f7-4723-d659-7dab4bf4aced",
        "colab": {
          "base_uri": "https://localhost:8080/",
          "height": 398
        }
      },
      "source": [
        "head(trans_original)\n",
        "tail(trans_original)"
      ],
      "execution_count": 67,
      "outputs": [
        {
          "output_type": "display_data",
          "data": {
            "text/plain": [
              "  Date       Time     Transaction Item         \n",
              "1 2016-10-30 09:58:11 1           Bread        \n",
              "2 2016-10-30 10:05:34 2           Scandinavian \n",
              "3 2016-10-30 10:05:34 2           Scandinavian \n",
              "4 2016-10-30 10:07:57 3           Hot chocolate\n",
              "5 2016-10-30 10:07:57 3           Jam          \n",
              "6 2016-10-30 10:07:57 3           Cookies      "
            ],
            "text/latex": "A data.frame: 6 × 4\n\\begin{tabular}{r|llll}\n  & Date & Time & Transaction & Item\\\\\n  & <chr> & <chr> & <int> & <chr>\\\\\n\\hline\n\t1 & 2016-10-30 & 09:58:11 & 1 & Bread        \\\\\n\t2 & 2016-10-30 & 10:05:34 & 2 & Scandinavian \\\\\n\t3 & 2016-10-30 & 10:05:34 & 2 & Scandinavian \\\\\n\t4 & 2016-10-30 & 10:07:57 & 3 & Hot chocolate\\\\\n\t5 & 2016-10-30 & 10:07:57 & 3 & Jam          \\\\\n\t6 & 2016-10-30 & 10:07:57 & 3 & Cookies      \\\\\n\\end{tabular}\n",
            "text/markdown": "\nA data.frame: 6 × 4\n\n| <!--/--> | Date &lt;chr&gt; | Time &lt;chr&gt; | Transaction &lt;int&gt; | Item &lt;chr&gt; |\n|---|---|---|---|---|\n| 1 | 2016-10-30 | 09:58:11 | 1 | Bread         |\n| 2 | 2016-10-30 | 10:05:34 | 2 | Scandinavian  |\n| 3 | 2016-10-30 | 10:05:34 | 2 | Scandinavian  |\n| 4 | 2016-10-30 | 10:07:57 | 3 | Hot chocolate |\n| 5 | 2016-10-30 | 10:07:57 | 3 | Jam           |\n| 6 | 2016-10-30 | 10:07:57 | 3 | Cookies       |\n\n",
            "text/html": [
              "<table>\n",
              "<caption>A data.frame: 6 × 4</caption>\n",
              "<thead>\n",
              "\t<tr><th></th><th scope=col>Date</th><th scope=col>Time</th><th scope=col>Transaction</th><th scope=col>Item</th></tr>\n",
              "\t<tr><th></th><th scope=col>&lt;chr&gt;</th><th scope=col>&lt;chr&gt;</th><th scope=col>&lt;int&gt;</th><th scope=col>&lt;chr&gt;</th></tr>\n",
              "</thead>\n",
              "<tbody>\n",
              "\t<tr><th scope=row>1</th><td>2016-10-30</td><td>09:58:11</td><td>1</td><td>Bread        </td></tr>\n",
              "\t<tr><th scope=row>2</th><td>2016-10-30</td><td>10:05:34</td><td>2</td><td>Scandinavian </td></tr>\n",
              "\t<tr><th scope=row>3</th><td>2016-10-30</td><td>10:05:34</td><td>2</td><td>Scandinavian </td></tr>\n",
              "\t<tr><th scope=row>4</th><td>2016-10-30</td><td>10:07:57</td><td>3</td><td>Hot chocolate</td></tr>\n",
              "\t<tr><th scope=row>5</th><td>2016-10-30</td><td>10:07:57</td><td>3</td><td>Jam          </td></tr>\n",
              "\t<tr><th scope=row>6</th><td>2016-10-30</td><td>10:07:57</td><td>3</td><td>Cookies      </td></tr>\n",
              "</tbody>\n",
              "</table>\n"
            ]
          },
          "metadata": {
            "tags": []
          }
        },
        {
          "output_type": "display_data",
          "data": {
            "text/plain": [
              "      Date       Time     Transaction Item        \n",
              "21288 2017-04-09 14:32:58 9682        Tacos/Fajita\n",
              "21289 2017-04-09 14:32:58 9682        Coffee      \n",
              "21290 2017-04-09 14:32:58 9682        Tea         \n",
              "21291 2017-04-09 14:57:06 9683        Coffee      \n",
              "21292 2017-04-09 14:57:06 9683        Pastry      \n",
              "21293 2017-04-09 15:04:24 9684        Smoothies   "
            ],
            "text/latex": "A data.frame: 6 × 4\n\\begin{tabular}{r|llll}\n  & Date & Time & Transaction & Item\\\\\n  & <chr> & <chr> & <int> & <chr>\\\\\n\\hline\n\t21288 & 2017-04-09 & 14:32:58 & 9682 & Tacos/Fajita\\\\\n\t21289 & 2017-04-09 & 14:32:58 & 9682 & Coffee      \\\\\n\t21290 & 2017-04-09 & 14:32:58 & 9682 & Tea         \\\\\n\t21291 & 2017-04-09 & 14:57:06 & 9683 & Coffee      \\\\\n\t21292 & 2017-04-09 & 14:57:06 & 9683 & Pastry      \\\\\n\t21293 & 2017-04-09 & 15:04:24 & 9684 & Smoothies   \\\\\n\\end{tabular}\n",
            "text/markdown": "\nA data.frame: 6 × 4\n\n| <!--/--> | Date &lt;chr&gt; | Time &lt;chr&gt; | Transaction &lt;int&gt; | Item &lt;chr&gt; |\n|---|---|---|---|---|\n| 21288 | 2017-04-09 | 14:32:58 | 9682 | Tacos/Fajita |\n| 21289 | 2017-04-09 | 14:32:58 | 9682 | Coffee       |\n| 21290 | 2017-04-09 | 14:32:58 | 9682 | Tea          |\n| 21291 | 2017-04-09 | 14:57:06 | 9683 | Coffee       |\n| 21292 | 2017-04-09 | 14:57:06 | 9683 | Pastry       |\n| 21293 | 2017-04-09 | 15:04:24 | 9684 | Smoothies    |\n\n",
            "text/html": [
              "<table>\n",
              "<caption>A data.frame: 6 × 4</caption>\n",
              "<thead>\n",
              "\t<tr><th></th><th scope=col>Date</th><th scope=col>Time</th><th scope=col>Transaction</th><th scope=col>Item</th></tr>\n",
              "\t<tr><th></th><th scope=col>&lt;chr&gt;</th><th scope=col>&lt;chr&gt;</th><th scope=col>&lt;int&gt;</th><th scope=col>&lt;chr&gt;</th></tr>\n",
              "</thead>\n",
              "<tbody>\n",
              "\t<tr><th scope=row>21288</th><td>2017-04-09</td><td>14:32:58</td><td>9682</td><td>Tacos/Fajita</td></tr>\n",
              "\t<tr><th scope=row>21289</th><td>2017-04-09</td><td>14:32:58</td><td>9682</td><td>Coffee      </td></tr>\n",
              "\t<tr><th scope=row>21290</th><td>2017-04-09</td><td>14:32:58</td><td>9682</td><td>Tea         </td></tr>\n",
              "\t<tr><th scope=row>21291</th><td>2017-04-09</td><td>14:57:06</td><td>9683</td><td>Coffee      </td></tr>\n",
              "\t<tr><th scope=row>21292</th><td>2017-04-09</td><td>14:57:06</td><td>9683</td><td>Pastry      </td></tr>\n",
              "\t<tr><th scope=row>21293</th><td>2017-04-09</td><td>15:04:24</td><td>9684</td><td>Smoothies   </td></tr>\n",
              "</tbody>\n",
              "</table>\n"
            ]
          },
          "metadata": {
            "tags": []
          }
        }
      ]
    },
    {
      "cell_type": "code",
      "metadata": {
        "id": "lOSiR2Jyfj1A",
        "outputId": "3f173e27-ecae-4583-c942-0af709b59188",
        "colab": {
          "base_uri": "https://localhost:8080/",
          "height": 293
        }
      },
      "source": [
        "# MUESTRA EN R BASE\n",
        "# Observar el comportamiento \"intermedio\" en los datos\n",
        "# 0. Fijar la muestra -> establecer una semilla\n",
        "set.seed(1)\n",
        "# 1. Generamos un indice\n",
        "muestra_index <- sample(1:nrow(trans_original), 10)\n",
        "# 2. Obtener una muestra\n",
        "trans_sample <- trans_original[muestra_index,]\n",
        "trans_sample"
      ],
      "execution_count": 7,
      "outputs": [
        {
          "output_type": "display_data",
          "data": {
            "text/plain": [
              "      Date       Time     Transaction Item      \n",
              "17401 2017-03-11 11:30:56 7942        Coffee    \n",
              "4775  2016-11-28 16:45:21 2259        Cookies   \n",
              "13218 2017-02-08 12:25:12 6220        Farm House\n",
              "10539 2017-01-20 16:53:40 5016        Cookies   \n",
              "8462  2016-12-31 10:27:52 4040        Bread     \n",
              "4050  2016-11-23 12:49:38 1910        Bread     \n",
              "13499 2017-02-10 13:40:52 6336        Cake      \n",
              "11571 2017-01-28 11:08:10 5496        NONE      \n",
              "12257 2017-02-02 13:01:10 5800        Farm House\n",
              "17685 2017-03-12 15:45:55 8055        Coffee    "
            ],
            "text/latex": "A data.frame: 10 × 4\n\\begin{tabular}{r|llll}\n  & Date & Time & Transaction & Item\\\\\n  & <chr> & <chr> & <int> & <chr>\\\\\n\\hline\n\t17401 & 2017-03-11 & 11:30:56 & 7942 & Coffee    \\\\\n\t4775 & 2016-11-28 & 16:45:21 & 2259 & Cookies   \\\\\n\t13218 & 2017-02-08 & 12:25:12 & 6220 & Farm House\\\\\n\t10539 & 2017-01-20 & 16:53:40 & 5016 & Cookies   \\\\\n\t8462 & 2016-12-31 & 10:27:52 & 4040 & Bread     \\\\\n\t4050 & 2016-11-23 & 12:49:38 & 1910 & Bread     \\\\\n\t13499 & 2017-02-10 & 13:40:52 & 6336 & Cake      \\\\\n\t11571 & 2017-01-28 & 11:08:10 & 5496 & NONE      \\\\\n\t12257 & 2017-02-02 & 13:01:10 & 5800 & Farm House\\\\\n\t17685 & 2017-03-12 & 15:45:55 & 8055 & Coffee    \\\\\n\\end{tabular}\n",
            "text/markdown": "\nA data.frame: 10 × 4\n\n| <!--/--> | Date &lt;chr&gt; | Time &lt;chr&gt; | Transaction &lt;int&gt; | Item &lt;chr&gt; |\n|---|---|---|---|---|\n| 17401 | 2017-03-11 | 11:30:56 | 7942 | Coffee     |\n| 4775 | 2016-11-28 | 16:45:21 | 2259 | Cookies    |\n| 13218 | 2017-02-08 | 12:25:12 | 6220 | Farm House |\n| 10539 | 2017-01-20 | 16:53:40 | 5016 | Cookies    |\n| 8462 | 2016-12-31 | 10:27:52 | 4040 | Bread      |\n| 4050 | 2016-11-23 | 12:49:38 | 1910 | Bread      |\n| 13499 | 2017-02-10 | 13:40:52 | 6336 | Cake       |\n| 11571 | 2017-01-28 | 11:08:10 | 5496 | NONE       |\n| 12257 | 2017-02-02 | 13:01:10 | 5800 | Farm House |\n| 17685 | 2017-03-12 | 15:45:55 | 8055 | Coffee     |\n\n",
            "text/html": [
              "<table>\n",
              "<caption>A data.frame: 10 × 4</caption>\n",
              "<thead>\n",
              "\t<tr><th></th><th scope=col>Date</th><th scope=col>Time</th><th scope=col>Transaction</th><th scope=col>Item</th></tr>\n",
              "\t<tr><th></th><th scope=col>&lt;chr&gt;</th><th scope=col>&lt;chr&gt;</th><th scope=col>&lt;int&gt;</th><th scope=col>&lt;chr&gt;</th></tr>\n",
              "</thead>\n",
              "<tbody>\n",
              "\t<tr><th scope=row>17401</th><td>2017-03-11</td><td>11:30:56</td><td>7942</td><td>Coffee    </td></tr>\n",
              "\t<tr><th scope=row>4775</th><td>2016-11-28</td><td>16:45:21</td><td>2259</td><td>Cookies   </td></tr>\n",
              "\t<tr><th scope=row>13218</th><td>2017-02-08</td><td>12:25:12</td><td>6220</td><td>Farm House</td></tr>\n",
              "\t<tr><th scope=row>10539</th><td>2017-01-20</td><td>16:53:40</td><td>5016</td><td>Cookies   </td></tr>\n",
              "\t<tr><th scope=row>8462</th><td>2016-12-31</td><td>10:27:52</td><td>4040</td><td>Bread     </td></tr>\n",
              "\t<tr><th scope=row>4050</th><td>2016-11-23</td><td>12:49:38</td><td>1910</td><td>Bread     </td></tr>\n",
              "\t<tr><th scope=row>13499</th><td>2017-02-10</td><td>13:40:52</td><td>6336</td><td>Cake      </td></tr>\n",
              "\t<tr><th scope=row>11571</th><td>2017-01-28</td><td>11:08:10</td><td>5496</td><td>NONE      </td></tr>\n",
              "\t<tr><th scope=row>12257</th><td>2017-02-02</td><td>13:01:10</td><td>5800</td><td>Farm House</td></tr>\n",
              "\t<tr><th scope=row>17685</th><td>2017-03-12</td><td>15:45:55</td><td>8055</td><td>Coffee    </td></tr>\n",
              "</tbody>\n",
              "</table>\n"
            ]
          },
          "metadata": {
            "tags": []
          }
        }
      ]
    },
    {
      "cell_type": "code",
      "metadata": {
        "id": "-phObmTUhXQW",
        "outputId": "bb5be7fe-cdae-40c8-9ebb-0b8e474f2133",
        "colab": {
          "base_uri": "https://localhost:8080/",
          "height": 362
        }
      },
      "source": [
        "# MUESTRA EN DPLYR\n",
        "library(dplyr)"
      ],
      "execution_count": 10,
      "outputs": [
        {
          "output_type": "stream",
          "text": [
            "\n",
            "Attaching package: ‘dplyr’\n",
            "\n",
            "\n",
            "The following objects are masked from ‘package:arules’:\n",
            "\n",
            "    intersect, recode, setdiff, setequal, union\n",
            "\n",
            "\n",
            "The following objects are masked from ‘package:stats’:\n",
            "\n",
            "    filter, lag\n",
            "\n",
            "\n",
            "The following objects are masked from ‘package:base’:\n",
            "\n",
            "    intersect, setdiff, setequal, union\n",
            "\n",
            "\n"
          ],
          "name": "stderr"
        }
      ]
    },
    {
      "cell_type": "code",
      "metadata": {
        "id": "ze4iV6nShc3P",
        "outputId": "58c0c1e3-a29d-4aa3-f535-2252586f81eb",
        "colab": {
          "base_uri": "https://localhost:8080/",
          "height": 98
        }
      },
      "source": [
        "set.seed(6)\n",
        "trans_sample_2 <- trans_original %>% sample_n(10)\n",
        "trans_sample_2"
      ],
      "execution_count": 8,
      "outputs": [
        {
          "output_type": "error",
          "ename": "ERROR",
          "evalue": "ignored",
          "traceback": [
            "Error in trans_original %>% sample_n(10): could not find function \"%>%\"\nTraceback:\n"
          ]
        }
      ]
    },
    {
      "cell_type": "code",
      "metadata": {
        "id": "xvZjVDI3iQmB",
        "outputId": "604a829b-43df-4761-ba3b-d386abf2a183",
        "colab": {
          "base_uri": "https://localhost:8080/",
          "height": 34
        }
      },
      "source": [
        "unique(trans_sample$Item)"
      ],
      "execution_count": 71,
      "outputs": [
        {
          "output_type": "display_data",
          "data": {
            "text/plain": [
              "[1] \"Coffee\"     \"Cookies\"    \"Farm House\" \"Bread\"      \"Cake\"      \n",
              "[6] \"NONE\"      "
            ],
            "text/latex": "\\begin{enumerate*}\n\\item 'Coffee'\n\\item 'Cookies'\n\\item 'Farm House'\n\\item 'Bread'\n\\item 'Cake'\n\\item 'NONE'\n\\end{enumerate*}\n",
            "text/markdown": "1. 'Coffee'\n2. 'Cookies'\n3. 'Farm House'\n4. 'Bread'\n5. 'Cake'\n6. 'NONE'\n\n\n",
            "text/html": [
              "<style>\n",
              ".list-inline {list-style: none; margin:0; padding: 0}\n",
              ".list-inline>li {display: inline-block}\n",
              ".list-inline>li:not(:last-child)::after {content: \"\\00b7\"; padding: 0 .5ex}\n",
              "</style>\n",
              "<ol class=list-inline><li>'Coffee'</li><li>'Cookies'</li><li>'Farm House'</li><li>'Bread'</li><li>'Cake'</li><li>'NONE'</li></ol>\n"
            ]
          },
          "metadata": {
            "tags": []
          }
        }
      ]
    },
    {
      "cell_type": "code",
      "metadata": {
        "trusted": true,
        "id": "EWyqO6-4Uzxt",
        "outputId": "1f74f247-a246-437d-a2a2-a1abb0f8e56d",
        "colab": {
          "base_uri": "https://localhost:8080/",
          "height": 135
        }
      },
      "source": [
        "# Notamos que el item NONE aparece 786 veces, por lo que se decide eliminar este registro.\n",
        "#filter(trans_original, Item == \"NONE\") %>% count()\n",
        "trans_original %>% filter(Item == 'NONE') %>% count()"
      ],
      "execution_count": 72,
      "outputs": [
        {
          "output_type": "display_data",
          "data": {
            "text/plain": [
              "  n  \n",
              "1 786"
            ],
            "text/latex": "A data.frame: 1 × 1\n\\begin{tabular}{l}\n n\\\\\n <int>\\\\\n\\hline\n\t 786\\\\\n\\end{tabular}\n",
            "text/markdown": "\nA data.frame: 1 × 1\n\n| n &lt;int&gt; |\n|---|\n| 786 |\n\n",
            "text/html": [
              "<table>\n",
              "<caption>A data.frame: 1 × 1</caption>\n",
              "<thead>\n",
              "\t<tr><th scope=col>n</th></tr>\n",
              "\t<tr><th scope=col>&lt;int&gt;</th></tr>\n",
              "</thead>\n",
              "<tbody>\n",
              "\t<tr><td>786</td></tr>\n",
              "</tbody>\n",
              "</table>\n"
            ]
          },
          "metadata": {
            "tags": []
          }
        }
      ]
    },
    {
      "cell_type": "code",
      "metadata": {
        "id": "QXXYhjsKivpX"
      },
      "source": [
        "trans_original <- trans_original %>% filter(Item != 'NONE')"
      ],
      "execution_count": 11,
      "outputs": []
    },
    {
      "cell_type": "code",
      "metadata": {
        "trusted": true,
        "id": "_IsXS8aGUzxv",
        "outputId": "49768ef9-da55-498a-f747-b22536273277",
        "colab": {
          "base_uri": "https://localhost:8080/",
          "height": 144
        }
      },
      "source": [
        "summary(trans_original)"
      ],
      "execution_count": 12,
      "outputs": [
        {
          "output_type": "display_data",
          "data": {
            "text/plain": [
              "     Date               Time            Transaction       Item          \n",
              " Length:20507       Length:20507       Min.   :   1   Length:20507      \n",
              " Class :character   Class :character   1st Qu.:2552   Class :character  \n",
              " Mode  :character   Mode  :character   Median :5137   Mode  :character  \n",
              "                                       Mean   :4976                     \n",
              "                                       3rd Qu.:7357                     \n",
              "                                       Max.   :9684                     "
            ]
          },
          "metadata": {
            "tags": []
          }
        }
      ]
    },
    {
      "cell_type": "markdown",
      "metadata": {
        "id": "JQ-ddEEZUzxz"
      },
      "source": [
        "**P1)** Genere tres nuevas columnas, que contengan la hora, minutos  y segundos de la transacción registrada.\n",
        "A modo de referencia, su tabla debería contener al menos los siguientes campos, de los cuales se muestran los primeros 6 registros.\n",
        "\n",
        "![image.png](data:image/png;base64,iVBORw0KGgoAAAANSUhEUgAAAZwAAADFCAYAAABgt0SyAAAgAElEQVR4Ae1d6W3kutJ9qTi0DqbhJN7/Dw3H8CIYOI4BJgl94HLIqmJRu9SyfC5wIYlLLac2Uu2h/jPwPyJABIgAESACJyDwnxN4kAURIAJEgAgQgYEFh05ABIgAESACpyDAgnMKzGRCBIgAESACLDj0ASJABIgAETgFARacU2AmEyJABIgAEWDBoQ+cgMD38Pz4GD4er+HfQm7fnx/Dx+f3rFn/vh6zx3oE4/wg58fH8PzjjbhY259nlDXIG/5/fC1Ft6fPv+H1SDQT7ecwzwI9emwnAgkBFhx6wuEIpELwjEVnaSI/r+CkJLtUvsPB6zH4+xoeqjCmor6H/BFzsTiI9hPPPZHYTgSmEGDBmUKI/RsRqIl8VvHIiRQr66fZ4UQaeUUfx+Tdj9yd1J2UXan3dgF5Bwa6IbkGOR6v4RX4h/bMp8c/gBT6Hl/fYnfwGF5/U3vSx/I3fOVOLu5e+juLWVhmyyVskiypKeMi+cHKEX85Fh28EoHtCLDgbMeQFMYQiAksJ86JJDrkYlNW6XhlJJO9XGnnfoxPOym8/GmTapt4peC1MMbWLIt8TRWT/Aj/VIxqsk7Posgo/e2OJPGX/KR0+t7O1b3ekyxQEQeph5gw1ieG8ZYIrEKABWcVbJw0FwGZ6IZhPKl6yU7Pt1x14o3zvVU7po2u3r2CU4sHSOir5t/IqgpMmBnGJ5qurLI4a0bmCXQSf+yeUHjN4PSIYv4VXsX19YJc8Sp3fC5RNhKBZQiw4CzDi6MXIYDEWCfFRNZZXTcJexgGJMBKIbchGYrfMbyxYV6kW8b3ku38gqOSseDfyB8KjtK14qFlWvoDPQqNeOWGgjLyxw6Qe2wX5Y2Jsio9pDV4TwTmI8CCMx8rjlyIAJIXVuDy6q3Gm4RtCk6lh0SbEi9oxX6xwylJHcly4w5nin8j/1TBEbIug7YWLjmv4S87gaX4Pcp0x0eLYWwcxc2jwjYi4CPAguPjwtbNCPRen6V2/Agv2cRkh+KQO2oSNTuQ2D9WcJykPJo4Df1mrOl3+FdZs/AjBcfTNc+acfFkyTu5XhGDPn/sX7cZdo3Mw5B+W+vtDM18PhKBEQRYcEbAYdcGBJDg/jo0QlL7wC5F9usCMsRx+AuxlGTr66D0HHZN/g7H0Iq/n4RXV73EaZJ4I/80/yUFJ/2eI/6gADsQU3AlOureYhjlrViosea3s7RT8/APs6yeuZDNlUsz5hMRUAiw4Cg4+LAXAjH5dpNUKga1eAiuOXHG12/4s2Ss2mVfLDS56DT9OZmiYMXfb0KhkXxtYk3PKF7uqn6C/7KCg52D+P1G4mULioCo3Cr9esUGv2HJAmNwKwRxk/vxu5eUC0N4JQIrEGDBWQEapxABIkAEiMByBFhwlmPGGUSACBABIrACARacFaBxChEgAkSACCxHgAVnOWacQQSIABEgAisQYMFZARqnEAEiQASIwHIEWHCWY8YZRIAIEAEisAIBFpwVoHEKESACRIAILEeABWc5ZpxBBIgAESACKxBgwVkBGqcQASJABIjAcgRYcJZjxhlEgAgQASKwAoGfVXDM0SL19OHe+VhjiIRjTuRxH2Nj39MXj0oRZ4W9R4rjuaazvfS5YsdzvSYHYFF9Wxx984N9IehVjjJCHN/syBzYrhyPFFwsHD+Eo5eu6XKnSnWTgpOCUhl6FMZ0ppZ/gOToxFM7f0vBORXUizND0rpTwYFOpeBc3AZrxYOeJQ/hrDsWnALpzyw4ZmUEQ6sCAmPjAMKym0GxqStHOAgSfAr29+9+IM/zjzxMsZUL45LcercHbB6fz+FRDrHMK6+CTcCipVu8ZMmNWL2+PoFxlgl9ga8IwiLj17/IqT6/hmeRUeu1RKTxsRJbf+Gi8bU4CX8Kfpn9bo/kWnFIuOCE6WCrJ7CNOLY6SP6Q/xm/9gmbaD3AqxQ6YR+cIF36PtrdqJ5fbaXbP9IH6eAHKo6tDlq+OTqM2/n4Xuga80k3/+AwVccOApe5sXO8VvtyuEXBqQHhJLaSsJDkRILIfcFB4NAyqPTXGvcFfg41VyaTrHtjUEQRBEWvEORwbImNoTtHPndMj/bjkQseAq2ebgwZkSTxXGSGnCpBudwXN/r41YTp9hc5bJL8GB6PxxDkhi6LBRITgEOltcB3xWcYXB2kvZvkmGwEvv78ihHk1PZK/U2f9L8RHBOtysOXATEtQHvjLXQdKziuHsBhRey8Ud1VrG9ScGrBQKJVaMCQMGz5NgpWUTmQS3/9jLFLTxE/7qE4J1abVg88y90JkkfWBUEwWjxBR+i/WivQKgmvJkmbwPAMGe1zkbnQhL1WS9dMTBjXxKYHTPgFsC741wIEXTS9ZU8Wl7rDqcXaowi/ge/iuewqITfsnZ/nygx6iT7sWzG0ctvn9OmHvNsJClh58G0gURTBs6uDB8TJbdATuBe9EL/IO8Bd6BnnFD8HlsC2LmCAw1xbnQzBJLubF5xqsLhiKoZGe05gxdB19Y3V2jsNC+cqDmwcFg6uZUTSS7r5Y+AXwCHrXfBB/4orsCy0IA+CqBZzyG1ltM91B7t/wSlJAbuoUjyc79WUMSkBtHLW5AndViBYprT0YS8fB4yH78JvpvxIFjI7twgjkqMa09hbzkj3kKtgYua08oV5WdfsR+0Y3d9yPb8FegL34lsoONBb+BGwjNigf0HsnK/lNo43KTgmqVnD2Wc4M5IL+h1HKCuqbTivmj0ZZO7KFFiMFBzoC8e2z6ukzZMaWpDnogUni41kgQSgV5ztQiT4BeaURBpouTZZB2hL3y841k+mnm0yL9LBdoiDnChH6WEOfKkQqzeNHmYO+kuijlN1QbEydHWobE+/a/TAzm1GwYl5xuBSF1r92DldyY0M71FwYNjs9DB8SQSmvzgrCg4K0EjQbMR51fTJIIODFj1qwsPrqAYLsVLt47NK3DQJMhUsf0bBKRrDV2KS0EmvjMENxhb8oWt9BYKha66t7byCY9uqDEjgk37UCCdpyvsw0NJHv3jNB1xyom30sD6C8cVn6i4YC77lOjRKHd4APYE7Fh/QoeQdoacSyuJSsGbBUTid9gCDYAVmrjA0DI/VarkWQ9cgCX0h8cKhy9hIuxr6NB0FI8gEvTyHxRgtdw1+YFGKiyg4dg6KlBBh+S1sVLBGgqpYWpmmnmuS818lLRcSMyBbu4MB5j6+0KWdf84fDUgctC9Lm1od8Gz9CPjLufFeFl0Ta6Ef9Pz5wEgUj0jjOXx3fcTaodKAHcDT6gCLvvMKHIqMKKQil0APjXXWs4tLxQE8ZDy/U+elvH/mDqdx/mqQBIBOBMEBkqHrOBguGB7Gs85QHGcpqjuNhzxVjpxcSjJPjDAuOXHVMfRCT+iYZkzjs1qFFUFjZbTPxxWciNDweuhEp7GC79Qx1R5hvkj4IUHnJGNprMGzxQG8ZMERu9oQF8E3YIO8w4B/VLlbPwKvkgilj8nE6dCPKH6lv87D/MrLYBR2g5BP8iireeCsdZyjwxqM95wDDKvuMs5qXEKXBqsGF8yvc8FjD//aU/e5tH5WwZmrFccRgTMQQIIof5HXK/BnCEMeROD6CLDgXN9GlPCyCGDHgVU5rnVFelnRKRgReAMCLDhvAJ0sb4RA2eWg2NTfNm6kJVUhArsgwIKzC4wkQgSIABEgAlMIsOBMIcR+IkAEiAAR2AUBFpxdYCQRIkAEiAARmEKABWcKIfYTASJABIjALgiw4OwCI4kQASJABIjAFAIsOFMIsZ8IEAEiQAR2QYAFZxcYSYQIEAEiQASmEGDBmUKI/USACBABIrALAjcqODh3KP0DvHlnDYU59/lX4T/pnCXKukv87kgEpyboM8wmGYRz1vKZbZNjf+0A5iaY/mcXHOns+Bffs50fToCCEwIO94DnAteglzrksC/TuiS+o96UVRhnR1wF1X1vNy64cKhnjrnof7Pjb19NLkftN+SmFaD/yIKDxBpPWw0ODscvp0ijcKCo5GNHSuI27fHE6P8NzzL/AseTSJ2K3OZkYHFEfLA9cAm7u3oiLbAII+oq9vmZMfn8v+16U9aM4XPYFdcVAT1vCvwg+AD8A215h4MF3OM1vOAr4mT1Nuaew//kidHSZ+cJdYtRiMFb56YNlvpRBacmUfPaTCa8WDRCELVFJTpBDIS2D6/gujw2gLxkqnLYoItcMTZ6JhxwHHozFwW0BD+SSi42omCt0bvhR1kHe+T8GlyX+MuisSgi8Ivy4bhABb5hCk4ZC5/JBarxxd68ha/oFil0ncFdOzc4/dzctAfaP6PgqEDpODAMi6SH55JsUWSworPPBk7MDwFXaJgxuz4i4ENgQ0bJAPKK3RdkzDqXAlDkBU1ghmdBQ7II96A5qnelQ1kDaBUPFH8L6zxcm1m7NciEiMWVJg4dbOGAL077n6ZXx4ci3MVFT/p5T78iN+1nlh9YcBAABgQkSpN8/eAKcxEQE/RGE6+RYdMjAl7vWipJ9KN41B7coeBUnaEj5kzTmJcYQYeyfkfwgQdwhkXEFf55mj8J3qEkitdiatdchhkdkEjL4qW+si3FAzphkVdohRv4Xs9H1OCf+wCcgl3dhaJYxP3Y3LSfeX5Gwcn6qqCR75NDv3H+Nvla0BAQuuCM8rAkDniG3Hg1U5ODSQgOb8xdU3DW6A1+lLVvmzW4Oqbdp0klx5AgZYE0OmDs0oKDeTEBWx77qHFFKqN2vklu2gP3H1VwoLBKdFhdGaOWAiSCCk6RVmi24CDgLrIigz5lRQx56yexBwR3TgrAZVnB2UFvylr+aCDteIKn7oArHH73q5QNCy605SJkfCuIAP/q7XDQHxcgolDtLv6FCSoM7pqbNuD/IwtO0Tckup5RzZa+rMJLINQEHvviX2sh+AqH99+EwIfMMrGXFWR9Pw5nX15wdtKbsg664OyE62FeGGIAMm4oOPl10n//+6jxeJjMP4Twb8hNK0zxswuOVBjJGAUo9pmiInY7sRtzQsCoeZLwxe6lzOa14rqCc6B+lPVAcPcmvaLgqEUdCtfect2AHuJA5Zgb5qYZprpPwZmhLIcQASJABIjA+xBgwXkf9uRMBIgAEfhVCLDg/CpzU1kiQASIwPsQYMF5H/bkTASIABH4VQiw4Pwqc1NZIkAEiMD7EGDBeR/25EwEiAAR+FUIsOD8KnNTWSJABIjA+xBgwXkf9uRMBIgAEfhVCLDg/CpzU1kiQASIwPsQYMF5H/bkTASIABH4VQiw4Pwqc1NZIkAEiMD7EDi44OB8pnQCc3teme6vh04aQMJZRDjAUnTh7DAczFlOsRVj/NvA1zn7CWce5cMIX3/92bVVn4fUyj9Tv0JQ02vwwgm++eDO+foWBvvdGFnSAaj16MpyknWWtcVmP1HmU0r4+rh1fGI+8Z1Hjsm6M6tbkjOxlP0w+Klv/6NASDngXJ5H6bKd7oEFJwFdE01ygP5zxzAoArbgxHZRNGICFM9dbBKf5mNJdn6kL78XYglmhy4H8ln5rb6239LLH8kq9Mz8nOAtfu9y5FDsqyxWl6Rr7Z/W3VLY/znby004Sb7GJ/YXYibFMVlnkvj1wxKGTXzYvHE4Tlfw/cOVnM3guILjJezQhsLh9McdS0m4NQk8Px91XlTNJOOZ6uJ7OI/P5/AwO5zYV3gHgh2HBS9boPBVRdCY1A+E8tWhF7/pk/GK2AA7TJV4ou2ka8CrCWbwdnQJ42sBwsBzrmUn/PmM362Rco/5xDnSaS5jsuqRfBpHoBe/Ia/UhWn046/X8FBvNdJcvDkpOQsMY2zntzZxnl6YFhuGPsfnQOY3Xo8rOA6aMmnK+zJUJenv4fX1L3Y1Y52EVmiM3Hx/vYZIsZnvF7CYjFBARuimLr2SaWQOg5R+hqDXJ+SM9Kws3hxD9pjHgNdjeDxE0CnZEha1wGhsjpGpT/Xf1yt/p6aVo+8TfXpH9ozJeiTf+9HuFJwQM8JX04JDFow2F6g8EGOuFqzyob1MM8ap+AxKoj+yOLsf8KManVhwdLC7CTQmWGn8JHuTvDEuXpH0pBOM6jyk3xfkeN85XRkb0mmu/Q3DnQu5Gxq5GNkdTPxqZJYz61pX5+Db4uWR37fNFpQsiwhk7BDTKlFiva8ky6hpH1RzI75XkTNINiKrEpwPPgKID+QHcRVxpopJIBQKiuhPtIMt+r5RaSSedaEVZtOO0j4nFZwEulxZLEnIfsH50I7RrDykmua+SS7JUWoyT+NdGQ0p+SjldOduKTiBUdQRgfMYXn/Cq4B3FBypdb6XmMZ7uapL9teB6NA4vGkk+KX8h8sxh8GIrHOm//oxfkzjj1kQ67VYJMBi3Io/MCiv1WzByT5e+uNiy7NZR45fap8TCk4ygiw2AWuZnAv2MaG2CbQZG41tx4nVhesMhUt3h2MTYnXGrAMcsVkBZdoiaTUyhyEd/eJsr0/QE9LX2zCnJ0sdddJdwCitAhfrfpKEo6vNKaxPkxGMvOSFPl6nEegn+hrX9g91OnlJMhO5pS1ans36ckiyv+X+2IKTjWMTeQTXSbAxUanXMskMbQKrya0aShSc2ujfOclFOmHmOrwecpVuSDnyq1d1Tn9Pv0jZkcnf3lc5Wplr36F3jm5J97QIaO01UWwPFVYS9xJC7vfwl1NPvx+R9XRZfiLDfqIPcYOc1MSQ59tCfS+GKw0vB9GOAr7hwIKTgIZhJdN0b43TN4yXwJq26Cj996yKv5dcbNuE4+E3iqpf0qfu5ObrB9mq44YWM9+Vb6a+YLDb1drWk1UWazt+N0EWEur7mFosLKR6zPARWY9heDOqySexCynKmTjSMRdGpXk1jvViyead+Bz/Gi3/GzSTNyJ990/xi0S/6uawglMMgddQ5SpfhaWgwnvQmry1DayR0at5LEi+xulAr/mNZPIffmr5lZNGorq/p1/hD2cHVna3F50Zv+HIhF4pnHendWt0jxhXWZv+8wQVnJLMTRIKI3o+IWafezsi67mC/FBuuXAglsRV2r8tOEFd49vqd1JD9/M7/Twgxsi89Ph6NX+K/0MB3UXswwrOLtKRCBEgAkSACNwGARac25iSihABIkAEro0AC8617UPpiAARIAK3QYAF5zampCJEgAgQgWsjwIJzbftQOiJABIjAbRBgwbmNKakIESACRODaCLDgXNs+lI4IEAEicBsEWHBuY0oqQgSIABG4NgIsONe2D6UjAkSACNwGARac25iSihABIkAEro0AC8617UPpiAARIAK3QeDggmPOJLJng5kzi7pnjYUzxJxj+OWZReE8NnlG0riFglzO2WvqrDKnvyGqz1Vq5df6t/0NwdyQ6Lb6rKXX47OlXevenJWmsExnqs3Xf4tc3lwt65gcvXP7PKrHtGkbN7gew/S2VHF4Js5r9PLIWcor3zrp7D7F8yxFR/gcWHBS4NTgTkHff07jmySLxGULTmwXRWG2ARHQYm4AyM6P9OVBoxbFnMRKEbXyW31tv6WH55ocNRZr6YHuvld96KGVLX1nRMu/L//51DKeXTsJStEHzIf9RPfxt8lH+jFyvAR34qB9NGmWCtBYXB+HwNWS/3Ga9ikfV3C8hB3aUDic/mgQkxg+Ph7D8/NR50Vd2gTXV7H2YLXz+HwOD7PDaZ0z8egmTVugwhmznx/1e+mT+lW5cBf1D6fafj7bE2ZX0APd3a+O7vrbPQE7U9B3F2ImQUdWZadCJsnc+loZcPyNY2ON6/Ei3IdDb4HXtiMvpF2QLEYpB5Td0Uf9jk46UfoxvL6eQ+2XcwOSiVfqN3lM+mW8fw6vr0elhTyZDaJlFHlG0inGC3xT/Nki16WT8xdOt4ZO3fxXeC27Oa7gOHJI5eV9GaoC7nt4ff2LXc1YF+RCpXvz/fUaIsVmfnKsurJMJPzE1COvHbmROUxT+rV0/n29hvRVDU0rjFxDr+WwU4unh8L0e3g+HsNDHAlvsd1JkhVkWmwDkYBvkNHFeQWXvaZcTZ699DqeTi4WJnFbvhbf+pznlwVwjsGyUE1+VBbQ+LRIGZ/6i9/H+BC7Zxkv6OvMjXlI6hHjDz8hOLkr9OfxVZ+8IO7Syf1FP+hri6hFcNnziQVHB3oEogCchY7AtwpK0OJIjIOhYmJbsKKO8+T4ZDRbzV0ZG3yzY8adSf4IEwrETP0aknllJOVxZQEOLYFjW4RDV0bBvhnTbJcqvwm+OunEO99OSYAgX/K7xtdOlLBlpWOm7WfLOAIJP6zWw7X6ZJi5EF+VN9q5ynecRZnql7TkfVZofLGreSu6ZafSWawrwDSdhqcjl5q+4uGkgpMUkz+ARpBmJmQLaPq9RawWguLRwLKIjKDRALml4FQ+Us4l+lUKuNOOEFq30QPdna5TBcdj4wSgN+yMNmmnwC8EGhKR7TtDHp9HGzP+OLbOQiDGPD4ImBe1TR7wKcVEXHbryDGdGHV2FoWqjBvJW97nwU3yRw4oclSf1b8/B7kgY84bclczQqfh6chVdFl5c0LB8QPHDexOUmrGRiDsTigVjbiFjf1wLvG+EyA1QIq5GJMTUSqSWQcY2xiwTBF0G5nDoI5+ZX65GXfmMmw2vTJjnxuPr9DdZRL7rc3ckcc3SlmDLmLh49rteIkMBz9mzCA+rkJAxLr0A4dWKTSIdzV+PEZdPwq+5tFSdJMgMvlHWjH3IH4sb6GT5IHiknlO0ZE8oxSOXA5Mi5qOLThRYPlDm5DNSVoREBH8GN0aLwBeq3gaJ0DHxN7VAbIBO7+Txcq3IeXIr1YaTn9Pv4a2t9XfRK/lsKnFwU/+uN3aKxdbBNsm5gsnO7hJO5WkgsVEuSK4F/LbOnwsZrbS/k3zPbtn/Wus28QtAXJyjPL7dq7ye4e/6pe05H0jY8prOg/1eb8+db6tPKfpVFyyEI5cEqE19wcWnARK+dGskc4WiBZETKmgocXZKkYD2yJUx6s7D0jb5jiMopELUtUv6VNXy/P103TDk4fFFnoth60t2jmNbBFLseV39dkqwdz5Rrbmx11Nx/M1PeLIp6mYOZL33Wgnu5cdBdQzcd7Yu8S9jcH0HP5q9vU3ELP9NicZv8sxUeSRcsj7LGeNL0MH/mt/jwJ90171m6ZTeWYhHLkA49rrYQUnKlpWi+L1Vv5xNgkMI47/w8AKmlZT84Aj6DHuUw/I6GyQdQ49LX8tNuCq+2txQn/v2jpzGrmWXo/PlvYc0LCx3ZmKAAg/1s7XfYtMvbkat9ZOdV7P1+qI4+60P8MPw/VNu63jVD2Nckyi8NF4bbHUY0TcN/kg+VHy5TZGW9+Rfpf/7Bm7fJmD5H1GRiV/E0vPPzn2VMwhHrV+SqYJOopnkMORa6vhDis4WwXjfCJABIgAEbgXAiw497IntSECRIAIXBYBFpzLmoaCEQEiQATuhQALzr3sSW2IABEgApdFgAXnsqahYESACBCBeyHAgnMve1IbIkAEiMBlEWDBuaxpKBgRIAJE4F4IsODcy57UhggQASJwWQRYcC5rGgpGBIgAEbgXAiw497IntSECRIAIXBYBFpzLmoaCEQEiQATuhcDBBUeeJeR8JiAfgIcPJHXP2wpnGuEMIoG/PXtKn6gqBja3QS5xZhL6m7OT0NG74vyi3llwWv+ufg35RLfVZy29hsEODVr35nwyhWUPnx3EmEVCyzpmB3X21Czaew/SNm5w3Zvdzenpc9LMN7RO1l351gHnlHnqKJ7egJPbDiw4KXBqcKeg7z+n8U2SReKyBSe2i6Ix24AIaDE3gG7nR/r6IDxtm5zEygF6Vn6rr+3X1OpTTY4ai7X0KuU97/RBf1Y2/VGzPfkup5Xx7NpJUIw+8M6klHykHyNCVt5OIqB9NA1PBWgsrifJrh5wteS/WpENE48rOF7CDm0oHE5/NIhJDOE48Ofno86LyrYJbg4GWO08Pp/Dw+xwWudMPHTSF1xsgVIfbPM/tqb1E7TybewPJ9p+PoenOWbc+3jbFL2Ww04tju7yezhDPELdFPSdWC8m48ja2jpQDfb2fG0xx/UTnJjQuK4n/ftm9hZ4bTvyQnrTIotRXqyI06brYiDQeQyvr+eANzTtqd6JV+o3viX9Mt7n06TBC3kyG07LKN4WSTrFyFm2v/aTCWkhWOUVdHL+eny9Yu7BmG7+K7yW3RxXcBw5YoLMQMr7MlQF3Pfw+up8l9sFuVDp3nx/vYZIsZnvFzA/MfXIa0ee1q+l8+/rNXzHZk0rNK2h13LYqUXZKdNUmH4Pz8djeCB43v55Aql3i23oDfiGZOLiLKeffH81eU5WfwO7XCxM4rYELb71Oc8vC+Acg2WhmvyoLKDxnZoyPvWXAhXjQ+yeZbygrzM35iGpR4w/fG/KyV2h38mz43RQjOpCMWKx86cxTiw4OtCjMgXg7AYReLnCSO3VCcw4GComtgqUdarmWRo7diaj2WruytgQy44ZZBD6uHM7+jUkex93EvTjnNn0Wg6bWoRDVzrBvtkG2S4VTxN8ddKJd76dkgBBvuR3ja+dKGHLSsdM28+WcQQSflith2v1yTBzIb4qb7Rzle84izLVL2nJ+6zQ+GJX81Z0y06ls1hXgGk6DU9HLjV9xcNJBScptjYhW0DT7y1itRAUjwaeWXQaILcUnIq6lDPery4Q2hECh230qoy73E0VHI+JE4DesDPapJ0CvxBoSES27wx5fB5tzPjj2DoLgRjz+KhdXtQ2ecCnFBNx2a0jx3Ri1NlZFKoybiRveZ8HN8kfOaDIUX1W//4c5IKM/puR6OMOnYanI1fRZeXNCQXHDxw3sDtJqRkbgbA7oVQ04hY29sO59M4j4tQAKeYKIKsBsg4wktzeivHS8I3MYVxHP0ki3Y87cxk/m16Zsc+Nx7fB1LBybWbGnPUoZQ26iIWBa7ez5Cp8/Jgp3bzZgICIdekHDsVSaBDvavx4jLp+FHzNo6XoJkFq7sGrvJDPkPMsb6GT5IEiJYtgzNmnOKUAABNjSURBVGE+HckzSuHI5cC0qOnYghMF7nxe2Ela0Ugi+KFJa7wAeK3iaZwAHRN7VwfIBuz8ThYr34aUI78sOF5x6enX0Pa2+g6/+fRaDptaHPzkj9utvXKxRbBtYr5wsoObtFNJKlhMlCuCciG/rcPHYmYr7d8037N71r/Guk3cEiAnxyi/b+cqv3f4q35JS943Mqa8pvNQn/frU+fbynOaTsUlC+HIJRFac39gwUmglB/NGulsgWhBxJQKGlqcrWI0sC1Cdby684C0bY7DKBq5IFX9kj51tTxfP003PHlYbKHXctjaop3TyBaxFFt+V5+tEsydb2RrftzVdDxf0yOOfJqKmSN53412snvZUUA9E+eNvUvc2xhMz+GvZl9/AzHbb3OS8bscE0UeKYe8z3LW+DJ04L/29yjQN+1Vv2k6lWcWwpELMK69HlZwoqJltSheb5VtYRAZRkz9NXlrdSpoTnvhAUfQY9ynHpDR2SDrHHpa/lpswFX39/TD6HptnTn1raVXKe93lwMa+NudqQiA8GPtfN33k7BS0ri1dqoje75WRxx3Ny9mjuN/R8oxicJH47XdueoxIu6bfJD8KPlyG6Ot70i/y3/2jF2+zEHyPhtBJX8TS88/OfZUzCEetX5Kpgk6imeQw5Frq48cVnC2Csb5RIAIEAEicC8EWHDuZU9qQwSIABG4LAIsOJc1DQUjAkSACNwLARace9mT2hABIkAELosAC85lTUPBiAARIAL3QoAF5172pDZEgAgQgcsiwIJzWdNQMCJABIjAvRBgwbmXPakNESACROCyCLDgXNY0FIwIEAEicC8EWHDuZU9qQwSIABG4LAIsOJc1DQUjAkSACNwLgYMLjjxLyPlMwMyz1ORJxBJ+e/aUPlFVjrT3QS5xZhK6m7OT0NG74vyi3llwWv/554kluq0+a+n15N/SrnWX55NZu9QPYOlznrZwXzTXnCEV5cnnUF1OVnE44/vPoFuE8sUG92JoyWdCgkojdKY0PuAssimWqT/liTZ/eLM36OeRm2g7sOAkpWuSTYr1nzsgoQjg0DsoFNtF0ZhtXCRtMTfQtPMj/bEEmfSpidbKb/W1/VDEXjNdc+orHL/iN5eepb/Psz7oz+pqeSRZq+y2/9jnUFTm836nrFM+dSxO96KesHST7mRsSyRG6Mhh3r3NKd6YQ9qW5IYN+q2Q/biC4xk1tKFwOP1xtVlOQE2ghePAn5+POi8qmUCan0QSMjgV9vH5HB5mh6MTaBg/YQjHmRSNSf1aa5XV9udzeNqCs4Jey2GnFkf33i40cIy4wO47ibCETODvJh6HyFtldXBVPuXIy6YeAiPx28RSGlt24iUH6fZuvol2wynz4mT0bM+Yv3BitY2DKAvmmkUwYgdz1Un78sNsYb5cHNuCo/WoO2fdXvVD7s1yFTx6WM9vP67gODLEhJoBl/dlqHKE7+H11fkutxOYhcbIzffXa4gUm/kJ+Ap4IrIs2LWRp/VrBf339Rq+Y7OmFZrW0Gs57NSi7JRpNphOtO8kyjSZYNvH8HggqL1Xu1eR1WrT+oEdweceAimm3YWG8t+cdEtS9Z9dOpG1tZF4jjEh/S31lTwT5RBFxjzbmJfP8V4UGf0sZMAr2qIfChX4Wpzk3KBg6i8y9+Ce2X5iwdGKRIAECFHeaCBZqZMWEmg1DgaNKwAAOEPzJjla0AVfK2NDPjtokEGMXaJfQ7L3cSdBP87p4NXS27klBIZdqUWZWxssK9o7yxnJmSB3AhBc3y8rJPF9Cr28zkFAYFh2CGLRgWStik+mq/KDnxsgQZOb0BGuik7qqD6W6NpEXvt1vpRk8R0xXQQlvbG5Vi6t37a8paX0nk4qOAmAtQm5MWo05IdOemZ14Clb2hpH0KBjnAs+Op2rlNOdG/m2BbUl1TrMNnoth00tswtOq8cmvntNbuwfCF9TVulTe6n/O+j4MR11F0XGxzf4AhZPI3TwyssuBAGw42dTBaXEuTMXZL1CFvoC7VTAfF+OvEvx9fXTY5wCXYRYd3NCwUnKy2ITRHUNLRxBqtOMdRN3cowIeOwXYFmHaIwp5grG1jnKO95mdZ8nCbqNzGFIRz/BMt+2DrONXsthU4unh9C90PbGlc533siEkuW4qqweru+E7sfwHikUwtZuXKnd+gidH1JwShFB3lI+pfWrOe8YQx9bcKJiqLpGAWF09ETj2+LgFicnYSx516gAT9xboLUhIGO5OvKrlYfT39Ov0Cw3bcHxitV8eoXwPjcOft4fDbSY7sN+ERXHDslOeqd5bVmxGl2k+S8fPBK/0ifkPRBT/j1Cx81NIGJfXaX26meJ7vGv1JxcOaKfX4CFThtvDyw4KWlaQKu8FnAnyebBHghNW3ScmYGpAM9MbJvniFV458e0pE/dyc3XT5GNDx4WW+i1HLa21MAJlKxsvbatXNfMt354ZVmtbOm5+tQa/X/rnISd/p0jY6Fi22LsP7t0Ijkbq2l+fdOic5KKG5uzzLOf49JCKfbhdygUvvIsZZL3QeD0HP769/U3PFucUr/M240cGcY1l8MKTgJEvNYq7w7lyhLKp3FSSalMT2HNAwDKmZ17W1wwLBocMs+hp+VvE4Pu7+kH9vWa5rVOvpZepbzfXQ5M2LXZmfZ02E+C+ZQ0bj07tXjP57DfyClZ9+N0b0o2kQptVcEJ7eO+XPJM4+OZZswnyBvij4ecPKMKTpg+kXPieMRYKRKJb5Er9rd5tfhzwyP5GPJRoQP9rD54FZfV3XI5rOBsEYpziQARIAJE4H4IsODcz6bUiAgQASJwSQRYcC5pFgpFBIgAEbgfAiw497MpNSICRIAIXBIBFpxLmoVCEQEiQATuhwALzv1sSo2IABEgApdEgAXnkmahUESACBCB+yHAgnM/m1IjIkAEiMAlEWDBuaRZKBQRIAJE4H4IsODcz6bUiAgQASJwSQRYcC5pFgpFBIgAEbgfAgcXnKlzoXQ/zvZpYA5nATnn+ZQzgPJZQ+XsoIaAbQh8nbPSmjOH7Dz7rM9gauWfqZ8l2xyohwFr6WH+nletuzyfzNqlfNahHC64pxwzaNmzoYK/5HOjLierOder9akZ+nJIi0Anh7QD2XIkAgcWnJQca8CkBNV/TuObooEiYAtObBdFwzkozwcOSVvMDQPt/EhfHohnqeWEiwPvmg94WX07+lmyIuFoLNbSaxjs0qAPIbSyWRbWF2z/sc+hqFS/m+L1TlmnfGpKdvZ3EWDB6UJzZsdxBcdL2NLoTn9cbZoEHo7Rfn4+zA5nKsH5EOLk1cfnc3iYHY5OoGF+4qGTvqBrC5T9GNOkfoJWvi2r7c/n8Pz4GBTvFfRaDju1OLp738MBt4itXTCg84Rr4K+wHOH5VlkdXFu/HBGeXX0EZO4JoyLW4oRnmQ9i33P4jjGXx4S8pOaMLUb7Yvz2nuMKjoNsTKg58cj7MlQl1e/h9fUvdjVjncAsNEZuvr9eQ6TYzPcL2LJg1zuYRuYgl9KvFfTf12v4js2aVmhaQ6/lsFOLp0eDaebVa99JlGkywbaP4fEQyaUsaszst8tq5Gl2zbafz7MRCD6LRU+0s1yEpPi3/XjtWgsNioyfL2bL8osHnlhwdBKNCdQGfnQEGLVapUm2GJcdJ/1GYF6R1entXZwnxycHsqtgV8aGWnZW8btAGOLOhdwNDdugsdpOz9Lf+CyDt5AKMktMU8eyol2I7XiTsKyv1LK9rO/ZHeqOEiwn5fvUcjqcURBwfbb06gVdJz9UH+rEdyXHuw4CJxWcFPRlxbAwIfsF56OuWIJycdXdJjxX745DrSs4lYOUkwUn4NIWzorWG+8a+19XVulTb0Ts57N2C07OS/mPjvQOR+aSdkHqxvfPR+lwDU4oOG2xCVq5gRSLxoIdjoInOUVchcSEMvIKpUk4Yq6gWVfnHccUY+OtoLtEP0vGS9Tb6LUcNrV4dhK6F9reuNL5zptgT5lQsGBpfe+dUkbeHq5vF+oHCqAKTo1n7FpUfDWYs+DsZfFjC0403If/F0JOMopGd151KGeImjsJI//IDwcaBahxqGGoxQUzWydDT7w68qu/dHP6e/opuvEhBYTacW2i13LY1OLg5/3RQIvpJq7rJju4JTvp4nJtWU1xXIfEr5rVxFrwA/yGI+8zKirHNP7d5oKG/q9Cd72yBxaclDT7BcDuKpwk6zlDry0mlpmB2TgU/mpFzPcSlcLZyp+e62tD29/XT5GND97YLfRaDltbdIK2sgXqXttWrmvmWz/05PLa1vDaOsfKkZ6rT22l/4vmm/hV/mr60ut48Yq+yQ/JDnIByIKzzpcOKzjRIHg3qq5yZZmSAf5hYK84qdWH0FPzEMVCjHFvG4fKo6Ij4lXcHHpa/jYx6P6efq2MaZ508DRmLb2Ww/aWnAxh22Zn2tNhO+flFDRuPTu1eC/ntH3GlKzbOfwWCrHIwD+xu8nKN30x9nPMN/mBBWcvnzms4OwlIOkQASJABIjAPRBgwbmHHakFESACRODyCLDgXN5EFJAIEAEicA8EWHDuYUdqQQSIABG4PAIsOJc3EQUkAkSACNwDARace9iRWhABIkAELo8AC87lTUQBiQARIAL3QIAF5x52pBZEgAgQgcsjwIJzeRNRQCJABIjAPRBgwbmHHakFESACRODyCLDgXN5EFJAIEAEicA8EDi44U+dC6f7uWWPhnCNzFlKAX5+lJr/gN2WcwNc5K23xWWr6PLFW/pn6NeK2ZzelIWvpNQx2aNC6y/PJrF1wVt7HhzxHbwcR5pKIZ2PhjLx8zWe/XU7WfOgpMGt9aq7SHJcQMH760Tm9fi1czblrgtBYnxj2m24PLDgpOdaASYbvP6fxzQGKKAK24MjD9oLFZhsXSdsUHDs/0h9LkNmRy6GVVn6rr+3vuVkNEI3FWno9Ptva1em7kydDJ92r7bfxXjo7FJX5vN8p65RPLdX8l4+PMW0LTLKvXCBtQsnmjU3E7j/5uILjJezQhsLh9MfVpkngHx+P4fn5qPOiTWzynWconBD7+HwOD7PD0Qk00Es8dNIXfBxHUzQm9RO08m1ZbX8+h+eH2bGtoNdy2KnF0d37Hg64RVxgdzSeeA38u3Y0crxVVgdX5VNGVj6OITCSIxqcc6HHydIlB4H+SL+lFeM0Fznbl7+Ai92rLnq5EHZlgCw/+3pcwXFwiQk1Jx55X4aqpPo9vL7+xa5mbGPIQmH05vvrNUSKzXzfOZcFe3IYJLZG5iCZ0q8V9d/Xa/iOzZpWaFpDr+WwU4unR4Np5tVr30mUaTLBto/h8RCv1JqEchVZrTatH9gRfO4gMNvvcjEpPrHwWfKJcSHenMi+5nPrMufI+6CPfe7o+AObTyw4OnhiAi1GzshFA7WvsZpki3HxikQiDD1lCOUIYXAyMIoFprsyorNc09y4ahH6uHMhd5nbu9FYhVHb6PX4rGwPgdXsWILMrQ2WFe2V8oxOS1jWV2rZXsJWmP5+WSGJ71Po5XUGAt6iyJvmjZP5YaofY/+8hod9K4G+v1Pxm+xdfdQT9B5tJxWcFPRyC7kkgcaxMsFFQ4ov9AVbRMdoE55rJuEIqT8ZfF3BqRyknEv0qxRwd5eC0+oBDd96bewfpLmmrNKn3orZT2PuFQpHBx/f4Aspl0z1p9+Oseg1i2XhZ3Exg9dl6prnRHkzHZnrHJl/ctMJBScFsiw2ATDXkB0nacZGQxrjym1o7IcTfAyWd/sHBv4Ko654sw5wlJ5DCAdrZA5Kd/RrHahNftvotRw2tXh6CN0LbW9c6XznTU0oRYqryurhWoTmTReBmbi5cRUXH8sKTlis1nyRpRIyNH09weOcnLucXXhv2k9pP7bgZPDcraIT4NH4DsitUzgJQxacKfSFI2Bo6xD+rgfj3eIh6S7Qr9AsN23B8fj18CpkjrqReoJH0NcU4hZTDD7x6tghLTj0guXass7cuZ8I6/VZ+YvIJLeIr65/ZMyn+mUsxHvxByqir81hEwh6fCem/ITuAwtOMqpbbCIy1iGEExjkPGM1bdFAMwNTOEJhZdsmDW7lT891N2X7+/oVGcqNN3YLvUJ4txudoK1sgY3Xthv7BYSsH3pyeW0LWOw21MqRnqtP7cbodxDKBUDnoOQPdXFkMV74bPJGzEv492aqz/qhfMtj7e7slm5iscMKTgJevNbC6ygYIwKYjZ/7tGNUhJvikrs0j5nFJsxVjlD5pF0EZJ5DT8vfJgbd39NPSJBv0zz7mxJ+Z8CfVc6n13LY3pIDE3ZtdqY9HbZzXk5B26Fnpxbv5Zy2z5iSdTuH30XB4On+w88pXx7pb3JJHhviwfbFZ+QX8xv0WN+NDHZYwbkRRlSFCBABIkAEdkCABWcHEEmCCBABIkAEphFgwZnGiCOIABEgAkRgBwRYcHYAkSSIABEgAkRgGgEWnGmMOIIIEAEiQAR2QIAFZwcQSYIIEAEiQASmEWDBmcaII4gAESACRGAHBFhwdgCRJIgAESACRGAaARacaYw4gggQASJABHZAgAVnBxBJgggQASJABKYRYMGZxogjiAARIAJEYAcEWHB2AJEkiAARIAJEYBoBFpxpjDiCCBABIkAEdkCABWcHEEmCCBABIkAEphH4fwrB7aFNCyqlAAAAAElFTkSuQmCC)\n",
        "\n",
        "De ser de utilidad, puede consultar la documentación de las funciones substr y separate de los packages base y tidyr respectivamente."
      ]
    },
    {
      "cell_type": "code",
      "metadata": {
        "trusted": true,
        "id": "GU4GukU_Uzx0",
        "outputId": "a1756b59-3679-4540-baf2-852c1a9d61bf",
        "colab": {
          "base_uri": "https://localhost:8080/",
          "height": 181
        }
      },
      "source": [
        "# P1 --------------------------------------------------\n",
        "# Respuesta\n",
        "library(tidyr)\n",
        "# 1er intento\n",
        "trans_original <- trans_original %>%\n",
        "  separate(Time, c('hora','min','seg'), sep = ':')"
      ],
      "execution_count": 13,
      "outputs": [
        {
          "output_type": "stream",
          "text": [
            "\n",
            "Attaching package: ‘tidyr’\n",
            "\n",
            "\n",
            "The following objects are masked from ‘package:Matrix’:\n",
            "\n",
            "    expand, pack, unpack\n",
            "\n",
            "\n"
          ],
          "name": "stderr"
        }
      ]
    },
    {
      "cell_type": "code",
      "metadata": {
        "id": "EOuFxDVmlPL_",
        "outputId": "8bb7f8a2-1056-4921-9db3-4cbbaa1a8a97",
        "colab": {
          "base_uri": "https://localhost:8080/",
          "height": 207
        }
      },
      "source": [
        "head(trans_original)"
      ],
      "execution_count": 14,
      "outputs": [
        {
          "output_type": "display_data",
          "data": {
            "text/plain": [
              "  Date       hora min seg Transaction Item         \n",
              "1 2016-10-30 09   58  11  1           Bread        \n",
              "2 2016-10-30 10   05  34  2           Scandinavian \n",
              "3 2016-10-30 10   05  34  2           Scandinavian \n",
              "4 2016-10-30 10   07  57  3           Hot chocolate\n",
              "5 2016-10-30 10   07  57  3           Jam          \n",
              "6 2016-10-30 10   07  57  3           Cookies      "
            ],
            "text/latex": "A data.frame: 6 × 6\n\\begin{tabular}{r|llllll}\n  & Date & hora & min & seg & Transaction & Item\\\\\n  & <chr> & <chr> & <chr> & <chr> & <int> & <chr>\\\\\n\\hline\n\t1 & 2016-10-30 & 09 & 58 & 11 & 1 & Bread        \\\\\n\t2 & 2016-10-30 & 10 & 05 & 34 & 2 & Scandinavian \\\\\n\t3 & 2016-10-30 & 10 & 05 & 34 & 2 & Scandinavian \\\\\n\t4 & 2016-10-30 & 10 & 07 & 57 & 3 & Hot chocolate\\\\\n\t5 & 2016-10-30 & 10 & 07 & 57 & 3 & Jam          \\\\\n\t6 & 2016-10-30 & 10 & 07 & 57 & 3 & Cookies      \\\\\n\\end{tabular}\n",
            "text/markdown": "\nA data.frame: 6 × 6\n\n| <!--/--> | Date &lt;chr&gt; | hora &lt;chr&gt; | min &lt;chr&gt; | seg &lt;chr&gt; | Transaction &lt;int&gt; | Item &lt;chr&gt; |\n|---|---|---|---|---|---|---|\n| 1 | 2016-10-30 | 09 | 58 | 11 | 1 | Bread         |\n| 2 | 2016-10-30 | 10 | 05 | 34 | 2 | Scandinavian  |\n| 3 | 2016-10-30 | 10 | 05 | 34 | 2 | Scandinavian  |\n| 4 | 2016-10-30 | 10 | 07 | 57 | 3 | Hot chocolate |\n| 5 | 2016-10-30 | 10 | 07 | 57 | 3 | Jam           |\n| 6 | 2016-10-30 | 10 | 07 | 57 | 3 | Cookies       |\n\n",
            "text/html": [
              "<table>\n",
              "<caption>A data.frame: 6 × 6</caption>\n",
              "<thead>\n",
              "\t<tr><th></th><th scope=col>Date</th><th scope=col>hora</th><th scope=col>min</th><th scope=col>seg</th><th scope=col>Transaction</th><th scope=col>Item</th></tr>\n",
              "\t<tr><th></th><th scope=col>&lt;chr&gt;</th><th scope=col>&lt;chr&gt;</th><th scope=col>&lt;chr&gt;</th><th scope=col>&lt;chr&gt;</th><th scope=col>&lt;int&gt;</th><th scope=col>&lt;chr&gt;</th></tr>\n",
              "</thead>\n",
              "<tbody>\n",
              "\t<tr><th scope=row>1</th><td>2016-10-30</td><td>09</td><td>58</td><td>11</td><td>1</td><td>Bread        </td></tr>\n",
              "\t<tr><th scope=row>2</th><td>2016-10-30</td><td>10</td><td>05</td><td>34</td><td>2</td><td>Scandinavian </td></tr>\n",
              "\t<tr><th scope=row>3</th><td>2016-10-30</td><td>10</td><td>05</td><td>34</td><td>2</td><td>Scandinavian </td></tr>\n",
              "\t<tr><th scope=row>4</th><td>2016-10-30</td><td>10</td><td>07</td><td>57</td><td>3</td><td>Hot chocolate</td></tr>\n",
              "\t<tr><th scope=row>5</th><td>2016-10-30</td><td>10</td><td>07</td><td>57</td><td>3</td><td>Jam          </td></tr>\n",
              "\t<tr><th scope=row>6</th><td>2016-10-30</td><td>10</td><td>07</td><td>57</td><td>3</td><td>Cookies      </td></tr>\n",
              "</tbody>\n",
              "</table>\n"
            ]
          },
          "metadata": {
            "tags": []
          }
        }
      ]
    },
    {
      "cell_type": "markdown",
      "metadata": {
        "id": "nkQeIj93Uzx2"
      },
      "source": [
        "**P2)**  Genere una tabla resumen que contenga la siguiente información.\n",
        "\n",
        "* `hora`: Hora donde se registraron las transacciones. por ejemplo, el valor 09 indica el bloque horario comprendido entre las 09:00 y 09:59 hrs. \n",
        "* `total_trx` : total de transacciones distintas generadas en el bloque horario respectivo.\n",
        "* `total_items`: total de items vendidos en el bloque horario respectivo.\n",
        "* `total_items_unicos`: total de items únicos venidos en el bloque horario respectivo.\n"
      ]
    },
    {
      "cell_type": "code",
      "metadata": {
        "scrolled": false,
        "trusted": true,
        "id": "UxEqW9QiUzx2",
        "outputId": "e6d049b9-751c-4021-dcd0-4bc6bd14a0e6",
        "colab": {
          "base_uri": "https://localhost:8080/",
          "height": 500
        }
      },
      "source": [
        "# P2 --------------------------------------------------\n",
        "# Respuesta\n",
        "resumen <- trans_original %>%\n",
        "            group_by(hora) %>%\n",
        "            summarize(total_trx = length(unique(Transaction)),\n",
        "                      total_items = n(),\n",
        "                      total_items_unicos = length(unique(Item)))\n",
        "\n",
        "resumen"
      ],
      "execution_count": 15,
      "outputs": [
        {
          "output_type": "stream",
          "text": [
            "`summarise()` ungrouping output (override with `.groups` argument)\n",
            "\n"
          ],
          "name": "stderr"
        },
        {
          "output_type": "display_data",
          "data": {
            "text/plain": [
              "   hora total_trx total_items total_items_unicos\n",
              "1  01      1         1         1                \n",
              "2  07     16        24         5                \n",
              "3  08    375       645        42                \n",
              "4  09   1006      1966        48                \n",
              "5  10   1266      2666        63                \n",
              "6  11   1439      3102        65                \n",
              "7  12   1325      2854        65                \n",
              "8  13   1143      2617        68                \n",
              "9  14   1120      2640        67                \n",
              "10 15    920      2115        58                \n",
              "11 16    581      1343        55                \n",
              "12 17    160       368        46                \n",
              "13 18     52        82        23                \n",
              "14 19     34        48        17                \n",
              "15 20     15        22         9                \n",
              "16 21      2         3         2                \n",
              "17 22      7         8         4                \n",
              "18 23      3         3         2                "
            ],
            "text/latex": "A tibble: 18 × 4\n\\begin{tabular}{llll}\n hora & total\\_trx & total\\_items & total\\_items\\_unicos\\\\\n <chr> & <int> & <int> & <int>\\\\\n\\hline\n\t 01 &    1 &    1 &  1\\\\\n\t 07 &   16 &   24 &  5\\\\\n\t 08 &  375 &  645 & 42\\\\\n\t 09 & 1006 & 1966 & 48\\\\\n\t 10 & 1266 & 2666 & 63\\\\\n\t 11 & 1439 & 3102 & 65\\\\\n\t 12 & 1325 & 2854 & 65\\\\\n\t 13 & 1143 & 2617 & 68\\\\\n\t 14 & 1120 & 2640 & 67\\\\\n\t 15 &  920 & 2115 & 58\\\\\n\t 16 &  581 & 1343 & 55\\\\\n\t 17 &  160 &  368 & 46\\\\\n\t 18 &   52 &   82 & 23\\\\\n\t 19 &   34 &   48 & 17\\\\\n\t 20 &   15 &   22 &  9\\\\\n\t 21 &    2 &    3 &  2\\\\\n\t 22 &    7 &    8 &  4\\\\\n\t 23 &    3 &    3 &  2\\\\\n\\end{tabular}\n",
            "text/markdown": "\nA tibble: 18 × 4\n\n| hora &lt;chr&gt; | total_trx &lt;int&gt; | total_items &lt;int&gt; | total_items_unicos &lt;int&gt; |\n|---|---|---|---|\n| 01 |    1 |    1 |  1 |\n| 07 |   16 |   24 |  5 |\n| 08 |  375 |  645 | 42 |\n| 09 | 1006 | 1966 | 48 |\n| 10 | 1266 | 2666 | 63 |\n| 11 | 1439 | 3102 | 65 |\n| 12 | 1325 | 2854 | 65 |\n| 13 | 1143 | 2617 | 68 |\n| 14 | 1120 | 2640 | 67 |\n| 15 |  920 | 2115 | 58 |\n| 16 |  581 | 1343 | 55 |\n| 17 |  160 |  368 | 46 |\n| 18 |   52 |   82 | 23 |\n| 19 |   34 |   48 | 17 |\n| 20 |   15 |   22 |  9 |\n| 21 |    2 |    3 |  2 |\n| 22 |    7 |    8 |  4 |\n| 23 |    3 |    3 |  2 |\n\n",
            "text/html": [
              "<table>\n",
              "<caption>A tibble: 18 × 4</caption>\n",
              "<thead>\n",
              "\t<tr><th scope=col>hora</th><th scope=col>total_trx</th><th scope=col>total_items</th><th scope=col>total_items_unicos</th></tr>\n",
              "\t<tr><th scope=col>&lt;chr&gt;</th><th scope=col>&lt;int&gt;</th><th scope=col>&lt;int&gt;</th><th scope=col>&lt;int&gt;</th></tr>\n",
              "</thead>\n",
              "<tbody>\n",
              "\t<tr><td>01</td><td>   1</td><td>   1</td><td> 1</td></tr>\n",
              "\t<tr><td>07</td><td>  16</td><td>  24</td><td> 5</td></tr>\n",
              "\t<tr><td>08</td><td> 375</td><td> 645</td><td>42</td></tr>\n",
              "\t<tr><td>09</td><td>1006</td><td>1966</td><td>48</td></tr>\n",
              "\t<tr><td>10</td><td>1266</td><td>2666</td><td>63</td></tr>\n",
              "\t<tr><td>11</td><td>1439</td><td>3102</td><td>65</td></tr>\n",
              "\t<tr><td>12</td><td>1325</td><td>2854</td><td>65</td></tr>\n",
              "\t<tr><td>13</td><td>1143</td><td>2617</td><td>68</td></tr>\n",
              "\t<tr><td>14</td><td>1120</td><td>2640</td><td>67</td></tr>\n",
              "\t<tr><td>15</td><td> 920</td><td>2115</td><td>58</td></tr>\n",
              "\t<tr><td>16</td><td> 581</td><td>1343</td><td>55</td></tr>\n",
              "\t<tr><td>17</td><td> 160</td><td> 368</td><td>46</td></tr>\n",
              "\t<tr><td>18</td><td>  52</td><td>  82</td><td>23</td></tr>\n",
              "\t<tr><td>19</td><td>  34</td><td>  48</td><td>17</td></tr>\n",
              "\t<tr><td>20</td><td>  15</td><td>  22</td><td> 9</td></tr>\n",
              "\t<tr><td>21</td><td>   2</td><td>   3</td><td> 2</td></tr>\n",
              "\t<tr><td>22</td><td>   7</td><td>   8</td><td> 4</td></tr>\n",
              "\t<tr><td>23</td><td>   3</td><td>   3</td><td> 2</td></tr>\n",
              "</tbody>\n",
              "</table>\n"
            ]
          },
          "metadata": {
            "tags": []
          }
        }
      ]
    },
    {
      "cell_type": "code",
      "metadata": {
        "id": "II7vCjheqogk",
        "outputId": "577380c0-2261-420d-de0e-1a878fa659f9",
        "colab": {
          "base_uri": "https://localhost:8080/",
          "height": 137
        }
      },
      "source": [
        "trans_original %>%\n",
        "  group_by(hora) %>%\n",
        "  summarize(total_trx = length(unique(Transaction)),\n",
        "            total_items = n(),\n",
        "            total_items_unicos = length(unique(Item))) %>%\n",
        "  filter(hora == '09')"
      ],
      "execution_count": 80,
      "outputs": [
        {
          "output_type": "stream",
          "text": [
            "`summarise()` ungrouping output (override with `.groups` argument)\n",
            "\n"
          ],
          "name": "stderr"
        },
        {
          "output_type": "display_data",
          "data": {
            "text/plain": [
              "  hora total_trx total_items total_items_unicos\n",
              "1 09   1006      1966        48                "
            ],
            "text/latex": "A tibble: 1 × 4\n\\begin{tabular}{llll}\n hora & total\\_trx & total\\_items & total\\_items\\_unicos\\\\\n <chr> & <int> & <int> & <int>\\\\\n\\hline\n\t 09 & 1006 & 1966 & 48\\\\\n\\end{tabular}\n",
            "text/markdown": "\nA tibble: 1 × 4\n\n| hora &lt;chr&gt; | total_trx &lt;int&gt; | total_items &lt;int&gt; | total_items_unicos &lt;int&gt; |\n|---|---|---|---|\n| 09 | 1006 | 1966 | 48 |\n\n",
            "text/html": [
              "<table>\n",
              "<caption>A tibble: 1 × 4</caption>\n",
              "<thead>\n",
              "\t<tr><th scope=col>hora</th><th scope=col>total_trx</th><th scope=col>total_items</th><th scope=col>total_items_unicos</th></tr>\n",
              "\t<tr><th scope=col>&lt;chr&gt;</th><th scope=col>&lt;int&gt;</th><th scope=col>&lt;int&gt;</th><th scope=col>&lt;int&gt;</th></tr>\n",
              "</thead>\n",
              "<tbody>\n",
              "\t<tr><td>09</td><td>1006</td><td>1966</td><td>48</td></tr>\n",
              "</tbody>\n",
              "</table>\n"
            ]
          },
          "metadata": {
            "tags": []
          }
        }
      ]
    },
    {
      "cell_type": "markdown",
      "metadata": {
        "id": "A2k0KJJdUzx5"
      },
      "source": [
        "**P3)** Con base en la tabla anterior, diremos que una hora pertenece al horario punta si la **cantidad de transacciones distintas** generadas en dicho bloque supera las 1000 transacciones. \n",
        "\n",
        "**a)** ¿Qué horas comprende el horario punta?<br>\n",
        "**b)** En promedio, ¿cuántas transacciones distintas por hora se dieron en horario punta?¿y en horario no punta? \n"
      ]
    },
    {
      "cell_type": "code",
      "metadata": {
        "trusted": true,
        "id": "A77KLuOkUzx5",
        "outputId": "f1982c0f-8d73-4043-bf1d-2e70be9904ce",
        "colab": {
          "base_uri": "https://localhost:8080/",
          "height": 207
        }
      },
      "source": [
        "# P3 --------------------------------------------------\n",
        "# Respuesta\n",
        "resumen %>%\n",
        "  filter(total_trx > 1000)"
      ],
      "execution_count": 83,
      "outputs": [
        {
          "output_type": "display_data",
          "data": {
            "text/plain": [
              "  hora total_trx total_items total_items_unicos\n",
              "1 09   1006      1966        48                \n",
              "2 10   1266      2666        63                \n",
              "3 11   1439      3102        65                \n",
              "4 12   1325      2854        65                \n",
              "5 13   1143      2617        68                \n",
              "6 14   1120      2640        67                "
            ],
            "text/latex": "A tibble: 6 × 4\n\\begin{tabular}{llll}\n hora & total\\_trx & total\\_items & total\\_items\\_unicos\\\\\n <chr> & <int> & <int> & <int>\\\\\n\\hline\n\t 09 & 1006 & 1966 & 48\\\\\n\t 10 & 1266 & 2666 & 63\\\\\n\t 11 & 1439 & 3102 & 65\\\\\n\t 12 & 1325 & 2854 & 65\\\\\n\t 13 & 1143 & 2617 & 68\\\\\n\t 14 & 1120 & 2640 & 67\\\\\n\\end{tabular}\n",
            "text/markdown": "\nA tibble: 6 × 4\n\n| hora &lt;chr&gt; | total_trx &lt;int&gt; | total_items &lt;int&gt; | total_items_unicos &lt;int&gt; |\n|---|---|---|---|\n| 09 | 1006 | 1966 | 48 |\n| 10 | 1266 | 2666 | 63 |\n| 11 | 1439 | 3102 | 65 |\n| 12 | 1325 | 2854 | 65 |\n| 13 | 1143 | 2617 | 68 |\n| 14 | 1120 | 2640 | 67 |\n\n",
            "text/html": [
              "<table>\n",
              "<caption>A tibble: 6 × 4</caption>\n",
              "<thead>\n",
              "\t<tr><th scope=col>hora</th><th scope=col>total_trx</th><th scope=col>total_items</th><th scope=col>total_items_unicos</th></tr>\n",
              "\t<tr><th scope=col>&lt;chr&gt;</th><th scope=col>&lt;int&gt;</th><th scope=col>&lt;int&gt;</th><th scope=col>&lt;int&gt;</th></tr>\n",
              "</thead>\n",
              "<tbody>\n",
              "\t<tr><td>09</td><td>1006</td><td>1966</td><td>48</td></tr>\n",
              "\t<tr><td>10</td><td>1266</td><td>2666</td><td>63</td></tr>\n",
              "\t<tr><td>11</td><td>1439</td><td>3102</td><td>65</td></tr>\n",
              "\t<tr><td>12</td><td>1325</td><td>2854</td><td>65</td></tr>\n",
              "\t<tr><td>13</td><td>1143</td><td>2617</td><td>68</td></tr>\n",
              "\t<tr><td>14</td><td>1120</td><td>2640</td><td>67</td></tr>\n",
              "</tbody>\n",
              "</table>\n"
            ]
          },
          "metadata": {
            "tags": []
          }
        }
      ]
    },
    {
      "cell_type": "code",
      "metadata": {
        "id": "3zI3F10ctkaJ",
        "outputId": "51d372ea-6865-4f37-a1df-24fc76256a15",
        "colab": {
          "base_uri": "https://localhost:8080/",
          "height": 464
        }
      },
      "source": [
        "resumen %>%\n",
        "  mutate(hora_punta = ifelse(hora %in% c('09','10','11','12','13','14') , \"Hora Punta\", \"Hora Normal\"))"
      ],
      "execution_count": 86,
      "outputs": [
        {
          "output_type": "display_data",
          "data": {
            "text/plain": [
              "   hora total_trx total_items total_items_unicos hora_punta \n",
              "1  01      1         1         1                 Hora Normal\n",
              "2  07     16        24         5                 Hora Normal\n",
              "3  08    375       645        42                 Hora Normal\n",
              "4  09   1006      1966        48                 Hora Punta \n",
              "5  10   1266      2666        63                 Hora Punta \n",
              "6  11   1439      3102        65                 Hora Punta \n",
              "7  12   1325      2854        65                 Hora Punta \n",
              "8  13   1143      2617        68                 Hora Punta \n",
              "9  14   1120      2640        67                 Hora Punta \n",
              "10 15    920      2115        58                 Hora Normal\n",
              "11 16    581      1343        55                 Hora Normal\n",
              "12 17    160       368        46                 Hora Normal\n",
              "13 18     52        82        23                 Hora Normal\n",
              "14 19     34        48        17                 Hora Normal\n",
              "15 20     15        22         9                 Hora Normal\n",
              "16 21      2         3         2                 Hora Normal\n",
              "17 22      7         8         4                 Hora Normal\n",
              "18 23      3         3         2                 Hora Normal"
            ],
            "text/latex": "A tibble: 18 × 5\n\\begin{tabular}{lllll}\n hora & total\\_trx & total\\_items & total\\_items\\_unicos & hora\\_punta\\\\\n <chr> & <int> & <int> & <int> & <chr>\\\\\n\\hline\n\t 01 &    1 &    1 &  1 & Hora Normal\\\\\n\t 07 &   16 &   24 &  5 & Hora Normal\\\\\n\t 08 &  375 &  645 & 42 & Hora Normal\\\\\n\t 09 & 1006 & 1966 & 48 & Hora Punta \\\\\n\t 10 & 1266 & 2666 & 63 & Hora Punta \\\\\n\t 11 & 1439 & 3102 & 65 & Hora Punta \\\\\n\t 12 & 1325 & 2854 & 65 & Hora Punta \\\\\n\t 13 & 1143 & 2617 & 68 & Hora Punta \\\\\n\t 14 & 1120 & 2640 & 67 & Hora Punta \\\\\n\t 15 &  920 & 2115 & 58 & Hora Normal\\\\\n\t 16 &  581 & 1343 & 55 & Hora Normal\\\\\n\t 17 &  160 &  368 & 46 & Hora Normal\\\\\n\t 18 &   52 &   82 & 23 & Hora Normal\\\\\n\t 19 &   34 &   48 & 17 & Hora Normal\\\\\n\t 20 &   15 &   22 &  9 & Hora Normal\\\\\n\t 21 &    2 &    3 &  2 & Hora Normal\\\\\n\t 22 &    7 &    8 &  4 & Hora Normal\\\\\n\t 23 &    3 &    3 &  2 & Hora Normal\\\\\n\\end{tabular}\n",
            "text/markdown": "\nA tibble: 18 × 5\n\n| hora &lt;chr&gt; | total_trx &lt;int&gt; | total_items &lt;int&gt; | total_items_unicos &lt;int&gt; | hora_punta &lt;chr&gt; |\n|---|---|---|---|---|\n| 01 |    1 |    1 |  1 | Hora Normal |\n| 07 |   16 |   24 |  5 | Hora Normal |\n| 08 |  375 |  645 | 42 | Hora Normal |\n| 09 | 1006 | 1966 | 48 | Hora Punta  |\n| 10 | 1266 | 2666 | 63 | Hora Punta  |\n| 11 | 1439 | 3102 | 65 | Hora Punta  |\n| 12 | 1325 | 2854 | 65 | Hora Punta  |\n| 13 | 1143 | 2617 | 68 | Hora Punta  |\n| 14 | 1120 | 2640 | 67 | Hora Punta  |\n| 15 |  920 | 2115 | 58 | Hora Normal |\n| 16 |  581 | 1343 | 55 | Hora Normal |\n| 17 |  160 |  368 | 46 | Hora Normal |\n| 18 |   52 |   82 | 23 | Hora Normal |\n| 19 |   34 |   48 | 17 | Hora Normal |\n| 20 |   15 |   22 |  9 | Hora Normal |\n| 21 |    2 |    3 |  2 | Hora Normal |\n| 22 |    7 |    8 |  4 | Hora Normal |\n| 23 |    3 |    3 |  2 | Hora Normal |\n\n",
            "text/html": [
              "<table>\n",
              "<caption>A tibble: 18 × 5</caption>\n",
              "<thead>\n",
              "\t<tr><th scope=col>hora</th><th scope=col>total_trx</th><th scope=col>total_items</th><th scope=col>total_items_unicos</th><th scope=col>hora_punta</th></tr>\n",
              "\t<tr><th scope=col>&lt;chr&gt;</th><th scope=col>&lt;int&gt;</th><th scope=col>&lt;int&gt;</th><th scope=col>&lt;int&gt;</th><th scope=col>&lt;chr&gt;</th></tr>\n",
              "</thead>\n",
              "<tbody>\n",
              "\t<tr><td>01</td><td>   1</td><td>   1</td><td> 1</td><td>Hora Normal</td></tr>\n",
              "\t<tr><td>07</td><td>  16</td><td>  24</td><td> 5</td><td>Hora Normal</td></tr>\n",
              "\t<tr><td>08</td><td> 375</td><td> 645</td><td>42</td><td>Hora Normal</td></tr>\n",
              "\t<tr><td>09</td><td>1006</td><td>1966</td><td>48</td><td>Hora Punta </td></tr>\n",
              "\t<tr><td>10</td><td>1266</td><td>2666</td><td>63</td><td>Hora Punta </td></tr>\n",
              "\t<tr><td>11</td><td>1439</td><td>3102</td><td>65</td><td>Hora Punta </td></tr>\n",
              "\t<tr><td>12</td><td>1325</td><td>2854</td><td>65</td><td>Hora Punta </td></tr>\n",
              "\t<tr><td>13</td><td>1143</td><td>2617</td><td>68</td><td>Hora Punta </td></tr>\n",
              "\t<tr><td>14</td><td>1120</td><td>2640</td><td>67</td><td>Hora Punta </td></tr>\n",
              "\t<tr><td>15</td><td> 920</td><td>2115</td><td>58</td><td>Hora Normal</td></tr>\n",
              "\t<tr><td>16</td><td> 581</td><td>1343</td><td>55</td><td>Hora Normal</td></tr>\n",
              "\t<tr><td>17</td><td> 160</td><td> 368</td><td>46</td><td>Hora Normal</td></tr>\n",
              "\t<tr><td>18</td><td>  52</td><td>  82</td><td>23</td><td>Hora Normal</td></tr>\n",
              "\t<tr><td>19</td><td>  34</td><td>  48</td><td>17</td><td>Hora Normal</td></tr>\n",
              "\t<tr><td>20</td><td>  15</td><td>  22</td><td> 9</td><td>Hora Normal</td></tr>\n",
              "\t<tr><td>21</td><td>   2</td><td>   3</td><td> 2</td><td>Hora Normal</td></tr>\n",
              "\t<tr><td>22</td><td>   7</td><td>   8</td><td> 4</td><td>Hora Normal</td></tr>\n",
              "\t<tr><td>23</td><td>   3</td><td>   3</td><td> 2</td><td>Hora Normal</td></tr>\n",
              "</tbody>\n",
              "</table>\n"
            ]
          },
          "metadata": {
            "tags": []
          }
        }
      ]
    },
    {
      "cell_type": "code",
      "metadata": {
        "id": "c5a3AY1mr2Jy",
        "outputId": "025b87c3-88c1-4ba6-ee02-8dd2097fc5c8",
        "colab": {
          "base_uri": "https://localhost:8080/",
          "height": 158
        }
      },
      "source": [
        "resumen %>%\n",
        "  mutate(hora_punta = ifelse(hora %in% c('09','10','11','12','13','14') , \"Hora Punta\", \"Hora Normal\")) %>%# as.character(seq(9:14)) <- sería una solución si no fuera character la hora\n",
        "  group_by(hora_punta) %>%\n",
        "  summarize(promedio_total_trx = mean(total_trx),\n",
        "            sd_total_trx = sd(total_trx),\n",
        "            coef_var = sd_total_trx/promedio_total_trx)"
      ],
      "execution_count": 88,
      "outputs": [
        {
          "output_type": "stream",
          "text": [
            "`summarise()` ungrouping output (override with `.groups` argument)\n",
            "\n"
          ],
          "name": "stderr"
        },
        {
          "output_type": "display_data",
          "data": {
            "text/plain": [
              "  hora_punta  promedio_total_trx sd_total_trx coef_var \n",
              "1 Hora Normal  180.5             295.9771     1.6397624\n",
              "2 Hora Punta  1216.5             156.6866     0.1288012"
            ],
            "text/latex": "A tibble: 2 × 4\n\\begin{tabular}{llll}\n hora\\_punta & promedio\\_total\\_trx & sd\\_total\\_trx & coef\\_var\\\\\n <chr> & <dbl> & <dbl> & <dbl>\\\\\n\\hline\n\t Hora Normal &  180.5 & 295.9771 & 1.6397624\\\\\n\t Hora Punta  & 1216.5 & 156.6866 & 0.1288012\\\\\n\\end{tabular}\n",
            "text/markdown": "\nA tibble: 2 × 4\n\n| hora_punta &lt;chr&gt; | promedio_total_trx &lt;dbl&gt; | sd_total_trx &lt;dbl&gt; | coef_var &lt;dbl&gt; |\n|---|---|---|---|\n| Hora Normal |  180.5 | 295.9771 | 1.6397624 |\n| Hora Punta  | 1216.5 | 156.6866 | 0.1288012 |\n\n",
            "text/html": [
              "<table>\n",
              "<caption>A tibble: 2 × 4</caption>\n",
              "<thead>\n",
              "\t<tr><th scope=col>hora_punta</th><th scope=col>promedio_total_trx</th><th scope=col>sd_total_trx</th><th scope=col>coef_var</th></tr>\n",
              "\t<tr><th scope=col>&lt;chr&gt;</th><th scope=col>&lt;dbl&gt;</th><th scope=col>&lt;dbl&gt;</th><th scope=col>&lt;dbl&gt;</th></tr>\n",
              "</thead>\n",
              "<tbody>\n",
              "\t<tr><td>Hora Normal</td><td> 180.5</td><td>295.9771</td><td>1.6397624</td></tr>\n",
              "\t<tr><td>Hora Punta </td><td>1216.5</td><td>156.6866</td><td>0.1288012</td></tr>\n",
              "</tbody>\n",
              "</table>\n"
            ]
          },
          "metadata": {
            "tags": []
          }
        }
      ]
    },
    {
      "cell_type": "markdown",
      "metadata": {
        "id": "ftrXLOAgrabs"
      },
      "source": [
        "El horario punta comprende desde las 09:00 hasta las 14:59."
      ]
    },
    {
      "cell_type": "markdown",
      "metadata": {
        "id": "dD5esIPxUzx-"
      },
      "source": [
        "### Análisis de los productos vendidos.\n",
        "Con el objetivo de aumentar las ventas, se le solicita a usted analizar los itmes y las ventas cruzadas entre los productos ofrecidos. Para ello usted guía su análisis en función de las siguientes preguntas.\n",
        "\n",
        "**P4)** ¿Cuáles son los 5 items más vendidos? Ilustre mediante un gráfico de barras o una tabla."
      ]
    },
    {
      "cell_type": "code",
      "metadata": {
        "trusted": true,
        "id": "djvAmP9YUzx-",
        "outputId": "65d9b11c-b51f-49b7-a793-952d0c6c8a3b",
        "colab": {
          "base_uri": "https://localhost:8080/",
          "height": 203
        }
      },
      "source": [
        "# Respuesta\n",
        "trans_original %>%\n",
        "  count(Item) %>%\n",
        "  arrange(-n) %>% # desc(n)\n",
        "  head(5)"
      ],
      "execution_count": 92,
      "outputs": [
        {
          "output_type": "display_data",
          "data": {
            "text/plain": [
              "  Item   n   \n",
              "1 Coffee 5471\n",
              "2 Bread  3325\n",
              "3 Tea    1435\n",
              "4 Cake   1025\n",
              "5 Pastry  856"
            ],
            "text/latex": "A data.frame: 5 × 2\n\\begin{tabular}{r|ll}\n  & Item & n\\\\\n  & <chr> & <int>\\\\\n\\hline\n\t1 & Coffee & 5471\\\\\n\t2 & Bread  & 3325\\\\\n\t3 & Tea    & 1435\\\\\n\t4 & Cake   & 1025\\\\\n\t5 & Pastry &  856\\\\\n\\end{tabular}\n",
            "text/markdown": "\nA data.frame: 5 × 2\n\n| <!--/--> | Item &lt;chr&gt; | n &lt;int&gt; |\n|---|---|---|\n| 1 | Coffee | 5471 |\n| 2 | Bread  | 3325 |\n| 3 | Tea    | 1435 |\n| 4 | Cake   | 1025 |\n| 5 | Pastry |  856 |\n\n",
            "text/html": [
              "<table>\n",
              "<caption>A data.frame: 5 × 2</caption>\n",
              "<thead>\n",
              "\t<tr><th></th><th scope=col>Item</th><th scope=col>n</th></tr>\n",
              "\t<tr><th></th><th scope=col>&lt;chr&gt;</th><th scope=col>&lt;int&gt;</th></tr>\n",
              "</thead>\n",
              "<tbody>\n",
              "\t<tr><th scope=row>1</th><td>Coffee</td><td>5471</td></tr>\n",
              "\t<tr><th scope=row>2</th><td>Bread </td><td>3325</td></tr>\n",
              "\t<tr><th scope=row>3</th><td>Tea   </td><td>1435</td></tr>\n",
              "\t<tr><th scope=row>4</th><td>Cake  </td><td>1025</td></tr>\n",
              "\t<tr><th scope=row>5</th><td>Pastry</td><td> 856</td></tr>\n",
              "</tbody>\n",
              "</table>\n"
            ]
          },
          "metadata": {
            "tags": []
          }
        }
      ]
    },
    {
      "cell_type": "code",
      "metadata": {
        "id": "-yjlv6NYzaeL",
        "outputId": "cdec8504-1cc0-46c6-f83f-6e0985f5defe",
        "colab": {
          "base_uri": "https://localhost:8080/",
          "height": 203
        }
      },
      "source": [
        "trans_original %>%\n",
        "  count(Item, sort = TRUE) %>%\n",
        "  head(5)"
      ],
      "execution_count": 96,
      "outputs": [
        {
          "output_type": "display_data",
          "data": {
            "text/plain": [
              "  Item   n   \n",
              "1 Coffee 5471\n",
              "2 Bread  3325\n",
              "3 Tea    1435\n",
              "4 Cake   1025\n",
              "5 Pastry  856"
            ],
            "text/latex": "A data.frame: 5 × 2\n\\begin{tabular}{r|ll}\n  & Item & n\\\\\n  & <chr> & <int>\\\\\n\\hline\n\t1 & Coffee & 5471\\\\\n\t2 & Bread  & 3325\\\\\n\t3 & Tea    & 1435\\\\\n\t4 & Cake   & 1025\\\\\n\t5 & Pastry &  856\\\\\n\\end{tabular}\n",
            "text/markdown": "\nA data.frame: 5 × 2\n\n| <!--/--> | Item &lt;chr&gt; | n &lt;int&gt; |\n|---|---|---|\n| 1 | Coffee | 5471 |\n| 2 | Bread  | 3325 |\n| 3 | Tea    | 1435 |\n| 4 | Cake   | 1025 |\n| 5 | Pastry |  856 |\n\n",
            "text/html": [
              "<table>\n",
              "<caption>A data.frame: 5 × 2</caption>\n",
              "<thead>\n",
              "\t<tr><th></th><th scope=col>Item</th><th scope=col>n</th></tr>\n",
              "\t<tr><th></th><th scope=col>&lt;chr&gt;</th><th scope=col>&lt;int&gt;</th></tr>\n",
              "</thead>\n",
              "<tbody>\n",
              "\t<tr><th scope=row>1</th><td>Coffee</td><td>5471</td></tr>\n",
              "\t<tr><th scope=row>2</th><td>Bread </td><td>3325</td></tr>\n",
              "\t<tr><th scope=row>3</th><td>Tea   </td><td>1435</td></tr>\n",
              "\t<tr><th scope=row>4</th><td>Cake  </td><td>1025</td></tr>\n",
              "\t<tr><th scope=row>5</th><td>Pastry</td><td> 856</td></tr>\n",
              "</tbody>\n",
              "</table>\n"
            ]
          },
          "metadata": {
            "tags": []
          }
        }
      ]
    },
    {
      "cell_type": "code",
      "metadata": {
        "id": "1jajDF3lzzyF"
      },
      "source": [
        "# Dependencias: paquetes necesarios para ejecutar rutinas de un paquete a instalar\n",
        "# Por ejemplo: si el paquete utilizando permite hacer pronóstico de series de tiempo, me interesaría\n",
        "# graficar y eso se puede lograr con ggplot2. Si los autores consideran ggplot2 para graficar\n",
        "# entonces ggplot2 será instalado.\n",
        "\n",
        "#install.packages(\"arules\")\n",
        "#install.packages(\"arules\", dependencies = TRUE)\n",
        "\n",
        "library(arules)"
      ],
      "execution_count": null,
      "outputs": []
    },
    {
      "cell_type": "code",
      "metadata": {
        "id": "D8Jh_5EY31Db",
        "outputId": "97b11623-9f5b-49a5-b962-b086c77fca38",
        "colab": {
          "base_uri": "https://localhost:8080/",
          "height": 207
        }
      },
      "source": [
        "head(trans_original)"
      ],
      "execution_count": 25,
      "outputs": [
        {
          "output_type": "display_data",
          "data": {
            "text/plain": [
              "  Date       hora min seg Transaction Item         \n",
              "1 2016-10-30 09   58  11  1           Bread        \n",
              "2 2016-10-30 10   05  34  2           Scandinavian \n",
              "3 2016-10-30 10   05  34  2           Scandinavian \n",
              "4 2016-10-30 10   07  57  3           Hot chocolate\n",
              "5 2016-10-30 10   07  57  3           Jam          \n",
              "6 2016-10-30 10   07  57  3           Cookies      "
            ],
            "text/latex": "A data.frame: 6 × 6\n\\begin{tabular}{r|llllll}\n  & Date & hora & min & seg & Transaction & Item\\\\\n  & <chr> & <chr> & <chr> & <chr> & <int> & <chr>\\\\\n\\hline\n\t1 & 2016-10-30 & 09 & 58 & 11 & 1 & Bread        \\\\\n\t2 & 2016-10-30 & 10 & 05 & 34 & 2 & Scandinavian \\\\\n\t3 & 2016-10-30 & 10 & 05 & 34 & 2 & Scandinavian \\\\\n\t4 & 2016-10-30 & 10 & 07 & 57 & 3 & Hot chocolate\\\\\n\t5 & 2016-10-30 & 10 & 07 & 57 & 3 & Jam          \\\\\n\t6 & 2016-10-30 & 10 & 07 & 57 & 3 & Cookies      \\\\\n\\end{tabular}\n",
            "text/markdown": "\nA data.frame: 6 × 6\n\n| <!--/--> | Date &lt;chr&gt; | hora &lt;chr&gt; | min &lt;chr&gt; | seg &lt;chr&gt; | Transaction &lt;int&gt; | Item &lt;chr&gt; |\n|---|---|---|---|---|---|---|\n| 1 | 2016-10-30 | 09 | 58 | 11 | 1 | Bread         |\n| 2 | 2016-10-30 | 10 | 05 | 34 | 2 | Scandinavian  |\n| 3 | 2016-10-30 | 10 | 05 | 34 | 2 | Scandinavian  |\n| 4 | 2016-10-30 | 10 | 07 | 57 | 3 | Hot chocolate |\n| 5 | 2016-10-30 | 10 | 07 | 57 | 3 | Jam           |\n| 6 | 2016-10-30 | 10 | 07 | 57 | 3 | Cookies       |\n\n",
            "text/html": [
              "<table>\n",
              "<caption>A data.frame: 6 × 6</caption>\n",
              "<thead>\n",
              "\t<tr><th></th><th scope=col>Date</th><th scope=col>hora</th><th scope=col>min</th><th scope=col>seg</th><th scope=col>Transaction</th><th scope=col>Item</th></tr>\n",
              "\t<tr><th></th><th scope=col>&lt;chr&gt;</th><th scope=col>&lt;chr&gt;</th><th scope=col>&lt;chr&gt;</th><th scope=col>&lt;chr&gt;</th><th scope=col>&lt;int&gt;</th><th scope=col>&lt;chr&gt;</th></tr>\n",
              "</thead>\n",
              "<tbody>\n",
              "\t<tr><th scope=row>1</th><td>2016-10-30</td><td>09</td><td>58</td><td>11</td><td>1</td><td>Bread        </td></tr>\n",
              "\t<tr><th scope=row>2</th><td>2016-10-30</td><td>10</td><td>05</td><td>34</td><td>2</td><td>Scandinavian </td></tr>\n",
              "\t<tr><th scope=row>3</th><td>2016-10-30</td><td>10</td><td>05</td><td>34</td><td>2</td><td>Scandinavian </td></tr>\n",
              "\t<tr><th scope=row>4</th><td>2016-10-30</td><td>10</td><td>07</td><td>57</td><td>3</td><td>Hot chocolate</td></tr>\n",
              "\t<tr><th scope=row>5</th><td>2016-10-30</td><td>10</td><td>07</td><td>57</td><td>3</td><td>Jam          </td></tr>\n",
              "\t<tr><th scope=row>6</th><td>2016-10-30</td><td>10</td><td>07</td><td>57</td><td>3</td><td>Cookies      </td></tr>\n",
              "</tbody>\n",
              "</table>\n"
            ]
          },
          "metadata": {
            "tags": []
          }
        }
      ]
    },
    {
      "cell_type": "code",
      "metadata": {
        "id": "p7SUg1Qb2Hsz",
        "outputId": "361e97d3-8abb-4f08-a14e-a77acf72fb23",
        "colab": {
          "base_uri": "https://localhost:8080/",
          "height": 53
        }
      },
      "source": [
        "# 1. Obtener Items\n",
        "# trans_original[,'Item'] # trans_original$Items\n",
        "# 2. Obtener Transacciones\n",
        "# trans_original$Transaction\n",
        "# 3. Divir el dataset\n",
        "# \"split\" divide los datos en x en los grupos definidos por \"f\"\n",
        "# split(x = trans_original[,'Item'], f = trans_original[,'Transaction'])\n",
        "# 4. Requerimiento aprior: objeto transaction\n",
        "tr <- as(split(trans_original[,'Item'],trans_original[,'Transaction']) , 'transactions') # Coersión de lista a objeto transaction\n",
        "# Coersion: forzar el cambio de clase/tipo de dato de uno a otro: string -> number"
      ],
      "execution_count": 20,
      "outputs": [
        {
          "output_type": "stream",
          "text": [
            "Warning message in asMethod(object):\n",
            "“removing duplicated items in transactions”\n"
          ],
          "name": "stderr"
        }
      ]
    },
    {
      "cell_type": "code",
      "metadata": {
        "id": "6N7Bi0_0449I",
        "outputId": "9081422e-b033-4b10-a8b6-df5105f408be",
        "colab": {
          "base_uri": "https://localhost:8080/",
          "height": 437
        }
      },
      "source": [
        "itemFrequencyPlot(tr,\n",
        "                  topN = 5,\n",
        "                  type = 'absolute')"
      ],
      "execution_count": 21,
      "outputs": [
        {
          "output_type": "display_data",
          "data": {
            "image/png": "[encoded data removed]",
            "text/plain": [
              "plot without title"
            ]
          },
          "metadata": {
            "tags": [],
            "image/png": {
              "width": 420,
              "height": 420
            }
          }
        }
      ]
    },
    {
      "cell_type": "markdown",
      "metadata": {
        "id": "lV6JqfZaUzyA"
      },
      "source": [
        "**P5)** ¿Cambian estos 5 ítems según el horario de atención? Para ello muestre los 5 items más vendidos en los siguientes horarios.\n",
        "\n",
        "* 7:00-11:59\n",
        "* 12:00-16:59\n",
        "* 17:00-23:59"
      ]
    },
    {
      "cell_type": "code",
      "metadata": {
        "trusted": true,
        "id": "GRthXdMJUzyB",
        "outputId": "f341f4d0-2f60-4cbe-bc42-fdb44fc029ab",
        "colab": {
          "base_uri": "https://localhost:8080/",
          "height": 1000
        }
      },
      "source": [
        "#head(trans_original, 2)\n",
        "df1 <- filter(trans_original, hora %in% c('07','08','09','10','11'))\n",
        "df2 <- filter(trans_original, hora %in% c('12','13','14','15','16'))\n",
        "df3 <- filter(trans_original, as.numeric(hora) >= 17 & as.numeric(hora) <= 23) # Qué pasa si quiero filtrar por números: Coersión! PENDIENTE!\n",
        "# between(as.numeric(trans_original$hora),17,23)\n",
        "#head(df1)\n",
        "\n",
        "# Método dplyr (tabla)\n",
        "df1 %>%\n",
        "  count(Item, sort = TRUE) %>%\n",
        "  head(5)\n",
        "\n",
        "# Método arules (gráfico)\n",
        "tr1 <- as(split(df1[,'Item'],df1[,'Transaction']) , 'transactions')\n",
        "tr2 <- as(split(df2[,'Item'],df2[,'Transaction']) , 'transactions')\n",
        "tr3 <- as(split(df3[,'Item'],df3[,'Transaction']) , 'transactions')\n",
        "\n",
        "itemFrequencyPlot(tr1, topN = 5, type = 'absolute')\n",
        "itemFrequencyPlot(tr2, topN = 5, type = 'absolute')\n",
        "itemFrequencyPlot(tr3, topN = 5, type = 'absolute')\n"
      ],
      "execution_count": 47,
      "outputs": [
        {
          "output_type": "display_data",
          "data": {
            "text/plain": [
              "  Item      n   \n",
              "1 Coffee    2561\n",
              "2 Bread     1609\n",
              "3 Pastry     604\n",
              "4 Tea        456\n",
              "5 Medialuna  402"
            ],
            "text/latex": "A data.frame: 5 × 2\n\\begin{tabular}{r|ll}\n  & Item & n\\\\\n  & <chr> & <int>\\\\\n\\hline\n\t1 & Coffee    & 2561\\\\\n\t2 & Bread     & 1609\\\\\n\t3 & Pastry    &  604\\\\\n\t4 & Tea       &  456\\\\\n\t5 & Medialuna &  402\\\\\n\\end{tabular}\n",
            "text/markdown": "\nA data.frame: 5 × 2\n\n| <!--/--> | Item &lt;chr&gt; | n &lt;int&gt; |\n|---|---|---|\n| 1 | Coffee    | 2561 |\n| 2 | Bread     | 1609 |\n| 3 | Pastry    |  604 |\n| 4 | Tea       |  456 |\n| 5 | Medialuna |  402 |\n\n",
            "text/html": [
              "<table>\n",
              "<caption>A data.frame: 5 × 2</caption>\n",
              "<thead>\n",
              "\t<tr><th></th><th scope=col>Item</th><th scope=col>n</th></tr>\n",
              "\t<tr><th></th><th scope=col>&lt;chr&gt;</th><th scope=col>&lt;int&gt;</th></tr>\n",
              "</thead>\n",
              "<tbody>\n",
              "\t<tr><th scope=row>1</th><td>Coffee   </td><td>2561</td></tr>\n",
              "\t<tr><th scope=row>2</th><td>Bread    </td><td>1609</td></tr>\n",
              "\t<tr><th scope=row>3</th><td>Pastry   </td><td> 604</td></tr>\n",
              "\t<tr><th scope=row>4</th><td>Tea      </td><td> 456</td></tr>\n",
              "\t<tr><th scope=row>5</th><td>Medialuna</td><td> 402</td></tr>\n",
              "</tbody>\n",
              "</table>\n"
            ]
          },
          "metadata": {
            "tags": []
          }
        },
        {
          "output_type": "stream",
          "text": [
            "Warning message in asMethod(object):\n",
            "“removing duplicated items in transactions”\n",
            "Warning message in asMethod(object):\n",
            "“removing duplicated items in transactions”\n",
            "Warning message in asMethod(object):\n",
            "“removing duplicated items in transactions”\n"
          ],
          "name": "stderr"
        },
        {
          "output_type": "display_data",
          "data": {
            "image/png": "[encoded data removed]",
            "text/plain": [
              "plot without title"
            ]
          },
          "metadata": {
            "tags": [],
            "image/png": {
              "width": 420,
              "height": 420
            }
          }
        },
        {
          "output_type": "display_data",
          "data": {
            "image/png": "[encoded data removed]",
            "text/plain": [
              "plot without title"
            ]
          },
          "metadata": {
            "tags": [],
            "image/png": {
              "width": 420,
              "height": 420
            }
          }
        },
        {
          "output_type": "display_data",
          "data": {
            "image/png": "[encoded data removed]",
            "text/plain": [
              "plot without title"
            ]
          },
          "metadata": {
            "tags": [],
            "image/png": {
              "width": 420,
              "height": 420
            }
          }
        }
      ]
    },
    {
      "cell_type": "markdown",
      "metadata": {
        "id": "Q-rvvRCiUzyD"
      },
      "source": [
        "### Genereación de reglas\n",
        "\n",
        "**P6)** Considerando un **support mínimo de 0.02** , un  **confidence mínimo de 0.1** y teniendo en cuenta que **no se deben considerar reglas de asociación cuyo antecedente o consecuente sean vacíos**,\n",
        "\n",
        "**a)** ¿Cuál es la regla de asociación más frecuente en cada uno de los horarios indicados en **P5)**?<br>\n",
        "**b)** ¿Cuál es la regla de asociación con mayor confidence en cada uno de los horarios indicados en **P5)**? <br>\n",
        "**c)** ¿Cuál es la regla de asociación con mayor lift en cada uno de los horarios indicados en **P5)**? <br>\n",
        "\n",
        "**NOTA:** En caso de no obtener reglas con los parámetros indicados, modifíquelos, pero tenga en consideración este hecho al momento de argumentar las preguntas posteriores."
      ]
    },
    {
      "cell_type": "code",
      "metadata": {
        "trusted": true,
        "id": "4mn362xEUzyD",
        "outputId": "9f2397a5-197e-411d-8218-938b7afdde95",
        "colab": {
          "base_uri": "https://localhost:8080/",
          "height": 1000
        }
      },
      "source": [
        "tr1 <- as(split(df1[,'Item'],df1[,'Transaction']) , 'transactions')\n",
        "tr2 <- as(split(df2[,'Item'],df2[,'Transaction']) , 'transactions')\n",
        "tr3 <- as(split(df3[,'Item'],df3[,'Transaction']) , 'transactions')\n",
        "\n",
        "reglas_1 <- apriori(data = tr1, parameter = list(supp = 0.02, conf = 0.1, minlen = 2))\n",
        "reglas_2 <- apriori(data = tr2, parameter = list(supp = 0.02, conf = 0.1, minlen = 2))\n",
        "reglas_3 <- apriori(data = tr3, parameter = list(supp = 0.02, conf = 0.1, minlen = 2))"
      ],
      "execution_count": 64,
      "outputs": [
        {
          "output_type": "stream",
          "text": [
            "Warning message in asMethod(object):\n",
            "“removing duplicated items in transactions”\n",
            "Warning message in asMethod(object):\n",
            "“removing duplicated items in transactions”\n",
            "Warning message in asMethod(object):\n",
            "“removing duplicated items in transactions”\n"
          ],
          "name": "stderr"
        },
        {
          "output_type": "stream",
          "text": [
            "Apriori\n",
            "\n",
            "Parameter specification:\n",
            " confidence minval smax arem  aval originalSupport maxtime support minlen\n",
            "        0.1    0.1    1 none FALSE            TRUE       5    0.02      2\n",
            " maxlen target  ext\n",
            "     10  rules TRUE\n",
            "\n",
            "Algorithmic control:\n",
            " filter tree heap memopt load sort verbose\n",
            "    0.1 TRUE TRUE  FALSE TRUE    2    TRUE\n",
            "\n",
            "Absolute minimum support count: 82 \n",
            "\n",
            "set item appearances ...[0 item(s)] done [0.00s].\n",
            "set transactions ...[76 item(s), 4102 transaction(s)] done [0.00s].\n",
            "sorting and recoding items ... [18 item(s)] done [0.00s].\n",
            "creating transaction tree ... done [0.00s].\n",
            "checking subsets of size 1 2 3 done [0.00s].\n",
            "writing ... [15 rule(s)] done [0.00s].\n",
            "creating S4 object  ... done [0.00s].\n",
            "Apriori\n",
            "\n",
            "Parameter specification:\n",
            " confidence minval smax arem  aval originalSupport maxtime support minlen\n",
            "        0.1    0.1    1 none FALSE            TRUE       5    0.02      2\n",
            " maxlen target  ext\n",
            "     10  rules TRUE\n",
            "\n",
            "Algorithmic control:\n",
            " filter tree heap memopt load sort verbose\n",
            "    0.1 TRUE TRUE  FALSE TRUE    2    TRUE\n",
            "\n",
            "Absolute minimum support count: 101 \n",
            "\n",
            "set item appearances ...[0 item(s)] done [0.00s].\n",
            "set transactions ...[86 item(s), 5089 transaction(s)] done [0.00s].\n",
            "sorting and recoding items ... [23 item(s)] done [0.00s].\n",
            "creating transaction tree ... done [0.00s].\n",
            "checking subsets of size 1 2 3 done [0.00s].\n",
            "writing ... [25 rule(s)] done [0.00s].\n",
            "creating S4 object  ... done [0.00s].\n",
            "Apriori\n",
            "\n",
            "Parameter specification:\n",
            " confidence minval smax arem  aval originalSupport maxtime support minlen\n",
            "        0.1    0.1    1 none FALSE            TRUE       5    0.02      2\n",
            " maxlen target  ext\n",
            "     10  rules TRUE\n",
            "\n",
            "Algorithmic control:\n",
            " filter tree heap memopt load sort verbose\n",
            "    0.1 TRUE TRUE  FALSE TRUE    2    TRUE\n",
            "\n",
            "Absolute minimum support count: 5 \n",
            "\n",
            "set item appearances ...[0 item(s)] done [0.00s].\n",
            "set transactions ...[55 item(s), 273 transaction(s)] done [0.00s].\n",
            "sorting and recoding items ... [24 item(s)] done [0.00s].\n",
            "creating transaction tree ... done [0.00s].\n",
            "checking subsets of size 1 2 3 done [0.00s].\n",
            "writing ... [25 rule(s)] done [0.00s].\n",
            "creating S4 object  ... done [0.00s].\n"
          ],
          "name": "stdout"
        }
      ]
    },
    {
      "cell_type": "code",
      "metadata": {
        "id": "oE8Ksv-PAteH",
        "outputId": "3c854f82-d6f4-4436-d63f-9fdabc0a2e97",
        "colab": {
          "base_uri": "https://localhost:8080/",
          "height": 126
        }
      },
      "source": [
        "head(sort(reglas_1, by = 'support',decreasing = TRUE),1) %>% inspect() # Regla 1 + frecuente horario 1: {Bread} -> Coffee\n",
        "head(sort(reglas_2, by = 'support',decreasing = TRUE),1) %>% inspect() # Regla 2 + frecuente horario 2: {Bread} -> Coffee\n",
        "head(sort(reglas_3, by = 'support',decreasing = TRUE),1) %>% inspect() # Regla 3 + frecuente horario 3: {Cake} -> Coffee"
      ],
      "execution_count": 56,
      "outputs": [
        {
          "output_type": "stream",
          "text": [
            "    lhs        rhs      support    confidence coverage  lift      count\n",
            "[1] {Bread} => {Coffee} 0.09410044 0.2592344  0.3629937 0.5032558 386  \n",
            "    lhs        rhs      support    confidence coverage  lift      count\n",
            "[1] {Bread} => {Coffee} 0.08999803 0.2943445  0.3057575 0.6401363 458  \n",
            "    lhs       rhs      support    confidence coverage  lift count\n",
            "[1] {Cake} => {Coffee} 0.05860806 0.5714286  0.1025641 2.08 16   \n"
          ],
          "name": "stdout"
        }
      ]
    },
    {
      "cell_type": "code",
      "metadata": {
        "id": "MxY1C8LVC1K0",
        "outputId": "55149630-de84-4472-a5b3-8d69b947948b",
        "colab": {
          "base_uri": "https://localhost:8080/",
          "height": 126
        }
      },
      "source": [
        "head(sort(reglas_1, by = 'confidence',decreasing = TRUE),1) %>% inspect() # Regla 1 + frecuente horario 1: {Toast} -> Coffee\n",
        "head(sort(reglas_2, by = 'confidence',decreasing = TRUE),1) %>% inspect() # Regla 2 + frecuente horario 2: {pastry} -> Coffee\n",
        "head(sort(reglas_3, by = 'confidence',decreasing = TRUE),1) %>% inspect() # Regla 3 + frecuente horario 3: {Postcard} -> Tshirt"
      ],
      "execution_count": 57,
      "outputs": [
        {
          "output_type": "stream",
          "text": [
            "    lhs        rhs      support    confidence coverage   lift     count\n",
            "[1] {Toast} => {Coffee} 0.03583618 0.7205882  0.04973184 1.398889 147  \n",
            "    lhs         rhs      support    confidence coverage   lift   count\n",
            "[1] {Pastry} => {Coffee} 0.02554529 0.5579399  0.04578503 1.2134 130  \n",
            "    lhs           rhs      support    confidence coverage   lift count\n",
            "[1] {Postcard} => {Tshirt} 0.02197802 0.6        0.03663004 7.8  6    \n"
          ],
          "name": "stdout"
        }
      ]
    },
    {
      "cell_type": "code",
      "metadata": {
        "id": "yFgLACJlDR7U",
        "outputId": "9b1c479a-3ebd-4f5c-ad06-7c084b2ed97d",
        "colab": {
          "base_uri": "https://localhost:8080/",
          "height": 126
        }
      },
      "source": [
        "head(sort(reglas_1, by = 'lift',decreasing = TRUE),1) %>% inspect() # Regla 1 + frecuente horario 1: {Toast} -> Coffee\n",
        "head(sort(reglas_2, by = 'lift',decreasing = TRUE),1) %>% inspect() # Regla 2 + frecuente horario 2: {Cake} -> Tea\n",
        "head(sort(reglas_3, by = 'lift',decreasing = TRUE),1) %>% inspect() # Regla 3 + frecuente horario 3: {Tshirt} -> Postcard"
      ],
      "execution_count": 58,
      "outputs": [
        {
          "output_type": "stream",
          "text": [
            "    lhs        rhs      support    confidence coverage   lift     count\n",
            "[1] {Toast} => {Coffee} 0.03583618 0.7205882  0.04973184 1.398889 147  \n",
            "    lhs       rhs   support    confidence coverage  lift    count\n",
            "[1] {Cake} => {Tea} 0.03261938 0.2385057  0.1367656 1.40481 166  \n",
            "    lhs         rhs        support    confidence coverage   lift count\n",
            "[1] {Tshirt} => {Postcard} 0.02197802 0.2857143  0.07692308 7.8  6    \n"
          ],
          "name": "stdout"
        }
      ]
    },
    {
      "cell_type": "markdown",
      "metadata": {
        "id": "H0vqCFq4UzyL"
      },
      "source": [
        "**P7)** Se quiere potenciar un segundo producto por la compra de un café en los tres horarios definidos previamente.\n",
        "\n",
        "**a)** Genere tres listados (uno por cada rango horario) con todas las reglas que contengan el producto `Coffee` en el antecedente.<br>\n",
        "**b)** ¿Qué promoción recomendaría en cada horario por la compra de un café?. Justifique su respuesta basándose en los indicadores support, confidence y lift.\n"
      ]
    },
    {
      "cell_type": "code",
      "metadata": {
        "trusted": true,
        "id": "cNsVs1PLUzyM",
        "outputId": "db2ef9f7-1587-4075-d70b-54fbb8a905fe",
        "colab": {
          "base_uri": "https://localhost:8080/",
          "height": 308
        }
      },
      "source": [
        "reglas_coffee_1 <- apriori(\n",
        "  data = tr1, \n",
        "  parameter = list(supp = 0.02, conf = 0.1, minlen = 2),\n",
        "  appearance = list(default = 'rhs', lhs = 'Coffee'),\n",
        "  control = list(verbose = FALSE)\n",
        "  )\n",
        "\n",
        "reglas_coffee_2 <- apriori(\n",
        "data = tr2, \n",
        "parameter = list(supp = 0.02, conf = 0.1, minlen = 2),\n",
        "appearance = list(default = 'rhs', lhs = 'Coffee'),\n",
        "control = list(verbose = FALSE)\n",
        ")\n",
        "\n",
        "reglas_coffee_3 <- apriori(\n",
        "data = tr3, \n",
        "parameter = list(supp = 0.02, conf = 0.1, minlen = 2),\n",
        "appearance = list(default = 'rhs', lhs = 'Coffee'),\n",
        "control = list(verbose = FALSE)\n",
        ")\n",
        "\n",
        "inspect(reglas_coffee_1)\n",
        "inspect(reglas_coffee_2)\n",
        "inspect(reglas_coffee_3)"
      ],
      "execution_count": 63,
      "outputs": [
        {
          "output_type": "stream",
          "text": [
            "    lhs         rhs         support    confidence coverage  lift      count\n",
            "[1] {Coffee} => {Medialuna} 0.05460751 0.1060104  0.5151146 1.1443545 224  \n",
            "[2] {Coffee} => {Pastry}    0.07727938 0.1500237  0.5151146 1.0758690 317  \n",
            "[3] {Coffee} => {Bread}     0.09410044 0.1826787  0.5151146 0.5032558 386  \n",
            "    lhs         rhs        support    confidence coverage  lift      count\n",
            "[1] {Coffee} => {Sandwich} 0.06229122 0.1354701  0.4598153 1.1684869 317  \n",
            "[2] {Coffee} => {Cake}     0.07191983 0.1564103  0.4598153 1.1436376 366  \n",
            "[3] {Coffee} => {Tea}      0.05718216 0.1243590  0.4598153 0.7324801 291  \n",
            "[4] {Coffee} => {Bread}    0.08999803 0.1957265  0.4598153 0.6401363 458  \n",
            "    lhs         rhs             support    confidence coverage  lift      count\n",
            "[1] {Coffee} => {Alfajores}     0.03296703 0.1200000  0.2747253 2.0475000  9   \n",
            "[2] {Coffee} => {Hot chocolate} 0.03296703 0.1200000  0.2747253 1.4890909  9   \n",
            "[3] {Coffee} => {Cookies}       0.03296703 0.1200000  0.2747253 1.6380000  9   \n",
            "[4] {Coffee} => {Cake}          0.05860806 0.2133333  0.2747253 2.0800000 16   \n",
            "[5] {Coffee} => {Bread}         0.02930403 0.1066667  0.2747253 0.5709804  8   \n",
            "[6] {Coffee} => {Tea}           0.04761905 0.1733333  0.2747253 1.0515556 13   \n"
          ],
          "name": "stdout"
        }
      ]
    },
    {
      "cell_type": "markdown",
      "metadata": {
        "id": "8RxSihOhUzyO"
      },
      "source": [
        "**Respuesta** \n",
        "**b)**\n",
        "Esta es una pregunta abierta, y las opciones de respuestas pueden ser varias. A modo de ejemplo, basándose en el listado anterior, algunas opciones serían:\n",
        "\n",
        "   1. Optar por la asociación con mayor lift,dado que se asume que todas las reglas ya cumplen el mínimo deseable de support y confidence <br>\n",
        "       * Horario 1: {Coffee} =&gt; {Pastry}\n",
        "       * Horario 2: {Coffee} =&gt; {Sandwich} \n",
        "       * Horario 3: {Coffee} =&gt; {Cake}\n",
        "   * Optar por aquellas relaciones con alto lift, pero que a la vez no se encuentren dentro de las más frecuentas (pregunta **P3.4.a** asumiendo que las relaciones frecuentes no es necesario potenciarlas aun más (todo dependerá del negocio):<br>\n",
        "       * Horario 1: {Coffee} =&gt; {Pastry}\n",
        "       * Horario 2: {Coffee} =&gt; {Sandwich} \n",
        "       * Horario 3: {Coffee} =&gt; {Alfajores}\n",
        "       "
      ]
    },
    {
      "cell_type": "markdown",
      "metadata": {
        "id": "BYDhX-E8bpSx"
      },
      "source": [
        "# Sección 2\n",
        "## En busca de la felicidad\n",
        "\n",
        "![image.png](data:image/png;base64,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)\n",
        "\n",
        "El Informe Mundial sobre la Felicidad es una encuesta histórica sobre el estado de la felicidad mundial. El primer informe se publicó en 2012, el segundo en 2013, el tercero en 2015 y el cuarto en la Actualización de 2016. El World Happiness 2017, que clasifica a 155 países por sus niveles de felicidad, fue lanzado en las Naciones Unidas en un evento que celebra el Día Internacional de la Felicidad el 20 de marzo. El informe continúa ganando reconocimiento mundial a medida que los gobiernos, las organizaciones y la sociedad civil utilizan cada vez más los indicadores de felicidad para informar sus decisiones de formulación de políticas. Los principales expertos en todos los campos (economía, psicología, análisis de encuestas, estadísticas nacionales, salud, políticas públicas y más) describen cómo las mediciones del bienestar se pueden utilizar de manera efectiva para evaluar el progreso de las naciones. Los informes revisan el estado de la felicidad en el mundo actual y muestran cómo la nueva ciencia de la felicidad explica las variaciones personales y nacionales de la felicidad.\n",
        "\n",
        "Para mayor información sobre este informe, refiérase al siguiente link [https://worldhappiness.report/](https://worldhappiness.report/).\n",
        "\n",
        "\n",
        "## Datos\n",
        "\n",
        "Usted deberá analizar 6 indicadores para los 156 países países considerados para el reporte del año 2019. Cada indicador muestra la contribución al nivel de felicidad de cada país. Para más información considere la referencia [https://www.kaggle.com/unsdsn/world-happiness](https://www.kaggle.com/unsdsn/world-happiness).\n",
        "\n",
        "Sin embargo en esta oportunidad, se dejará abierto el tipo de análisis a realizar, aunque con algunas pequeñas directrices a modo de poder ir aplicando algunos de los temas vistos en clases.\n",
        "\n"
      ]
    },
    {
      "cell_type": "code",
      "metadata": {
        "id": "NvDLKG07ho3y",
        "outputId": "12e47641-009d-4406-a0df-26de523e6c8d",
        "colab": {
          "base_uri": "https://localhost:8080/",
          "height": 207
        }
      },
      "source": [
        "data <- read.csv(\"https://raw.githubusercontent.com/majorquev/Introduccion_a_ciencia_de_datos_R/master/Ayudant%C3%ADas/Ayudant%C3%ADa4/whr_2019.csv\")\n",
        "head(data)"
      ],
      "execution_count": 65,
      "outputs": [
        {
          "output_type": "display_data",
          "data": {
            "text/plain": [
              "  Overall.rank Country.or.region Score GDP.per.capita Social.support\n",
              "1 1            Finland           7.769 1.340          1.587         \n",
              "2 2            Denmark           7.600 1.383          1.573         \n",
              "3 3            Norway            7.554 1.488          1.582         \n",
              "4 4            Iceland           7.494 1.380          1.624         \n",
              "5 5            Netherlands       7.488 1.396          1.522         \n",
              "6 6            Switzerland       7.480 1.452          1.526         \n",
              "  Healthy.life.expectancy Freedom.to.make.life.choices Generosity\n",
              "1 0.986                   0.596                        0.153     \n",
              "2 0.996                   0.592                        0.252     \n",
              "3 1.028                   0.603                        0.271     \n",
              "4 1.026                   0.591                        0.354     \n",
              "5 0.999                   0.557                        0.322     \n",
              "6 1.052                   0.572                        0.263     \n",
              "  Perceptions.of.corruption\n",
              "1 0.393                    \n",
              "2 0.410                    \n",
              "3 0.341                    \n",
              "4 0.118                    \n",
              "5 0.298                    \n",
              "6 0.343                    "
            ],
            "text/latex": "A data.frame: 6 × 9\n\\begin{tabular}{r|lllllllll}\n  & Overall.rank & Country.or.region & Score & GDP.per.capita & Social.support & Healthy.life.expectancy & Freedom.to.make.life.choices & Generosity & Perceptions.of.corruption\\\\\n  & <int> & <chr> & <dbl> & <dbl> & <dbl> & <dbl> & <dbl> & <dbl> & <dbl>\\\\\n\\hline\n\t1 & 1 & Finland     & 7.769 & 1.340 & 1.587 & 0.986 & 0.596 & 0.153 & 0.393\\\\\n\t2 & 2 & Denmark     & 7.600 & 1.383 & 1.573 & 0.996 & 0.592 & 0.252 & 0.410\\\\\n\t3 & 3 & Norway      & 7.554 & 1.488 & 1.582 & 1.028 & 0.603 & 0.271 & 0.341\\\\\n\t4 & 4 & Iceland     & 7.494 & 1.380 & 1.624 & 1.026 & 0.591 & 0.354 & 0.118\\\\\n\t5 & 5 & Netherlands & 7.488 & 1.396 & 1.522 & 0.999 & 0.557 & 0.322 & 0.298\\\\\n\t6 & 6 & Switzerland & 7.480 & 1.452 & 1.526 & 1.052 & 0.572 & 0.263 & 0.343\\\\\n\\end{tabular}\n",
            "text/markdown": "\nA data.frame: 6 × 9\n\n| <!--/--> | Overall.rank &lt;int&gt; | Country.or.region &lt;chr&gt; | Score &lt;dbl&gt; | GDP.per.capita &lt;dbl&gt; | Social.support &lt;dbl&gt; | Healthy.life.expectancy &lt;dbl&gt; | Freedom.to.make.life.choices &lt;dbl&gt; | Generosity &lt;dbl&gt; | Perceptions.of.corruption &lt;dbl&gt; |\n|---|---|---|---|---|---|---|---|---|---|\n| 1 | 1 | Finland     | 7.769 | 1.340 | 1.587 | 0.986 | 0.596 | 0.153 | 0.393 |\n| 2 | 2 | Denmark     | 7.600 | 1.383 | 1.573 | 0.996 | 0.592 | 0.252 | 0.410 |\n| 3 | 3 | Norway      | 7.554 | 1.488 | 1.582 | 1.028 | 0.603 | 0.271 | 0.341 |\n| 4 | 4 | Iceland     | 7.494 | 1.380 | 1.624 | 1.026 | 0.591 | 0.354 | 0.118 |\n| 5 | 5 | Netherlands | 7.488 | 1.396 | 1.522 | 0.999 | 0.557 | 0.322 | 0.298 |\n| 6 | 6 | Switzerland | 7.480 | 1.452 | 1.526 | 1.052 | 0.572 | 0.263 | 0.343 |\n\n",
            "text/html": [
              "<table>\n",
              "<caption>A data.frame: 6 × 9</caption>\n",
              "<thead>\n",
              "\t<tr><th></th><th scope=col>Overall.rank</th><th scope=col>Country.or.region</th><th scope=col>Score</th><th scope=col>GDP.per.capita</th><th scope=col>Social.support</th><th scope=col>Healthy.life.expectancy</th><th scope=col>Freedom.to.make.life.choices</th><th scope=col>Generosity</th><th scope=col>Perceptions.of.corruption</th></tr>\n",
              "\t<tr><th></th><th scope=col>&lt;int&gt;</th><th scope=col>&lt;chr&gt;</th><th scope=col>&lt;dbl&gt;</th><th scope=col>&lt;dbl&gt;</th><th scope=col>&lt;dbl&gt;</th><th scope=col>&lt;dbl&gt;</th><th scope=col>&lt;dbl&gt;</th><th scope=col>&lt;dbl&gt;</th><th scope=col>&lt;dbl&gt;</th></tr>\n",
              "</thead>\n",
              "<tbody>\n",
              "\t<tr><th scope=row>1</th><td>1</td><td>Finland    </td><td>7.769</td><td>1.340</td><td>1.587</td><td>0.986</td><td>0.596</td><td>0.153</td><td>0.393</td></tr>\n",
              "\t<tr><th scope=row>2</th><td>2</td><td>Denmark    </td><td>7.600</td><td>1.383</td><td>1.573</td><td>0.996</td><td>0.592</td><td>0.252</td><td>0.410</td></tr>\n",
              "\t<tr><th scope=row>3</th><td>3</td><td>Norway     </td><td>7.554</td><td>1.488</td><td>1.582</td><td>1.028</td><td>0.603</td><td>0.271</td><td>0.341</td></tr>\n",
              "\t<tr><th scope=row>4</th><td>4</td><td>Iceland    </td><td>7.494</td><td>1.380</td><td>1.624</td><td>1.026</td><td>0.591</td><td>0.354</td><td>0.118</td></tr>\n",
              "\t<tr><th scope=row>5</th><td>5</td><td>Netherlands</td><td>7.488</td><td>1.396</td><td>1.522</td><td>0.999</td><td>0.557</td><td>0.322</td><td>0.298</td></tr>\n",
              "\t<tr><th scope=row>6</th><td>6</td><td>Switzerland</td><td>7.480</td><td>1.452</td><td>1.526</td><td>1.052</td><td>0.572</td><td>0.263</td><td>0.343</td></tr>\n",
              "</tbody>\n",
              "</table>\n"
            ]
          },
          "metadata": {
            "tags": []
          }
        }
      ]
    },
    {
      "cell_type": "code",
      "metadata": {
        "id": "C2RSLgGFH5Pc",
        "outputId": "0e616dda-3c1b-4eb6-b178-f9327c943e6a",
        "colab": {
          "base_uri": "https://localhost:8080/",
          "height": 186
        }
      },
      "source": [
        "data %>%\n",
        "  filter(Country.or.region %in% c('Chile','Brazil','Argentina','Colombia','Uruguay'))"
      ],
      "execution_count": 69,
      "outputs": [
        {
          "output_type": "display_data",
          "data": {
            "text/plain": [
              "  Overall.rank Country.or.region Score GDP.per.capita Social.support\n",
              "1 26           Chile             6.444 1.159          1.369         \n",
              "2 32           Brazil            6.300 1.004          1.439         \n",
              "3 33           Uruguay           6.293 1.124          1.465         \n",
              "4 43           Colombia          6.125 0.985          1.410         \n",
              "5 47           Argentina         6.086 1.092          1.432         \n",
              "  Healthy.life.expectancy Freedom.to.make.life.choices Generosity\n",
              "1 0.920                   0.357                        0.187     \n",
              "2 0.802                   0.390                        0.099     \n",
              "3 0.891                   0.523                        0.127     \n",
              "4 0.841                   0.470                        0.099     \n",
              "5 0.881                   0.471                        0.066     \n",
              "  Perceptions.of.corruption\n",
              "1 0.056                    \n",
              "2 0.086                    \n",
              "3 0.150                    \n",
              "4 0.034                    \n",
              "5 0.050                    "
            ],
            "text/latex": "A data.frame: 5 × 9\n\\begin{tabular}{lllllllll}\n Overall.rank & Country.or.region & Score & GDP.per.capita & Social.support & Healthy.life.expectancy & Freedom.to.make.life.choices & Generosity & Perceptions.of.corruption\\\\\n <int> & <chr> & <dbl> & <dbl> & <dbl> & <dbl> & <dbl> & <dbl> & <dbl>\\\\\n\\hline\n\t 26 & Chile     & 6.444 & 1.159 & 1.369 & 0.920 & 0.357 & 0.187 & 0.056\\\\\n\t 32 & Brazil    & 6.300 & 1.004 & 1.439 & 0.802 & 0.390 & 0.099 & 0.086\\\\\n\t 33 & Uruguay   & 6.293 & 1.124 & 1.465 & 0.891 & 0.523 & 0.127 & 0.150\\\\\n\t 43 & Colombia  & 6.125 & 0.985 & 1.410 & 0.841 & 0.470 & 0.099 & 0.034\\\\\n\t 47 & Argentina & 6.086 & 1.092 & 1.432 & 0.881 & 0.471 & 0.066 & 0.050\\\\\n\\end{tabular}\n",
            "text/markdown": "\nA data.frame: 5 × 9\n\n| Overall.rank &lt;int&gt; | Country.or.region &lt;chr&gt; | Score &lt;dbl&gt; | GDP.per.capita &lt;dbl&gt; | Social.support &lt;dbl&gt; | Healthy.life.expectancy &lt;dbl&gt; | Freedom.to.make.life.choices &lt;dbl&gt; | Generosity &lt;dbl&gt; | Perceptions.of.corruption &lt;dbl&gt; |\n|---|---|---|---|---|---|---|---|---|\n| 26 | Chile     | 6.444 | 1.159 | 1.369 | 0.920 | 0.357 | 0.187 | 0.056 |\n| 32 | Brazil    | 6.300 | 1.004 | 1.439 | 0.802 | 0.390 | 0.099 | 0.086 |\n| 33 | Uruguay   | 6.293 | 1.124 | 1.465 | 0.891 | 0.523 | 0.127 | 0.150 |\n| 43 | Colombia  | 6.125 | 0.985 | 1.410 | 0.841 | 0.470 | 0.099 | 0.034 |\n| 47 | Argentina | 6.086 | 1.092 | 1.432 | 0.881 | 0.471 | 0.066 | 0.050 |\n\n",
            "text/html": [
              "<table>\n",
              "<caption>A data.frame: 5 × 9</caption>\n",
              "<thead>\n",
              "\t<tr><th scope=col>Overall.rank</th><th scope=col>Country.or.region</th><th scope=col>Score</th><th scope=col>GDP.per.capita</th><th scope=col>Social.support</th><th scope=col>Healthy.life.expectancy</th><th scope=col>Freedom.to.make.life.choices</th><th scope=col>Generosity</th><th scope=col>Perceptions.of.corruption</th></tr>\n",
              "\t<tr><th scope=col>&lt;int&gt;</th><th scope=col>&lt;chr&gt;</th><th scope=col>&lt;dbl&gt;</th><th scope=col>&lt;dbl&gt;</th><th scope=col>&lt;dbl&gt;</th><th scope=col>&lt;dbl&gt;</th><th scope=col>&lt;dbl&gt;</th><th scope=col>&lt;dbl&gt;</th><th scope=col>&lt;dbl&gt;</th></tr>\n",
              "</thead>\n",
              "<tbody>\n",
              "\t<tr><td>26</td><td>Chile    </td><td>6.444</td><td>1.159</td><td>1.369</td><td>0.920</td><td>0.357</td><td>0.187</td><td>0.056</td></tr>\n",
              "\t<tr><td>32</td><td>Brazil   </td><td>6.300</td><td>1.004</td><td>1.439</td><td>0.802</td><td>0.390</td><td>0.099</td><td>0.086</td></tr>\n",
              "\t<tr><td>33</td><td>Uruguay  </td><td>6.293</td><td>1.124</td><td>1.465</td><td>0.891</td><td>0.523</td><td>0.127</td><td>0.150</td></tr>\n",
              "\t<tr><td>43</td><td>Colombia </td><td>6.125</td><td>0.985</td><td>1.410</td><td>0.841</td><td>0.470</td><td>0.099</td><td>0.034</td></tr>\n",
              "\t<tr><td>47</td><td>Argentina</td><td>6.086</td><td>1.092</td><td>1.432</td><td>0.881</td><td>0.471</td><td>0.066</td><td>0.050</td></tr>\n",
              "</tbody>\n",
              "</table>\n"
            ]
          },
          "metadata": {
            "tags": []
          }
        }
      ]
    },
    {
      "cell_type": "code",
      "metadata": {
        "id": "DaOBZ1IJIDCP",
        "outputId": "e87f2f64-4d57-40bd-9711-545a4f9dc420",
        "colab": {
          "base_uri": "https://localhost:8080/",
          "height": 398
        }
      },
      "source": [
        "head(data)\n",
        "tail(data)"
      ],
      "execution_count": 67,
      "outputs": [
        {
          "output_type": "display_data",
          "data": {
            "text/plain": [
              "  Overall.rank Country.or.region Score GDP.per.capita Social.support\n",
              "1 1            Finland           7.769 1.340          1.587         \n",
              "2 2            Denmark           7.600 1.383          1.573         \n",
              "3 3            Norway            7.554 1.488          1.582         \n",
              "4 4            Iceland           7.494 1.380          1.624         \n",
              "5 5            Netherlands       7.488 1.396          1.522         \n",
              "6 6            Switzerland       7.480 1.452          1.526         \n",
              "  Healthy.life.expectancy Freedom.to.make.life.choices Generosity\n",
              "1 0.986                   0.596                        0.153     \n",
              "2 0.996                   0.592                        0.252     \n",
              "3 1.028                   0.603                        0.271     \n",
              "4 1.026                   0.591                        0.354     \n",
              "5 0.999                   0.557                        0.322     \n",
              "6 1.052                   0.572                        0.263     \n",
              "  Perceptions.of.corruption\n",
              "1 0.393                    \n",
              "2 0.410                    \n",
              "3 0.341                    \n",
              "4 0.118                    \n",
              "5 0.298                    \n",
              "6 0.343                    "
            ],
            "text/latex": "A data.frame: 6 × 9\n\\begin{tabular}{r|lllllllll}\n  & Overall.rank & Country.or.region & Score & GDP.per.capita & Social.support & Healthy.life.expectancy & Freedom.to.make.life.choices & Generosity & Perceptions.of.corruption\\\\\n  & <int> & <chr> & <dbl> & <dbl> & <dbl> & <dbl> & <dbl> & <dbl> & <dbl>\\\\\n\\hline\n\t1 & 1 & Finland     & 7.769 & 1.340 & 1.587 & 0.986 & 0.596 & 0.153 & 0.393\\\\\n\t2 & 2 & Denmark     & 7.600 & 1.383 & 1.573 & 0.996 & 0.592 & 0.252 & 0.410\\\\\n\t3 & 3 & Norway      & 7.554 & 1.488 & 1.582 & 1.028 & 0.603 & 0.271 & 0.341\\\\\n\t4 & 4 & Iceland     & 7.494 & 1.380 & 1.624 & 1.026 & 0.591 & 0.354 & 0.118\\\\\n\t5 & 5 & Netherlands & 7.488 & 1.396 & 1.522 & 0.999 & 0.557 & 0.322 & 0.298\\\\\n\t6 & 6 & Switzerland & 7.480 & 1.452 & 1.526 & 1.052 & 0.572 & 0.263 & 0.343\\\\\n\\end{tabular}\n",
            "text/markdown": "\nA data.frame: 6 × 9\n\n| <!--/--> | Overall.rank &lt;int&gt; | Country.or.region &lt;chr&gt; | Score &lt;dbl&gt; | GDP.per.capita &lt;dbl&gt; | Social.support &lt;dbl&gt; | Healthy.life.expectancy &lt;dbl&gt; | Freedom.to.make.life.choices &lt;dbl&gt; | Generosity &lt;dbl&gt; | Perceptions.of.corruption &lt;dbl&gt; |\n|---|---|---|---|---|---|---|---|---|---|\n| 1 | 1 | Finland     | 7.769 | 1.340 | 1.587 | 0.986 | 0.596 | 0.153 | 0.393 |\n| 2 | 2 | Denmark     | 7.600 | 1.383 | 1.573 | 0.996 | 0.592 | 0.252 | 0.410 |\n| 3 | 3 | Norway      | 7.554 | 1.488 | 1.582 | 1.028 | 0.603 | 0.271 | 0.341 |\n| 4 | 4 | Iceland     | 7.494 | 1.380 | 1.624 | 1.026 | 0.591 | 0.354 | 0.118 |\n| 5 | 5 | Netherlands | 7.488 | 1.396 | 1.522 | 0.999 | 0.557 | 0.322 | 0.298 |\n| 6 | 6 | Switzerland | 7.480 | 1.452 | 1.526 | 1.052 | 0.572 | 0.263 | 0.343 |\n\n",
            "text/html": [
              "<table>\n",
              "<caption>A data.frame: 6 × 9</caption>\n",
              "<thead>\n",
              "\t<tr><th></th><th scope=col>Overall.rank</th><th scope=col>Country.or.region</th><th scope=col>Score</th><th scope=col>GDP.per.capita</th><th scope=col>Social.support</th><th scope=col>Healthy.life.expectancy</th><th scope=col>Freedom.to.make.life.choices</th><th scope=col>Generosity</th><th scope=col>Perceptions.of.corruption</th></tr>\n",
              "\t<tr><th></th><th scope=col>&lt;int&gt;</th><th scope=col>&lt;chr&gt;</th><th scope=col>&lt;dbl&gt;</th><th scope=col>&lt;dbl&gt;</th><th scope=col>&lt;dbl&gt;</th><th scope=col>&lt;dbl&gt;</th><th scope=col>&lt;dbl&gt;</th><th scope=col>&lt;dbl&gt;</th><th scope=col>&lt;dbl&gt;</th></tr>\n",
              "</thead>\n",
              "<tbody>\n",
              "\t<tr><th scope=row>1</th><td>1</td><td>Finland    </td><td>7.769</td><td>1.340</td><td>1.587</td><td>0.986</td><td>0.596</td><td>0.153</td><td>0.393</td></tr>\n",
              "\t<tr><th scope=row>2</th><td>2</td><td>Denmark    </td><td>7.600</td><td>1.383</td><td>1.573</td><td>0.996</td><td>0.592</td><td>0.252</td><td>0.410</td></tr>\n",
              "\t<tr><th scope=row>3</th><td>3</td><td>Norway     </td><td>7.554</td><td>1.488</td><td>1.582</td><td>1.028</td><td>0.603</td><td>0.271</td><td>0.341</td></tr>\n",
              "\t<tr><th scope=row>4</th><td>4</td><td>Iceland    </td><td>7.494</td><td>1.380</td><td>1.624</td><td>1.026</td><td>0.591</td><td>0.354</td><td>0.118</td></tr>\n",
              "\t<tr><th scope=row>5</th><td>5</td><td>Netherlands</td><td>7.488</td><td>1.396</td><td>1.522</td><td>0.999</td><td>0.557</td><td>0.322</td><td>0.298</td></tr>\n",
              "\t<tr><th scope=row>6</th><td>6</td><td>Switzerland</td><td>7.480</td><td>1.452</td><td>1.526</td><td>1.052</td><td>0.572</td><td>0.263</td><td>0.343</td></tr>\n",
              "</tbody>\n",
              "</table>\n"
            ]
          },
          "metadata": {
            "tags": []
          }
        },
        {
          "output_type": "display_data",
          "data": {
            "text/plain": [
              "    Overall.rank Country.or.region        Score GDP.per.capita Social.support\n",
              "151 151          Yemen                    3.380 0.287          1.163         \n",
              "152 152          Rwanda                   3.334 0.359          0.711         \n",
              "153 153          Tanzania                 3.231 0.476          0.885         \n",
              "154 154          Afghanistan              3.203 0.350          0.517         \n",
              "155 155          Central African Republic 3.083 0.026          0.000         \n",
              "156 156          South Sudan              2.853 0.306          0.575         \n",
              "    Healthy.life.expectancy Freedom.to.make.life.choices Generosity\n",
              "151 0.463                   0.143                        0.108     \n",
              "152 0.614                   0.555                        0.217     \n",
              "153 0.499                   0.417                        0.276     \n",
              "154 0.361                   0.000                        0.158     \n",
              "155 0.105                   0.225                        0.235     \n",
              "156 0.295                   0.010                        0.202     \n",
              "    Perceptions.of.corruption\n",
              "151 0.077                    \n",
              "152 0.411                    \n",
              "153 0.147                    \n",
              "154 0.025                    \n",
              "155 0.035                    \n",
              "156 0.091                    "
            ],
            "text/latex": "A data.frame: 6 × 9\n\\begin{tabular}{r|lllllllll}\n  & Overall.rank & Country.or.region & Score & GDP.per.capita & Social.support & Healthy.life.expectancy & Freedom.to.make.life.choices & Generosity & Perceptions.of.corruption\\\\\n  & <int> & <chr> & <dbl> & <dbl> & <dbl> & <dbl> & <dbl> & <dbl> & <dbl>\\\\\n\\hline\n\t151 & 151 & Yemen                    & 3.380 & 0.287 & 1.163 & 0.463 & 0.143 & 0.108 & 0.077\\\\\n\t152 & 152 & Rwanda                   & 3.334 & 0.359 & 0.711 & 0.614 & 0.555 & 0.217 & 0.411\\\\\n\t153 & 153 & Tanzania                 & 3.231 & 0.476 & 0.885 & 0.499 & 0.417 & 0.276 & 0.147\\\\\n\t154 & 154 & Afghanistan              & 3.203 & 0.350 & 0.517 & 0.361 & 0.000 & 0.158 & 0.025\\\\\n\t155 & 155 & Central African Republic & 3.083 & 0.026 & 0.000 & 0.105 & 0.225 & 0.235 & 0.035\\\\\n\t156 & 156 & South Sudan              & 2.853 & 0.306 & 0.575 & 0.295 & 0.010 & 0.202 & 0.091\\\\\n\\end{tabular}\n",
            "text/markdown": "\nA data.frame: 6 × 9\n\n| <!--/--> | Overall.rank &lt;int&gt; | Country.or.region &lt;chr&gt; | Score &lt;dbl&gt; | GDP.per.capita &lt;dbl&gt; | Social.support &lt;dbl&gt; | Healthy.life.expectancy &lt;dbl&gt; | Freedom.to.make.life.choices &lt;dbl&gt; | Generosity &lt;dbl&gt; | Perceptions.of.corruption &lt;dbl&gt; |\n|---|---|---|---|---|---|---|---|---|---|\n| 151 | 151 | Yemen                    | 3.380 | 0.287 | 1.163 | 0.463 | 0.143 | 0.108 | 0.077 |\n| 152 | 152 | Rwanda                   | 3.334 | 0.359 | 0.711 | 0.614 | 0.555 | 0.217 | 0.411 |\n| 153 | 153 | Tanzania                 | 3.231 | 0.476 | 0.885 | 0.499 | 0.417 | 0.276 | 0.147 |\n| 154 | 154 | Afghanistan              | 3.203 | 0.350 | 0.517 | 0.361 | 0.000 | 0.158 | 0.025 |\n| 155 | 155 | Central African Republic | 3.083 | 0.026 | 0.000 | 0.105 | 0.225 | 0.235 | 0.035 |\n| 156 | 156 | South Sudan              | 2.853 | 0.306 | 0.575 | 0.295 | 0.010 | 0.202 | 0.091 |\n\n",
            "text/html": [
              "<table>\n",
              "<caption>A data.frame: 6 × 9</caption>\n",
              "<thead>\n",
              "\t<tr><th></th><th scope=col>Overall.rank</th><th scope=col>Country.or.region</th><th scope=col>Score</th><th scope=col>GDP.per.capita</th><th scope=col>Social.support</th><th scope=col>Healthy.life.expectancy</th><th scope=col>Freedom.to.make.life.choices</th><th scope=col>Generosity</th><th scope=col>Perceptions.of.corruption</th></tr>\n",
              "\t<tr><th></th><th scope=col>&lt;int&gt;</th><th scope=col>&lt;chr&gt;</th><th scope=col>&lt;dbl&gt;</th><th scope=col>&lt;dbl&gt;</th><th scope=col>&lt;dbl&gt;</th><th scope=col>&lt;dbl&gt;</th><th scope=col>&lt;dbl&gt;</th><th scope=col>&lt;dbl&gt;</th><th scope=col>&lt;dbl&gt;</th></tr>\n",
              "</thead>\n",
              "<tbody>\n",
              "\t<tr><th scope=row>151</th><td>151</td><td>Yemen                   </td><td>3.380</td><td>0.287</td><td>1.163</td><td>0.463</td><td>0.143</td><td>0.108</td><td>0.077</td></tr>\n",
              "\t<tr><th scope=row>152</th><td>152</td><td>Rwanda                  </td><td>3.334</td><td>0.359</td><td>0.711</td><td>0.614</td><td>0.555</td><td>0.217</td><td>0.411</td></tr>\n",
              "\t<tr><th scope=row>153</th><td>153</td><td>Tanzania                </td><td>3.231</td><td>0.476</td><td>0.885</td><td>0.499</td><td>0.417</td><td>0.276</td><td>0.147</td></tr>\n",
              "\t<tr><th scope=row>154</th><td>154</td><td>Afghanistan             </td><td>3.203</td><td>0.350</td><td>0.517</td><td>0.361</td><td>0.000</td><td>0.158</td><td>0.025</td></tr>\n",
              "\t<tr><th scope=row>155</th><td>155</td><td>Central African Republic</td><td>3.083</td><td>0.026</td><td>0.000</td><td>0.105</td><td>0.225</td><td>0.235</td><td>0.035</td></tr>\n",
              "\t<tr><th scope=row>156</th><td>156</td><td>South Sudan             </td><td>2.853</td><td>0.306</td><td>0.575</td><td>0.295</td><td>0.010</td><td>0.202</td><td>0.091</td></tr>\n",
              "</tbody>\n",
              "</table>\n"
            ]
          },
          "metadata": {
            "tags": []
          }
        }
      ]
    },
    {
      "cell_type": "markdown",
      "metadata": {
        "id": "4jiy7Xs-heAN"
      },
      "source": [
        "Para efectos de la exploración de estos datos, considere las siguientes preguntas como guía:\n",
        "\n",
        "  1. ¿Existe alguna correlación entre las variables de interés? \n",
        "  \n",
        "  Apoye su exploración mediante gráficos de dispersión y de correlación.\n",
        "  2.  ¿Cómo es la distribución del Score de felicidad? Considere algunos etadísticos descriptivos para este análisis y algunas visualizaciones (histogramas y boxplots por ejemplo).\n",
        "  3. ¿Cual de los 6 indicadores contribuye en mayor medida al Score de felicidad?\n",
        "  4. Analice cada uno de los indicadores y mediante el criterio del  rango inter-cuartílico identifique aquellos países con indicadores atípicos.\n",
        "  5. Mediante el algoritmo k-means, genere una clusterización considerando los 6 indicadores de interés. Determine la cantidad de clusters a generar y describa los segmentos obtenidos. ¿Cómo se relacionan estos segmentos con el Score de felicidad?\n",
        "  6. Apele a su creatividad e indique algún otro aspecto, hecho o hallazgo que le llame la atención a raiz de los datos y de las herramientas de análisis disponibles hasta el momento. \n",
        "\n"
      ]
    },
    {
      "cell_type": "code",
      "metadata": {
        "id": "aQeBh-E2Ijuq",
        "outputId": "31de1469-28ba-4dbe-de86-75bf0a5a02a0",
        "colab": {
          "base_uri": "https://localhost:8080/",
          "height": 53
        }
      },
      "source": [
        "#install.packages('corrplot')\n",
        "library(corrplot)"
      ],
      "execution_count": 71,
      "outputs": [
        {
          "output_type": "stream",
          "text": [
            "corrplot 0.84 loaded\n",
            "\n"
          ],
          "name": "stderr"
        }
      ]
    },
    {
      "cell_type": "code",
      "metadata": {
        "id": "R_EYDyANs5fh",
        "outputId": "4023c85a-c48a-4afd-aa84-44de6392fd4b",
        "colab": {
          "base_uri": "https://localhost:8080/",
          "height": 437
        }
      },
      "source": [
        "options(repr.plot.width = 8, repr.plot.width = 8)\n",
        "\n",
        "correlation_matrix <- cor(data[,-(1:2)])\n",
        "corrplot(correlation_matrix)"
      ],
      "execution_count": 78,
      "outputs": [
        {
          "output_type": "display_data",
          "data": {
            "image/png": "[encoded data removed]",
            "text/plain": [
              "Plot with title “”"
            ]
          },
          "metadata": {
            "tags": [],
            "image/png": {
              "width": 480,
              "height": 420
            }
          }
        }
      ]
    },
    {
      "cell_type": "code",
      "metadata": {
        "id": "JWMcIzkqKUux"
      },
      "source": [
        "library(ggplot2)"
      ],
      "execution_count": 79,
      "outputs": []
    },
    {
      "cell_type": "code",
      "metadata": {
        "id": "ily9gwRiKWG-",
        "outputId": "e323fcee-ee8c-4323-adc1-fa1f64adf641",
        "colab": {
          "base_uri": "https://localhost:8080/",
          "height": 473
        }
      },
      "source": [
        "qplot(Score, data = data, geom = \"histogram\")"
      ],
      "execution_count": 81,
      "outputs": [
        {
          "output_type": "stream",
          "text": [
            "`stat_bin()` using `bins = 30`. Pick better value with `binwidth`.\n",
            "\n"
          ],
          "name": "stderr"
        },
        {
          "output_type": "display_data",
          "data": {
            "image/png": "[encoded data removed]",
            "text/plain": [
              "plot without title"
            ]
          },
          "metadata": {
            "tags": [],
            "image/png": {
              "width": 480,
              "height": 420
            }
          }
        }
      ]
    },
    {
      "cell_type": "code",
      "metadata": {
        "id": "ECBfAj7yKqJW",
        "outputId": "8327f64d-c6dc-49ae-a52f-57d95b208ad3",
        "colab": {
          "base_uri": "https://localhost:8080/",
          "height": 53
        }
      },
      "source": [
        "summary(data$Score)"
      ],
      "execution_count": 82,
      "outputs": [
        {
          "output_type": "display_data",
          "data": {
            "text/plain": [
              "   Min. 1st Qu.  Median    Mean 3rd Qu.    Max. \n",
              "  2.853   4.545   5.380   5.407   6.184   7.769 "
            ]
          },
          "metadata": {
            "tags": []
          }
        }
      ]
    },
    {
      "cell_type": "code",
      "metadata": {
        "id": "C9FGoCOZK3cD",
        "outputId": "3a46fcac-1f1e-478c-d607-810fb62ccec3",
        "colab": {
          "base_uri": "https://localhost:8080/",
          "height": 437
        }
      },
      "source": [
        "# Boxplot Score\n",
        "ggplot(data,aes(y = Score)) + \n",
        "  geom_boxplot()\n"
      ],
      "execution_count": 83,
      "outputs": [
        {
          "output_type": "display_data",
          "data": {
            "image/png": "[encoded data removed]",
            "text/plain": [
              "plot without title"
            ]
          },
          "metadata": {
            "tags": [],
            "image/png": {
              "width": 480,
              "height": 420
            }
          }
        }
      ]
    },
    {
      "cell_type": "code",
      "metadata": {
        "id": "1SgwXMJuLxdt",
        "outputId": "d0181d08-ebdb-4caa-d438-438b85ef75a1",
        "colab": {
          "base_uri": "https://localhost:8080/",
          "height": 207
        }
      },
      "source": [
        "correlation_matrix"
      ],
      "execution_count": 84,
      "outputs": [
        {
          "output_type": "display_data",
          "data": {
            "text/plain": [
              "                             Score      GDP.per.capita Social.support\n",
              "Score                        1.00000000  0.79388287     0.77705779   \n",
              "GDP.per.capita               0.79388287  1.00000000     0.75490573   \n",
              "Social.support               0.77705779  0.75490573     1.00000000   \n",
              "Healthy.life.expectancy      0.77988315  0.83546212     0.71900946   \n",
              "Freedom.to.make.life.choices 0.56674183  0.37907907     0.44733316   \n",
              "Generosity                   0.07582369 -0.07966231    -0.04812645   \n",
              "Perceptions.of.corruption    0.38561307  0.29891985     0.18189946   \n",
              "                             Healthy.life.expectancy\n",
              "Score                         0.77988315            \n",
              "GDP.per.capita                0.83546212            \n",
              "Social.support                0.71900946            \n",
              "Healthy.life.expectancy       1.00000000            \n",
              "Freedom.to.make.life.choices  0.39039478            \n",
              "Generosity                   -0.02951086            \n",
              "Perceptions.of.corruption     0.29528281            \n",
              "                             Freedom.to.make.life.choices Generosity \n",
              "Score                        0.5667418                     0.07582369\n",
              "GDP.per.capita               0.3790791                    -0.07966231\n",
              "Social.support               0.4473332                    -0.04812645\n",
              "Healthy.life.expectancy      0.3903948                    -0.02951086\n",
              "Freedom.to.make.life.choices 1.0000000                     0.26974181\n",
              "Generosity                   0.2697418                     1.00000000\n",
              "Perceptions.of.corruption    0.4388433                     0.32653754\n",
              "                             Perceptions.of.corruption\n",
              "Score                        0.3856131                \n",
              "GDP.per.capita               0.2989198                \n",
              "Social.support               0.1818995                \n",
              "Healthy.life.expectancy      0.2952828                \n",
              "Freedom.to.make.life.choices 0.4388433                \n",
              "Generosity                   0.3265375                \n",
              "Perceptions.of.corruption    1.0000000                "
            ],
            "text/latex": "A matrix: 7 × 7 of type dbl\n\\begin{tabular}{r|lllllll}\n  & Score & GDP.per.capita & Social.support & Healthy.life.expectancy & Freedom.to.make.life.choices & Generosity & Perceptions.of.corruption\\\\\n\\hline\n\tScore & 1.00000000 &  0.79388287 &  0.77705779 &  0.77988315 & 0.5667418 &  0.07582369 & 0.3856131\\\\\n\tGDP.per.capita & 0.79388287 &  1.00000000 &  0.75490573 &  0.83546212 & 0.3790791 & -0.07966231 & 0.2989198\\\\\n\tSocial.support & 0.77705779 &  0.75490573 &  1.00000000 &  0.71900946 & 0.4473332 & -0.04812645 & 0.1818995\\\\\n\tHealthy.life.expectancy & 0.77988315 &  0.83546212 &  0.71900946 &  1.00000000 & 0.3903948 & -0.02951086 & 0.2952828\\\\\n\tFreedom.to.make.life.choices & 0.56674183 &  0.37907907 &  0.44733316 &  0.39039478 & 1.0000000 &  0.26974181 & 0.4388433\\\\\n\tGenerosity & 0.07582369 & -0.07966231 & -0.04812645 & -0.02951086 & 0.2697418 &  1.00000000 & 0.3265375\\\\\n\tPerceptions.of.corruption & 0.38561307 &  0.29891985 &  0.18189946 &  0.29528281 & 0.4388433 &  0.32653754 & 1.0000000\\\\\n\\end{tabular}\n",
            "text/markdown": "\nA matrix: 7 × 7 of type dbl\n\n| <!--/--> | Score | GDP.per.capita | Social.support | Healthy.life.expectancy | Freedom.to.make.life.choices | Generosity | Perceptions.of.corruption |\n|---|---|---|---|---|---|---|---|\n| Score | 1.00000000 |  0.79388287 |  0.77705779 |  0.77988315 | 0.5667418 |  0.07582369 | 0.3856131 |\n| GDP.per.capita | 0.79388287 |  1.00000000 |  0.75490573 |  0.83546212 | 0.3790791 | -0.07966231 | 0.2989198 |\n| Social.support | 0.77705779 |  0.75490573 |  1.00000000 |  0.71900946 | 0.4473332 | -0.04812645 | 0.1818995 |\n| Healthy.life.expectancy | 0.77988315 |  0.83546212 |  0.71900946 |  1.00000000 | 0.3903948 | -0.02951086 | 0.2952828 |\n| Freedom.to.make.life.choices | 0.56674183 |  0.37907907 |  0.44733316 |  0.39039478 | 1.0000000 |  0.26974181 | 0.4388433 |\n| Generosity | 0.07582369 | -0.07966231 | -0.04812645 | -0.02951086 | 0.2697418 |  1.00000000 | 0.3265375 |\n| Perceptions.of.corruption | 0.38561307 |  0.29891985 |  0.18189946 |  0.29528281 | 0.4388433 |  0.32653754 | 1.0000000 |\n\n",
            "text/html": [
              "<table>\n",
              "<caption>A matrix: 7 × 7 of type dbl</caption>\n",
              "<thead>\n",
              "\t<tr><th></th><th scope=col>Score</th><th scope=col>GDP.per.capita</th><th scope=col>Social.support</th><th scope=col>Healthy.life.expectancy</th><th scope=col>Freedom.to.make.life.choices</th><th scope=col>Generosity</th><th scope=col>Perceptions.of.corruption</th></tr>\n",
              "</thead>\n",
              "<tbody>\n",
              "\t<tr><th scope=row>Score</th><td>1.00000000</td><td> 0.79388287</td><td> 0.77705779</td><td> 0.77988315</td><td>0.5667418</td><td> 0.07582369</td><td>0.3856131</td></tr>\n",
              "\t<tr><th scope=row>GDP.per.capita</th><td>0.79388287</td><td> 1.00000000</td><td> 0.75490573</td><td> 0.83546212</td><td>0.3790791</td><td>-0.07966231</td><td>0.2989198</td></tr>\n",
              "\t<tr><th scope=row>Social.support</th><td>0.77705779</td><td> 0.75490573</td><td> 1.00000000</td><td> 0.71900946</td><td>0.4473332</td><td>-0.04812645</td><td>0.1818995</td></tr>\n",
              "\t<tr><th scope=row>Healthy.life.expectancy</th><td>0.77988315</td><td> 0.83546212</td><td> 0.71900946</td><td> 1.00000000</td><td>0.3903948</td><td>-0.02951086</td><td>0.2952828</td></tr>\n",
              "\t<tr><th scope=row>Freedom.to.make.life.choices</th><td>0.56674183</td><td> 0.37907907</td><td> 0.44733316</td><td> 0.39039478</td><td>1.0000000</td><td> 0.26974181</td><td>0.4388433</td></tr>\n",
              "\t<tr><th scope=row>Generosity</th><td>0.07582369</td><td>-0.07966231</td><td>-0.04812645</td><td>-0.02951086</td><td>0.2697418</td><td> 1.00000000</td><td>0.3265375</td></tr>\n",
              "\t<tr><th scope=row>Perceptions.of.corruption</th><td>0.38561307</td><td> 0.29891985</td><td> 0.18189946</td><td> 0.29528281</td><td>0.4388433</td><td> 0.32653754</td><td>1.0000000</td></tr>\n",
              "</tbody>\n",
              "</table>\n"
            ]
          },
          "metadata": {
            "tags": []
          }
        }
      ]
    },
    {
      "cell_type": "code",
      "metadata": {
        "id": "a7ONvDVyM8M_",
        "outputId": "31fd1c71-cab9-4081-8734-da984b28f5e1",
        "colab": {
          "base_uri": "https://localhost:8080/",
          "height": 121
        }
      },
      "source": [
        "data$Score"
      ],
      "execution_count": 85,
      "outputs": [
        {
          "output_type": "display_data",
          "data": {
            "text/plain": [
              "  [1] 7.769 7.600 7.554 7.494 7.488 7.480 7.343 7.307 7.278 7.246 7.228 7.167\n",
              " [13] 7.139 7.090 7.054 7.021 6.985 6.923 6.892 6.852 6.825 6.726 6.595 6.592\n",
              " [25] 6.446 6.444 6.436 6.375 6.374 6.354 6.321 6.300 6.293 6.262 6.253 6.223\n",
              " [37] 6.199 6.198 6.192 6.182 6.174 6.149 6.125 6.118 6.105 6.100 6.086 6.070\n",
              " [49] 6.046 6.028 6.021 6.008 5.940 5.895 5.893 5.890 5.888 5.886 5.860 5.809\n",
              " [61] 5.779 5.758 5.743 5.718 5.697 5.693 5.653 5.648 5.631 5.603 5.529 5.525\n",
              " [73] 5.523 5.467 5.432 5.430 5.425 5.386 5.373 5.339 5.323 5.287 5.285 5.274\n",
              " [85] 5.265 5.261 5.247 5.211 5.208 5.208 5.197 5.192 5.191 5.175 5.082 5.044\n",
              " [97] 5.011 4.996 4.944 4.913 4.906 4.883 4.812 4.799 4.796 4.722 4.719 4.707\n",
              "[109] 4.700 4.696 4.681 4.668 4.639 4.628 4.587 4.559 4.548 4.534 4.519 4.516\n",
              "[121] 4.509 4.490 4.466 4.461 4.456 4.437 4.418 4.390 4.374 4.366 4.360 4.350\n",
              "[133] 4.332 4.286 4.212 4.189 4.166 4.107 4.085 4.015 3.975 3.973 3.933 3.802\n",
              "[145] 3.775 3.663 3.597 3.488 3.462 3.410 3.380 3.334 3.231 3.203 3.083 2.853"
            ],
            "text/latex": "\\begin{enumerate*}\n\\item 7.769\n\\item 7.6\n\\item 7.554\n\\item 7.494\n\\item 7.488\n\\item 7.48\n\\item 7.343\n\\item 7.307\n\\item 7.278\n\\item 7.246\n\\item 7.228\n\\item 7.167\n\\item 7.139\n\\item 7.09\n\\item 7.054\n\\item 7.021\n\\item 6.985\n\\item 6.923\n\\item 6.892\n\\item 6.852\n\\item 6.825\n\\item 6.726\n\\item 6.595\n\\item 6.592\n\\item 6.446\n\\item 6.444\n\\item 6.436\n\\item 6.375\n\\item 6.374\n\\item 6.354\n\\item 6.321\n\\item 6.3\n\\item 6.293\n\\item 6.262\n\\item 6.253\n\\item 6.223\n\\item 6.199\n\\item 6.198\n\\item 6.192\n\\item 6.182\n\\item 6.174\n\\item 6.149\n\\item 6.125\n\\item 6.118\n\\item 6.105\n\\item 6.1\n\\item 6.086\n\\item 6.07\n\\item 6.046\n\\item 6.028\n\\item 6.021\n\\item 6.008\n\\item 5.94\n\\item 5.895\n\\item 5.893\n\\item 5.89\n\\item 5.888\n\\item 5.886\n\\item 5.86\n\\item 5.809\n\\item 5.779\n\\item 5.758\n\\item 5.743\n\\item 5.718\n\\item 5.697\n\\item 5.693\n\\item 5.653\n\\item 5.648\n\\item 5.631\n\\item 5.603\n\\item 5.529\n\\item 5.525\n\\item 5.523\n\\item 5.467\n\\item 5.432\n\\item 5.43\n\\item 5.425\n\\item 5.386\n\\item 5.373\n\\item 5.339\n\\item 5.323\n\\item 5.287\n\\item 5.285\n\\item 5.274\n\\item 5.265\n\\item 5.261\n\\item 5.247\n\\item 5.211\n\\item 5.208\n\\item 5.208\n\\item 5.197\n\\item 5.192\n\\item 5.191\n\\item 5.175\n\\item 5.082\n\\item 5.044\n\\item 5.011\n\\item 4.996\n\\item 4.944\n\\item 4.913\n\\item 4.906\n\\item 4.883\n\\item 4.812\n\\item 4.799\n\\item 4.796\n\\item 4.722\n\\item 4.719\n\\item 4.707\n\\item 4.7\n\\item 4.696\n\\item 4.681\n\\item 4.668\n\\item 4.639\n\\item 4.628\n\\item 4.587\n\\item 4.559\n\\item 4.548\n\\item 4.534\n\\item 4.519\n\\item 4.516\n\\item 4.509\n\\item 4.49\n\\item 4.466\n\\item 4.461\n\\item 4.456\n\\item 4.437\n\\item 4.418\n\\item 4.39\n\\item 4.374\n\\item 4.366\n\\item 4.36\n\\item 4.35\n\\item 4.332\n\\item 4.286\n\\item 4.212\n\\item 4.189\n\\item 4.166\n\\item 4.107\n\\item 4.085\n\\item 4.015\n\\item 3.975\n\\item 3.973\n\\item 3.933\n\\item 3.802\n\\item 3.775\n\\item 3.663\n\\item 3.597\n\\item 3.488\n\\item 3.462\n\\item 3.41\n\\item 3.38\n\\item 3.334\n\\item 3.231\n\\item 3.203\n\\item 3.083\n\\item 2.853\n\\end{enumerate*}\n",
            "text/markdown": "1. 7.769\n2. 7.6\n3. 7.554\n4. 7.494\n5. 7.488\n6. 7.48\n7. 7.343\n8. 7.307\n9. 7.278\n10. 7.246\n11. 7.228\n12. 7.167\n13. 7.139\n14. 7.09\n15. 7.054\n16. 7.021\n17. 6.985\n18. 6.923\n19. 6.892\n20. 6.852\n21. 6.825\n22. 6.726\n23. 6.595\n24. 6.592\n25. 6.446\n26. 6.444\n27. 6.436\n28. 6.375\n29. 6.374\n30. 6.354\n31. 6.321\n32. 6.3\n33. 6.293\n34. 6.262\n35. 6.253\n36. 6.223\n37. 6.199\n38. 6.198\n39. 6.192\n40. 6.182\n41. 6.174\n42. 6.149\n43. 6.125\n44. 6.118\n45. 6.105\n46. 6.1\n47. 6.086\n48. 6.07\n49. 6.046\n50. 6.028\n51. 6.021\n52. 6.008\n53. 5.94\n54. 5.895\n55. 5.893\n56. 5.89\n57. 5.888\n58. 5.886\n59. 5.86\n60. 5.809\n61. 5.779\n62. 5.758\n63. 5.743\n64. 5.718\n65. 5.697\n66. 5.693\n67. 5.653\n68. 5.648\n69. 5.631\n70. 5.603\n71. 5.529\n72. 5.525\n73. 5.523\n74. 5.467\n75. 5.432\n76. 5.43\n77. 5.425\n78. 5.386\n79. 5.373\n80. 5.339\n81. 5.323\n82. 5.287\n83. 5.285\n84. 5.274\n85. 5.265\n86. 5.261\n87. 5.247\n88. 5.211\n89. 5.208\n90. 5.208\n91. 5.197\n92. 5.192\n93. 5.191\n94. 5.175\n95. 5.082\n96. 5.044\n97. 5.011\n98. 4.996\n99. 4.944\n100. 4.913\n101. 4.906\n102. 4.883\n103. 4.812\n104. 4.799\n105. 4.796\n106. 4.722\n107. 4.719\n108. 4.707\n109. 4.7\n110. 4.696\n111. 4.681\n112. 4.668\n113. 4.639\n114. 4.628\n115. 4.587\n116. 4.559\n117. 4.548\n118. 4.534\n119. 4.519\n120. 4.516\n121. 4.509\n122. 4.49\n123. 4.466\n124. 4.461\n125. 4.456\n126. 4.437\n127. 4.418\n128. 4.39\n129. 4.374\n130. 4.366\n131. 4.36\n132. 4.35\n133. 4.332\n134. 4.286\n135. 4.212\n136. 4.189\n137. 4.166\n138. 4.107\n139. 4.085\n140. 4.015\n141. 3.975\n142. 3.973\n143. 3.933\n144. 3.802\n145. 3.775\n146. 3.663\n147. 3.597\n148. 3.488\n149. 3.462\n150. 3.41\n151. 3.38\n152. 3.334\n153. 3.231\n154. 3.203\n155. 3.083\n156. 2.853\n\n\n",
            "text/html": [
              "<style>\n",
              ".list-inline {list-style: none; margin:0; padding: 0}\n",
              ".list-inline>li {display: inline-block}\n",
              ".list-inline>li:not(:last-child)::after {content: \"\\00b7\"; padding: 0 .5ex}\n",
              "</style>\n",
              "<ol class=list-inline><li>7.769</li><li>7.6</li><li>7.554</li><li>7.494</li><li>7.488</li><li>7.48</li><li>7.343</li><li>7.307</li><li>7.278</li><li>7.246</li><li>7.228</li><li>7.167</li><li>7.139</li><li>7.09</li><li>7.054</li><li>7.021</li><li>6.985</li><li>6.923</li><li>6.892</li><li>6.852</li><li>6.825</li><li>6.726</li><li>6.595</li><li>6.592</li><li>6.446</li><li>6.444</li><li>6.436</li><li>6.375</li><li>6.374</li><li>6.354</li><li>6.321</li><li>6.3</li><li>6.293</li><li>6.262</li><li>6.253</li><li>6.223</li><li>6.199</li><li>6.198</li><li>6.192</li><li>6.182</li><li>6.174</li><li>6.149</li><li>6.125</li><li>6.118</li><li>6.105</li><li>6.1</li><li>6.086</li><li>6.07</li><li>6.046</li><li>6.028</li><li>6.021</li><li>6.008</li><li>5.94</li><li>5.895</li><li>5.893</li><li>5.89</li><li>5.888</li><li>5.886</li><li>5.86</li><li>5.809</li><li>5.779</li><li>5.758</li><li>5.743</li><li>5.718</li><li>5.697</li><li>5.693</li><li>5.653</li><li>5.648</li><li>5.631</li><li>5.603</li><li>5.529</li><li>5.525</li><li>5.523</li><li>5.467</li><li>5.432</li><li>5.43</li><li>5.425</li><li>5.386</li><li>5.373</li><li>5.339</li><li>5.323</li><li>5.287</li><li>5.285</li><li>5.274</li><li>5.265</li><li>5.261</li><li>5.247</li><li>5.211</li><li>5.208</li><li>5.208</li><li>5.197</li><li>5.192</li><li>5.191</li><li>5.175</li><li>5.082</li><li>5.044</li><li>5.011</li><li>4.996</li><li>4.944</li><li>4.913</li><li>4.906</li><li>4.883</li><li>4.812</li><li>4.799</li><li>4.796</li><li>4.722</li><li>4.719</li><li>4.707</li><li>4.7</li><li>4.696</li><li>4.681</li><li>4.668</li><li>4.639</li><li>4.628</li><li>4.587</li><li>4.559</li><li>4.548</li><li>4.534</li><li>4.519</li><li>4.516</li><li>4.509</li><li>4.49</li><li>4.466</li><li>4.461</li><li>4.456</li><li>4.437</li><li>4.418</li><li>4.39</li><li>4.374</li><li>4.366</li><li>4.36</li><li>4.35</li><li>4.332</li><li>4.286</li><li>4.212</li><li>4.189</li><li>4.166</li><li>4.107</li><li>4.085</li><li>4.015</li><li>3.975</li><li>3.973</li><li>3.933</li><li>3.802</li><li>3.775</li><li>3.663</li><li>3.597</li><li>3.488</li><li>3.462</li><li>3.41</li><li>3.38</li><li>3.334</li><li>3.231</li><li>3.203</li><li>3.083</li><li>2.853</li></ol>\n"
            ]
          },
          "metadata": {
            "tags": []
          }
        }
      ]
    },
    {
      "cell_type": "code",
      "metadata": {
        "id": "a-GevIZzM_nD",
        "outputId": "e00c83be-cd71-4751-c98d-a12b17ad6675",
        "colab": {
          "base_uri": "https://localhost:8080/",
          "height": 34
        }
      },
      "source": [
        "IQR(data$Score)\n",
        "Q1 <- quantile(data$Score, 0.25)\n",
        "cota_inferior <- Q1 - 0.5*IQR(data$Score)\n",
        "Q3 <- quantile(data$Score, 0.75)\n",
        "cota_superior <- Q3 + 0.5*IQR(data$Score)\n",
        "rango_iqr = cota_superior - cota_inferior"
      ],
      "execution_count": 106,
      "outputs": [
        {
          "output_type": "display_data",
          "data": {
            "text/plain": [
              "[1] 1.64"
            ],
            "text/latex": "1.64",
            "text/markdown": "1.64",
            "text/html": [
              "1.64"
            ]
          },
          "metadata": {
            "tags": []
          }
        }
      ]
    },
    {
      "cell_type": "code",
      "metadata": {
        "id": "XsHMEkpcNW47",
        "outputId": "6344bb6a-020e-4510-aeda-012e0e525426",
        "colab": {
          "base_uri": "https://localhost:8080/",
          "height": 718
        }
      },
      "source": [
        "data[data$Score < cota_inferior,]\n",
        "data[data$Score > cota_superior,]"
      ],
      "execution_count": 107,
      "outputs": [
        {
          "output_type": "display_data",
          "data": {
            "text/plain": [
              "    Overall.rank Country.or.region        Score GDP.per.capita Social.support\n",
              "146 146          Zimbabwe                 3.663 0.366          1.114         \n",
              "147 147          Haiti                    3.597 0.323          0.688         \n",
              "148 148          Botswana                 3.488 1.041          1.145         \n",
              "149 149          Syria                    3.462 0.619          0.378         \n",
              "150 150          Malawi                   3.410 0.191          0.560         \n",
              "151 151          Yemen                    3.380 0.287          1.163         \n",
              "152 152          Rwanda                   3.334 0.359          0.711         \n",
              "153 153          Tanzania                 3.231 0.476          0.885         \n",
              "154 154          Afghanistan              3.203 0.350          0.517         \n",
              "155 155          Central African Republic 3.083 0.026          0.000         \n",
              "156 156          South Sudan              2.853 0.306          0.575         \n",
              "    Healthy.life.expectancy Freedom.to.make.life.choices Generosity\n",
              "146 0.433                   0.361                        0.151     \n",
              "147 0.449                   0.026                        0.419     \n",
              "148 0.538                   0.455                        0.025     \n",
              "149 0.440                   0.013                        0.331     \n",
              "150 0.495                   0.443                        0.218     \n",
              "151 0.463                   0.143                        0.108     \n",
              "152 0.614                   0.555                        0.217     \n",
              "153 0.499                   0.417                        0.276     \n",
              "154 0.361                   0.000                        0.158     \n",
              "155 0.105                   0.225                        0.235     \n",
              "156 0.295                   0.010                        0.202     \n",
              "    Perceptions.of.corruption\n",
              "146 0.089                    \n",
              "147 0.110                    \n",
              "148 0.100                    \n",
              "149 0.141                    \n",
              "150 0.089                    \n",
              "151 0.077                    \n",
              "152 0.411                    \n",
              "153 0.147                    \n",
              "154 0.025                    \n",
              "155 0.035                    \n",
              "156 0.091                    "
            ],
            "text/latex": "A data.frame: 11 × 9\n\\begin{tabular}{r|lllllllll}\n  & Overall.rank & Country.or.region & Score & GDP.per.capita & Social.support & Healthy.life.expectancy & Freedom.to.make.life.choices & Generosity & Perceptions.of.corruption\\\\\n  & <int> & <chr> & <dbl> & <dbl> & <dbl> & <dbl> & <dbl> & <dbl> & <dbl>\\\\\n\\hline\n\t146 & 146 & Zimbabwe                 & 3.663 & 0.366 & 1.114 & 0.433 & 0.361 & 0.151 & 0.089\\\\\n\t147 & 147 & Haiti                    & 3.597 & 0.323 & 0.688 & 0.449 & 0.026 & 0.419 & 0.110\\\\\n\t148 & 148 & Botswana                 & 3.488 & 1.041 & 1.145 & 0.538 & 0.455 & 0.025 & 0.100\\\\\n\t149 & 149 & Syria                    & 3.462 & 0.619 & 0.378 & 0.440 & 0.013 & 0.331 & 0.141\\\\\n\t150 & 150 & Malawi                   & 3.410 & 0.191 & 0.560 & 0.495 & 0.443 & 0.218 & 0.089\\\\\n\t151 & 151 & Yemen                    & 3.380 & 0.287 & 1.163 & 0.463 & 0.143 & 0.108 & 0.077\\\\\n\t152 & 152 & Rwanda                   & 3.334 & 0.359 & 0.711 & 0.614 & 0.555 & 0.217 & 0.411\\\\\n\t153 & 153 & Tanzania                 & 3.231 & 0.476 & 0.885 & 0.499 & 0.417 & 0.276 & 0.147\\\\\n\t154 & 154 & Afghanistan              & 3.203 & 0.350 & 0.517 & 0.361 & 0.000 & 0.158 & 0.025\\\\\n\t155 & 155 & Central African Republic & 3.083 & 0.026 & 0.000 & 0.105 & 0.225 & 0.235 & 0.035\\\\\n\t156 & 156 & South Sudan              & 2.853 & 0.306 & 0.575 & 0.295 & 0.010 & 0.202 & 0.091\\\\\n\\end{tabular}\n",
            "text/markdown": "\nA data.frame: 11 × 9\n\n| <!--/--> | Overall.rank &lt;int&gt; | Country.or.region &lt;chr&gt; | Score &lt;dbl&gt; | GDP.per.capita &lt;dbl&gt; | Social.support &lt;dbl&gt; | Healthy.life.expectancy &lt;dbl&gt; | Freedom.to.make.life.choices &lt;dbl&gt; | Generosity &lt;dbl&gt; | Perceptions.of.corruption &lt;dbl&gt; |\n|---|---|---|---|---|---|---|---|---|---|\n| 146 | 146 | Zimbabwe                 | 3.663 | 0.366 | 1.114 | 0.433 | 0.361 | 0.151 | 0.089 |\n| 147 | 147 | Haiti                    | 3.597 | 0.323 | 0.688 | 0.449 | 0.026 | 0.419 | 0.110 |\n| 148 | 148 | Botswana                 | 3.488 | 1.041 | 1.145 | 0.538 | 0.455 | 0.025 | 0.100 |\n| 149 | 149 | Syria                    | 3.462 | 0.619 | 0.378 | 0.440 | 0.013 | 0.331 | 0.141 |\n| 150 | 150 | Malawi                   | 3.410 | 0.191 | 0.560 | 0.495 | 0.443 | 0.218 | 0.089 |\n| 151 | 151 | Yemen                    | 3.380 | 0.287 | 1.163 | 0.463 | 0.143 | 0.108 | 0.077 |\n| 152 | 152 | Rwanda                   | 3.334 | 0.359 | 0.711 | 0.614 | 0.555 | 0.217 | 0.411 |\n| 153 | 153 | Tanzania                 | 3.231 | 0.476 | 0.885 | 0.499 | 0.417 | 0.276 | 0.147 |\n| 154 | 154 | Afghanistan              | 3.203 | 0.350 | 0.517 | 0.361 | 0.000 | 0.158 | 0.025 |\n| 155 | 155 | Central African Republic | 3.083 | 0.026 | 0.000 | 0.105 | 0.225 | 0.235 | 0.035 |\n| 156 | 156 | South Sudan              | 2.853 | 0.306 | 0.575 | 0.295 | 0.010 | 0.202 | 0.091 |\n\n",
            "text/html": [
              "<table>\n",
              "<caption>A data.frame: 11 × 9</caption>\n",
              "<thead>\n",
              "\t<tr><th></th><th scope=col>Overall.rank</th><th scope=col>Country.or.region</th><th scope=col>Score</th><th scope=col>GDP.per.capita</th><th scope=col>Social.support</th><th scope=col>Healthy.life.expectancy</th><th scope=col>Freedom.to.make.life.choices</th><th scope=col>Generosity</th><th scope=col>Perceptions.of.corruption</th></tr>\n",
              "\t<tr><th></th><th scope=col>&lt;int&gt;</th><th scope=col>&lt;chr&gt;</th><th scope=col>&lt;dbl&gt;</th><th scope=col>&lt;dbl&gt;</th><th scope=col>&lt;dbl&gt;</th><th scope=col>&lt;dbl&gt;</th><th scope=col>&lt;dbl&gt;</th><th scope=col>&lt;dbl&gt;</th><th scope=col>&lt;dbl&gt;</th></tr>\n",
              "</thead>\n",
              "<tbody>\n",
              "\t<tr><th scope=row>146</th><td>146</td><td>Zimbabwe                </td><td>3.663</td><td>0.366</td><td>1.114</td><td>0.433</td><td>0.361</td><td>0.151</td><td>0.089</td></tr>\n",
              "\t<tr><th scope=row>147</th><td>147</td><td>Haiti                   </td><td>3.597</td><td>0.323</td><td>0.688</td><td>0.449</td><td>0.026</td><td>0.419</td><td>0.110</td></tr>\n",
              "\t<tr><th scope=row>148</th><td>148</td><td>Botswana                </td><td>3.488</td><td>1.041</td><td>1.145</td><td>0.538</td><td>0.455</td><td>0.025</td><td>0.100</td></tr>\n",
              "\t<tr><th scope=row>149</th><td>149</td><td>Syria                   </td><td>3.462</td><td>0.619</td><td>0.378</td><td>0.440</td><td>0.013</td><td>0.331</td><td>0.141</td></tr>\n",
              "\t<tr><th scope=row>150</th><td>150</td><td>Malawi                  </td><td>3.410</td><td>0.191</td><td>0.560</td><td>0.495</td><td>0.443</td><td>0.218</td><td>0.089</td></tr>\n",
              "\t<tr><th scope=row>151</th><td>151</td><td>Yemen                   </td><td>3.380</td><td>0.287</td><td>1.163</td><td>0.463</td><td>0.143</td><td>0.108</td><td>0.077</td></tr>\n",
              "\t<tr><th scope=row>152</th><td>152</td><td>Rwanda                  </td><td>3.334</td><td>0.359</td><td>0.711</td><td>0.614</td><td>0.555</td><td>0.217</td><td>0.411</td></tr>\n",
              "\t<tr><th scope=row>153</th><td>153</td><td>Tanzania                </td><td>3.231</td><td>0.476</td><td>0.885</td><td>0.499</td><td>0.417</td><td>0.276</td><td>0.147</td></tr>\n",
              "\t<tr><th scope=row>154</th><td>154</td><td>Afghanistan             </td><td>3.203</td><td>0.350</td><td>0.517</td><td>0.361</td><td>0.000</td><td>0.158</td><td>0.025</td></tr>\n",
              "\t<tr><th scope=row>155</th><td>155</td><td>Central African Republic</td><td>3.083</td><td>0.026</td><td>0.000</td><td>0.105</td><td>0.225</td><td>0.235</td><td>0.035</td></tr>\n",
              "\t<tr><th scope=row>156</th><td>156</td><td>South Sudan             </td><td>2.853</td><td>0.306</td><td>0.575</td><td>0.295</td><td>0.010</td><td>0.202</td><td>0.091</td></tr>\n",
              "</tbody>\n",
              "</table>\n"
            ]
          },
          "metadata": {
            "tags": []
          }
        },
        {
          "output_type": "display_data",
          "data": {
            "text/plain": [
              "   Overall.rank Country.or.region Score GDP.per.capita Social.support\n",
              "1   1           Finland           7.769 1.340          1.587         \n",
              "2   2           Denmark           7.600 1.383          1.573         \n",
              "3   3           Norway            7.554 1.488          1.582         \n",
              "4   4           Iceland           7.494 1.380          1.624         \n",
              "5   5           Netherlands       7.488 1.396          1.522         \n",
              "6   6           Switzerland       7.480 1.452          1.526         \n",
              "7   7           Sweden            7.343 1.387          1.487         \n",
              "8   8           New Zealand       7.307 1.303          1.557         \n",
              "9   9           Canada            7.278 1.365          1.505         \n",
              "10 10           Austria           7.246 1.376          1.475         \n",
              "11 11           Australia         7.228 1.372          1.548         \n",
              "12 12           Costa Rica        7.167 1.034          1.441         \n",
              "13 13           Israel            7.139 1.276          1.455         \n",
              "14 14           Luxembourg        7.090 1.609          1.479         \n",
              "15 15           United Kingdom    7.054 1.333          1.538         \n",
              "16 16           Ireland           7.021 1.499          1.553         \n",
              "   Healthy.life.expectancy Freedom.to.make.life.choices Generosity\n",
              "1  0.986                   0.596                        0.153     \n",
              "2  0.996                   0.592                        0.252     \n",
              "3  1.028                   0.603                        0.271     \n",
              "4  1.026                   0.591                        0.354     \n",
              "5  0.999                   0.557                        0.322     \n",
              "6  1.052                   0.572                        0.263     \n",
              "7  1.009                   0.574                        0.267     \n",
              "8  1.026                   0.585                        0.330     \n",
              "9  1.039                   0.584                        0.285     \n",
              "10 1.016                   0.532                        0.244     \n",
              "11 1.036                   0.557                        0.332     \n",
              "12 0.963                   0.558                        0.144     \n",
              "13 1.029                   0.371                        0.261     \n",
              "14 1.012                   0.526                        0.194     \n",
              "15 0.996                   0.450                        0.348     \n",
              "16 0.999                   0.516                        0.298     \n",
              "   Perceptions.of.corruption\n",
              "1  0.393                    \n",
              "2  0.410                    \n",
              "3  0.341                    \n",
              "4  0.118                    \n",
              "5  0.298                    \n",
              "6  0.343                    \n",
              "7  0.373                    \n",
              "8  0.380                    \n",
              "9  0.308                    \n",
              "10 0.226                    \n",
              "11 0.290                    \n",
              "12 0.093                    \n",
              "13 0.082                    \n",
              "14 0.316                    \n",
              "15 0.278                    \n",
              "16 0.310                    "
            ],
            "text/latex": "A data.frame: 16 × 9\n\\begin{tabular}{r|lllllllll}\n  & Overall.rank & Country.or.region & Score & GDP.per.capita & Social.support & Healthy.life.expectancy & Freedom.to.make.life.choices & Generosity & Perceptions.of.corruption\\\\\n  & <int> & <chr> & <dbl> & <dbl> & <dbl> & <dbl> & <dbl> & <dbl> & <dbl>\\\\\n\\hline\n\t1 &  1 & Finland        & 7.769 & 1.340 & 1.587 & 0.986 & 0.596 & 0.153 & 0.393\\\\\n\t2 &  2 & Denmark        & 7.600 & 1.383 & 1.573 & 0.996 & 0.592 & 0.252 & 0.410\\\\\n\t3 &  3 & Norway         & 7.554 & 1.488 & 1.582 & 1.028 & 0.603 & 0.271 & 0.341\\\\\n\t4 &  4 & Iceland        & 7.494 & 1.380 & 1.624 & 1.026 & 0.591 & 0.354 & 0.118\\\\\n\t5 &  5 & Netherlands    & 7.488 & 1.396 & 1.522 & 0.999 & 0.557 & 0.322 & 0.298\\\\\n\t6 &  6 & Switzerland    & 7.480 & 1.452 & 1.526 & 1.052 & 0.572 & 0.263 & 0.343\\\\\n\t7 &  7 & Sweden         & 7.343 & 1.387 & 1.487 & 1.009 & 0.574 & 0.267 & 0.373\\\\\n\t8 &  8 & New Zealand    & 7.307 & 1.303 & 1.557 & 1.026 & 0.585 & 0.330 & 0.380\\\\\n\t9 &  9 & Canada         & 7.278 & 1.365 & 1.505 & 1.039 & 0.584 & 0.285 & 0.308\\\\\n\t10 & 10 & Austria        & 7.246 & 1.376 & 1.475 & 1.016 & 0.532 & 0.244 & 0.226\\\\\n\t11 & 11 & Australia      & 7.228 & 1.372 & 1.548 & 1.036 & 0.557 & 0.332 & 0.290\\\\\n\t12 & 12 & Costa Rica     & 7.167 & 1.034 & 1.441 & 0.963 & 0.558 & 0.144 & 0.093\\\\\n\t13 & 13 & Israel         & 7.139 & 1.276 & 1.455 & 1.029 & 0.371 & 0.261 & 0.082\\\\\n\t14 & 14 & Luxembourg     & 7.090 & 1.609 & 1.479 & 1.012 & 0.526 & 0.194 & 0.316\\\\\n\t15 & 15 & United Kingdom & 7.054 & 1.333 & 1.538 & 0.996 & 0.450 & 0.348 & 0.278\\\\\n\t16 & 16 & Ireland        & 7.021 & 1.499 & 1.553 & 0.999 & 0.516 & 0.298 & 0.310\\\\\n\\end{tabular}\n",
            "text/markdown": "\nA data.frame: 16 × 9\n\n| <!--/--> | Overall.rank &lt;int&gt; | Country.or.region &lt;chr&gt; | Score &lt;dbl&gt; | GDP.per.capita &lt;dbl&gt; | Social.support &lt;dbl&gt; | Healthy.life.expectancy &lt;dbl&gt; | Freedom.to.make.life.choices &lt;dbl&gt; | Generosity &lt;dbl&gt; | Perceptions.of.corruption &lt;dbl&gt; |\n|---|---|---|---|---|---|---|---|---|---|\n| 1 |  1 | Finland        | 7.769 | 1.340 | 1.587 | 0.986 | 0.596 | 0.153 | 0.393 |\n| 2 |  2 | Denmark        | 7.600 | 1.383 | 1.573 | 0.996 | 0.592 | 0.252 | 0.410 |\n| 3 |  3 | Norway         | 7.554 | 1.488 | 1.582 | 1.028 | 0.603 | 0.271 | 0.341 |\n| 4 |  4 | Iceland        | 7.494 | 1.380 | 1.624 | 1.026 | 0.591 | 0.354 | 0.118 |\n| 5 |  5 | Netherlands    | 7.488 | 1.396 | 1.522 | 0.999 | 0.557 | 0.322 | 0.298 |\n| 6 |  6 | Switzerland    | 7.480 | 1.452 | 1.526 | 1.052 | 0.572 | 0.263 | 0.343 |\n| 7 |  7 | Sweden         | 7.343 | 1.387 | 1.487 | 1.009 | 0.574 | 0.267 | 0.373 |\n| 8 |  8 | New Zealand    | 7.307 | 1.303 | 1.557 | 1.026 | 0.585 | 0.330 | 0.380 |\n| 9 |  9 | Canada         | 7.278 | 1.365 | 1.505 | 1.039 | 0.584 | 0.285 | 0.308 |\n| 10 | 10 | Austria        | 7.246 | 1.376 | 1.475 | 1.016 | 0.532 | 0.244 | 0.226 |\n| 11 | 11 | Australia      | 7.228 | 1.372 | 1.548 | 1.036 | 0.557 | 0.332 | 0.290 |\n| 12 | 12 | Costa Rica     | 7.167 | 1.034 | 1.441 | 0.963 | 0.558 | 0.144 | 0.093 |\n| 13 | 13 | Israel         | 7.139 | 1.276 | 1.455 | 1.029 | 0.371 | 0.261 | 0.082 |\n| 14 | 14 | Luxembourg     | 7.090 | 1.609 | 1.479 | 1.012 | 0.526 | 0.194 | 0.316 |\n| 15 | 15 | United Kingdom | 7.054 | 1.333 | 1.538 | 0.996 | 0.450 | 0.348 | 0.278 |\n| 16 | 16 | Ireland        | 7.021 | 1.499 | 1.553 | 0.999 | 0.516 | 0.298 | 0.310 |\n\n",
            "text/html": [
              "<table>\n",
              "<caption>A data.frame: 16 × 9</caption>\n",
              "<thead>\n",
              "\t<tr><th></th><th scope=col>Overall.rank</th><th scope=col>Country.or.region</th><th scope=col>Score</th><th scope=col>GDP.per.capita</th><th scope=col>Social.support</th><th scope=col>Healthy.life.expectancy</th><th scope=col>Freedom.to.make.life.choices</th><th scope=col>Generosity</th><th scope=col>Perceptions.of.corruption</th></tr>\n",
              "\t<tr><th></th><th scope=col>&lt;int&gt;</th><th scope=col>&lt;chr&gt;</th><th scope=col>&lt;dbl&gt;</th><th scope=col>&lt;dbl&gt;</th><th scope=col>&lt;dbl&gt;</th><th scope=col>&lt;dbl&gt;</th><th scope=col>&lt;dbl&gt;</th><th scope=col>&lt;dbl&gt;</th><th scope=col>&lt;dbl&gt;</th></tr>\n",
              "</thead>\n",
              "<tbody>\n",
              "\t<tr><th scope=row>1</th><td> 1</td><td>Finland       </td><td>7.769</td><td>1.340</td><td>1.587</td><td>0.986</td><td>0.596</td><td>0.153</td><td>0.393</td></tr>\n",
              "\t<tr><th scope=row>2</th><td> 2</td><td>Denmark       </td><td>7.600</td><td>1.383</td><td>1.573</td><td>0.996</td><td>0.592</td><td>0.252</td><td>0.410</td></tr>\n",
              "\t<tr><th scope=row>3</th><td> 3</td><td>Norway        </td><td>7.554</td><td>1.488</td><td>1.582</td><td>1.028</td><td>0.603</td><td>0.271</td><td>0.341</td></tr>\n",
              "\t<tr><th scope=row>4</th><td> 4</td><td>Iceland       </td><td>7.494</td><td>1.380</td><td>1.624</td><td>1.026</td><td>0.591</td><td>0.354</td><td>0.118</td></tr>\n",
              "\t<tr><th scope=row>5</th><td> 5</td><td>Netherlands   </td><td>7.488</td><td>1.396</td><td>1.522</td><td>0.999</td><td>0.557</td><td>0.322</td><td>0.298</td></tr>\n",
              "\t<tr><th scope=row>6</th><td> 6</td><td>Switzerland   </td><td>7.480</td><td>1.452</td><td>1.526</td><td>1.052</td><td>0.572</td><td>0.263</td><td>0.343</td></tr>\n",
              "\t<tr><th scope=row>7</th><td> 7</td><td>Sweden        </td><td>7.343</td><td>1.387</td><td>1.487</td><td>1.009</td><td>0.574</td><td>0.267</td><td>0.373</td></tr>\n",
              "\t<tr><th scope=row>8</th><td> 8</td><td>New Zealand   </td><td>7.307</td><td>1.303</td><td>1.557</td><td>1.026</td><td>0.585</td><td>0.330</td><td>0.380</td></tr>\n",
              "\t<tr><th scope=row>9</th><td> 9</td><td>Canada        </td><td>7.278</td><td>1.365</td><td>1.505</td><td>1.039</td><td>0.584</td><td>0.285</td><td>0.308</td></tr>\n",
              "\t<tr><th scope=row>10</th><td>10</td><td>Austria       </td><td>7.246</td><td>1.376</td><td>1.475</td><td>1.016</td><td>0.532</td><td>0.244</td><td>0.226</td></tr>\n",
              "\t<tr><th scope=row>11</th><td>11</td><td>Australia     </td><td>7.228</td><td>1.372</td><td>1.548</td><td>1.036</td><td>0.557</td><td>0.332</td><td>0.290</td></tr>\n",
              "\t<tr><th scope=row>12</th><td>12</td><td>Costa Rica    </td><td>7.167</td><td>1.034</td><td>1.441</td><td>0.963</td><td>0.558</td><td>0.144</td><td>0.093</td></tr>\n",
              "\t<tr><th scope=row>13</th><td>13</td><td>Israel        </td><td>7.139</td><td>1.276</td><td>1.455</td><td>1.029</td><td>0.371</td><td>0.261</td><td>0.082</td></tr>\n",
              "\t<tr><th scope=row>14</th><td>14</td><td>Luxembourg    </td><td>7.090</td><td>1.609</td><td>1.479</td><td>1.012</td><td>0.526</td><td>0.194</td><td>0.316</td></tr>\n",
              "\t<tr><th scope=row>15</th><td>15</td><td>United Kingdom</td><td>7.054</td><td>1.333</td><td>1.538</td><td>0.996</td><td>0.450</td><td>0.348</td><td>0.278</td></tr>\n",
              "\t<tr><th scope=row>16</th><td>16</td><td>Ireland       </td><td>7.021</td><td>1.499</td><td>1.553</td><td>0.999</td><td>0.516</td><td>0.298</td><td>0.310</td></tr>\n",
              "</tbody>\n",
              "</table>\n"
            ]
          },
          "metadata": {
            "tags": []
          }
        }
      ]
    },
    {
      "cell_type": "code",
      "metadata": {
        "id": "QySkWGfvQWpk"
      },
      "source": [
        "scaled_data <- as.data.frame(scale(data[,-(1:2)])) # Escalamos"
      ],
      "execution_count": 114,
      "outputs": []
    },
    {
      "cell_type": "code",
      "metadata": {
        "id": "i1eb1OFTP1gL"
      },
      "source": [
        "kmeans_prueba <- kmeans(x = scaled_data, centers = 2) # Pendiente"
      ],
      "execution_count": 122,
      "outputs": []
    },
    {
      "cell_type": "code",
      "metadata": {
        "id": "-nENfkXfQB0b",
        "outputId": "0b3a06f4-2439-4e3d-d189-fed27fc3b1ae",
        "colab": {
          "base_uri": "https://localhost:8080/",
          "height": 69
        }
      },
      "source": [
        "kmeans_prueba$cluster"
      ],
      "execution_count": 124,
      "outputs": [
        {
          "output_type": "display_data",
          "data": {
            "text/plain": [
              "  [1] 1 1 1 1 1 1 1 1 1 1 1 1 1 1 1 1 1 1 1 1 1 1 1 1 1 1 1 1 1 1 1 1 1 1 1 1 1\n",
              " [38] 1 1 1 1 1 1 1 1 1 1 1 1 1 1 1 1 1 1 1 1 1 1 1 1 1 1 1 1 1 2 1 1 1 2 1 1 2\n",
              " [75] 1 1 1 1 1 1 1 1 1 1 2 1 1 2 2 1 1 1 1 1 1 2 1 2 2 2 1 2 2 2 2 2 2 1 2 2 2\n",
              "[112] 2 2 2 2 2 2 2 2 2 2 2 2 2 2 2 2 2 2 1 2 2 2 2 2 2 2 2 2 2 2 2 2 2 2 2 2 2\n",
              "[149] 2 2 2 2 2 2 2 2"
            ],
            "text/latex": "\\begin{enumerate*}\n\\item 1\n\\item 1\n\\item 1\n\\item 1\n\\item 1\n\\item 1\n\\item 1\n\\item 1\n\\item 1\n\\item 1\n\\item 1\n\\item 1\n\\item 1\n\\item 1\n\\item 1\n\\item 1\n\\item 1\n\\item 1\n\\item 1\n\\item 1\n\\item 1\n\\item 1\n\\item 1\n\\item 1\n\\item 1\n\\item 1\n\\item 1\n\\item 1\n\\item 1\n\\item 1\n\\item 1\n\\item 1\n\\item 1\n\\item 1\n\\item 1\n\\item 1\n\\item 1\n\\item 1\n\\item 1\n\\item 1\n\\item 1\n\\item 1\n\\item 1\n\\item 1\n\\item 1\n\\item 1\n\\item 1\n\\item 1\n\\item 1\n\\item 1\n\\item 1\n\\item 1\n\\item 1\n\\item 1\n\\item 1\n\\item 1\n\\item 1\n\\item 1\n\\item 1\n\\item 1\n\\item 1\n\\item 1\n\\item 1\n\\item 1\n\\item 1\n\\item 1\n\\item 2\n\\item 1\n\\item 1\n\\item 1\n\\item 2\n\\item 1\n\\item 1\n\\item 2\n\\item 1\n\\item 1\n\\item 1\n\\item 1\n\\item 1\n\\item 1\n\\item 1\n\\item 1\n\\item 1\n\\item 1\n\\item 2\n\\item 1\n\\item 1\n\\item 2\n\\item 2\n\\item 1\n\\item 1\n\\item 1\n\\item 1\n\\item 1\n\\item 1\n\\item 2\n\\item 1\n\\item 2\n\\item 2\n\\item 2\n\\item 1\n\\item 2\n\\item 2\n\\item 2\n\\item 2\n\\item 2\n\\item 2\n\\item 1\n\\item 2\n\\item 2\n\\item 2\n\\item 2\n\\item 2\n\\item 2\n\\item 2\n\\item 2\n\\item 2\n\\item 2\n\\item 2\n\\item 2\n\\item 2\n\\item 2\n\\item 2\n\\item 2\n\\item 2\n\\item 2\n\\item 2\n\\item 2\n\\item 2\n\\item 1\n\\item 2\n\\item 2\n\\item 2\n\\item 2\n\\item 2\n\\item 2\n\\item 2\n\\item 2\n\\item 2\n\\item 2\n\\item 2\n\\item 2\n\\item 2\n\\item 2\n\\item 2\n\\item 2\n\\item 2\n\\item 2\n\\item 2\n\\item 2\n\\item 2\n\\item 2\n\\item 2\n\\item 2\n\\item 2\n\\item 2\n\\end{enumerate*}\n",
            "text/markdown": "1. 1\n2. 1\n3. 1\n4. 1\n5. 1\n6. 1\n7. 1\n8. 1\n9. 1\n10. 1\n11. 1\n12. 1\n13. 1\n14. 1\n15. 1\n16. 1\n17. 1\n18. 1\n19. 1\n20. 1\n21. 1\n22. 1\n23. 1\n24. 1\n25. 1\n26. 1\n27. 1\n28. 1\n29. 1\n30. 1\n31. 1\n32. 1\n33. 1\n34. 1\n35. 1\n36. 1\n37. 1\n38. 1\n39. 1\n40. 1\n41. 1\n42. 1\n43. 1\n44. 1\n45. 1\n46. 1\n47. 1\n48. 1\n49. 1\n50. 1\n51. 1\n52. 1\n53. 1\n54. 1\n55. 1\n56. 1\n57. 1\n58. 1\n59. 1\n60. 1\n61. 1\n62. 1\n63. 1\n64. 1\n65. 1\n66. 1\n67. 2\n68. 1\n69. 1\n70. 1\n71. 2\n72. 1\n73. 1\n74. 2\n75. 1\n76. 1\n77. 1\n78. 1\n79. 1\n80. 1\n81. 1\n82. 1\n83. 1\n84. 1\n85. 2\n86. 1\n87. 1\n88. 2\n89. 2\n90. 1\n91. 1\n92. 1\n93. 1\n94. 1\n95. 1\n96. 2\n97. 1\n98. 2\n99. 2\n100. 2\n101. 1\n102. 2\n103. 2\n104. 2\n105. 2\n106. 2\n107. 2\n108. 1\n109. 2\n110. 2\n111. 2\n112. 2\n113. 2\n114. 2\n115. 2\n116. 2\n117. 2\n118. 2\n119. 2\n120. 2\n121. 2\n122. 2\n123. 2\n124. 2\n125. 2\n126. 2\n127. 2\n128. 2\n129. 2\n130. 1\n131. 2\n132. 2\n133. 2\n134. 2\n135. 2\n136. 2\n137. 2\n138. 2\n139. 2\n140. 2\n141. 2\n142. 2\n143. 2\n144. 2\n145. 2\n146. 2\n147. 2\n148. 2\n149. 2\n150. 2\n151. 2\n152. 2\n153. 2\n154. 2\n155. 2\n156. 2\n\n\n",
            "text/html": [
              "<style>\n",
              ".list-inline {list-style: none; margin:0; padding: 0}\n",
              ".list-inline>li {display: inline-block}\n",
              ".list-inline>li:not(:last-child)::after {content: \"\\00b7\"; padding: 0 .5ex}\n",
              "</style>\n",
              "<ol class=list-inline><li>1</li><li>1</li><li>1</li><li>1</li><li>1</li><li>1</li><li>1</li><li>1</li><li>1</li><li>1</li><li>1</li><li>1</li><li>1</li><li>1</li><li>1</li><li>1</li><li>1</li><li>1</li><li>1</li><li>1</li><li>1</li><li>1</li><li>1</li><li>1</li><li>1</li><li>1</li><li>1</li><li>1</li><li>1</li><li>1</li><li>1</li><li>1</li><li>1</li><li>1</li><li>1</li><li>1</li><li>1</li><li>1</li><li>1</li><li>1</li><li>1</li><li>1</li><li>1</li><li>1</li><li>1</li><li>1</li><li>1</li><li>1</li><li>1</li><li>1</li><li>1</li><li>1</li><li>1</li><li>1</li><li>1</li><li>1</li><li>1</li><li>1</li><li>1</li><li>1</li><li>1</li><li>1</li><li>1</li><li>1</li><li>1</li><li>1</li><li>2</li><li>1</li><li>1</li><li>1</li><li>2</li><li>1</li><li>1</li><li>2</li><li>1</li><li>1</li><li>1</li><li>1</li><li>1</li><li>1</li><li>1</li><li>1</li><li>1</li><li>1</li><li>2</li><li>1</li><li>1</li><li>2</li><li>2</li><li>1</li><li>1</li><li>1</li><li>1</li><li>1</li><li>1</li><li>2</li><li>1</li><li>2</li><li>2</li><li>2</li><li>1</li><li>2</li><li>2</li><li>2</li><li>2</li><li>2</li><li>2</li><li>1</li><li>2</li><li>2</li><li>2</li><li>2</li><li>2</li><li>2</li><li>2</li><li>2</li><li>2</li><li>2</li><li>2</li><li>2</li><li>2</li><li>2</li><li>2</li><li>2</li><li>2</li><li>2</li><li>2</li><li>2</li><li>2</li><li>1</li><li>2</li><li>2</li><li>2</li><li>2</li><li>2</li><li>2</li><li>2</li><li>2</li><li>2</li><li>2</li><li>2</li><li>2</li><li>2</li><li>2</li><li>2</li><li>2</li><li>2</li><li>2</li><li>2</li><li>2</li><li>2</li><li>2</li><li>2</li><li>2</li><li>2</li><li>2</li></ol>\n"
            ]
          },
          "metadata": {
            "tags": []
          }
        }
      ]
    },
    {
      "cell_type": "code",
      "metadata": {
        "id": "2blMrFf6RF3i"
      },
      "source": [
        "tot_withinss <- list()\n",
        "for(i in 1:10){\n",
        "   kmeans_prueba <- kmeans(x = scaled_data, centers = i)\n",
        "   tot_withinss[[i]] <- kmeans_prueba$tot.withinss\n",
        "}"
      ],
      "execution_count": 125,
      "outputs": []
    },
    {
      "cell_type": "code",
      "metadata": {
        "id": "pvmEJR-6RkqE",
        "outputId": "9188f97a-e38f-47a6-e210-71f5eb1fb102",
        "colab": {
          "base_uri": "https://localhost:8080/",
          "height": 310
        }
      },
      "source": [
        "elbow_df <- data.frame(k = 1:10, tot = as.numeric(tot_withinss))\n",
        "elbow_df"
      ],
      "execution_count": 140,
      "outputs": [
        {
          "output_type": "display_data",
          "data": {
            "text/plain": [
              "   k  tot      \n",
              "1   1 1085.0000\n",
              "2   2  682.0926\n",
              "3   3  492.5347\n",
              "4   4  436.3344\n",
              "5   5  373.8665\n",
              "6   6  346.8704\n",
              "7   7  313.1384\n",
              "8   8  288.9257\n",
              "9   9  280.5490\n",
              "10 10  263.8788"
            ],
            "text/latex": "A data.frame: 10 × 2\n\\begin{tabular}{ll}\n k & tot\\\\\n <int> & <dbl>\\\\\n\\hline\n\t  1 & 1085.0000\\\\\n\t  2 &  682.0926\\\\\n\t  3 &  492.5347\\\\\n\t  4 &  436.3344\\\\\n\t  5 &  373.8665\\\\\n\t  6 &  346.8704\\\\\n\t  7 &  313.1384\\\\\n\t  8 &  288.9257\\\\\n\t  9 &  280.5490\\\\\n\t 10 &  263.8788\\\\\n\\end{tabular}\n",
            "text/markdown": "\nA data.frame: 10 × 2\n\n| k &lt;int&gt; | tot &lt;dbl&gt; |\n|---|---|\n|  1 | 1085.0000 |\n|  2 |  682.0926 |\n|  3 |  492.5347 |\n|  4 |  436.3344 |\n|  5 |  373.8665 |\n|  6 |  346.8704 |\n|  7 |  313.1384 |\n|  8 |  288.9257 |\n|  9 |  280.5490 |\n| 10 |  263.8788 |\n\n",
            "text/html": [
              "<table>\n",
              "<caption>A data.frame: 10 × 2</caption>\n",
              "<thead>\n",
              "\t<tr><th scope=col>k</th><th scope=col>tot</th></tr>\n",
              "\t<tr><th scope=col>&lt;int&gt;</th><th scope=col>&lt;dbl&gt;</th></tr>\n",
              "</thead>\n",
              "<tbody>\n",
              "\t<tr><td> 1</td><td>1085.0000</td></tr>\n",
              "\t<tr><td> 2</td><td> 682.0926</td></tr>\n",
              "\t<tr><td> 3</td><td> 492.5347</td></tr>\n",
              "\t<tr><td> 4</td><td> 436.3344</td></tr>\n",
              "\t<tr><td> 5</td><td> 373.8665</td></tr>\n",
              "\t<tr><td> 6</td><td> 346.8704</td></tr>\n",
              "\t<tr><td> 7</td><td> 313.1384</td></tr>\n",
              "\t<tr><td> 8</td><td> 288.9257</td></tr>\n",
              "\t<tr><td> 9</td><td> 280.5490</td></tr>\n",
              "\t<tr><td>10</td><td> 263.8788</td></tr>\n",
              "</tbody>\n",
              "</table>\n"
            ]
          },
          "metadata": {
            "tags": []
          }
        }
      ]
    },
    {
      "cell_type": "code",
      "metadata": {
        "id": "PFPsHMgNRvrp",
        "outputId": "9272dcbf-bb1c-4166-cb77-fa12404e2055",
        "colab": {
          "base_uri": "https://localhost:8080/",
          "height": 437
        }
      },
      "source": [
        "ggplot(elbow_df, aes(x = k, y = tot)) + geom_point() + geom_line()"
      ],
      "execution_count": 142,
      "outputs": [
        {
          "output_type": "display_data",
          "data": {
            "image/png": "[encoded data removed]",
            "text/plain": [
              "plot without title"
            ]
          },
          "metadata": {
            "tags": [],
            "image/png": {
              "width": 480,
              "height": 420
            }
          }
        }
      ]
    }
  ]
}