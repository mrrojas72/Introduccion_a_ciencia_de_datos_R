{
  "nbformat": 4,
  "nbformat_minor": 0,
  "metadata": {
    "colab": {
      "name": "Clase5_1_reglas_de_asociacion.ipynb",
      "provenance": [],
      "collapsed_sections": [],
      "include_colab_link": true
    },
    "kernelspec": {
      "name": "ir",
      "display_name": "R"
    }
  },
  "cells": [
    {
      "cell_type": "markdown",
      "metadata": {
        "id": "view-in-github",
        "colab_type": "text"
      },
      "source": [
        "<a href=\"https://colab.research.google.com/github/majorquev/Introduccion_a_ciencia_de_datos_R/blob/master/Clases/Clase5/Copia_de_Clase5_1_reglas_de_asociacion.ipynb\" target=\"_parent\"><img src=\"https://colab.research.google.com/assets/colab-badge.svg\" alt=\"Open In Colab\"/></a>"
      ]
    },
    {
      "cell_type": "markdown",
      "metadata": {
        "collapsed": true,
        "id": "puXmDUFl1o5x"
      },
      "source": [
        "# Parte 4: Reglas de asociación\n",
        "\n",
        "\n",
        "**Autor:** Miguel Jorquera Viguera<br>\n",
        "**E-mail:** majorquev@gmail.com<br>\n",
        "**Ayudante:** Bastián Aballay Leiva<br>\n",
        "**E-mail ayudante:** bastian.aballayleiva@gmail.com\n",
        "\n",
        "Las reglas de asociación nos permiten identificar relaciones entre variables a través de grandes datasets. Es posible cuantificar que tan \"fuerte\" es la relación obtenida mediante diversas métricas de interés, entre las cuales se destacan el _lift_, _support_ y _confidence_ de una regla.\n",
        "\n",
        "Para más detalles sobre la definición y algoritmo de generación de las reglas refiérase a la presentación de la clase 7 de este curso.\n",
        "\n",
        "\n"
      ]
    },
    {
      "cell_type": "code",
      "metadata": {
        "trusted": true,
        "id": "J4ZRjiE61o5z",
        "outputId": "d3cac036-5096-45ae-ffc8-74687e8a6931",
        "colab": {
          "base_uri": "https://localhost:8080/",
          "height": 70
        }
      },
      "source": [
        "install.packages(\"arules\")"
      ],
      "execution_count": null,
      "outputs": [
        {
          "output_type": "stream",
          "text": [
            "Installing package into ‘/usr/local/lib/R/site-library’\n",
            "(as ‘lib’ is unspecified)\n",
            "\n"
          ],
          "name": "stderr"
        }
      ]
    },
    {
      "cell_type": "code",
      "metadata": {
        "trusted": true,
        "id": "LCmAsrTB1o52",
        "outputId": "9e4dc8e6-d58e-464d-f48e-98411bc3c54c",
        "colab": {
          "base_uri": "https://localhost:8080/",
          "height": 957
        }
      },
      "source": [
        "library(arules)\n",
        "library(dplyr)\n",
        "data(Groceries)\n",
        "class(Groceries)\n",
        "\n",
        "inspect(head(Groceries, 6))"
      ],
      "execution_count": null,
      "outputs": [
        {
          "output_type": "stream",
          "text": [
            "Loading required package: Matrix\n",
            "\n",
            "\n",
            "Attaching package: ‘arules’\n",
            "\n",
            "\n",
            "The following objects are masked from ‘package:base’:\n",
            "\n",
            "    abbreviate, write\n",
            "\n",
            "\n",
            "\n",
            "Attaching package: ‘dplyr’\n",
            "\n",
            "\n",
            "The following objects are masked from ‘package:arules’:\n",
            "\n",
            "    intersect, recode, setdiff, setequal, union\n",
            "\n",
            "\n",
            "The following objects are masked from ‘package:stats’:\n",
            "\n",
            "    filter, lag\n",
            "\n",
            "\n",
            "The following objects are masked from ‘package:base’:\n",
            "\n",
            "    intersect, setdiff, setequal, union\n",
            "\n",
            "\n"
          ],
          "name": "stderr"
        },
        {
          "output_type": "display_data",
          "data": {
            "text/plain": [
              "[1] \"transactions\"\n",
              "attr(,\"package\")\n",
              "[1] \"arules\""
            ],
            "text/latex": "'transactions'",
            "text/markdown": "'transactions'",
            "text/html": [
              "'transactions'"
            ]
          },
          "metadata": {
            "tags": []
          }
        },
        {
          "output_type": "stream",
          "text": [
            "    items                     \n",
            "[1] {citrus fruit,            \n",
            "     semi-finished bread,     \n",
            "     margarine,               \n",
            "     ready soups}             \n",
            "[2] {tropical fruit,          \n",
            "     yogurt,                  \n",
            "     coffee}                  \n",
            "[3] {whole milk}              \n",
            "[4] {pip fruit,               \n",
            "     yogurt,                  \n",
            "     cream cheese ,           \n",
            "     meat spreads}            \n",
            "[5] {other vegetables,        \n",
            "     whole milk,              \n",
            "     condensed milk,          \n",
            "     long life bakery product}\n",
            "[6] {whole milk,              \n",
            "     butter,                  \n",
            "     yogurt,                  \n",
            "     rice,                    \n",
            "     abrasive cleaner}        \n"
          ],
          "name": "stdout"
        }
      ]
    },
    {
      "cell_type": "code",
      "metadata": {
        "trusted": true,
        "id": "cSSTweZI1o56",
        "outputId": "574eeb46-1f27-4c06-92b3-7bfcdf542366",
        "colab": {
          "base_uri": "https://localhost:8080/",
          "height": 70
        }
      },
      "source": [
        "Groceries"
      ],
      "execution_count": null,
      "outputs": [
        {
          "output_type": "display_data",
          "data": {
            "text/plain": [
              "transactions in sparse format with\n",
              " 9835 transactions (rows) and\n",
              " 169 items (columns)"
            ]
          },
          "metadata": {
            "tags": []
          }
        }
      ]
    },
    {
      "cell_type": "code",
      "metadata": {
        "trusted": true,
        "id": "dW8kxNGH1o59"
      },
      "source": [
        "?transactions"
      ],
      "execution_count": null,
      "outputs": []
    },
    {
      "cell_type": "code",
      "metadata": {
        "trusted": true,
        "id": "9T0kVTyE1o6A",
        "outputId": "e5a20ae7-0c2c-4d8d-c6d7-456f640fba7d",
        "colab": {
          "base_uri": "https://localhost:8080/",
          "height": 34
        }
      },
      "source": [
        " # Numero de items por observación mediante comndo size\n",
        "size(head(Groceries,6))"
      ],
      "execution_count": null,
      "outputs": [
        {
          "output_type": "display_data",
          "data": {
            "text/plain": [
              "[1] 4 3 1 4 4 5"
            ],
            "text/latex": "\\begin{enumerate*}\n\\item 4\n\\item 3\n\\item 1\n\\item 4\n\\item 4\n\\item 5\n\\end{enumerate*}\n",
            "text/markdown": "1. 4\n2. 3\n3. 1\n4. 4\n5. 4\n6. 5\n\n\n",
            "text/html": [
              "<style>\n",
              ".list-inline {list-style: none; margin:0; padding: 0}\n",
              ".list-inline>li {display: inline-block}\n",
              ".list-inline>li:not(:last-child)::after {content: \"\\00b7\"; padding: 0 .5ex}\n",
              "</style>\n",
              "<ol class=list-inline><li>4</li><li>3</li><li>1</li><li>4</li><li>4</li><li>5</li></ol>\n"
            ]
          },
          "metadata": {
            "tags": []
          }
        }
      ]
    },
    {
      "cell_type": "code",
      "metadata": {
        "trusted": true,
        "id": "XbBIRvxW1o6C"
      },
      "source": [
        " #LIST convierte las trasacciones a una lista (con mayusculas)\n",
        "lista <- LIST(head(Groceries,6))"
      ],
      "execution_count": null,
      "outputs": []
    },
    {
      "cell_type": "code",
      "metadata": {
        "trusted": true,
        "id": "XrM4ZhHG1o6E",
        "outputId": "d6ccf593-61e7-44d4-e914-d2b4cb239ec1",
        "colab": {
          "base_uri": "https://localhost:8080/",
          "height": 283
        }
      },
      "source": [
        "lista\n",
        "class(lista)\n",
        "str(lista)"
      ],
      "execution_count": null,
      "outputs": [
        {
          "output_type": "display_data",
          "data": {
            "text/plain": [
              "[[1]]\n",
              "[1] \"citrus fruit\"        \"semi-finished bread\" \"margarine\"          \n",
              "[4] \"ready soups\"        \n",
              "\n",
              "[[2]]\n",
              "[1] \"tropical fruit\" \"yogurt\"         \"coffee\"        \n",
              "\n",
              "[[3]]\n",
              "[1] \"whole milk\"\n",
              "\n",
              "[[4]]\n",
              "[1] \"pip fruit\"     \"yogurt\"        \"cream cheese \" \"meat spreads\" \n",
              "\n",
              "[[5]]\n",
              "[1] \"other vegetables\"         \"whole milk\"              \n",
              "[3] \"condensed milk\"           \"long life bakery product\"\n",
              "\n",
              "[[6]]\n",
              "[1] \"whole milk\"       \"butter\"           \"yogurt\"           \"rice\"            \n",
              "[5] \"abrasive cleaner\"\n"
            ],
            "text/latex": "\\begin{enumerate}\n\\item \\begin{enumerate*}\n\\item 'citrus fruit'\n\\item 'semi-finished bread'\n\\item 'margarine'\n\\item 'ready soups'\n\\end{enumerate*}\n\n\\item \\begin{enumerate*}\n\\item 'tropical fruit'\n\\item 'yogurt'\n\\item 'coffee'\n\\end{enumerate*}\n\n\\item 'whole milk'\n\\item \\begin{enumerate*}\n\\item 'pip fruit'\n\\item 'yogurt'\n\\item 'cream cheese '\n\\item 'meat spreads'\n\\end{enumerate*}\n\n\\item \\begin{enumerate*}\n\\item 'other vegetables'\n\\item 'whole milk'\n\\item 'condensed milk'\n\\item 'long life bakery product'\n\\end{enumerate*}\n\n\\item \\begin{enumerate*}\n\\item 'whole milk'\n\\item 'butter'\n\\item 'yogurt'\n\\item 'rice'\n\\item 'abrasive cleaner'\n\\end{enumerate*}\n\n\\end{enumerate}\n",
            "text/markdown": "1. 1. 'citrus fruit'\n2. 'semi-finished bread'\n3. 'margarine'\n4. 'ready soups'\n\n\n\n2. 1. 'tropical fruit'\n2. 'yogurt'\n3. 'coffee'\n\n\n\n3. 'whole milk'\n4. 1. 'pip fruit'\n2. 'yogurt'\n3. 'cream cheese '\n4. 'meat spreads'\n\n\n\n5. 1. 'other vegetables'\n2. 'whole milk'\n3. 'condensed milk'\n4. 'long life bakery product'\n\n\n\n6. 1. 'whole milk'\n2. 'butter'\n3. 'yogurt'\n4. 'rice'\n5. 'abrasive cleaner'\n\n\n\n\n\n",
            "text/html": [
              "<ol>\n",
              "\t<li><style>\n",
              ".list-inline {list-style: none; margin:0; padding: 0}\n",
              ".list-inline>li {display: inline-block}\n",
              ".list-inline>li:not(:last-child)::after {content: \"\\00b7\"; padding: 0 .5ex}\n",
              "</style>\n",
              "<ol class=list-inline><li>'citrus fruit'</li><li>'semi-finished bread'</li><li>'margarine'</li><li>'ready soups'</li></ol>\n",
              "</li>\n",
              "\t<li><style>\n",
              ".list-inline {list-style: none; margin:0; padding: 0}\n",
              ".list-inline>li {display: inline-block}\n",
              ".list-inline>li:not(:last-child)::after {content: \"\\00b7\"; padding: 0 .5ex}\n",
              "</style>\n",
              "<ol class=list-inline><li>'tropical fruit'</li><li>'yogurt'</li><li>'coffee'</li></ol>\n",
              "</li>\n",
              "\t<li>'whole milk'</li>\n",
              "\t<li><style>\n",
              ".list-inline {list-style: none; margin:0; padding: 0}\n",
              ".list-inline>li {display: inline-block}\n",
              ".list-inline>li:not(:last-child)::after {content: \"\\00b7\"; padding: 0 .5ex}\n",
              "</style>\n",
              "<ol class=list-inline><li>'pip fruit'</li><li>'yogurt'</li><li>'cream cheese '</li><li>'meat spreads'</li></ol>\n",
              "</li>\n",
              "\t<li><style>\n",
              ".list-inline {list-style: none; margin:0; padding: 0}\n",
              ".list-inline>li {display: inline-block}\n",
              ".list-inline>li:not(:last-child)::after {content: \"\\00b7\"; padding: 0 .5ex}\n",
              "</style>\n",
              "<ol class=list-inline><li>'other vegetables'</li><li>'whole milk'</li><li>'condensed milk'</li><li>'long life bakery product'</li></ol>\n",
              "</li>\n",
              "\t<li><style>\n",
              ".list-inline {list-style: none; margin:0; padding: 0}\n",
              ".list-inline>li {display: inline-block}\n",
              ".list-inline>li:not(:last-child)::after {content: \"\\00b7\"; padding: 0 .5ex}\n",
              "</style>\n",
              "<ol class=list-inline><li>'whole milk'</li><li>'butter'</li><li>'yogurt'</li><li>'rice'</li><li>'abrasive cleaner'</li></ol>\n",
              "</li>\n",
              "</ol>\n"
            ]
          },
          "metadata": {
            "tags": []
          }
        },
        {
          "output_type": "display_data",
          "data": {
            "text/plain": [
              "[1] \"list\""
            ],
            "text/latex": "'list'",
            "text/markdown": "'list'",
            "text/html": [
              "'list'"
            ]
          },
          "metadata": {
            "tags": []
          }
        },
        {
          "output_type": "stream",
          "text": [
            "List of 6\n",
            " $ : chr [1:4] \"citrus fruit\" \"semi-finished bread\" \"margarine\" \"ready soups\"\n",
            " $ : chr [1:3] \"tropical fruit\" \"yogurt\" \"coffee\"\n",
            " $ : chr \"whole milk\"\n",
            " $ : chr [1:4] \"pip fruit\" \"yogurt\" \"cream cheese \" \"meat spreads\"\n",
            " $ : chr [1:4] \"other vegetables\" \"whole milk\" \"condensed milk\" \"long life bakery product\"\n",
            " $ : chr [1:5] \"whole milk\" \"butter\" \"yogurt\" \"rice\" ...\n"
          ],
          "name": "stdout"
        }
      ]
    },
    {
      "cell_type": "code",
      "metadata": {
        "trusted": true,
        "id": "Eab2Wj8G1o6H",
        "outputId": "6c177866-e083-4bf8-b2fe-6818ee0b8e86",
        "colab": {
          "base_uri": "https://localhost:8080/",
          "height": 34
        }
      },
      "source": [
        "class(Groceries)"
      ],
      "execution_count": null,
      "outputs": [
        {
          "output_type": "display_data",
          "data": {
            "text/plain": [
              "[1] \"transactions\"\n",
              "attr(,\"package\")\n",
              "[1] \"arules\""
            ],
            "text/latex": "'transactions'",
            "text/markdown": "'transactions'",
            "text/html": [
              "'transactions'"
            ]
          },
          "metadata": {
            "tags": []
          }
        }
      ]
    },
    {
      "cell_type": "code",
      "metadata": {
        "trusted": true,
        "id": "6DM_CQJ31o6K",
        "outputId": "e67d3fa4-f696-43d9-8d87-31d731bad91b",
        "colab": {
          "base_uri": "https://localhost:8080/",
          "height": 323
        }
      },
      "source": [
        "# eclat genera todos lo  ITEMSETS con un suport mínimo.\n",
        "frequentItems <- eclat(Groceries, \n",
        "                        parameter = list(supp = 0.02)\n",
        "                       ) # se calcula el support para items frecuentes"
      ],
      "execution_count": null,
      "outputs": [
        {
          "output_type": "stream",
          "text": [
            "Eclat\n",
            "\n",
            "parameter specification:\n",
            " tidLists support minlen maxlen            target  ext\n",
            "    FALSE    0.02      1     10 frequent itemsets TRUE\n",
            "\n",
            "algorithmic control:\n",
            " sparse sort verbose\n",
            "      7   -2    TRUE\n",
            "\n",
            "Absolute minimum support count: 196 \n",
            "\n",
            "create itemset ... \n",
            "set transactions ...[169 item(s), 9835 transaction(s)] done [0.00s].\n",
            "sorting and recoding items ... [59 item(s)] done [0.00s].\n",
            "creating sparse bit matrix ... [59 row(s), 9835 column(s)] done [0.00s].\n",
            "writing  ... [122 set(s)] done [0.01s].\n",
            "Creating S4 object  ... done [0.00s].\n"
          ],
          "name": "stdout"
        }
      ]
    },
    {
      "cell_type": "code",
      "metadata": {
        "trusted": true,
        "scrolled": false,
        "id": "WKmAHTus1o6N"
      },
      "source": [
        "inspect(frequentItems)"
      ],
      "execution_count": null,
      "outputs": []
    },
    {
      "cell_type": "code",
      "metadata": {
        "trusted": true,
        "id": "YyVyWW9f1o6P",
        "outputId": "0bd5af5e-dd81-472a-c31f-fa0944aab8b1",
        "colab": {
          "base_uri": "https://localhost:8080/",
          "height": 437
        }
      },
      "source": [
        "itemFrequencyPlot(Groceries,\n",
        "                  topN=10, \n",
        "                  type=\"absolute\", \n",
        "                  main=\"Item Frequency\") #podemos graficar los items frecuentes"
      ],
      "execution_count": null,
      "outputs": [
        {
          "output_type": "display_data",
          "data": {
            "image/png": "[encoded data removed]",
            "text/plain": [
              "Plot with title “Item Frequency”"
            ]
          },
          "metadata": {
            "tags": [],
            "image/png": {
              "width": 420,
              "height": 420
            }
          }
        }
      ]
    },
    {
      "cell_type": "markdown",
      "metadata": {
        "id": "nTpLz0q91o6R"
      },
      "source": [
        "## ¿Cómo determinamos las reglas?"
      ]
    },
    {
      "cell_type": "code",
      "metadata": {
        "trusted": true,
        "id": "-u-9A9mU1o6R",
        "outputId": "94293170-60a1-41f8-9ef7-3013cfe86ec2",
        "colab": {
          "base_uri": "https://localhost:8080/",
          "height": 391
        }
      },
      "source": [
        "rules <- apriori(data = Groceries, #debe ser del tipo \"transactions\"\n",
        "                 parameter = list(supp=0.01, conf = 0.08),\n",
        "                )\n",
        "rules"
      ],
      "execution_count": null,
      "outputs": [
        {
          "output_type": "stream",
          "text": [
            "Apriori\n",
            "\n",
            "Parameter specification:\n",
            " confidence minval smax arem  aval originalSupport maxtime support minlen\n",
            "       0.08    0.1    1 none FALSE            TRUE       5    0.01      1\n",
            " maxlen target  ext\n",
            "     10  rules TRUE\n",
            "\n",
            "Algorithmic control:\n",
            " filter tree heap memopt load sort verbose\n",
            "    0.1 TRUE TRUE  FALSE TRUE    2    TRUE\n",
            "\n",
            "Absolute minimum support count: 98 \n",
            "\n",
            "set item appearances ...[0 item(s)] done [0.00s].\n",
            "set transactions ...[169 item(s), 9835 transaction(s)] done [0.00s].\n",
            "sorting and recoding items ... [88 item(s)] done [0.00s].\n",
            "creating transaction tree ... done [0.00s].\n",
            "checking subsets of size 1 2 3 4 done [0.00s].\n",
            "writing ... [472 rule(s)] done [0.00s].\n",
            "creating S4 object  ... done [0.00s].\n"
          ],
          "name": "stdout"
        },
        {
          "output_type": "display_data",
          "data": {
            "text/plain": [
              "set of 472 rules "
            ]
          },
          "metadata": {
            "tags": []
          }
        }
      ]
    },
    {
      "cell_type": "code",
      "metadata": {
        "trusted": true,
        "id": "LSadl69B1o6T"
      },
      "source": [
        ""
      ],
      "execution_count": null,
      "outputs": []
    },
    {
      "cell_type": "code",
      "metadata": {
        "trusted": true,
        "scrolled": true,
        "id": "I_UAfL9O1o6X"
      },
      "source": [
        "length(rules)\n",
        "inspect(rules)"
      ],
      "execution_count": null,
      "outputs": []
    },
    {
      "cell_type": "code",
      "metadata": {
        "trusted": true,
        "id": "TG6929gJ1o6Z",
        "outputId": "83b9524d-9be3-417c-ca48-d85da069c1a8",
        "colab": {
          "base_uri": "https://localhost:8080/",
          "height": 408
        }
      },
      "source": [
        "## Y si queremos buscar con qué combinar un producto determinado, por ejemplo leche\n",
        "rules <- apriori( data = Groceries, \n",
        "                  parameter =list (supp=0.002,conf = 0.05, minlen = 2),\n",
        "                  appearance = list(default=\"rhs\", lhs =\"whole milk\"),\n",
        "                  control = list (verbose=T)) \n",
        "\n",
        "class(rules)\n",
        "rules"
      ],
      "execution_count": null,
      "outputs": [
        {
          "output_type": "stream",
          "text": [
            "Apriori\n",
            "\n",
            "Parameter specification:\n",
            " confidence minval smax arem  aval originalSupport maxtime support minlen\n",
            "       0.05    0.1    1 none FALSE            TRUE       5   0.002      2\n",
            " maxlen target  ext\n",
            "     10  rules TRUE\n",
            "\n",
            "Algorithmic control:\n",
            " filter tree heap memopt load sort verbose\n",
            "    0.1 TRUE TRUE  FALSE TRUE    2    TRUE\n",
            "\n",
            "Absolute minimum support count: 19 \n",
            "\n",
            "set item appearances ...[1 item(s)] done [0.00s].\n",
            "set transactions ...[169 item(s), 9835 transaction(s)] done [0.00s].\n",
            "sorting and recoding items ... [147 item(s)] done [0.00s].\n",
            "creating transaction tree ... done [0.00s].\n",
            "checking subsets of size 1 2 done [0.00s].\n",
            "writing ... [36 rule(s)] done [0.00s].\n",
            "creating S4 object  ... done [0.00s].\n"
          ],
          "name": "stdout"
        },
        {
          "output_type": "display_data",
          "data": {
            "text/plain": [
              "[1] \"rules\"\n",
              "attr(,\"package\")\n",
              "[1] \"arules\""
            ],
            "text/latex": "'rules'",
            "text/markdown": "'rules'",
            "text/html": [
              "'rules'"
            ]
          },
          "metadata": {
            "tags": []
          }
        },
        {
          "output_type": "display_data",
          "data": {
            "text/plain": [
              "set of 36 rules "
            ]
          },
          "metadata": {
            "tags": []
          }
        }
      ]
    },
    {
      "cell_type": "code",
      "metadata": {
        "trusted": true,
        "scrolled": false,
        "id": "lzZTO2Eb1o6b",
        "outputId": "44f4598c-24ac-453e-cdfe-0795c9845ea0",
        "colab": {
          "base_uri": "https://localhost:8080/",
          "height": 1000
        }
      },
      "source": [
        "inspect(rules)"
      ],
      "execution_count": null,
      "outputs": [
        {
          "output_type": "stream",
          "text": [
            "     lhs             rhs                        support    confidence coverage\n",
            "[1]  {whole milk} => {hamburger meat}           0.01474326 0.05769996 0.255516\n",
            "[2]  {whole milk} => {hygiene articles}         0.01281139 0.05013928 0.255516\n",
            "[3]  {whole milk} => {sugar}                    0.01504830 0.05889375 0.255516\n",
            "[4]  {whole milk} => {long life bakery product} 0.01352313 0.05292479 0.255516\n",
            "[5]  {whole milk} => {dessert}                  0.01372649 0.05372065 0.255516\n",
            "[6]  {whole milk} => {cream cheese }            0.01647178 0.06446478 0.255516\n",
            "[7]  {whole milk} => {chicken}                  0.01759024 0.06884202 0.255516\n",
            "[8]  {whole milk} => {white bread}              0.01708185 0.06685237 0.255516\n",
            "[9]  {whole milk} => {chocolate}                0.01667514 0.06526064 0.255516\n",
            "[10] {whole milk} => {coffee}                   0.01870869 0.07321926 0.255516\n",
            "[11] {whole milk} => {frozen vegetables}        0.02043721 0.07998408 0.255516\n",
            "[12] {whole milk} => {beef}                     0.02125064 0.08316753 0.255516\n",
            "[13] {whole milk} => {curd}                     0.02613116 0.10226821 0.255516\n",
            "[14] {whole milk} => {napkins}                  0.01972547 0.07719857 0.255516\n",
            "[15] {whole milk} => {pork}                     0.02216573 0.08674891 0.255516\n",
            "[16] {whole milk} => {frankfurter}              0.02053889 0.08038201 0.255516\n",
            "[17] {whole milk} => {bottled beer}             0.02043721 0.07998408 0.255516\n",
            "[18] {whole milk} => {brown bread}              0.02521607 0.09868683 0.255516\n",
            "[19] {whole milk} => {margarine}                0.02419929 0.09470752 0.255516\n",
            "[20] {whole milk} => {butter}                   0.02755465 0.10783924 0.255516\n",
            "[21] {whole milk} => {newspapers}               0.02735130 0.10704337 0.255516\n",
            "[22] {whole milk} => {domestic eggs}            0.02999492 0.11738957 0.255516\n",
            "[23] {whole milk} => {fruit/vegetable juice}    0.02663955 0.10425786 0.255516\n",
            "[24] {whole milk} => {whipped/sour cream}       0.03223183 0.12614405 0.255516\n",
            "[25] {whole milk} => {pip fruit}                0.03009659 0.11778750 0.255516\n",
            "[26] {whole milk} => {pastry}                   0.03324860 0.13012336 0.255516\n",
            "[27] {whole milk} => {citrus fruit}             0.03050330 0.11937923 0.255516\n",
            "[28] {whole milk} => {shopping bags}            0.02450432 0.09590131 0.255516\n",
            "[29] {whole milk} => {sausage}                  0.02989324 0.11699164 0.255516\n",
            "[30] {whole milk} => {bottled water}            0.03436706 0.13450060 0.255516\n",
            "[31] {whole milk} => {tropical fruit}           0.04229792 0.16553920 0.255516\n",
            "[32] {whole milk} => {root vegetables}          0.04890696 0.19140470 0.255516\n",
            "[33] {whole milk} => {soda}                     0.04006101 0.15678472 0.255516\n",
            "[34] {whole milk} => {yogurt}                   0.05602440 0.21925985 0.255516\n",
            "[35] {whole milk} => {rolls/buns}               0.05663447 0.22164743 0.255516\n",
            "[36] {whole milk} => {other vegetables}         0.07483477 0.29287704 0.255516\n",
            "     lift      count\n",
            "[1]  1.7354101 145  \n",
            "[2]  1.5219746 126  \n",
            "[3]  1.7393996 148  \n",
            "[4]  1.4144438 133  \n",
            "[5]  1.4475140 135  \n",
            "[6]  1.6256696 162  \n",
            "[7]  1.6044106 173  \n",
            "[8]  1.5881474 168  \n",
            "[9]  1.3152427 164  \n",
            "[10] 1.2611408 184  \n",
            "[11] 1.6630940 201  \n",
            "[12] 1.5851795 209  \n",
            "[13] 1.9194805 257  \n",
            "[14] 1.4742678 194  \n",
            "[15] 1.5047187 218  \n",
            "[16] 1.3630295 202  \n",
            "[17] 0.9932367 201  \n",
            "[18] 1.5212930 248  \n",
            "[19] 1.6170980 238  \n",
            "[20] 1.9460530 271  \n",
            "[21] 1.3411103 269  \n",
            "[22] 1.8502027 295  \n",
            "[23] 1.4421604 262  \n",
            "[24] 1.7597542 317  \n",
            "[25] 1.5570432 296  \n",
            "[26] 1.4625865 327  \n",
            "[27] 1.4423768 300  \n",
            "[28] 0.9733637 241  \n",
            "[29] 1.2452520 294  \n",
            "[30] 1.2169396 338  \n",
            "[31] 1.5775950 416  \n",
            "[32] 1.7560310 481  \n",
            "[33] 0.8991124 394  \n",
            "[34] 1.5717351 551  \n",
            "[35] 1.2050318 557  \n",
            "[36] 1.5136341 736  \n"
          ],
          "name": "stdout"
        }
      ]
    },
    {
      "cell_type": "code",
      "metadata": {
        "trusted": true,
        "id": "L8MexhwO1o6d"
      },
      "source": [
        "rules_conf <- sort(rules, \n",
        "                   by=\"lift\",\n",
        "                   decreasing=TRUE) # ordenando por confidence rules."
      ],
      "execution_count": null,
      "outputs": []
    },
    {
      "cell_type": "code",
      "metadata": {
        "trusted": true,
        "scrolled": false,
        "id": "gnAQp3aW1o6f",
        "outputId": "83a0590b-f50b-4eb4-cfe1-676ea7288624",
        "colab": {
          "base_uri": "https://localhost:8080/",
          "height": 272
        }
      },
      "source": [
        "rules\n",
        "inspect(rules_conf)"
      ],
      "execution_count": null,
      "outputs": [
        {
          "output_type": "display_data",
          "data": {
            "text/plain": [
              "set of 6 rules "
            ]
          },
          "metadata": {
            "tags": []
          }
        },
        {
          "output_type": "stream",
          "text": [
            "    lhs                   rhs                support    confidence coverage \n",
            "[1] {yogurt}           => {whole milk}       0.05602440 0.4016035  0.1395018\n",
            "[2] {whole milk}       => {yogurt}           0.05602440 0.2192598  0.2555160\n",
            "[3] {other vegetables} => {whole milk}       0.07483477 0.3867578  0.1934926\n",
            "[4] {whole milk}       => {other vegetables} 0.07483477 0.2928770  0.2555160\n",
            "[5] {rolls/buns}       => {whole milk}       0.05663447 0.3079049  0.1839349\n",
            "[6] {whole milk}       => {rolls/buns}       0.05663447 0.2216474  0.2555160\n",
            "    lift     count\n",
            "[1] 1.571735 551  \n",
            "[2] 1.571735 551  \n",
            "[3] 1.513634 736  \n",
            "[4] 1.513634 736  \n",
            "[5] 1.205032 557  \n",
            "[6] 1.205032 557  \n"
          ],
          "name": "stdout"
        }
      ]
    },
    {
      "cell_type": "markdown",
      "metadata": {
        "trusted": false,
        "id": "FYGsdGry1o6h"
      },
      "source": [
        "## Transaformación a objetos de clase trasaction\n",
        "\n",
        "\n",
        "\n"
      ]
    },
    {
      "cell_type": "code",
      "metadata": {
        "trusted": true,
        "id": "CQl-ZjXq1o6h"
      },
      "source": [
        "## example 1: creating transactions form a list\n",
        "a_list <- list(\n",
        "      c(\"a\",\"b\",\"c\"),\n",
        "      c(\"a\",\"b\"),\n",
        "      c(\"a\",\"b\",\"d\"),\n",
        "      c(\"c\",\"e\"),\n",
        "      c(\"a\",\"b\",\"d\",\"e\")\n",
        "      )\n",
        "\n",
        "## set transaction names\n",
        "names(a_list) <- paste(\"Tr\",c(1:5), sep = \"\")\n",
        "a_list\n",
        "\n",
        "## coerce into transactions\n",
        "trans1 <- as(a_list, \"transactions\")\n",
        "\n",
        "## analyze transactions\n",
        "summary(trans1)\n",
        "image(trans1)\n",
        "\n",
        "## example 2: creating transactions from a matrix\n",
        "a_matrix <- matrix(c(\n",
        "  1,1,1,0,0,\n",
        "\t1,1,0,0,0,\n",
        "\t1,1,0,1,0,\n",
        "\t0,0,1,0,1,\n",
        "\t1,1,0,1,1\n",
        "  ), ncol = 5)\n",
        "\n",
        "## set dim names\n",
        "dimnames(a_matrix) <- list(c(\"a\",\"b\",\"c\",\"d\",\"e\"),\n",
        "\tpaste(\"Tr\",c(1:5), sep = \"\"))\n",
        "\n",
        "a_matrix\n",
        "\n",
        "## coerce\n",
        "trans2 <- as(a_matrix, \"transactions\")\n",
        "trans2\n",
        "inspect(trans2)\n",
        "\n",
        "## example 3: creating transactions from data.frame\n",
        "a_df <- data.frame(\n",
        "\tage   = as.factor(c(6, 8, NA, 9, 16)), \n",
        "\tgrade = as.factor(c(\"A\", \"C\", \"F\", NA, \"C\")),\n",
        "  pass  = c(TRUE, TRUE, FALSE, TRUE, TRUE))  \n",
        "## note: factors are translated differently to logicals and NAs are ignored\n",
        "a_df\n",
        "\n",
        "## coerce\n",
        "trans3 <- as(a_df, \"transactions\") \n",
        "inspect(trans3)\n",
        "as(trans3, \"data.frame\")\n",
        "\n",
        "## example 4: creating transactions from a data.frame with \n",
        "## transaction IDs and items (by converting it into a list of transactions first) \n",
        "a_df3 <- data.frame(\n",
        "  TID = c(1,1,2,2,2,3), \n",
        "  item=c(\"a\",\"b\",\"a\",\"b\",\"c\", \"b\")\n",
        "  )\n",
        "a_df3\n",
        "trans4 <- as(split(a_df3[,\"item\"], a_df3[,\"TID\"]), \"transactions\")\n",
        "trans4\n",
        "inspect(trans4)\n",
        "\n",
        "## Note: This is very slow for large datasets. It is much faster to \n",
        "## read transactions using read.transactions() with format = \"single\".\n",
        "## This can be done using an anonymous file.\n",
        "write.table(a_df3, file = tmp <- file(), row.names = FALSE)\n",
        "trans4 <- read.transactions(tmp, format = \"single\",\n",
        "  header = TRUE, cols = c(\"TID\", \"item\"))\n",
        "close(tmp)\n",
        "inspect(trans4)\n",
        "\n",
        "## example 5: create transactions from a dataset with numeric variables\n",
        "## using discretization.\n",
        "data(iris)\n",
        "\n",
        "irisDisc <- discretizeDF(iris)\n",
        "head(irisDisc)\n",
        "trans5 <- as(irisDisc, \"transactions\")\n",
        "trans5\n",
        "inspect(head(trans5))"
      ],
      "execution_count": null,
      "outputs": []
    }
  ]
}
