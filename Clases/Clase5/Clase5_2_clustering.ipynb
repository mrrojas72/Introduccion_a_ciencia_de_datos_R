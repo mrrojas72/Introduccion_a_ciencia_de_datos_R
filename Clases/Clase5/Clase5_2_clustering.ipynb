{
  "nbformat": 4,
  "nbformat_minor": 0,
  "metadata": {
    "colab": {
      "name": "Clase5_2_clustering.ipynb",
      "provenance": [],
      "collapsed_sections": [],
      "authorship_tag": "ABX9TyO8SQ8sKC51/R9ECarof6QI",
      "include_colab_link": true
    },
    "kernelspec": {
      "name": "ir",
      "display_name": "R"
    }
  },
  "cells": [
    {
      "cell_type": "markdown",
      "metadata": {
        "id": "view-in-github",
        "colab_type": "text"
      },
      "source": [
        "<a href=\"https://colab.research.google.com/github/majorquev/Introduccion_a_ciencia_de_datos_R/blob/master/Clases/Clase5/Clase5_2_clustering.ipynb\" target=\"_parent\"><img src=\"https://colab.research.google.com/assets/colab-badge.svg\" alt=\"Open In Colab\"/></a>"
      ]
    },
    {
      "cell_type": "markdown",
      "metadata": {
        "id": "A6_jwunupA1k"
      },
      "source": [
        "# Parte 5: Clustering\n",
        "\n",
        "\n",
        "**Autor:** Miguel Jorquera Viguera<br>\n",
        "**E-mail:** majorquev@gmail.com<br>\n",
        "**Ayudante:** Bastián Aballay Leiva<br>\n",
        "**E-mail ayudante:** bastian.aballayleiva@gmail.com\n",
        "\n",
        "\n",
        "\n",
        "Las los algoritmos de clustering corresponden a métodos no supervisados que buscan identificar estructuras de grupos dentro de un conjunto de datos. Dentro de los métodos más comunes, destacan aquellos basados en similitud, donde obervaciones que pertenecen a un mismo cluster son similares entre sí (grupos homogéneos), pero distintas a las observaciones de los otro clusters. \n",
        "\n",
        "Dentro de los distintos métodos destacan:\n",
        "\n",
        "\n",
        "  * Enfoque de particiones \n",
        "    * K-means, k-medioids, CLARANS \n",
        "  * Enfoque jerárquico\n",
        "    * Diana, Agnes, BIRCH, CAMELEON\n",
        "  * Enfoque basado en densidad\n",
        "    * DBSCAN, OPTICS, DenClue\n",
        "\n",
        "A continuación se muestra la implementación de algunos de estos algoritmosen R, para mayor información refiérsa a la documentación de la clase y a las referencias citadas.\n",
        "\n",
        "\n"
      ]
    },
    {
      "cell_type": "markdown",
      "metadata": {
        "id": "AU0cbuKUrDmJ"
      },
      "source": [
        "## Algoritmo k-means\n",
        "\n"
      ]
    },
    {
      "cell_type": "code",
      "metadata": {
        "id": "LhQbSlOKsBO9"
      },
      "source": [
        "\n",
        "# K-Means\n",
        "# Se define el nombre de la base de datos IRIS borrando la variable en donde \n",
        "# figura el verdadero nombre de la planta definida por cada fila\n",
        "\n",
        "data(iris)\n",
        "iris\n",
        "\n",
        "dplyr::count(iris,Species)\n"
      ],
      "execution_count": null,
      "outputs": []
    },
    {
      "cell_type": "code",
      "metadata": {
        "id": "DFx7-nrSnniC"
      },
      "source": [
        "base <- iris\n",
        "base$Species <- NULL\n",
        "head(base)"
      ],
      "execution_count": null,
      "outputs": []
    },
    {
      "cell_type": "code",
      "metadata": {
        "id": "rM-z2UEfsHOf"
      },
      "source": [
        "# Se genera la clusterización con k medias con la siguiente estructura: \n",
        "# kmeans(datos, numero de clusters que se quiere obtener) # se recomienda nstart > 1\n",
        "\n",
        "kmeans.resultado <- kmeans(base, centers = 3, nstart = 10 )\n",
        "\n"
      ],
      "execution_count": 4,
      "outputs": []
    },
    {
      "cell_type": "markdown",
      "metadata": {
        "id": "hhWtsmpkus9c"
      },
      "source": [
        "Hasta aquí llegó el algoritmo, pero algunas preguntas de interés que buscamos abordar a continuación.\n",
        "\n",
        "* ¿Cómo podemos visualizar la clusterización realizada?\n",
        "* ¿Que más podemos hacer además identificar los grupos generados? \n",
        "* ¿porqué escogimos 3 grupos? y ¿Cómo podemos  determinar el número óptimo de clusters?"
      ]
    },
    {
      "cell_type": "code",
      "metadata": {
        "id": "684pmeMAti7-",
        "outputId": "4c9513c8-7f15-45f0-d369-3f017885d06e",
        "colab": {
          "base_uri": "https://localhost:8080/",
          "height": 1000
        }
      },
      "source": [
        "str(kmeans.resultado)\n",
        "kmeans.resultado$cluster\n",
        "\n",
        "base$cl_kmens <- kmeans.resultado$cluster\n",
        "base\n",
        "dplyr::count(base,cl_kmens)\n"
      ],
      "execution_count": 8,
      "outputs": [
        {
          "output_type": "stream",
          "text": [
            "List of 9\n",
            " $ cluster     : int [1:150] 1 1 1 1 1 1 1 1 1 1 ...\n",
            " $ centers     : num [1:3, 1:4] 5.01 6.85 5.9 3.43 3.07 ...\n",
            "  ..- attr(*, \"dimnames\")=List of 2\n",
            "  .. ..$ : chr [1:3] \"1\" \"2\" \"3\"\n",
            "  .. ..$ : chr [1:4] \"Sepal.Length\" \"Sepal.Width\" \"Petal.Length\" \"Petal.Width\"\n",
            " $ totss       : num 681\n",
            " $ withinss    : num [1:3] 15.2 23.9 39.8\n",
            " $ tot.withinss: num 78.9\n",
            " $ betweenss   : num 603\n",
            " $ size        : int [1:3] 50 38 62\n",
            " $ iter        : int 2\n",
            " $ ifault      : int 0\n",
            " - attr(*, \"class\")= chr \"kmeans\"\n"
          ],
          "name": "stdout"
        },
        {
          "output_type": "display_data",
          "data": {
            "text/plain": [
              "  [1] 1 1 1 1 1 1 1 1 1 1 1 1 1 1 1 1 1 1 1 1 1 1 1 1 1 1 1 1 1 1 1 1 1 1 1 1 1\n",
              " [38] 1 1 1 1 1 1 1 1 1 1 1 1 1 3 3 2 3 3 3 3 3 3 3 3 3 3 3 3 3 3 3 3 3 3 3 3 3\n",
              " [75] 3 3 3 2 3 3 3 3 3 3 3 3 3 3 3 3 3 3 3 3 3 3 3 3 3 3 2 3 2 2 2 2 3 2 2 2 2\n",
              "[112] 2 2 3 3 2 2 2 2 3 2 3 2 3 2 2 3 3 2 2 2 2 2 3 2 2 2 2 3 2 2 2 3 2 2 2 3 2\n",
              "[149] 2 3"
            ],
            "text/latex": "\\begin{enumerate*}\n\\item 1\n\\item 1\n\\item 1\n\\item 1\n\\item 1\n\\item 1\n\\item 1\n\\item 1\n\\item 1\n\\item 1\n\\item 1\n\\item 1\n\\item 1\n\\item 1\n\\item 1\n\\item 1\n\\item 1\n\\item 1\n\\item 1\n\\item 1\n\\item 1\n\\item 1\n\\item 1\n\\item 1\n\\item 1\n\\item 1\n\\item 1\n\\item 1\n\\item 1\n\\item 1\n\\item 1\n\\item 1\n\\item 1\n\\item 1\n\\item 1\n\\item 1\n\\item 1\n\\item 1\n\\item 1\n\\item 1\n\\item 1\n\\item 1\n\\item 1\n\\item 1\n\\item 1\n\\item 1\n\\item 1\n\\item 1\n\\item 1\n\\item 1\n\\item 3\n\\item 3\n\\item 2\n\\item 3\n\\item 3\n\\item 3\n\\item 3\n\\item 3\n\\item 3\n\\item 3\n\\item 3\n\\item 3\n\\item 3\n\\item 3\n\\item 3\n\\item 3\n\\item 3\n\\item 3\n\\item 3\n\\item 3\n\\item 3\n\\item 3\n\\item 3\n\\item 3\n\\item 3\n\\item 3\n\\item 3\n\\item 2\n\\item 3\n\\item 3\n\\item 3\n\\item 3\n\\item 3\n\\item 3\n\\item 3\n\\item 3\n\\item 3\n\\item 3\n\\item 3\n\\item 3\n\\item 3\n\\item 3\n\\item 3\n\\item 3\n\\item 3\n\\item 3\n\\item 3\n\\item 3\n\\item 3\n\\item 3\n\\item 2\n\\item 3\n\\item 2\n\\item 2\n\\item 2\n\\item 2\n\\item 3\n\\item 2\n\\item 2\n\\item 2\n\\item 2\n\\item 2\n\\item 2\n\\item 3\n\\item 3\n\\item 2\n\\item 2\n\\item 2\n\\item 2\n\\item 3\n\\item 2\n\\item 3\n\\item 2\n\\item 3\n\\item 2\n\\item 2\n\\item 3\n\\item 3\n\\item 2\n\\item 2\n\\item 2\n\\item 2\n\\item 2\n\\item 3\n\\item 2\n\\item 2\n\\item 2\n\\item 2\n\\item 3\n\\item 2\n\\item 2\n\\item 2\n\\item 3\n\\item 2\n\\item 2\n\\item 2\n\\item 3\n\\item 2\n\\item 2\n\\item 3\n\\end{enumerate*}\n",
            "text/markdown": "1. 1\n2. 1\n3. 1\n4. 1\n5. 1\n6. 1\n7. 1\n8. 1\n9. 1\n10. 1\n11. 1\n12. 1\n13. 1\n14. 1\n15. 1\n16. 1\n17. 1\n18. 1\n19. 1\n20. 1\n21. 1\n22. 1\n23. 1\n24. 1\n25. 1\n26. 1\n27. 1\n28. 1\n29. 1\n30. 1\n31. 1\n32. 1\n33. 1\n34. 1\n35. 1\n36. 1\n37. 1\n38. 1\n39. 1\n40. 1\n41. 1\n42. 1\n43. 1\n44. 1\n45. 1\n46. 1\n47. 1\n48. 1\n49. 1\n50. 1\n51. 3\n52. 3\n53. 2\n54. 3\n55. 3\n56. 3\n57. 3\n58. 3\n59. 3\n60. 3\n61. 3\n62. 3\n63. 3\n64. 3\n65. 3\n66. 3\n67. 3\n68. 3\n69. 3\n70. 3\n71. 3\n72. 3\n73. 3\n74. 3\n75. 3\n76. 3\n77. 3\n78. 2\n79. 3\n80. 3\n81. 3\n82. 3\n83. 3\n84. 3\n85. 3\n86. 3\n87. 3\n88. 3\n89. 3\n90. 3\n91. 3\n92. 3\n93. 3\n94. 3\n95. 3\n96. 3\n97. 3\n98. 3\n99. 3\n100. 3\n101. 2\n102. 3\n103. 2\n104. 2\n105. 2\n106. 2\n107. 3\n108. 2\n109. 2\n110. 2\n111. 2\n112. 2\n113. 2\n114. 3\n115. 3\n116. 2\n117. 2\n118. 2\n119. 2\n120. 3\n121. 2\n122. 3\n123. 2\n124. 3\n125. 2\n126. 2\n127. 3\n128. 3\n129. 2\n130. 2\n131. 2\n132. 2\n133. 2\n134. 3\n135. 2\n136. 2\n137. 2\n138. 2\n139. 3\n140. 2\n141. 2\n142. 2\n143. 3\n144. 2\n145. 2\n146. 2\n147. 3\n148. 2\n149. 2\n150. 3\n\n\n",
            "text/html": [
              "<style>\n",
              ".list-inline {list-style: none; margin:0; padding: 0}\n",
              ".list-inline>li {display: inline-block}\n",
              ".list-inline>li:not(:last-child)::after {content: \"\\00b7\"; padding: 0 .5ex}\n",
              "</style>\n",
              "<ol class=list-inline><li>1</li><li>1</li><li>1</li><li>1</li><li>1</li><li>1</li><li>1</li><li>1</li><li>1</li><li>1</li><li>1</li><li>1</li><li>1</li><li>1</li><li>1</li><li>1</li><li>1</li><li>1</li><li>1</li><li>1</li><li>1</li><li>1</li><li>1</li><li>1</li><li>1</li><li>1</li><li>1</li><li>1</li><li>1</li><li>1</li><li>1</li><li>1</li><li>1</li><li>1</li><li>1</li><li>1</li><li>1</li><li>1</li><li>1</li><li>1</li><li>1</li><li>1</li><li>1</li><li>1</li><li>1</li><li>1</li><li>1</li><li>1</li><li>1</li><li>1</li><li>3</li><li>3</li><li>2</li><li>3</li><li>3</li><li>3</li><li>3</li><li>3</li><li>3</li><li>3</li><li>3</li><li>3</li><li>3</li><li>3</li><li>3</li><li>3</li><li>3</li><li>3</li><li>3</li><li>3</li><li>3</li><li>3</li><li>3</li><li>3</li><li>3</li><li>3</li><li>3</li><li>2</li><li>3</li><li>3</li><li>3</li><li>3</li><li>3</li><li>3</li><li>3</li><li>3</li><li>3</li><li>3</li><li>3</li><li>3</li><li>3</li><li>3</li><li>3</li><li>3</li><li>3</li><li>3</li><li>3</li><li>3</li><li>3</li><li>3</li><li>2</li><li>3</li><li>2</li><li>2</li><li>2</li><li>2</li><li>3</li><li>2</li><li>2</li><li>2</li><li>2</li><li>2</li><li>2</li><li>3</li><li>3</li><li>2</li><li>2</li><li>2</li><li>2</li><li>3</li><li>2</li><li>3</li><li>2</li><li>3</li><li>2</li><li>2</li><li>3</li><li>3</li><li>2</li><li>2</li><li>2</li><li>2</li><li>2</li><li>3</li><li>2</li><li>2</li><li>2</li><li>2</li><li>3</li><li>2</li><li>2</li><li>2</li><li>3</li><li>2</li><li>2</li><li>2</li><li>3</li><li>2</li><li>2</li><li>3</li></ol>\n"
            ]
          },
          "metadata": {
            "tags": []
          }
        },
        {
          "output_type": "display_data",
          "data": {
            "text/plain": [
              "    Sepal.Length Sepal.Width Petal.Length Petal.Width cl_kmens\n",
              "1   5.1          3.5         1.4          0.2         1       \n",
              "2   4.9          3.0         1.4          0.2         1       \n",
              "3   4.7          3.2         1.3          0.2         1       \n",
              "4   4.6          3.1         1.5          0.2         1       \n",
              "5   5.0          3.6         1.4          0.2         1       \n",
              "6   5.4          3.9         1.7          0.4         1       \n",
              "7   4.6          3.4         1.4          0.3         1       \n",
              "8   5.0          3.4         1.5          0.2         1       \n",
              "9   4.4          2.9         1.4          0.2         1       \n",
              "10  4.9          3.1         1.5          0.1         1       \n",
              "11  5.4          3.7         1.5          0.2         1       \n",
              "12  4.8          3.4         1.6          0.2         1       \n",
              "13  4.8          3.0         1.4          0.1         1       \n",
              "14  4.3          3.0         1.1          0.1         1       \n",
              "15  5.8          4.0         1.2          0.2         1       \n",
              "16  5.7          4.4         1.5          0.4         1       \n",
              "17  5.4          3.9         1.3          0.4         1       \n",
              "18  5.1          3.5         1.4          0.3         1       \n",
              "19  5.7          3.8         1.7          0.3         1       \n",
              "20  5.1          3.8         1.5          0.3         1       \n",
              "21  5.4          3.4         1.7          0.2         1       \n",
              "22  5.1          3.7         1.5          0.4         1       \n",
              "23  4.6          3.6         1.0          0.2         1       \n",
              "24  5.1          3.3         1.7          0.5         1       \n",
              "25  4.8          3.4         1.9          0.2         1       \n",
              "26  5.0          3.0         1.6          0.2         1       \n",
              "27  5.0          3.4         1.6          0.4         1       \n",
              "28  5.2          3.5         1.5          0.2         1       \n",
              "29  5.2          3.4         1.4          0.2         1       \n",
              "30  4.7          3.2         1.6          0.2         1       \n",
              "⋮   ⋮            ⋮           ⋮            ⋮           ⋮       \n",
              "121 6.9          3.2         5.7          2.3         2       \n",
              "122 5.6          2.8         4.9          2.0         3       \n",
              "123 7.7          2.8         6.7          2.0         2       \n",
              "124 6.3          2.7         4.9          1.8         3       \n",
              "125 6.7          3.3         5.7          2.1         2       \n",
              "126 7.2          3.2         6.0          1.8         2       \n",
              "127 6.2          2.8         4.8          1.8         3       \n",
              "128 6.1          3.0         4.9          1.8         3       \n",
              "129 6.4          2.8         5.6          2.1         2       \n",
              "130 7.2          3.0         5.8          1.6         2       \n",
              "131 7.4          2.8         6.1          1.9         2       \n",
              "132 7.9          3.8         6.4          2.0         2       \n",
              "133 6.4          2.8         5.6          2.2         2       \n",
              "134 6.3          2.8         5.1          1.5         3       \n",
              "135 6.1          2.6         5.6          1.4         2       \n",
              "136 7.7          3.0         6.1          2.3         2       \n",
              "137 6.3          3.4         5.6          2.4         2       \n",
              "138 6.4          3.1         5.5          1.8         2       \n",
              "139 6.0          3.0         4.8          1.8         3       \n",
              "140 6.9          3.1         5.4          2.1         2       \n",
              "141 6.7          3.1         5.6          2.4         2       \n",
              "142 6.9          3.1         5.1          2.3         2       \n",
              "143 5.8          2.7         5.1          1.9         3       \n",
              "144 6.8          3.2         5.9          2.3         2       \n",
              "145 6.7          3.3         5.7          2.5         2       \n",
              "146 6.7          3.0         5.2          2.3         2       \n",
              "147 6.3          2.5         5.0          1.9         3       \n",
              "148 6.5          3.0         5.2          2.0         2       \n",
              "149 6.2          3.4         5.4          2.3         2       \n",
              "150 5.9          3.0         5.1          1.8         3       "
            ],
            "text/latex": "A data.frame: 150 × 5\n\\begin{tabular}{lllll}\n Sepal.Length & Sepal.Width & Petal.Length & Petal.Width & cl\\_kmens\\\\\n <dbl> & <dbl> & <dbl> & <dbl> & <int>\\\\\n\\hline\n\t 5.1 & 3.5 & 1.4 & 0.2 & 1\\\\\n\t 4.9 & 3.0 & 1.4 & 0.2 & 1\\\\\n\t 4.7 & 3.2 & 1.3 & 0.2 & 1\\\\\n\t 4.6 & 3.1 & 1.5 & 0.2 & 1\\\\\n\t 5.0 & 3.6 & 1.4 & 0.2 & 1\\\\\n\t 5.4 & 3.9 & 1.7 & 0.4 & 1\\\\\n\t 4.6 & 3.4 & 1.4 & 0.3 & 1\\\\\n\t 5.0 & 3.4 & 1.5 & 0.2 & 1\\\\\n\t 4.4 & 2.9 & 1.4 & 0.2 & 1\\\\\n\t 4.9 & 3.1 & 1.5 & 0.1 & 1\\\\\n\t 5.4 & 3.7 & 1.5 & 0.2 & 1\\\\\n\t 4.8 & 3.4 & 1.6 & 0.2 & 1\\\\\n\t 4.8 & 3.0 & 1.4 & 0.1 & 1\\\\\n\t 4.3 & 3.0 & 1.1 & 0.1 & 1\\\\\n\t 5.8 & 4.0 & 1.2 & 0.2 & 1\\\\\n\t 5.7 & 4.4 & 1.5 & 0.4 & 1\\\\\n\t 5.4 & 3.9 & 1.3 & 0.4 & 1\\\\\n\t 5.1 & 3.5 & 1.4 & 0.3 & 1\\\\\n\t 5.7 & 3.8 & 1.7 & 0.3 & 1\\\\\n\t 5.1 & 3.8 & 1.5 & 0.3 & 1\\\\\n\t 5.4 & 3.4 & 1.7 & 0.2 & 1\\\\\n\t 5.1 & 3.7 & 1.5 & 0.4 & 1\\\\\n\t 4.6 & 3.6 & 1.0 & 0.2 & 1\\\\\n\t 5.1 & 3.3 & 1.7 & 0.5 & 1\\\\\n\t 4.8 & 3.4 & 1.9 & 0.2 & 1\\\\\n\t 5.0 & 3.0 & 1.6 & 0.2 & 1\\\\\n\t 5.0 & 3.4 & 1.6 & 0.4 & 1\\\\\n\t 5.2 & 3.5 & 1.5 & 0.2 & 1\\\\\n\t 5.2 & 3.4 & 1.4 & 0.2 & 1\\\\\n\t 4.7 & 3.2 & 1.6 & 0.2 & 1\\\\\n\t ⋮ & ⋮ & ⋮ & ⋮ & ⋮\\\\\n\t 6.9 & 3.2 & 5.7 & 2.3 & 2\\\\\n\t 5.6 & 2.8 & 4.9 & 2.0 & 3\\\\\n\t 7.7 & 2.8 & 6.7 & 2.0 & 2\\\\\n\t 6.3 & 2.7 & 4.9 & 1.8 & 3\\\\\n\t 6.7 & 3.3 & 5.7 & 2.1 & 2\\\\\n\t 7.2 & 3.2 & 6.0 & 1.8 & 2\\\\\n\t 6.2 & 2.8 & 4.8 & 1.8 & 3\\\\\n\t 6.1 & 3.0 & 4.9 & 1.8 & 3\\\\\n\t 6.4 & 2.8 & 5.6 & 2.1 & 2\\\\\n\t 7.2 & 3.0 & 5.8 & 1.6 & 2\\\\\n\t 7.4 & 2.8 & 6.1 & 1.9 & 2\\\\\n\t 7.9 & 3.8 & 6.4 & 2.0 & 2\\\\\n\t 6.4 & 2.8 & 5.6 & 2.2 & 2\\\\\n\t 6.3 & 2.8 & 5.1 & 1.5 & 3\\\\\n\t 6.1 & 2.6 & 5.6 & 1.4 & 2\\\\\n\t 7.7 & 3.0 & 6.1 & 2.3 & 2\\\\\n\t 6.3 & 3.4 & 5.6 & 2.4 & 2\\\\\n\t 6.4 & 3.1 & 5.5 & 1.8 & 2\\\\\n\t 6.0 & 3.0 & 4.8 & 1.8 & 3\\\\\n\t 6.9 & 3.1 & 5.4 & 2.1 & 2\\\\\n\t 6.7 & 3.1 & 5.6 & 2.4 & 2\\\\\n\t 6.9 & 3.1 & 5.1 & 2.3 & 2\\\\\n\t 5.8 & 2.7 & 5.1 & 1.9 & 3\\\\\n\t 6.8 & 3.2 & 5.9 & 2.3 & 2\\\\\n\t 6.7 & 3.3 & 5.7 & 2.5 & 2\\\\\n\t 6.7 & 3.0 & 5.2 & 2.3 & 2\\\\\n\t 6.3 & 2.5 & 5.0 & 1.9 & 3\\\\\n\t 6.5 & 3.0 & 5.2 & 2.0 & 2\\\\\n\t 6.2 & 3.4 & 5.4 & 2.3 & 2\\\\\n\t 5.9 & 3.0 & 5.1 & 1.8 & 3\\\\\n\\end{tabular}\n",
            "text/markdown": "\nA data.frame: 150 × 5\n\n| Sepal.Length &lt;dbl&gt; | Sepal.Width &lt;dbl&gt; | Petal.Length &lt;dbl&gt; | Petal.Width &lt;dbl&gt; | cl_kmens &lt;int&gt; |\n|---|---|---|---|---|\n| 5.1 | 3.5 | 1.4 | 0.2 | 1 |\n| 4.9 | 3.0 | 1.4 | 0.2 | 1 |\n| 4.7 | 3.2 | 1.3 | 0.2 | 1 |\n| 4.6 | 3.1 | 1.5 | 0.2 | 1 |\n| 5.0 | 3.6 | 1.4 | 0.2 | 1 |\n| 5.4 | 3.9 | 1.7 | 0.4 | 1 |\n| 4.6 | 3.4 | 1.4 | 0.3 | 1 |\n| 5.0 | 3.4 | 1.5 | 0.2 | 1 |\n| 4.4 | 2.9 | 1.4 | 0.2 | 1 |\n| 4.9 | 3.1 | 1.5 | 0.1 | 1 |\n| 5.4 | 3.7 | 1.5 | 0.2 | 1 |\n| 4.8 | 3.4 | 1.6 | 0.2 | 1 |\n| 4.8 | 3.0 | 1.4 | 0.1 | 1 |\n| 4.3 | 3.0 | 1.1 | 0.1 | 1 |\n| 5.8 | 4.0 | 1.2 | 0.2 | 1 |\n| 5.7 | 4.4 | 1.5 | 0.4 | 1 |\n| 5.4 | 3.9 | 1.3 | 0.4 | 1 |\n| 5.1 | 3.5 | 1.4 | 0.3 | 1 |\n| 5.7 | 3.8 | 1.7 | 0.3 | 1 |\n| 5.1 | 3.8 | 1.5 | 0.3 | 1 |\n| 5.4 | 3.4 | 1.7 | 0.2 | 1 |\n| 5.1 | 3.7 | 1.5 | 0.4 | 1 |\n| 4.6 | 3.6 | 1.0 | 0.2 | 1 |\n| 5.1 | 3.3 | 1.7 | 0.5 | 1 |\n| 4.8 | 3.4 | 1.9 | 0.2 | 1 |\n| 5.0 | 3.0 | 1.6 | 0.2 | 1 |\n| 5.0 | 3.4 | 1.6 | 0.4 | 1 |\n| 5.2 | 3.5 | 1.5 | 0.2 | 1 |\n| 5.2 | 3.4 | 1.4 | 0.2 | 1 |\n| 4.7 | 3.2 | 1.6 | 0.2 | 1 |\n| ⋮ | ⋮ | ⋮ | ⋮ | ⋮ |\n| 6.9 | 3.2 | 5.7 | 2.3 | 2 |\n| 5.6 | 2.8 | 4.9 | 2.0 | 3 |\n| 7.7 | 2.8 | 6.7 | 2.0 | 2 |\n| 6.3 | 2.7 | 4.9 | 1.8 | 3 |\n| 6.7 | 3.3 | 5.7 | 2.1 | 2 |\n| 7.2 | 3.2 | 6.0 | 1.8 | 2 |\n| 6.2 | 2.8 | 4.8 | 1.8 | 3 |\n| 6.1 | 3.0 | 4.9 | 1.8 | 3 |\n| 6.4 | 2.8 | 5.6 | 2.1 | 2 |\n| 7.2 | 3.0 | 5.8 | 1.6 | 2 |\n| 7.4 | 2.8 | 6.1 | 1.9 | 2 |\n| 7.9 | 3.8 | 6.4 | 2.0 | 2 |\n| 6.4 | 2.8 | 5.6 | 2.2 | 2 |\n| 6.3 | 2.8 | 5.1 | 1.5 | 3 |\n| 6.1 | 2.6 | 5.6 | 1.4 | 2 |\n| 7.7 | 3.0 | 6.1 | 2.3 | 2 |\n| 6.3 | 3.4 | 5.6 | 2.4 | 2 |\n| 6.4 | 3.1 | 5.5 | 1.8 | 2 |\n| 6.0 | 3.0 | 4.8 | 1.8 | 3 |\n| 6.9 | 3.1 | 5.4 | 2.1 | 2 |\n| 6.7 | 3.1 | 5.6 | 2.4 | 2 |\n| 6.9 | 3.1 | 5.1 | 2.3 | 2 |\n| 5.8 | 2.7 | 5.1 | 1.9 | 3 |\n| 6.8 | 3.2 | 5.9 | 2.3 | 2 |\n| 6.7 | 3.3 | 5.7 | 2.5 | 2 |\n| 6.7 | 3.0 | 5.2 | 2.3 | 2 |\n| 6.3 | 2.5 | 5.0 | 1.9 | 3 |\n| 6.5 | 3.0 | 5.2 | 2.0 | 2 |\n| 6.2 | 3.4 | 5.4 | 2.3 | 2 |\n| 5.9 | 3.0 | 5.1 | 1.8 | 3 |\n\n",
            "text/html": [
              "<table>\n",
              "<caption>A data.frame: 150 × 5</caption>\n",
              "<thead>\n",
              "\t<tr><th scope=col>Sepal.Length</th><th scope=col>Sepal.Width</th><th scope=col>Petal.Length</th><th scope=col>Petal.Width</th><th scope=col>cl_kmens</th></tr>\n",
              "\t<tr><th scope=col>&lt;dbl&gt;</th><th scope=col>&lt;dbl&gt;</th><th scope=col>&lt;dbl&gt;</th><th scope=col>&lt;dbl&gt;</th><th scope=col>&lt;int&gt;</th></tr>\n",
              "</thead>\n",
              "<tbody>\n",
              "\t<tr><td>5.1</td><td>3.5</td><td>1.4</td><td>0.2</td><td>1</td></tr>\n",
              "\t<tr><td>4.9</td><td>3.0</td><td>1.4</td><td>0.2</td><td>1</td></tr>\n",
              "\t<tr><td>4.7</td><td>3.2</td><td>1.3</td><td>0.2</td><td>1</td></tr>\n",
              "\t<tr><td>4.6</td><td>3.1</td><td>1.5</td><td>0.2</td><td>1</td></tr>\n",
              "\t<tr><td>5.0</td><td>3.6</td><td>1.4</td><td>0.2</td><td>1</td></tr>\n",
              "\t<tr><td>5.4</td><td>3.9</td><td>1.7</td><td>0.4</td><td>1</td></tr>\n",
              "\t<tr><td>4.6</td><td>3.4</td><td>1.4</td><td>0.3</td><td>1</td></tr>\n",
              "\t<tr><td>5.0</td><td>3.4</td><td>1.5</td><td>0.2</td><td>1</td></tr>\n",
              "\t<tr><td>4.4</td><td>2.9</td><td>1.4</td><td>0.2</td><td>1</td></tr>\n",
              "\t<tr><td>4.9</td><td>3.1</td><td>1.5</td><td>0.1</td><td>1</td></tr>\n",
              "\t<tr><td>5.4</td><td>3.7</td><td>1.5</td><td>0.2</td><td>1</td></tr>\n",
              "\t<tr><td>4.8</td><td>3.4</td><td>1.6</td><td>0.2</td><td>1</td></tr>\n",
              "\t<tr><td>4.8</td><td>3.0</td><td>1.4</td><td>0.1</td><td>1</td></tr>\n",
              "\t<tr><td>4.3</td><td>3.0</td><td>1.1</td><td>0.1</td><td>1</td></tr>\n",
              "\t<tr><td>5.8</td><td>4.0</td><td>1.2</td><td>0.2</td><td>1</td></tr>\n",
              "\t<tr><td>5.7</td><td>4.4</td><td>1.5</td><td>0.4</td><td>1</td></tr>\n",
              "\t<tr><td>5.4</td><td>3.9</td><td>1.3</td><td>0.4</td><td>1</td></tr>\n",
              "\t<tr><td>5.1</td><td>3.5</td><td>1.4</td><td>0.3</td><td>1</td></tr>\n",
              "\t<tr><td>5.7</td><td>3.8</td><td>1.7</td><td>0.3</td><td>1</td></tr>\n",
              "\t<tr><td>5.1</td><td>3.8</td><td>1.5</td><td>0.3</td><td>1</td></tr>\n",
              "\t<tr><td>5.4</td><td>3.4</td><td>1.7</td><td>0.2</td><td>1</td></tr>\n",
              "\t<tr><td>5.1</td><td>3.7</td><td>1.5</td><td>0.4</td><td>1</td></tr>\n",
              "\t<tr><td>4.6</td><td>3.6</td><td>1.0</td><td>0.2</td><td>1</td></tr>\n",
              "\t<tr><td>5.1</td><td>3.3</td><td>1.7</td><td>0.5</td><td>1</td></tr>\n",
              "\t<tr><td>4.8</td><td>3.4</td><td>1.9</td><td>0.2</td><td>1</td></tr>\n",
              "\t<tr><td>5.0</td><td>3.0</td><td>1.6</td><td>0.2</td><td>1</td></tr>\n",
              "\t<tr><td>5.0</td><td>3.4</td><td>1.6</td><td>0.4</td><td>1</td></tr>\n",
              "\t<tr><td>5.2</td><td>3.5</td><td>1.5</td><td>0.2</td><td>1</td></tr>\n",
              "\t<tr><td>5.2</td><td>3.4</td><td>1.4</td><td>0.2</td><td>1</td></tr>\n",
              "\t<tr><td>4.7</td><td>3.2</td><td>1.6</td><td>0.2</td><td>1</td></tr>\n",
              "\t<tr><td>⋮</td><td>⋮</td><td>⋮</td><td>⋮</td><td>⋮</td></tr>\n",
              "\t<tr><td>6.9</td><td>3.2</td><td>5.7</td><td>2.3</td><td>2</td></tr>\n",
              "\t<tr><td>5.6</td><td>2.8</td><td>4.9</td><td>2.0</td><td>3</td></tr>\n",
              "\t<tr><td>7.7</td><td>2.8</td><td>6.7</td><td>2.0</td><td>2</td></tr>\n",
              "\t<tr><td>6.3</td><td>2.7</td><td>4.9</td><td>1.8</td><td>3</td></tr>\n",
              "\t<tr><td>6.7</td><td>3.3</td><td>5.7</td><td>2.1</td><td>2</td></tr>\n",
              "\t<tr><td>7.2</td><td>3.2</td><td>6.0</td><td>1.8</td><td>2</td></tr>\n",
              "\t<tr><td>6.2</td><td>2.8</td><td>4.8</td><td>1.8</td><td>3</td></tr>\n",
              "\t<tr><td>6.1</td><td>3.0</td><td>4.9</td><td>1.8</td><td>3</td></tr>\n",
              "\t<tr><td>6.4</td><td>2.8</td><td>5.6</td><td>2.1</td><td>2</td></tr>\n",
              "\t<tr><td>7.2</td><td>3.0</td><td>5.8</td><td>1.6</td><td>2</td></tr>\n",
              "\t<tr><td>7.4</td><td>2.8</td><td>6.1</td><td>1.9</td><td>2</td></tr>\n",
              "\t<tr><td>7.9</td><td>3.8</td><td>6.4</td><td>2.0</td><td>2</td></tr>\n",
              "\t<tr><td>6.4</td><td>2.8</td><td>5.6</td><td>2.2</td><td>2</td></tr>\n",
              "\t<tr><td>6.3</td><td>2.8</td><td>5.1</td><td>1.5</td><td>3</td></tr>\n",
              "\t<tr><td>6.1</td><td>2.6</td><td>5.6</td><td>1.4</td><td>2</td></tr>\n",
              "\t<tr><td>7.7</td><td>3.0</td><td>6.1</td><td>2.3</td><td>2</td></tr>\n",
              "\t<tr><td>6.3</td><td>3.4</td><td>5.6</td><td>2.4</td><td>2</td></tr>\n",
              "\t<tr><td>6.4</td><td>3.1</td><td>5.5</td><td>1.8</td><td>2</td></tr>\n",
              "\t<tr><td>6.0</td><td>3.0</td><td>4.8</td><td>1.8</td><td>3</td></tr>\n",
              "\t<tr><td>6.9</td><td>3.1</td><td>5.4</td><td>2.1</td><td>2</td></tr>\n",
              "\t<tr><td>6.7</td><td>3.1</td><td>5.6</td><td>2.4</td><td>2</td></tr>\n",
              "\t<tr><td>6.9</td><td>3.1</td><td>5.1</td><td>2.3</td><td>2</td></tr>\n",
              "\t<tr><td>5.8</td><td>2.7</td><td>5.1</td><td>1.9</td><td>3</td></tr>\n",
              "\t<tr><td>6.8</td><td>3.2</td><td>5.9</td><td>2.3</td><td>2</td></tr>\n",
              "\t<tr><td>6.7</td><td>3.3</td><td>5.7</td><td>2.5</td><td>2</td></tr>\n",
              "\t<tr><td>6.7</td><td>3.0</td><td>5.2</td><td>2.3</td><td>2</td></tr>\n",
              "\t<tr><td>6.3</td><td>2.5</td><td>5.0</td><td>1.9</td><td>3</td></tr>\n",
              "\t<tr><td>6.5</td><td>3.0</td><td>5.2</td><td>2.0</td><td>2</td></tr>\n",
              "\t<tr><td>6.2</td><td>3.4</td><td>5.4</td><td>2.3</td><td>2</td></tr>\n",
              "\t<tr><td>5.9</td><td>3.0</td><td>5.1</td><td>1.8</td><td>3</td></tr>\n",
              "</tbody>\n",
              "</table>\n"
            ]
          },
          "metadata": {
            "tags": []
          }
        },
        {
          "output_type": "display_data",
          "data": {
            "text/plain": [
              "  cl_kmens n \n",
              "1 1        50\n",
              "2 2        38\n",
              "3 3        62"
            ],
            "text/latex": "A data.frame: 3 × 2\n\\begin{tabular}{ll}\n cl\\_kmens & n\\\\\n <int> & <int>\\\\\n\\hline\n\t 1 & 50\\\\\n\t 2 & 38\\\\\n\t 3 & 62\\\\\n\\end{tabular}\n",
            "text/markdown": "\nA data.frame: 3 × 2\n\n| cl_kmens &lt;int&gt; | n &lt;int&gt; |\n|---|---|\n| 1 | 50 |\n| 2 | 38 |\n| 3 | 62 |\n\n",
            "text/html": [
              "<table>\n",
              "<caption>A data.frame: 3 × 2</caption>\n",
              "<thead>\n",
              "\t<tr><th scope=col>cl_kmens</th><th scope=col>n</th></tr>\n",
              "\t<tr><th scope=col>&lt;int&gt;</th><th scope=col>&lt;int&gt;</th></tr>\n",
              "</thead>\n",
              "<tbody>\n",
              "\t<tr><td>1</td><td>50</td></tr>\n",
              "\t<tr><td>2</td><td>38</td></tr>\n",
              "\t<tr><td>3</td><td>62</td></tr>\n",
              "</tbody>\n",
              "</table>\n"
            ]
          },
          "metadata": {
            "tags": []
          }
        }
      ]
    },
    {
      "cell_type": "code",
      "metadata": {
        "id": "BZ5w27zusHUN",
        "outputId": "6cac6b58-9f1c-44d8-cc5c-b088d5c170ff",
        "colab": {
          "base_uri": "https://localhost:8080/",
          "height": 154
        }
      },
      "source": [
        "\n",
        "kmeans.resultado$cluster # el cluster asignado a cada observación de base.\n",
        "kmeans.resultado$centers\n"
      ],
      "execution_count": 9,
      "outputs": [
        {
          "output_type": "display_data",
          "data": {
            "text/plain": [
              "  [1] 1 1 1 1 1 1 1 1 1 1 1 1 1 1 1 1 1 1 1 1 1 1 1 1 1 1 1 1 1 1 1 1 1 1 1 1 1\n",
              " [38] 1 1 1 1 1 1 1 1 1 1 1 1 1 3 3 2 3 3 3 3 3 3 3 3 3 3 3 3 3 3 3 3 3 3 3 3 3\n",
              " [75] 3 3 3 2 3 3 3 3 3 3 3 3 3 3 3 3 3 3 3 3 3 3 3 3 3 3 2 3 2 2 2 2 3 2 2 2 2\n",
              "[112] 2 2 3 3 2 2 2 2 3 2 3 2 3 2 2 3 3 2 2 2 2 2 3 2 2 2 2 3 2 2 2 3 2 2 2 3 2\n",
              "[149] 2 3"
            ],
            "text/latex": "\\begin{enumerate*}\n\\item 1\n\\item 1\n\\item 1\n\\item 1\n\\item 1\n\\item 1\n\\item 1\n\\item 1\n\\item 1\n\\item 1\n\\item 1\n\\item 1\n\\item 1\n\\item 1\n\\item 1\n\\item 1\n\\item 1\n\\item 1\n\\item 1\n\\item 1\n\\item 1\n\\item 1\n\\item 1\n\\item 1\n\\item 1\n\\item 1\n\\item 1\n\\item 1\n\\item 1\n\\item 1\n\\item 1\n\\item 1\n\\item 1\n\\item 1\n\\item 1\n\\item 1\n\\item 1\n\\item 1\n\\item 1\n\\item 1\n\\item 1\n\\item 1\n\\item 1\n\\item 1\n\\item 1\n\\item 1\n\\item 1\n\\item 1\n\\item 1\n\\item 1\n\\item 3\n\\item 3\n\\item 2\n\\item 3\n\\item 3\n\\item 3\n\\item 3\n\\item 3\n\\item 3\n\\item 3\n\\item 3\n\\item 3\n\\item 3\n\\item 3\n\\item 3\n\\item 3\n\\item 3\n\\item 3\n\\item 3\n\\item 3\n\\item 3\n\\item 3\n\\item 3\n\\item 3\n\\item 3\n\\item 3\n\\item 3\n\\item 2\n\\item 3\n\\item 3\n\\item 3\n\\item 3\n\\item 3\n\\item 3\n\\item 3\n\\item 3\n\\item 3\n\\item 3\n\\item 3\n\\item 3\n\\item 3\n\\item 3\n\\item 3\n\\item 3\n\\item 3\n\\item 3\n\\item 3\n\\item 3\n\\item 3\n\\item 3\n\\item 2\n\\item 3\n\\item 2\n\\item 2\n\\item 2\n\\item 2\n\\item 3\n\\item 2\n\\item 2\n\\item 2\n\\item 2\n\\item 2\n\\item 2\n\\item 3\n\\item 3\n\\item 2\n\\item 2\n\\item 2\n\\item 2\n\\item 3\n\\item 2\n\\item 3\n\\item 2\n\\item 3\n\\item 2\n\\item 2\n\\item 3\n\\item 3\n\\item 2\n\\item 2\n\\item 2\n\\item 2\n\\item 2\n\\item 3\n\\item 2\n\\item 2\n\\item 2\n\\item 2\n\\item 3\n\\item 2\n\\item 2\n\\item 2\n\\item 3\n\\item 2\n\\item 2\n\\item 2\n\\item 3\n\\item 2\n\\item 2\n\\item 3\n\\end{enumerate*}\n",
            "text/markdown": "1. 1\n2. 1\n3. 1\n4. 1\n5. 1\n6. 1\n7. 1\n8. 1\n9. 1\n10. 1\n11. 1\n12. 1\n13. 1\n14. 1\n15. 1\n16. 1\n17. 1\n18. 1\n19. 1\n20. 1\n21. 1\n22. 1\n23. 1\n24. 1\n25. 1\n26. 1\n27. 1\n28. 1\n29. 1\n30. 1\n31. 1\n32. 1\n33. 1\n34. 1\n35. 1\n36. 1\n37. 1\n38. 1\n39. 1\n40. 1\n41. 1\n42. 1\n43. 1\n44. 1\n45. 1\n46. 1\n47. 1\n48. 1\n49. 1\n50. 1\n51. 3\n52. 3\n53. 2\n54. 3\n55. 3\n56. 3\n57. 3\n58. 3\n59. 3\n60. 3\n61. 3\n62. 3\n63. 3\n64. 3\n65. 3\n66. 3\n67. 3\n68. 3\n69. 3\n70. 3\n71. 3\n72. 3\n73. 3\n74. 3\n75. 3\n76. 3\n77. 3\n78. 2\n79. 3\n80. 3\n81. 3\n82. 3\n83. 3\n84. 3\n85. 3\n86. 3\n87. 3\n88. 3\n89. 3\n90. 3\n91. 3\n92. 3\n93. 3\n94. 3\n95. 3\n96. 3\n97. 3\n98. 3\n99. 3\n100. 3\n101. 2\n102. 3\n103. 2\n104. 2\n105. 2\n106. 2\n107. 3\n108. 2\n109. 2\n110. 2\n111. 2\n112. 2\n113. 2\n114. 3\n115. 3\n116. 2\n117. 2\n118. 2\n119. 2\n120. 3\n121. 2\n122. 3\n123. 2\n124. 3\n125. 2\n126. 2\n127. 3\n128. 3\n129. 2\n130. 2\n131. 2\n132. 2\n133. 2\n134. 3\n135. 2\n136. 2\n137. 2\n138. 2\n139. 3\n140. 2\n141. 2\n142. 2\n143. 3\n144. 2\n145. 2\n146. 2\n147. 3\n148. 2\n149. 2\n150. 3\n\n\n",
            "text/html": [
              "<style>\n",
              ".list-inline {list-style: none; margin:0; padding: 0}\n",
              ".list-inline>li {display: inline-block}\n",
              ".list-inline>li:not(:last-child)::after {content: \"\\00b7\"; padding: 0 .5ex}\n",
              "</style>\n",
              "<ol class=list-inline><li>1</li><li>1</li><li>1</li><li>1</li><li>1</li><li>1</li><li>1</li><li>1</li><li>1</li><li>1</li><li>1</li><li>1</li><li>1</li><li>1</li><li>1</li><li>1</li><li>1</li><li>1</li><li>1</li><li>1</li><li>1</li><li>1</li><li>1</li><li>1</li><li>1</li><li>1</li><li>1</li><li>1</li><li>1</li><li>1</li><li>1</li><li>1</li><li>1</li><li>1</li><li>1</li><li>1</li><li>1</li><li>1</li><li>1</li><li>1</li><li>1</li><li>1</li><li>1</li><li>1</li><li>1</li><li>1</li><li>1</li><li>1</li><li>1</li><li>1</li><li>3</li><li>3</li><li>2</li><li>3</li><li>3</li><li>3</li><li>3</li><li>3</li><li>3</li><li>3</li><li>3</li><li>3</li><li>3</li><li>3</li><li>3</li><li>3</li><li>3</li><li>3</li><li>3</li><li>3</li><li>3</li><li>3</li><li>3</li><li>3</li><li>3</li><li>3</li><li>3</li><li>2</li><li>3</li><li>3</li><li>3</li><li>3</li><li>3</li><li>3</li><li>3</li><li>3</li><li>3</li><li>3</li><li>3</li><li>3</li><li>3</li><li>3</li><li>3</li><li>3</li><li>3</li><li>3</li><li>3</li><li>3</li><li>3</li><li>3</li><li>2</li><li>3</li><li>2</li><li>2</li><li>2</li><li>2</li><li>3</li><li>2</li><li>2</li><li>2</li><li>2</li><li>2</li><li>2</li><li>3</li><li>3</li><li>2</li><li>2</li><li>2</li><li>2</li><li>3</li><li>2</li><li>3</li><li>2</li><li>3</li><li>2</li><li>2</li><li>3</li><li>3</li><li>2</li><li>2</li><li>2</li><li>2</li><li>2</li><li>3</li><li>2</li><li>2</li><li>2</li><li>2</li><li>3</li><li>2</li><li>2</li><li>2</li><li>3</li><li>2</li><li>2</li><li>2</li><li>3</li><li>2</li><li>2</li><li>3</li></ol>\n"
            ]
          },
          "metadata": {
            "tags": []
          }
        },
        {
          "output_type": "display_data",
          "data": {
            "text/plain": [
              "  Sepal.Length Sepal.Width Petal.Length Petal.Width\n",
              "1 5.006000     3.428000    1.462000     0.246000   \n",
              "2 6.850000     3.073684    5.742105     2.071053   \n",
              "3 5.901613     2.748387    4.393548     1.433871   "
            ],
            "text/latex": "A matrix: 3 × 4 of type dbl\n\\begin{tabular}{r|llll}\n  & Sepal.Length & Sepal.Width & Petal.Length & Petal.Width\\\\\n\\hline\n\t1 & 5.006000 & 3.428000 & 1.462000 & 0.246000\\\\\n\t2 & 6.850000 & 3.073684 & 5.742105 & 2.071053\\\\\n\t3 & 5.901613 & 2.748387 & 4.393548 & 1.433871\\\\\n\\end{tabular}\n",
            "text/markdown": "\nA matrix: 3 × 4 of type dbl\n\n| <!--/--> | Sepal.Length | Sepal.Width | Petal.Length | Petal.Width |\n|---|---|---|---|---|\n| 1 | 5.006000 | 3.428000 | 1.462000 | 0.246000 |\n| 2 | 6.850000 | 3.073684 | 5.742105 | 2.071053 |\n| 3 | 5.901613 | 2.748387 | 4.393548 | 1.433871 |\n\n",
            "text/html": [
              "<table>\n",
              "<caption>A matrix: 3 × 4 of type dbl</caption>\n",
              "<thead>\n",
              "\t<tr><th></th><th scope=col>Sepal.Length</th><th scope=col>Sepal.Width</th><th scope=col>Petal.Length</th><th scope=col>Petal.Width</th></tr>\n",
              "</thead>\n",
              "<tbody>\n",
              "\t<tr><th scope=row>1</th><td>5.006000</td><td>3.428000</td><td>1.462000</td><td>0.246000</td></tr>\n",
              "\t<tr><th scope=row>2</th><td>6.850000</td><td>3.073684</td><td>5.742105</td><td>2.071053</td></tr>\n",
              "\t<tr><th scope=row>3</th><td>5.901613</td><td>2.748387</td><td>4.393548</td><td>1.433871</td></tr>\n",
              "</tbody>\n",
              "</table>\n"
            ]
          },
          "metadata": {
            "tags": []
          }
        }
      ]
    },
    {
      "cell_type": "code",
      "metadata": {
        "id": "aY1aZ6HCpXhS",
        "outputId": "a5a58523-510e-4856-81a5-0ae6c3187c41",
        "colab": {
          "base_uri": "https://localhost:8080/",
          "height": 522
        }
      },
      "source": [
        "\n",
        "# Se contrasta la clasificacion real con la definida despues de la clusterizacion\n",
        "table(iris$Species, kmeans.resultado$cluster)\n",
        "plot(base[c(\"Sepal.Length\", \"Sepal.Width\")], col = kmeans.resultado$cluster)\n",
        "# Se grafica los centros de los clusters \n",
        "points(kmeans.resultado$centers[,c(\"Sepal.Length\", \"Sepal.Width\")], col = 1:3, pch = 8, cex=2)\n",
        "\n",
        "\n"
      ],
      "execution_count": 10,
      "outputs": [
        {
          "output_type": "display_data",
          "data": {
            "text/plain": [
              "            \n",
              "              1  2  3\n",
              "  setosa     50  0  0\n",
              "  versicolor  0  2 48\n",
              "  virginica   0 36 14"
            ]
          },
          "metadata": {
            "tags": []
          }
        },
        {
          "output_type": "display_data",
          "data": {
            "image/png": "[encoded data removed]",
            "text/plain": [
              "plot without title"
            ]
          },
          "metadata": {
            "tags": [],
            "image/png": {
              "width": 420,
              "height": 420
            }
          }
        }
      ]
    },
    {
      "cell_type": "code",
      "metadata": {
        "id": "7gHTd6shrS9d",
        "outputId": "ddd13bed-7f63-46ce-8547-6d09c8ce364a",
        "colab": {
          "base_uri": "https://localhost:8080/",
          "height": 120
        }
      },
      "source": [
        "kmeans.resultado$centers"
      ],
      "execution_count": 11,
      "outputs": [
        {
          "output_type": "display_data",
          "data": {
            "text/plain": [
              "  Sepal.Length Sepal.Width Petal.Length Petal.Width\n",
              "1 5.006000     3.428000    1.462000     0.246000   \n",
              "2 6.850000     3.073684    5.742105     2.071053   \n",
              "3 5.901613     2.748387    4.393548     1.433871   "
            ],
            "text/latex": "A matrix: 3 × 4 of type dbl\n\\begin{tabular}{r|llll}\n  & Sepal.Length & Sepal.Width & Petal.Length & Petal.Width\\\\\n\\hline\n\t1 & 5.006000 & 3.428000 & 1.462000 & 0.246000\\\\\n\t2 & 6.850000 & 3.073684 & 5.742105 & 2.071053\\\\\n\t3 & 5.901613 & 2.748387 & 4.393548 & 1.433871\\\\\n\\end{tabular}\n",
            "text/markdown": "\nA matrix: 3 × 4 of type dbl\n\n| <!--/--> | Sepal.Length | Sepal.Width | Petal.Length | Petal.Width |\n|---|---|---|---|---|\n| 1 | 5.006000 | 3.428000 | 1.462000 | 0.246000 |\n| 2 | 6.850000 | 3.073684 | 5.742105 | 2.071053 |\n| 3 | 5.901613 | 2.748387 | 4.393548 | 1.433871 |\n\n",
            "text/html": [
              "<table>\n",
              "<caption>A matrix: 3 × 4 of type dbl</caption>\n",
              "<thead>\n",
              "\t<tr><th></th><th scope=col>Sepal.Length</th><th scope=col>Sepal.Width</th><th scope=col>Petal.Length</th><th scope=col>Petal.Width</th></tr>\n",
              "</thead>\n",
              "<tbody>\n",
              "\t<tr><th scope=row>1</th><td>5.006000</td><td>3.428000</td><td>1.462000</td><td>0.246000</td></tr>\n",
              "\t<tr><th scope=row>2</th><td>6.850000</td><td>3.073684</td><td>5.742105</td><td>2.071053</td></tr>\n",
              "\t<tr><th scope=row>3</th><td>5.901613</td><td>2.748387</td><td>4.393548</td><td>1.433871</td></tr>\n",
              "</tbody>\n",
              "</table>\n"
            ]
          },
          "metadata": {
            "tags": []
          }
        }
      ]
    },
    {
      "cell_type": "code",
      "metadata": {
        "id": "jBBae8rlr0kh",
        "outputId": "f3a51812-74fd-451e-ddc6-511ef54e9f5d",
        "colab": {
          "base_uri": "https://localhost:8080/",
          "height": 175
        }
      },
      "source": [
        "library(dplyr)\n",
        "base %>%\n",
        "  group_by(cl_kmens) %>%\n",
        "  summarise(sep_l = mean(Sepal.Length)\n",
        "            ,sep_w = mean(Sepal.Width)\n",
        "            ,pet_l = mean(Petal.Length)\n",
        "            ,pet_w = mean(Petal.Width)\n",
        "            )"
      ],
      "execution_count": 14,
      "outputs": [
        {
          "output_type": "stream",
          "text": [
            "`summarise()` ungrouping output (override with `.groups` argument)\n",
            "\n"
          ],
          "name": "stderr"
        },
        {
          "output_type": "display_data",
          "data": {
            "text/plain": [
              "  cl_kmens sep_l    sep_w    pet_l    pet_w   \n",
              "1 1        5.006000 3.428000 1.462000 0.246000\n",
              "2 2        6.850000 3.073684 5.742105 2.071053\n",
              "3 3        5.901613 2.748387 4.393548 1.433871"
            ],
            "text/latex": "A tibble: 3 × 5\n\\begin{tabular}{lllll}\n cl\\_kmens & sep\\_l & sep\\_w & pet\\_l & pet\\_w\\\\\n <int> & <dbl> & <dbl> & <dbl> & <dbl>\\\\\n\\hline\n\t 1 & 5.006000 & 3.428000 & 1.462000 & 0.246000\\\\\n\t 2 & 6.850000 & 3.073684 & 5.742105 & 2.071053\\\\\n\t 3 & 5.901613 & 2.748387 & 4.393548 & 1.433871\\\\\n\\end{tabular}\n",
            "text/markdown": "\nA tibble: 3 × 5\n\n| cl_kmens &lt;int&gt; | sep_l &lt;dbl&gt; | sep_w &lt;dbl&gt; | pet_l &lt;dbl&gt; | pet_w &lt;dbl&gt; |\n|---|---|---|---|---|\n| 1 | 5.006000 | 3.428000 | 1.462000 | 0.246000 |\n| 2 | 6.850000 | 3.073684 | 5.742105 | 2.071053 |\n| 3 | 5.901613 | 2.748387 | 4.393548 | 1.433871 |\n\n",
            "text/html": [
              "<table>\n",
              "<caption>A tibble: 3 × 5</caption>\n",
              "<thead>\n",
              "\t<tr><th scope=col>cl_kmens</th><th scope=col>sep_l</th><th scope=col>sep_w</th><th scope=col>pet_l</th><th scope=col>pet_w</th></tr>\n",
              "\t<tr><th scope=col>&lt;int&gt;</th><th scope=col>&lt;dbl&gt;</th><th scope=col>&lt;dbl&gt;</th><th scope=col>&lt;dbl&gt;</th><th scope=col>&lt;dbl&gt;</th></tr>\n",
              "</thead>\n",
              "<tbody>\n",
              "\t<tr><td>1</td><td>5.006000</td><td>3.428000</td><td>1.462000</td><td>0.246000</td></tr>\n",
              "\t<tr><td>2</td><td>6.850000</td><td>3.073684</td><td>5.742105</td><td>2.071053</td></tr>\n",
              "\t<tr><td>3</td><td>5.901613</td><td>2.748387</td><td>4.393548</td><td>1.433871</td></tr>\n",
              "</tbody>\n",
              "</table>\n"
            ]
          },
          "metadata": {
            "tags": []
          }
        }
      ]
    },
    {
      "cell_type": "code",
      "metadata": {
        "id": "0sV8xS8_sHay",
        "outputId": "b972e2db-1c53-424f-a003-5357be4e65ca",
        "colab": {
          "base_uri": "https://localhost:8080/",
          "height": 387
        }
      },
      "source": [
        "\n",
        "# Se calcula la distancia entre cada observación y los centroides de los clusters\n",
        "\n",
        "centroides <- kmeans.resultado$centers[kmeans.resultado$cluster, ]\n",
        "head(centroides)\n",
        "distancias <- sqrt(rowSums((base - centroides)^2))\n",
        "distancias"
      ],
      "execution_count": 17,
      "outputs": [
        {
          "output_type": "display_data",
          "data": {
            "text/plain": [
              "  Sepal.Length Sepal.Width Petal.Length Petal.Width\n",
              "1 5.006        3.428       1.462        0.246      \n",
              "1 5.006        3.428       1.462        0.246      \n",
              "1 5.006        3.428       1.462        0.246      \n",
              "1 5.006        3.428       1.462        0.246      \n",
              "1 5.006        3.428       1.462        0.246      \n",
              "1 5.006        3.428       1.462        0.246      "
            ],
            "text/latex": "A matrix: 6 × 4 of type dbl\n\\begin{tabular}{r|llll}\n  & Sepal.Length & Sepal.Width & Petal.Length & Petal.Width\\\\\n\\hline\n\t1 & 5.006 & 3.428 & 1.462 & 0.246\\\\\n\t1 & 5.006 & 3.428 & 1.462 & 0.246\\\\\n\t1 & 5.006 & 3.428 & 1.462 & 0.246\\\\\n\t1 & 5.006 & 3.428 & 1.462 & 0.246\\\\\n\t1 & 5.006 & 3.428 & 1.462 & 0.246\\\\\n\t1 & 5.006 & 3.428 & 1.462 & 0.246\\\\\n\\end{tabular}\n",
            "text/markdown": "\nA matrix: 6 × 4 of type dbl\n\n| <!--/--> | Sepal.Length | Sepal.Width | Petal.Length | Petal.Width |\n|---|---|---|---|---|\n| 1 | 5.006 | 3.428 | 1.462 | 0.246 |\n| 1 | 5.006 | 3.428 | 1.462 | 0.246 |\n| 1 | 5.006 | 3.428 | 1.462 | 0.246 |\n| 1 | 5.006 | 3.428 | 1.462 | 0.246 |\n| 1 | 5.006 | 3.428 | 1.462 | 0.246 |\n| 1 | 5.006 | 3.428 | 1.462 | 0.246 |\n\n",
            "text/html": [
              "<table>\n",
              "<caption>A matrix: 6 × 4 of type dbl</caption>\n",
              "<thead>\n",
              "\t<tr><th></th><th scope=col>Sepal.Length</th><th scope=col>Sepal.Width</th><th scope=col>Petal.Length</th><th scope=col>Petal.Width</th></tr>\n",
              "</thead>\n",
              "<tbody>\n",
              "\t<tr><th scope=row>1</th><td>5.006</td><td>3.428</td><td>1.462</td><td>0.246</td></tr>\n",
              "\t<tr><th scope=row>1</th><td>5.006</td><td>3.428</td><td>1.462</td><td>0.246</td></tr>\n",
              "\t<tr><th scope=row>1</th><td>5.006</td><td>3.428</td><td>1.462</td><td>0.246</td></tr>\n",
              "\t<tr><th scope=row>1</th><td>5.006</td><td>3.428</td><td>1.462</td><td>0.246</td></tr>\n",
              "\t<tr><th scope=row>1</th><td>5.006</td><td>3.428</td><td>1.462</td><td>0.246</td></tr>\n",
              "\t<tr><th scope=row>1</th><td>5.006</td><td>3.428</td><td>1.462</td><td>0.246</td></tr>\n",
              "</tbody>\n",
              "</table>\n"
            ]
          },
          "metadata": {
            "tags": []
          }
        },
        {
          "output_type": "display_data",
          "data": {
            "text/plain": [
              "  [1] 4.008493 4.030932 4.027656 4.040299 4.010438 4.062809 4.027458 4.006547\n",
              "  [9] 4.086565 4.023632 4.034949 4.014027 4.037179 4.108773 4.132362 4.183254\n",
              " [17] 4.059066 4.008593 4.089941 4.024875 4.032718 4.019455 4.056848 4.024229\n",
              " [25] 4.035495 4.031429 4.011436 4.011785 4.011535 4.026762 4.027309 4.028550\n",
              " [33] 4.069400 4.110233 4.021246 4.021295 4.040497 4.014227 4.077599 4.007645\n",
              " [41] 4.010289 4.195905 4.061480 4.024626 4.051027 4.034900 4.026961 4.033710\n",
              " [49] 4.026415 4.008792 3.150369 2.981175 4.955899 2.992408 2.971041 2.914090\n",
              " [57] 3.000643 3.305760 2.998438 3.026334 3.283142 2.919675 3.012124 2.928611\n",
              " [65] 3.030009 3.030115 2.930758 2.950667 2.970661 2.987823 2.987067 2.938398\n",
              " [73] 2.983393 2.934278 2.952525 2.995263 3.065203 4.923295 2.909936 3.077125\n",
              " [81] 3.027506 3.061254 2.954710 2.993000 2.958038 2.982041 3.046095 2.965988\n",
              " [89] 2.945799 2.969032 2.942347 2.926738 2.943005 3.288983 2.927123 2.935212\n",
              " [97] 2.922050 2.925415 3.343215 2.926903 4.911896 3.024628 4.859650 4.893754\n",
              "[105] 4.865224 4.982695 3.092966 4.913235 4.893969 4.922814 4.906965 4.908091\n",
              "[113] 4.856942 3.034796 3.140832 4.897839 4.876732 5.070180 5.085520 3.016939\n",
              "[121] 4.857483 3.014961 5.024193 2.995155 4.857863 4.878620 2.968217 2.985392\n",
              "[129] 4.880670 4.886274 4.904819 5.058696 4.882287 3.013997 4.977940 4.942766\n",
              "[137] 4.905087 4.884442 2.965063 4.862465 4.865603 4.898000 3.024628 4.859867\n",
              "[145] 4.876678 4.888428 3.037240 4.893808 4.921477 3.019237"
            ],
            "text/latex": "\\begin{enumerate*}\n\\item 4.00849298365358\n\\item 4.0309323983416\n\\item 4.02765639050801\n\\item 4.0402989988366\n\\item 4.0104383800278\n\\item 4.06280888056527\n\\item 4.02745775893429\n\\item 4.0065466426837\n\\item 4.08656530597518\n\\item 4.02363218994977\n\\item 4.03494931814515\n\\item 4.01402740399215\n\\item 4.03717921326265\n\\item 4.10877305287114\n\\item 4.13236203641452\n\\item 4.18325423564\n\\item 4.05906590239676\n\\item 4.00859277053681\n\\item 4.08994083086785\n\\item 4.02487465643341\n\\item 4.03271819000535\n\\item 4.01945468938263\n\\item 4.05684803757794\n\\item 4.0242286217361\n\\item 4.03549451740428\n\\item 4.03142853093044\n\\item 4.0114356532294\n\\item 4.01178464028168\n\\item 4.01153536691377\n\\item 4.02676247126646\n\\item 4.02730877882489\n\\item 4.02855011139243\n\\item 4.06939995576743\n\\item 4.1102330834151\n\\item 4.021245578176\n\\item 4.02129531370179\n\\item 4.04049699913266\n\\item 4.01422670012544\n\\item 4.07759929370212\n\\item 4.00764469483012\n\\item 4.01028876765751\n\\item 4.19590467003244\n\\item 4.06147953337204\n\\item 4.02462619382223\n\\item 4.0510265365707\n\\item 4.03489975092319\n\\item 4.02696113713554\n\\item 4.03370995486785\n\\item 4.02641478240879\n\\item 4.00879233685159\n\\item 3.15036913748109\n\\item 2.98117532989166\n\\item 4.95589900048892\n\\item 2.99240757948315\n\\item 2.9710408558129\n\\item 2.91409033432165\n\\item 3.00064292451765\n\\item 3.30576035260346\n\\item 2.99843828584252\n\\item 3.02633386627042\n\\item 3.28314167388196\n\\item 2.91967517401306\n\\item 3.01212387170952\n\\item 2.92861079460285\n\\item 3.03000903210723\n\\item 3.03011549217876\n\\item 2.93075789368989\n\\item 2.95066748475987\n\\item 2.97066081914333\n\\item 2.9878225795568\n\\item 2.98706672805902\n\\item 2.93839761453467\n\\item 2.98339272540613\n\\item 2.93427793378813\n\\item 2.95252541861279\n\\item 2.99526290931893\n\\item 3.06520323366717\n\\item 4.9232945920277\n\\item 2.90993624126024\n\\item 3.07712474074992\n\\item 3.02750614274007\n\\item 3.06125420625217\n\\item 2.95470972742858\n\\item 2.99300041911874\n\\item 2.9580376929167\n\\item 2.98204085114158\n\\item 3.04609531533983\n\\item 2.96598782312225\n\\item 2.94579852131808\n\\item 2.96903153958298\n\\item 2.94234708142235\n\\item 2.92673767945281\n\\item 2.9430048106139\n\\item 3.28898257027225\n\\item 2.92712341879275\n\\item 2.93521223486202\n\\item 2.92204963843705\n\\item 2.92541475843084\n\\item 3.34321458583045\n\\item 2.92690300253772\n\\item 4.91189620988995\n\\item 3.02462792579354\n\\item 4.8596499936664\n\\item 4.89375414583622\n\\item 4.86522441283623\n\\item 4.98269512337658\n\\item 3.09296598843556\n\\item 4.91323541787569\n\\item 4.89396923805689\n\\item 4.92281350426603\n\\item 4.90696477714073\n\\item 4.90809086668927\n\\item 4.85694165823187\n\\item 3.03479603807503\n\\item 3.14083200798663\n\\item 4.89783928277452\n\\item 4.87673188215382\n\\item 5.07017991561752\n\\item 5.08552001769883\n\\item 3.01693925636346\n\\item 4.8574834461234\n\\item 3.0149605292136\n\\item 5.02419285561527\n\\item 2.99515521044426\n\\item 4.85786266169487\n\\item 4.87862018433974\n\\item 2.96821656443075\n\\item 2.98539237586573\n\\item 4.88066951381131\n\\item 4.88627380988339\n\\item 4.90481912944002\n\\item 5.05869633277761\n\\item 4.88228679787774\n\\item 3.01399743548382\n\\item 4.97793956084926\n\\item 4.94276591627068\n\\item 4.90508738673106\n\\item 4.88444234363661\n\\item 2.96506321955228\n\\item 4.86246506229037\n\\item 4.86560302509195\n\\item 4.89800046827862\n\\item 3.02462792579354\n\\item 4.85986659529865\n\\item 4.87667791991906\n\\item 4.88842759757484\n\\item 3.03723981641117\n\\item 4.89380791977767\n\\item 4.92147690262253\n\\item 3.01923722889223\n\\end{enumerate*}\n",
            "text/markdown": "1. 4.00849298365358\n2. 4.0309323983416\n3. 4.02765639050801\n4. 4.0402989988366\n5. 4.0104383800278\n6. 4.06280888056527\n7. 4.02745775893429\n8. 4.0065466426837\n9. 4.08656530597518\n10. 4.02363218994977\n11. 4.03494931814515\n12. 4.01402740399215\n13. 4.03717921326265\n14. 4.10877305287114\n15. 4.13236203641452\n16. 4.18325423564\n17. 4.05906590239676\n18. 4.00859277053681\n19. 4.08994083086785\n20. 4.02487465643341\n21. 4.03271819000535\n22. 4.01945468938263\n23. 4.05684803757794\n24. 4.0242286217361\n25. 4.03549451740428\n26. 4.03142853093044\n27. 4.0114356532294\n28. 4.01178464028168\n29. 4.01153536691377\n30. 4.02676247126646\n31. 4.02730877882489\n32. 4.02855011139243\n33. 4.06939995576743\n34. 4.1102330834151\n35. 4.021245578176\n36. 4.02129531370179\n37. 4.04049699913266\n38. 4.01422670012544\n39. 4.07759929370212\n40. 4.00764469483012\n41. 4.01028876765751\n42. 4.19590467003244\n43. 4.06147953337204\n44. 4.02462619382223\n45. 4.0510265365707\n46. 4.03489975092319\n47. 4.02696113713554\n48. 4.03370995486785\n49. 4.02641478240879\n50. 4.00879233685159\n51. 3.15036913748109\n52. 2.98117532989166\n53. 4.95589900048892\n54. 2.99240757948315\n55. 2.9710408558129\n56. 2.91409033432165\n57. 3.00064292451765\n58. 3.30576035260346\n59. 2.99843828584252\n60. 3.02633386627042\n61. 3.28314167388196\n62. 2.91967517401306\n63. 3.01212387170952\n64. 2.92861079460285\n65. 3.03000903210723\n66. 3.03011549217876\n67. 2.93075789368989\n68. 2.95066748475987\n69. 2.97066081914333\n70. 2.9878225795568\n71. 2.98706672805902\n72. 2.93839761453467\n73. 2.98339272540613\n74. 2.93427793378813\n75. 2.95252541861279\n76. 2.99526290931893\n77. 3.06520323366717\n78. 4.9232945920277\n79. 2.90993624126024\n80. 3.07712474074992\n81. 3.02750614274007\n82. 3.06125420625217\n83. 2.95470972742858\n84. 2.99300041911874\n85. 2.9580376929167\n86. 2.98204085114158\n87. 3.04609531533983\n88. 2.96598782312225\n89. 2.94579852131808\n90. 2.96903153958298\n91. 2.94234708142235\n92. 2.92673767945281\n93. 2.9430048106139\n94. 3.28898257027225\n95. 2.92712341879275\n96. 2.93521223486202\n97. 2.92204963843705\n98. 2.92541475843084\n99. 3.34321458583045\n100. 2.92690300253772\n101. 4.91189620988995\n102. 3.02462792579354\n103. 4.8596499936664\n104. 4.89375414583622\n105. 4.86522441283623\n106. 4.98269512337658\n107. 3.09296598843556\n108. 4.91323541787569\n109. 4.89396923805689\n110. 4.92281350426603\n111. 4.90696477714073\n112. 4.90809086668927\n113. 4.85694165823187\n114. 3.03479603807503\n115. 3.14083200798663\n116. 4.89783928277452\n117. 4.87673188215382\n118. 5.07017991561752\n119. 5.08552001769883\n120. 3.01693925636346\n121. 4.8574834461234\n122. 3.0149605292136\n123. 5.02419285561527\n124. 2.99515521044426\n125. 4.85786266169487\n126. 4.87862018433974\n127. 2.96821656443075\n128. 2.98539237586573\n129. 4.88066951381131\n130. 4.88627380988339\n131. 4.90481912944002\n132. 5.05869633277761\n133. 4.88228679787774\n134. 3.01399743548382\n135. 4.97793956084926\n136. 4.94276591627068\n137. 4.90508738673106\n138. 4.88444234363661\n139. 2.96506321955228\n140. 4.86246506229037\n141. 4.86560302509195\n142. 4.89800046827862\n143. 3.02462792579354\n144. 4.85986659529865\n145. 4.87667791991906\n146. 4.88842759757484\n147. 3.03723981641117\n148. 4.89380791977767\n149. 4.92147690262253\n150. 3.01923722889223\n\n\n",
            "text/html": [
              "<style>\n",
              ".list-inline {list-style: none; margin:0; padding: 0}\n",
              ".list-inline>li {display: inline-block}\n",
              ".list-inline>li:not(:last-child)::after {content: \"\\00b7\"; padding: 0 .5ex}\n",
              "</style>\n",
              "<ol class=list-inline><li>4.00849298365358</li><li>4.0309323983416</li><li>4.02765639050801</li><li>4.0402989988366</li><li>4.0104383800278</li><li>4.06280888056527</li><li>4.02745775893429</li><li>4.0065466426837</li><li>4.08656530597518</li><li>4.02363218994977</li><li>4.03494931814515</li><li>4.01402740399215</li><li>4.03717921326265</li><li>4.10877305287114</li><li>4.13236203641452</li><li>4.18325423564</li><li>4.05906590239676</li><li>4.00859277053681</li><li>4.08994083086785</li><li>4.02487465643341</li><li>4.03271819000535</li><li>4.01945468938263</li><li>4.05684803757794</li><li>4.0242286217361</li><li>4.03549451740428</li><li>4.03142853093044</li><li>4.0114356532294</li><li>4.01178464028168</li><li>4.01153536691377</li><li>4.02676247126646</li><li>4.02730877882489</li><li>4.02855011139243</li><li>4.06939995576743</li><li>4.1102330834151</li><li>4.021245578176</li><li>4.02129531370179</li><li>4.04049699913266</li><li>4.01422670012544</li><li>4.07759929370212</li><li>4.00764469483012</li><li>4.01028876765751</li><li>4.19590467003244</li><li>4.06147953337204</li><li>4.02462619382223</li><li>4.0510265365707</li><li>4.03489975092319</li><li>4.02696113713554</li><li>4.03370995486785</li><li>4.02641478240879</li><li>4.00879233685159</li><li>3.15036913748109</li><li>2.98117532989166</li><li>4.95589900048892</li><li>2.99240757948315</li><li>2.9710408558129</li><li>2.91409033432165</li><li>3.00064292451765</li><li>3.30576035260346</li><li>2.99843828584252</li><li>3.02633386627042</li><li>3.28314167388196</li><li>2.91967517401306</li><li>3.01212387170952</li><li>2.92861079460285</li><li>3.03000903210723</li><li>3.03011549217876</li><li>2.93075789368989</li><li>2.95066748475987</li><li>2.97066081914333</li><li>2.9878225795568</li><li>2.98706672805902</li><li>2.93839761453467</li><li>2.98339272540613</li><li>2.93427793378813</li><li>2.95252541861279</li><li>2.99526290931893</li><li>3.06520323366717</li><li>4.9232945920277</li><li>2.90993624126024</li><li>3.07712474074992</li><li>3.02750614274007</li><li>3.06125420625217</li><li>2.95470972742858</li><li>2.99300041911874</li><li>2.9580376929167</li><li>2.98204085114158</li><li>3.04609531533983</li><li>2.96598782312225</li><li>2.94579852131808</li><li>2.96903153958298</li><li>2.94234708142235</li><li>2.92673767945281</li><li>2.9430048106139</li><li>3.28898257027225</li><li>2.92712341879275</li><li>2.93521223486202</li><li>2.92204963843705</li><li>2.92541475843084</li><li>3.34321458583045</li><li>2.92690300253772</li><li>4.91189620988995</li><li>3.02462792579354</li><li>4.8596499936664</li><li>4.89375414583622</li><li>4.86522441283623</li><li>4.98269512337658</li><li>3.09296598843556</li><li>4.91323541787569</li><li>4.89396923805689</li><li>4.92281350426603</li><li>4.90696477714073</li><li>4.90809086668927</li><li>4.85694165823187</li><li>3.03479603807503</li><li>3.14083200798663</li><li>4.89783928277452</li><li>4.87673188215382</li><li>5.07017991561752</li><li>5.08552001769883</li><li>3.01693925636346</li><li>4.8574834461234</li><li>3.0149605292136</li><li>5.02419285561527</li><li>2.99515521044426</li><li>4.85786266169487</li><li>4.87862018433974</li><li>2.96821656443075</li><li>2.98539237586573</li><li>4.88066951381131</li><li>4.88627380988339</li><li>4.90481912944002</li><li>5.05869633277761</li><li>4.88228679787774</li><li>3.01399743548382</li><li>4.97793956084926</li><li>4.94276591627068</li><li>4.90508738673106</li><li>4.88444234363661</li><li>2.96506321955228</li><li>4.86246506229037</li><li>4.86560302509195</li><li>4.89800046827862</li><li>3.02462792579354</li><li>4.85986659529865</li><li>4.87667791991906</li><li>4.88842759757484</li><li>3.03723981641117</li><li>4.89380791977767</li><li>4.92147690262253</li><li>3.01923722889223</li></ol>\n"
            ]
          },
          "metadata": {
            "tags": []
          }
        }
      ]
    },
    {
      "cell_type": "code",
      "metadata": {
        "id": "2_4McwabsHfe",
        "outputId": "b2f17ff6-1be7-43cb-c251-3f3a29064fb6",
        "colab": {
          "base_uri": "https://localhost:8080/",
          "height": 136
        }
      },
      "source": [
        "\n",
        "# Se ordenan los registros con mayor distancia a sus respectivos centroides y se toman los top 5\n",
        "\n",
        "outliers <- order(distancias, decreasing=T)[1:5]\n",
        "\n",
        "# Cuales son los outliers\n",
        "\n",
        "print(outliers)\n",
        "print(base[outliers,])\n",
        "\n"
      ],
      "execution_count": 18,
      "outputs": [
        {
          "output_type": "stream",
          "text": [
            "[1] 119 118 132 123 106\n",
            "    Sepal.Length Sepal.Width Petal.Length Petal.Width cl_kmens\n",
            "119          7.7         2.6          6.9         2.3        2\n",
            "118          7.7         3.8          6.7         2.2        2\n",
            "132          7.9         3.8          6.4         2.0        2\n",
            "123          7.7         2.8          6.7         2.0        2\n",
            "106          7.6         3.0          6.6         2.1        2\n"
          ],
          "name": "stdout"
        }
      ]
    },
    {
      "cell_type": "code",
      "metadata": {
        "id": "JBo71PrXsHm7",
        "outputId": "a3a57d3b-b336-4d26-8138-73852c9df474",
        "colab": {
          "base_uri": "https://localhost:8080/",
          "height": 437
        }
      },
      "source": [
        "# Se grafican los clusters\n",
        "plot(base[,c(\"Sepal.Length\", \"Sepal.Width\")], pch=\"o\", col=kmeans.resultado$cluster, cex=0.3)\n",
        "#Se marcan los centroides de los clusters\n",
        "points(kmeans.resultado$centers[,c(\"Sepal.Length\", \"Sepal.Width\")], col=1:3, pch=8, cex=1.5)\n",
        "\n",
        "\n"
      ],
      "execution_count": 19,
      "outputs": [
        {
          "output_type": "display_data",
          "data": {
            "image/png": "[encoded data removed]",
            "text/plain": [
              "plot without title"
            ]
          },
          "metadata": {
            "tags": [],
            "image/png": {
              "width": 420,
              "height": 420
            }
          }
        }
      ]
    },
    {
      "cell_type": "code",
      "metadata": {
        "id": "PAw88G_-sHr1",
        "outputId": "c3eb4d79-4a56-4bd1-9694-06e0b1a9caa8",
        "colab": {
          "base_uri": "https://localhost:8080/",
          "height": 437
        }
      },
      "source": [
        "# Se grafican los outliers\n",
        "plot(base[,c(\"Sepal.Length\", \"Sepal.Width\")], pch=\"o\", col=kmeans.resultado$cluster, cex=0.3)\n",
        "points(kmeans.resultado$centers[,c(\"Sepal.Length\", \"Sepal.Width\")], col=1:3, pch=8, cex=1.5)\n",
        "points(base[outliers, c(\"Sepal.Length\", \"Sepal.Width\")], pch=\"+\", col=4, cex=1.5)\n"
      ],
      "execution_count": 20,
      "outputs": [
        {
          "output_type": "display_data",
          "data": {
            "image/png": "[encoded data removed]",
            "text/plain": [
              "plot without title"
            ]
          },
          "metadata": {
            "tags": [],
            "image/png": {
              "width": 420,
              "height": 420
            }
          }
        }
      ]
    },
    {
      "cell_type": "markdown",
      "metadata": {
        "id": "_3cNed7TvQry"
      },
      "source": [
        " ## Número de clusters\n",
        "\n",
        " Una de las opciones más utilizadas es la regla del \"codo\". Otra manera es estudiando el ancho de \"silueta\" de cada observación."
      ]
    },
    {
      "cell_type": "code",
      "metadata": {
        "id": "asWh8GE2tkl0",
        "outputId": "c73c8efc-7270-46e8-d62b-8e1330cad3e7",
        "colab": {
          "base_uri": "https://localhost:8080/",
          "height": 34
        }
      },
      "source": [
        "names(base)\n",
        "base$cl_kmens <- NULL"
      ],
      "execution_count": 22,
      "outputs": [
        {
          "output_type": "display_data",
          "data": {
            "text/plain": [
              "[1] \"Sepal.Length\" \"Sepal.Width\"  \"Petal.Length\" \"Petal.Width\"  \"cl_kmens\"    "
            ],
            "text/latex": "\\begin{enumerate*}\n\\item 'Sepal.Length'\n\\item 'Sepal.Width'\n\\item 'Petal.Length'\n\\item 'Petal.Width'\n\\item 'cl\\_kmens'\n\\end{enumerate*}\n",
            "text/markdown": "1. 'Sepal.Length'\n2. 'Sepal.Width'\n3. 'Petal.Length'\n4. 'Petal.Width'\n5. 'cl_kmens'\n\n\n",
            "text/html": [
              "<style>\n",
              ".list-inline {list-style: none; margin:0; padding: 0}\n",
              ".list-inline>li {display: inline-block}\n",
              ".list-inline>li:not(:last-child)::after {content: \"\\00b7\"; padding: 0 .5ex}\n",
              "</style>\n",
              "<ol class=list-inline><li>'Sepal.Length'</li><li>'Sepal.Width'</li><li>'Petal.Length'</li><li>'Petal.Width'</li><li>'cl_kmens'</li></ol>\n"
            ]
          },
          "metadata": {
            "tags": []
          }
        }
      ]
    },
    {
      "cell_type": "code",
      "metadata": {
        "id": "t7NrwZ8mtqkS",
        "outputId": "bc6756bd-1159-42cc-fa5c-f413e75aa798",
        "colab": {
          "base_uri": "https://localhost:8080/",
          "height": 34
        }
      },
      "source": [
        "names(base)"
      ],
      "execution_count": 23,
      "outputs": [
        {
          "output_type": "display_data",
          "data": {
            "text/plain": [
              "[1] \"Sepal.Length\" \"Sepal.Width\"  \"Petal.Length\" \"Petal.Width\" "
            ],
            "text/latex": "\\begin{enumerate*}\n\\item 'Sepal.Length'\n\\item 'Sepal.Width'\n\\item 'Petal.Length'\n\\item 'Petal.Width'\n\\end{enumerate*}\n",
            "text/markdown": "1. 'Sepal.Length'\n2. 'Sepal.Width'\n3. 'Petal.Length'\n4. 'Petal.Width'\n\n\n",
            "text/html": [
              "<style>\n",
              ".list-inline {list-style: none; margin:0; padding: 0}\n",
              ".list-inline>li {display: inline-block}\n",
              ".list-inline>li:not(:last-child)::after {content: \"\\00b7\"; padding: 0 .5ex}\n",
              "</style>\n",
              "<ol class=list-inline><li>'Sepal.Length'</li><li>'Sepal.Width'</li><li>'Petal.Length'</li><li>'Petal.Width'</li></ol>\n"
            ]
          },
          "metadata": {
            "tags": []
          }
        }
      ]
    },
    {
      "cell_type": "code",
      "metadata": {
        "id": "rrmGExsVv05A"
      },
      "source": [
        "centros <- 2:50\n",
        "twss_df <- data.frame()\n",
        "\n",
        "for(k in centros){\n",
        " modelo <- kmeans(base,centers = k,nstart = 10)\n",
        " twss <- modelo$tot.withinss\n",
        " twss_df<- bind_rows(twss_df, data.frame(K = k, TWSS = twss))\n",
        "\n",
        "}\n",
        "\n",
        "\n",
        "\n",
        "\n",
        "\n",
        "\n"
      ],
      "execution_count": 32,
      "outputs": []
    },
    {
      "cell_type": "code",
      "metadata": {
        "id": "iwsHYzBsuQQT",
        "outputId": "12eb9d7a-7b0e-497e-8e6d-1cf07426354a",
        "colab": {
          "base_uri": "https://localhost:8080/",
          "height": 437
        }
      },
      "source": [
        "library(ggplot2)\n",
        "twss_df %>%\n",
        "  ggplot() +\n",
        "  aes(x = K,y = TWSS) +\n",
        "  geom_point() +\n",
        "  geom_line()"
      ],
      "execution_count": 33,
      "outputs": [
        {
          "output_type": "display_data",
          "data": {
            "image/png": "[encoded data removed]",
            "text/plain": [
              "plot without title"
            ]
          },
          "metadata": {
            "tags": [],
            "image/png": {
              "width": 420,
              "height": 420
            }
          }
        }
      ]
    },
    {
      "cell_type": "code",
      "metadata": {
        "id": "69IPHb6PvCmz"
      },
      "source": [
        "modelo_final<- kmeans(base,centers = 4,nstart = 10)"
      ],
      "execution_count": 34,
      "outputs": []
    },
    {
      "cell_type": "code",
      "metadata": {
        "id": "T9Q_M6idvGdM",
        "outputId": "4b3bc646-d97e-4e00-a1cd-8fd6a4bcf055",
        "colab": {
          "base_uri": "https://localhost:8080/",
          "height": 34
        }
      },
      "source": [
        "base$cl_final <- modelo_final$cluster\n",
        "modelo_final$size"
      ],
      "execution_count": 35,
      "outputs": [
        {
          "output_type": "display_data",
          "data": {
            "text/plain": [
              "[1] 50 28 32 40"
            ],
            "text/latex": "\\begin{enumerate*}\n\\item 50\n\\item 28\n\\item 32\n\\item 40\n\\end{enumerate*}\n",
            "text/markdown": "1. 50\n2. 28\n3. 32\n4. 40\n\n\n",
            "text/html": [
              "<style>\n",
              ".list-inline {list-style: none; margin:0; padding: 0}\n",
              ".list-inline>li {display: inline-block}\n",
              ".list-inline>li:not(:last-child)::after {content: \"\\00b7\"; padding: 0 .5ex}\n",
              "</style>\n",
              "<ol class=list-inline><li>50</li><li>28</li><li>32</li><li>40</li></ol>\n"
            ]
          },
          "metadata": {
            "tags": []
          }
        }
      ]
    },
    {
      "cell_type": "markdown",
      "metadata": {
        "id": "ys6QD50Uv0U3"
      },
      "source": [
        "## NOTA: Escalar datos "
      ]
    },
    {
      "cell_type": "code",
      "metadata": {
        "id": "9i3CN2_hv5K9"
      },
      "source": [
        "base2 <- base[,-5]\n"
      ],
      "execution_count": 36,
      "outputs": []
    },
    {
      "cell_type": "code",
      "metadata": {
        "id": "iHYVSjScv_nw"
      },
      "source": [
        "base2 <- scale(base2)"
      ],
      "execution_count": 38,
      "outputs": []
    },
    {
      "cell_type": "code",
      "metadata": {
        "id": "MmGMPUtswFVp",
        "outputId": "01a5d25c-3119-4dd6-fe9d-3641bd2dc37a",
        "colab": {
          "base_uri": "https://localhost:8080/",
          "height": 1000
        }
      },
      "source": [
        "base2"
      ],
      "execution_count": 39,
      "outputs": [
        {
          "output_type": "display_data",
          "data": {
            "text/plain": [
              "      Sepal.Length Sepal.Width Petal.Length Petal.Width\n",
              " [1,] -0.89767388   1.01560199 -1.335752    -1.3110521 \n",
              " [2,] -1.13920048  -0.13153881 -1.335752    -1.3110521 \n",
              " [3,] -1.38072709   0.32731751 -1.392399    -1.3110521 \n",
              " [4,] -1.50149039   0.09788935 -1.279104    -1.3110521 \n",
              " [5,] -1.01843718   1.24503015 -1.335752    -1.3110521 \n",
              " [6,] -0.53538397   1.93331463 -1.165809    -1.0486668 \n",
              " [7,] -1.50149039   0.78617383 -1.335752    -1.1798595 \n",
              " [8,] -1.01843718   0.78617383 -1.279104    -1.3110521 \n",
              " [9,] -1.74301699  -0.36096697 -1.335752    -1.3110521 \n",
              "[10,] -1.13920048   0.09788935 -1.279104    -1.4422448 \n",
              "[11,] -0.53538397   1.47445831 -1.279104    -1.3110521 \n",
              "[12,] -1.25996379   0.78617383 -1.222456    -1.3110521 \n",
              "[13,] -1.25996379  -0.13153881 -1.335752    -1.4422448 \n",
              "[14,] -1.86378030  -0.13153881 -1.505695    -1.4422448 \n",
              "[15,] -0.05233076   2.16274279 -1.449047    -1.3110521 \n",
              "[16,] -0.17309407   3.08045544 -1.279104    -1.0486668 \n",
              "[17,] -0.53538397   1.93331463 -1.392399    -1.0486668 \n",
              "[18,] -0.89767388   1.01560199 -1.335752    -1.1798595 \n",
              "[19,] -0.17309407   1.70388647 -1.165809    -1.1798595 \n",
              "[20,] -0.89767388   1.70388647 -1.279104    -1.1798595 \n",
              "[21,] -0.53538397   0.78617383 -1.165809    -1.3110521 \n",
              "[22,] -0.89767388   1.47445831 -1.279104    -1.0486668 \n",
              "[23,] -1.50149039   1.24503015 -1.562342    -1.3110521 \n",
              "[24,] -0.89767388   0.55674567 -1.165809    -0.9174741 \n",
              "[25,] -1.25996379   0.78617383 -1.052513    -1.3110521 \n",
              "[26,] -1.01843718  -0.13153881 -1.222456    -1.3110521 \n",
              "[27,] -1.01843718   0.78617383 -1.222456    -1.0486668 \n",
              "[28,] -0.77691058   1.01560199 -1.279104    -1.3110521 \n",
              "[29,] -0.77691058   0.78617383 -1.335752    -1.3110521 \n",
              "[30,] -1.38072709   0.32731751 -1.222456    -1.3110521 \n",
              "[31,] ⋮            ⋮           ⋮            ⋮          \n",
              "[32,]  1.27606556   0.32731751 1.1000974    1.4439941  \n",
              "[33,] -0.29385737  -0.59039513 0.6469162    1.0504160  \n",
              "[34,]  2.24217198  -0.59039513 1.6665739    1.0504160  \n",
              "[35,]  0.55148575  -0.81982329 0.6469162    0.7880307  \n",
              "[36,]  1.03453895   0.55674567 1.1000974    1.1816087  \n",
              "[37,]  1.63835547   0.32731751 1.2700404    0.7880307  \n",
              "[38,]  0.43072244  -0.59039513 0.5902685    0.7880307  \n",
              "[39,]  0.30995914  -0.13153881 0.6469162    0.7880307  \n",
              "[40,]  0.67224905  -0.59039513 1.0434497    1.1816087  \n",
              "[41,]  1.63835547  -0.13153881 1.1567451    0.5256453  \n",
              "[42,]  1.87988207  -0.59039513 1.3266880    0.9192234  \n",
              "[43,]  2.48369858   1.70388647 1.4966310    1.0504160  \n",
              "[44,]  0.67224905  -0.59039513 1.0434497    1.3128014  \n",
              "[45,]  0.55148575  -0.59039513 0.7602115    0.3944526  \n",
              "[46,]  0.30995914  -1.04925145 1.0434497    0.2632600  \n",
              "[47,]  2.24217198  -0.13153881 1.3266880    1.4439941  \n",
              "[48,]  0.55148575   0.78617383 1.0434497    1.5751867  \n",
              "[49,]  0.67224905   0.09788935 0.9868021    0.7880307  \n",
              "[50,]  0.18919584  -0.13153881 0.5902685    0.7880307  \n",
              "[51,]  1.27606556   0.09788935 0.9301544    1.1816087  \n",
              "[52,]  1.03453895   0.09788935 1.0434497    1.5751867  \n",
              "[53,]  1.27606556   0.09788935 0.7602115    1.4439941  \n",
              "[54,] -0.05233076  -0.81982329 0.7602115    0.9192234  \n",
              "[55,]  1.15530226   0.32731751 1.2133927    1.4439941  \n",
              "[56,]  1.03453895   0.55674567 1.1000974    1.7063794  \n",
              "[57,]  1.03453895  -0.13153881 0.8168591    1.4439941  \n",
              "[58,]  0.55148575  -1.27867961 0.7035638    0.9192234  \n",
              "[59,]  0.79301235  -0.13153881 0.8168591    1.0504160  \n",
              "[60,]  0.43072244   0.78617383 0.9301544    1.4439941  \n",
              "[61,]  0.06843254  -0.13153881 0.7602115    0.7880307  "
            ],
            "text/latex": "A matrix: 150 × 4 of type dbl\n\\begin{tabular}{llll}\n Sepal.Length & Sepal.Width & Petal.Length & Petal.Width\\\\\n\\hline\n\t -0.89767388 &  1.01560199 & -1.335752 & -1.3110521\\\\\n\t -1.13920048 & -0.13153881 & -1.335752 & -1.3110521\\\\\n\t -1.38072709 &  0.32731751 & -1.392399 & -1.3110521\\\\\n\t -1.50149039 &  0.09788935 & -1.279104 & -1.3110521\\\\\n\t -1.01843718 &  1.24503015 & -1.335752 & -1.3110521\\\\\n\t -0.53538397 &  1.93331463 & -1.165809 & -1.0486668\\\\\n\t -1.50149039 &  0.78617383 & -1.335752 & -1.1798595\\\\\n\t -1.01843718 &  0.78617383 & -1.279104 & -1.3110521\\\\\n\t -1.74301699 & -0.36096697 & -1.335752 & -1.3110521\\\\\n\t -1.13920048 &  0.09788935 & -1.279104 & -1.4422448\\\\\n\t -0.53538397 &  1.47445831 & -1.279104 & -1.3110521\\\\\n\t -1.25996379 &  0.78617383 & -1.222456 & -1.3110521\\\\\n\t -1.25996379 & -0.13153881 & -1.335752 & -1.4422448\\\\\n\t -1.86378030 & -0.13153881 & -1.505695 & -1.4422448\\\\\n\t -0.05233076 &  2.16274279 & -1.449047 & -1.3110521\\\\\n\t -0.17309407 &  3.08045544 & -1.279104 & -1.0486668\\\\\n\t -0.53538397 &  1.93331463 & -1.392399 & -1.0486668\\\\\n\t -0.89767388 &  1.01560199 & -1.335752 & -1.1798595\\\\\n\t -0.17309407 &  1.70388647 & -1.165809 & -1.1798595\\\\\n\t -0.89767388 &  1.70388647 & -1.279104 & -1.1798595\\\\\n\t -0.53538397 &  0.78617383 & -1.165809 & -1.3110521\\\\\n\t -0.89767388 &  1.47445831 & -1.279104 & -1.0486668\\\\\n\t -1.50149039 &  1.24503015 & -1.562342 & -1.3110521\\\\\n\t -0.89767388 &  0.55674567 & -1.165809 & -0.9174741\\\\\n\t -1.25996379 &  0.78617383 & -1.052513 & -1.3110521\\\\\n\t -1.01843718 & -0.13153881 & -1.222456 & -1.3110521\\\\\n\t -1.01843718 &  0.78617383 & -1.222456 & -1.0486668\\\\\n\t -0.77691058 &  1.01560199 & -1.279104 & -1.3110521\\\\\n\t -0.77691058 &  0.78617383 & -1.335752 & -1.3110521\\\\\n\t -1.38072709 &  0.32731751 & -1.222456 & -1.3110521\\\\\n\t ⋮ & ⋮ & ⋮ & ⋮\\\\\n\t  1.27606556 &  0.32731751 & 1.1000974 & 1.4439941\\\\\n\t -0.29385737 & -0.59039513 & 0.6469162 & 1.0504160\\\\\n\t  2.24217198 & -0.59039513 & 1.6665739 & 1.0504160\\\\\n\t  0.55148575 & -0.81982329 & 0.6469162 & 0.7880307\\\\\n\t  1.03453895 &  0.55674567 & 1.1000974 & 1.1816087\\\\\n\t  1.63835547 &  0.32731751 & 1.2700404 & 0.7880307\\\\\n\t  0.43072244 & -0.59039513 & 0.5902685 & 0.7880307\\\\\n\t  0.30995914 & -0.13153881 & 0.6469162 & 0.7880307\\\\\n\t  0.67224905 & -0.59039513 & 1.0434497 & 1.1816087\\\\\n\t  1.63835547 & -0.13153881 & 1.1567451 & 0.5256453\\\\\n\t  1.87988207 & -0.59039513 & 1.3266880 & 0.9192234\\\\\n\t  2.48369858 &  1.70388647 & 1.4966310 & 1.0504160\\\\\n\t  0.67224905 & -0.59039513 & 1.0434497 & 1.3128014\\\\\n\t  0.55148575 & -0.59039513 & 0.7602115 & 0.3944526\\\\\n\t  0.30995914 & -1.04925145 & 1.0434497 & 0.2632600\\\\\n\t  2.24217198 & -0.13153881 & 1.3266880 & 1.4439941\\\\\n\t  0.55148575 &  0.78617383 & 1.0434497 & 1.5751867\\\\\n\t  0.67224905 &  0.09788935 & 0.9868021 & 0.7880307\\\\\n\t  0.18919584 & -0.13153881 & 0.5902685 & 0.7880307\\\\\n\t  1.27606556 &  0.09788935 & 0.9301544 & 1.1816087\\\\\n\t  1.03453895 &  0.09788935 & 1.0434497 & 1.5751867\\\\\n\t  1.27606556 &  0.09788935 & 0.7602115 & 1.4439941\\\\\n\t -0.05233076 & -0.81982329 & 0.7602115 & 0.9192234\\\\\n\t  1.15530226 &  0.32731751 & 1.2133927 & 1.4439941\\\\\n\t  1.03453895 &  0.55674567 & 1.1000974 & 1.7063794\\\\\n\t  1.03453895 & -0.13153881 & 0.8168591 & 1.4439941\\\\\n\t  0.55148575 & -1.27867961 & 0.7035638 & 0.9192234\\\\\n\t  0.79301235 & -0.13153881 & 0.8168591 & 1.0504160\\\\\n\t  0.43072244 &  0.78617383 & 0.9301544 & 1.4439941\\\\\n\t  0.06843254 & -0.13153881 & 0.7602115 & 0.7880307\\\\\n\\end{tabular}\n",
            "text/markdown": "\nA matrix: 150 × 4 of type dbl\n\n| Sepal.Length | Sepal.Width | Petal.Length | Petal.Width |\n|---|---|---|---|\n| -0.89767388 |  1.01560199 | -1.335752 | -1.3110521 |\n| -1.13920048 | -0.13153881 | -1.335752 | -1.3110521 |\n| -1.38072709 |  0.32731751 | -1.392399 | -1.3110521 |\n| -1.50149039 |  0.09788935 | -1.279104 | -1.3110521 |\n| -1.01843718 |  1.24503015 | -1.335752 | -1.3110521 |\n| -0.53538397 |  1.93331463 | -1.165809 | -1.0486668 |\n| -1.50149039 |  0.78617383 | -1.335752 | -1.1798595 |\n| -1.01843718 |  0.78617383 | -1.279104 | -1.3110521 |\n| -1.74301699 | -0.36096697 | -1.335752 | -1.3110521 |\n| -1.13920048 |  0.09788935 | -1.279104 | -1.4422448 |\n| -0.53538397 |  1.47445831 | -1.279104 | -1.3110521 |\n| -1.25996379 |  0.78617383 | -1.222456 | -1.3110521 |\n| -1.25996379 | -0.13153881 | -1.335752 | -1.4422448 |\n| -1.86378030 | -0.13153881 | -1.505695 | -1.4422448 |\n| -0.05233076 |  2.16274279 | -1.449047 | -1.3110521 |\n| -0.17309407 |  3.08045544 | -1.279104 | -1.0486668 |\n| -0.53538397 |  1.93331463 | -1.392399 | -1.0486668 |\n| -0.89767388 |  1.01560199 | -1.335752 | -1.1798595 |\n| -0.17309407 |  1.70388647 | -1.165809 | -1.1798595 |\n| -0.89767388 |  1.70388647 | -1.279104 | -1.1798595 |\n| -0.53538397 |  0.78617383 | -1.165809 | -1.3110521 |\n| -0.89767388 |  1.47445831 | -1.279104 | -1.0486668 |\n| -1.50149039 |  1.24503015 | -1.562342 | -1.3110521 |\n| -0.89767388 |  0.55674567 | -1.165809 | -0.9174741 |\n| -1.25996379 |  0.78617383 | -1.052513 | -1.3110521 |\n| -1.01843718 | -0.13153881 | -1.222456 | -1.3110521 |\n| -1.01843718 |  0.78617383 | -1.222456 | -1.0486668 |\n| -0.77691058 |  1.01560199 | -1.279104 | -1.3110521 |\n| -0.77691058 |  0.78617383 | -1.335752 | -1.3110521 |\n| -1.38072709 |  0.32731751 | -1.222456 | -1.3110521 |\n| ⋮ | ⋮ | ⋮ | ⋮ |\n|  1.27606556 |  0.32731751 | 1.1000974 | 1.4439941 |\n| -0.29385737 | -0.59039513 | 0.6469162 | 1.0504160 |\n|  2.24217198 | -0.59039513 | 1.6665739 | 1.0504160 |\n|  0.55148575 | -0.81982329 | 0.6469162 | 0.7880307 |\n|  1.03453895 |  0.55674567 | 1.1000974 | 1.1816087 |\n|  1.63835547 |  0.32731751 | 1.2700404 | 0.7880307 |\n|  0.43072244 | -0.59039513 | 0.5902685 | 0.7880307 |\n|  0.30995914 | -0.13153881 | 0.6469162 | 0.7880307 |\n|  0.67224905 | -0.59039513 | 1.0434497 | 1.1816087 |\n|  1.63835547 | -0.13153881 | 1.1567451 | 0.5256453 |\n|  1.87988207 | -0.59039513 | 1.3266880 | 0.9192234 |\n|  2.48369858 |  1.70388647 | 1.4966310 | 1.0504160 |\n|  0.67224905 | -0.59039513 | 1.0434497 | 1.3128014 |\n|  0.55148575 | -0.59039513 | 0.7602115 | 0.3944526 |\n|  0.30995914 | -1.04925145 | 1.0434497 | 0.2632600 |\n|  2.24217198 | -0.13153881 | 1.3266880 | 1.4439941 |\n|  0.55148575 |  0.78617383 | 1.0434497 | 1.5751867 |\n|  0.67224905 |  0.09788935 | 0.9868021 | 0.7880307 |\n|  0.18919584 | -0.13153881 | 0.5902685 | 0.7880307 |\n|  1.27606556 |  0.09788935 | 0.9301544 | 1.1816087 |\n|  1.03453895 |  0.09788935 | 1.0434497 | 1.5751867 |\n|  1.27606556 |  0.09788935 | 0.7602115 | 1.4439941 |\n| -0.05233076 | -0.81982329 | 0.7602115 | 0.9192234 |\n|  1.15530226 |  0.32731751 | 1.2133927 | 1.4439941 |\n|  1.03453895 |  0.55674567 | 1.1000974 | 1.7063794 |\n|  1.03453895 | -0.13153881 | 0.8168591 | 1.4439941 |\n|  0.55148575 | -1.27867961 | 0.7035638 | 0.9192234 |\n|  0.79301235 | -0.13153881 | 0.8168591 | 1.0504160 |\n|  0.43072244 |  0.78617383 | 0.9301544 | 1.4439941 |\n|  0.06843254 | -0.13153881 | 0.7602115 | 0.7880307 |\n\n",
            "text/html": [
              "<table>\n",
              "<caption>A matrix: 150 × 4 of type dbl</caption>\n",
              "<thead>\n",
              "\t<tr><th scope=col>Sepal.Length</th><th scope=col>Sepal.Width</th><th scope=col>Petal.Length</th><th scope=col>Petal.Width</th></tr>\n",
              "</thead>\n",
              "<tbody>\n",
              "\t<tr><td>-0.89767388</td><td> 1.01560199</td><td>-1.335752</td><td>-1.3110521</td></tr>\n",
              "\t<tr><td>-1.13920048</td><td>-0.13153881</td><td>-1.335752</td><td>-1.3110521</td></tr>\n",
              "\t<tr><td>-1.38072709</td><td> 0.32731751</td><td>-1.392399</td><td>-1.3110521</td></tr>\n",
              "\t<tr><td>-1.50149039</td><td> 0.09788935</td><td>-1.279104</td><td>-1.3110521</td></tr>\n",
              "\t<tr><td>-1.01843718</td><td> 1.24503015</td><td>-1.335752</td><td>-1.3110521</td></tr>\n",
              "\t<tr><td>-0.53538397</td><td> 1.93331463</td><td>-1.165809</td><td>-1.0486668</td></tr>\n",
              "\t<tr><td>-1.50149039</td><td> 0.78617383</td><td>-1.335752</td><td>-1.1798595</td></tr>\n",
              "\t<tr><td>-1.01843718</td><td> 0.78617383</td><td>-1.279104</td><td>-1.3110521</td></tr>\n",
              "\t<tr><td>-1.74301699</td><td>-0.36096697</td><td>-1.335752</td><td>-1.3110521</td></tr>\n",
              "\t<tr><td>-1.13920048</td><td> 0.09788935</td><td>-1.279104</td><td>-1.4422448</td></tr>\n",
              "\t<tr><td>-0.53538397</td><td> 1.47445831</td><td>-1.279104</td><td>-1.3110521</td></tr>\n",
              "\t<tr><td>-1.25996379</td><td> 0.78617383</td><td>-1.222456</td><td>-1.3110521</td></tr>\n",
              "\t<tr><td>-1.25996379</td><td>-0.13153881</td><td>-1.335752</td><td>-1.4422448</td></tr>\n",
              "\t<tr><td>-1.86378030</td><td>-0.13153881</td><td>-1.505695</td><td>-1.4422448</td></tr>\n",
              "\t<tr><td>-0.05233076</td><td> 2.16274279</td><td>-1.449047</td><td>-1.3110521</td></tr>\n",
              "\t<tr><td>-0.17309407</td><td> 3.08045544</td><td>-1.279104</td><td>-1.0486668</td></tr>\n",
              "\t<tr><td>-0.53538397</td><td> 1.93331463</td><td>-1.392399</td><td>-1.0486668</td></tr>\n",
              "\t<tr><td>-0.89767388</td><td> 1.01560199</td><td>-1.335752</td><td>-1.1798595</td></tr>\n",
              "\t<tr><td>-0.17309407</td><td> 1.70388647</td><td>-1.165809</td><td>-1.1798595</td></tr>\n",
              "\t<tr><td>-0.89767388</td><td> 1.70388647</td><td>-1.279104</td><td>-1.1798595</td></tr>\n",
              "\t<tr><td>-0.53538397</td><td> 0.78617383</td><td>-1.165809</td><td>-1.3110521</td></tr>\n",
              "\t<tr><td>-0.89767388</td><td> 1.47445831</td><td>-1.279104</td><td>-1.0486668</td></tr>\n",
              "\t<tr><td>-1.50149039</td><td> 1.24503015</td><td>-1.562342</td><td>-1.3110521</td></tr>\n",
              "\t<tr><td>-0.89767388</td><td> 0.55674567</td><td>-1.165809</td><td>-0.9174741</td></tr>\n",
              "\t<tr><td>-1.25996379</td><td> 0.78617383</td><td>-1.052513</td><td>-1.3110521</td></tr>\n",
              "\t<tr><td>-1.01843718</td><td>-0.13153881</td><td>-1.222456</td><td>-1.3110521</td></tr>\n",
              "\t<tr><td>-1.01843718</td><td> 0.78617383</td><td>-1.222456</td><td>-1.0486668</td></tr>\n",
              "\t<tr><td>-0.77691058</td><td> 1.01560199</td><td>-1.279104</td><td>-1.3110521</td></tr>\n",
              "\t<tr><td>-0.77691058</td><td> 0.78617383</td><td>-1.335752</td><td>-1.3110521</td></tr>\n",
              "\t<tr><td>-1.38072709</td><td> 0.32731751</td><td>-1.222456</td><td>-1.3110521</td></tr>\n",
              "\t<tr><td>⋮</td><td>⋮</td><td>⋮</td><td>⋮</td></tr>\n",
              "\t<tr><td> 1.27606556</td><td> 0.32731751</td><td>1.1000974</td><td>1.4439941</td></tr>\n",
              "\t<tr><td>-0.29385737</td><td>-0.59039513</td><td>0.6469162</td><td>1.0504160</td></tr>\n",
              "\t<tr><td> 2.24217198</td><td>-0.59039513</td><td>1.6665739</td><td>1.0504160</td></tr>\n",
              "\t<tr><td> 0.55148575</td><td>-0.81982329</td><td>0.6469162</td><td>0.7880307</td></tr>\n",
              "\t<tr><td> 1.03453895</td><td> 0.55674567</td><td>1.1000974</td><td>1.1816087</td></tr>\n",
              "\t<tr><td> 1.63835547</td><td> 0.32731751</td><td>1.2700404</td><td>0.7880307</td></tr>\n",
              "\t<tr><td> 0.43072244</td><td>-0.59039513</td><td>0.5902685</td><td>0.7880307</td></tr>\n",
              "\t<tr><td> 0.30995914</td><td>-0.13153881</td><td>0.6469162</td><td>0.7880307</td></tr>\n",
              "\t<tr><td> 0.67224905</td><td>-0.59039513</td><td>1.0434497</td><td>1.1816087</td></tr>\n",
              "\t<tr><td> 1.63835547</td><td>-0.13153881</td><td>1.1567451</td><td>0.5256453</td></tr>\n",
              "\t<tr><td> 1.87988207</td><td>-0.59039513</td><td>1.3266880</td><td>0.9192234</td></tr>\n",
              "\t<tr><td> 2.48369858</td><td> 1.70388647</td><td>1.4966310</td><td>1.0504160</td></tr>\n",
              "\t<tr><td> 0.67224905</td><td>-0.59039513</td><td>1.0434497</td><td>1.3128014</td></tr>\n",
              "\t<tr><td> 0.55148575</td><td>-0.59039513</td><td>0.7602115</td><td>0.3944526</td></tr>\n",
              "\t<tr><td> 0.30995914</td><td>-1.04925145</td><td>1.0434497</td><td>0.2632600</td></tr>\n",
              "\t<tr><td> 2.24217198</td><td>-0.13153881</td><td>1.3266880</td><td>1.4439941</td></tr>\n",
              "\t<tr><td> 0.55148575</td><td> 0.78617383</td><td>1.0434497</td><td>1.5751867</td></tr>\n",
              "\t<tr><td> 0.67224905</td><td> 0.09788935</td><td>0.9868021</td><td>0.7880307</td></tr>\n",
              "\t<tr><td> 0.18919584</td><td>-0.13153881</td><td>0.5902685</td><td>0.7880307</td></tr>\n",
              "\t<tr><td> 1.27606556</td><td> 0.09788935</td><td>0.9301544</td><td>1.1816087</td></tr>\n",
              "\t<tr><td> 1.03453895</td><td> 0.09788935</td><td>1.0434497</td><td>1.5751867</td></tr>\n",
              "\t<tr><td> 1.27606556</td><td> 0.09788935</td><td>0.7602115</td><td>1.4439941</td></tr>\n",
              "\t<tr><td>-0.05233076</td><td>-0.81982329</td><td>0.7602115</td><td>0.9192234</td></tr>\n",
              "\t<tr><td> 1.15530226</td><td> 0.32731751</td><td>1.2133927</td><td>1.4439941</td></tr>\n",
              "\t<tr><td> 1.03453895</td><td> 0.55674567</td><td>1.1000974</td><td>1.7063794</td></tr>\n",
              "\t<tr><td> 1.03453895</td><td>-0.13153881</td><td>0.8168591</td><td>1.4439941</td></tr>\n",
              "\t<tr><td> 0.55148575</td><td>-1.27867961</td><td>0.7035638</td><td>0.9192234</td></tr>\n",
              "\t<tr><td> 0.79301235</td><td>-0.13153881</td><td>0.8168591</td><td>1.0504160</td></tr>\n",
              "\t<tr><td> 0.43072244</td><td> 0.78617383</td><td>0.9301544</td><td>1.4439941</td></tr>\n",
              "\t<tr><td> 0.06843254</td><td>-0.13153881</td><td>0.7602115</td><td>0.7880307</td></tr>\n",
              "</tbody>\n",
              "</table>\n"
            ]
          },
          "metadata": {
            "tags": []
          }
        }
      ]
    },
    {
      "cell_type": "code",
      "metadata": {
        "id": "Y8eeab71wOKa"
      },
      "source": [
        "centros <- 2:50\n",
        "twss_df <- data.frame()\n",
        "\n",
        "for(k in centros){\n",
        " modelo <- kmeans(base2,centers = k,nstart = 10)\n",
        " twss <- modelo$tot.withinss\n",
        " twss_df<- bind_rows(twss_df, data.frame(K = k, TWSS = twss))\n",
        "\n",
        "}\n"
      ],
      "execution_count": 40,
      "outputs": []
    },
    {
      "cell_type": "code",
      "metadata": {
        "id": "AauBEXIlwTDS",
        "outputId": "bbbeb6a1-846b-4795-e4dd-d15b34a1ff78",
        "colab": {
          "base_uri": "https://localhost:8080/",
          "height": 437
        }
      },
      "source": [
        "\n",
        "twss_df %>%\n",
        "  ggplot() +\n",
        "  aes(x = K,y = TWSS) +\n",
        "  geom_point() +\n",
        "  geom_line()"
      ],
      "execution_count": 41,
      "outputs": [
        {
          "output_type": "display_data",
          "data": {
            "image/png": "[encoded data removed]",
            "text/plain": [
              "plot without title"
            ]
          },
          "metadata": {
            "tags": [],
            "image/png": {
              "width": 420,
              "height": 420
            }
          }
        }
      ]
    },
    {
      "cell_type": "markdown",
      "metadata": {
        "id": "pygPNJFZv0K1"
      },
      "source": [
        "# Cluster jerárquico\n"
      ]
    },
    {
      "cell_type": "code",
      "metadata": {
        "id": "QiuFbc1-v4YV"
      },
      "source": [
        ""
      ],
      "execution_count": null,
      "outputs": []
    },
    {
      "cell_type": "markdown",
      "metadata": {
        "id": "H2tJJgjov4NT"
      },
      "source": [
        ""
      ]
    },
    {
      "cell_type": "code",
      "metadata": {
        "id": "ImSnAUjFsHpg"
      },
      "source": [
        "library(ggplot2)\n",
        "## Clústers  jerárquicos\n",
        "muestraIris <- iris\n",
        "muestraIris$Species <- NULL\n",
        "\n",
        "\n",
        "## Cluster aglomerativo\n",
        "# Se genera el cluster aglomerativo con linkage completo.\n",
        "\n",
        "hc <- hclust(dist(muestraIris), method=\"average\")\n"
      ],
      "execution_count": null,
      "outputs": []
    },
    {
      "cell_type": "code",
      "metadata": {
        "id": "I2BGQJpPsHkY"
      },
      "source": [
        "\n",
        "plot(hc, \n",
        "     hang   = -1, #posición inicio dendograma\n",
        "     labels = iris$Species,\n",
        "     cex    = .6)\n",
        "\n"
      ],
      "execution_count": null,
      "outputs": []
    },
    {
      "cell_type": "code",
      "metadata": {
        "id": "-7YADxf4sHc_"
      },
      "source": [
        "\n",
        "# Finalmente  se corta el dendograma en K clusters\n",
        "K <- 5\n",
        "\n",
        "plot(hc, hang = -1, labels=iris$Species)\n",
        "rect.hclust(hc, k=K)\n"
      ],
      "execution_count": null,
      "outputs": []
    },
    {
      "cell_type": "code",
      "metadata": {
        "id": "dd1HIatgsHYr"
      },
      "source": [
        "groups <- cutree(hc, k=K)\n",
        "\n",
        "plot(iris[,c(\"Sepal.Length\", \"Sepal.Width\")], col = groups)\n",
        "\n"
      ],
      "execution_count": null,
      "outputs": []
    },
    {
      "cell_type": "code",
      "metadata": {
        "id": "nWGMbrtRsHRT"
      },
      "source": [
        "\n",
        "# gráfico de siluetas  ----------------------------------------------------\n",
        "plot(cluster::silhouette(groups,dist(muestraIris))) \n",
        "\n",
        "sil <- cluster::silhouette(groups,dist(muestraIris))\n",
        "\n",
        "\n",
        "str(sil)\n",
        "mean(sil[,3])"
      ],
      "execution_count": null,
      "outputs": []
    },
    {
      "cell_type": "markdown",
      "metadata": {
        "id": "hD7xXTxGxUgM"
      },
      "source": [
        "## DBSCAN"
      ]
    },
    {
      "cell_type": "code",
      "metadata": {
        "id": "OG8T5HyHzitN"
      },
      "source": [
        "#install.packages(\"dbscan\")\n",
        "#install.packages(\"mlbench\")"
      ],
      "execution_count": null,
      "outputs": []
    },
    {
      "cell_type": "code",
      "metadata": {
        "id": "88039ulSzpyo"
      },
      "source": [
        "library(dbscan)\n",
        "library(mlbench)"
      ],
      "execution_count": null,
      "outputs": []
    },
    {
      "cell_type": "code",
      "metadata": {
        "id": "vnZsYhreq6Bf"
      },
      "source": [
        "# iris --------------------------------------------------------------------\n",
        "data(iris)\n",
        "iris <- as.matrix(iris[,1:4])\n",
        "\n",
        "## find suitable eps parameter using a k-NN plot for k = dim + 1\n",
        "## Look for the knee!\n",
        "\n",
        "minPts <- 4+1\n",
        "\n",
        "kNNdistplot(iris, k = minPts)\n",
        "abline(h=.6, col = \"red\", lty=2)\n",
        "\n"
      ],
      "execution_count": null,
      "outputs": []
    },
    {
      "cell_type": "code",
      "metadata": {
        "id": "KPhYQGkU0Y1J"
      },
      "source": [
        "###### Es lo mismo que \n",
        "sort(kNNdist(iris, k = minPts)) -> distancias_knn\n",
        "\n",
        "plot(distancias_knn,type = \"l\")\n",
        "abline( h =.6, col = \"red\", lty=2)\n",
        "######\n"
      ],
      "execution_count": null,
      "outputs": []
    },
    {
      "cell_type": "code",
      "metadata": {
        "id": "7ksWNu0F0al9"
      },
      "source": [
        "res <- dbscan(iris, eps = .4, minPts = minPts)\n",
        "res\n",
        "\n",
        "pairs(iris, col = res$cluster + 1L)\n",
        "\n"
      ],
      "execution_count": null,
      "outputs": []
    },
    {
      "cell_type": "code",
      "metadata": {
        "id": "j9koj8G-zvZL"
      },
      "source": [
        "# espiral -----------------------------------------------------------------\n",
        "set.seed(666)\n",
        "spiral <- mlbench.spirals(6000, 1, sd = 0.06)\n",
        "spiral <- cbind(spiral$x, label = spiral$classes)\n",
        "colnames(spiral)[c(1, 2)] <- c(\"x1\", \"x2\")\n",
        "spiral <- as.data.frame(spiral)\n",
        "spiral$label <- factor(spiral$label)\n",
        "\n",
        "\n",
        "\n",
        "ggplot(spiral) + \n",
        "  aes(x = x1, y = x2) + \n",
        "  geom_point()\n"
      ],
      "execution_count": null,
      "outputs": []
    },
    {
      "cell_type": "code",
      "metadata": {
        "id": "CdsX6rxczxV3"
      },
      "source": [
        "minPts <- 6\n",
        "\n",
        "kNNdistplot(spiral[,1:2], k = minPts)\n",
        "#abline(h=.04, col = \"red\", lty = 2)\n",
        "\n"
      ],
      "execution_count": null,
      "outputs": []
    },
    {
      "cell_type": "code",
      "metadata": {
        "id": "BdBPPvPOz4dR"
      },
      "source": [
        "eps <- 0.04\n",
        "\n",
        "res_spiral <- dbscan(spiral[,1:2], eps = eps, minPts = minPts)\n",
        "res_spiral\n",
        "\n"
      ],
      "execution_count": null,
      "outputs": []
    },
    {
      "cell_type": "code",
      "metadata": {
        "id": "MDt_pHMXz7eK"
      },
      "source": [
        "res_spiral$cluster\n",
        "\n",
        "spiral2 <- spiral \n",
        "\n",
        "spiral2$cl <- res_spiral$cluster #== 0L\n",
        "\n"
      ],
      "execution_count": null,
      "outputs": []
    },
    {
      "cell_type": "code",
      "metadata": {
        "id": "TAmZ5oGDz-Le"
      },
      "source": [
        "\n",
        "ggplot(spiral2) + \n",
        "  aes(x = x1, y = x2, color = as.factor(cl) ) + \n",
        "  geom_point()"
      ],
      "execution_count": null,
      "outputs": []
    },
    {
      "cell_type": "markdown",
      "metadata": {
        "id": "TJHdtwS90cVu"
      },
      "source": [
        "## OPTICS"
      ]
    },
    {
      "cell_type": "code",
      "metadata": {
        "id": "rFF4zaVH0b6a"
      },
      "source": [
        "set.seed(2)\n",
        "n <- 400\n",
        "\n",
        "x <- cbind(\n",
        "  x = runif(4, 0, 1) + rnorm(n, sd=0.1),\n",
        "  y = runif(4, 0, 1) + rnorm(n, sd=0.1)\n",
        ")\n",
        "\n",
        "plot(x, col=rep(1:4, time = 100))\n"
      ],
      "execution_count": null,
      "outputs": []
    },
    {
      "cell_type": "code",
      "metadata": {
        "id": "pC8VYECD0bvh"
      },
      "source": [
        "\n",
        "### run OPTICS (Note: we use the default eps calculation)\n",
        "res <- optics(x, minPts = 5)\n",
        "res\n",
        "\n",
        "\n"
      ],
      "execution_count": null,
      "outputs": []
    },
    {
      "cell_type": "code",
      "metadata": {
        "id": "QI2hIT4H0x06"
      },
      "source": [
        "### get order\n",
        "res$order\n",
        "\n",
        "### plot produces a reachability plot\n",
        "plot(res)\n",
        "abline(h = .05, col = \"red\", lty = 2)\n",
        "\n",
        "\n"
      ],
      "execution_count": null,
      "outputs": []
    },
    {
      "cell_type": "code",
      "metadata": {
        "id": "gTawEJG600Ck"
      },
      "source": [
        "\n",
        "### extract a DBSCAN clustering by cutting the reachability plot at eps_cl\n",
        "res2 <- extractDBSCAN(res, eps_cl = .054)\n",
        "res2\n",
        "\n"
      ],
      "execution_count": null,
      "outputs": []
    },
    {
      "cell_type": "code",
      "metadata": {
        "id": "igLdLE3W017v"
      },
      "source": [
        "plot(res2)  ## black is noise\n"
      ],
      "execution_count": null,
      "outputs": []
    },
    {
      "cell_type": "code",
      "metadata": {
        "id": "986xt-Zb0_nD"
      },
      "source": [
        "hullplot(x, res2)\n",
        "\n",
        "\n"
      ],
      "execution_count": null,
      "outputs": []
    }
  ]
}