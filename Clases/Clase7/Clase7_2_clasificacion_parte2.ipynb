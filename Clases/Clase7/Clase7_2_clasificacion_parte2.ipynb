{
  "nbformat": 4,
  "nbformat_minor": 0,
  "metadata": {
    "colab": {
      "name": "Clase7_2_clasificacion_parte2.ipynb",
      "provenance": [],
      "collapsed_sections": [],
      "authorship_tag": "ABX9TyMYGuOKFRvqMfUUPMJzTJu1",
      "include_colab_link": true
    },
    "kernelspec": {
      "name": "ir",
      "display_name": "R"
    }
  },
  "cells": [
    {
      "cell_type": "markdown",
      "metadata": {
        "id": "view-in-github",
        "colab_type": "text"
      },
      "source": [
        "<a href=\"https://colab.research.google.com/github/majorquev/Introduccion_a_ciencia_de_datos_R/blob/master/Clases/Clase7/Clase7_2_clasificacion_parte2.ipynb\" target=\"_parent\"><img src=\"https://colab.research.google.com/assets/colab-badge.svg\" alt=\"Open In Colab\"/></a>"
      ]
    },
    {
      "cell_type": "markdown",
      "metadata": {
        "id": "0S00eCTqm_bn"
      },
      "source": [
        "# Parte 9: Modelos de clasificación en R\n",
        "\n",
        "\n",
        "**Autor:** Miguel Jorquera Viguera<br>\n",
        "**E-mail:** majorquev@gmail.com<br>\n",
        "**Ayudante:** Bastián Aballay Leiva<br>\n",
        "**E-mail ayudante:** bastian.aballayleiva@gmail.com\n",
        "\n",
        "## Árboles de decisión\n",
        "\n",
        "Para la implementación de árboles de decisión (CART - classification and regression trees), utilizaremos el package `rpart` y el packages `visNetwork` (en Rstudio) para su visulaización. Otro package para visualizar árboles `rpart.plot`\n",
        "\n",
        "## Titanic (Continuación)\n",
        "Una vex realizado el paso de exploración, trataremos de predecir si una persona sobrevivirá al hundimiento del titanic utilizando árboles de clasificación."
      ]
    },
    {
      "cell_type": "code",
      "metadata": {
        "id": "xmzWPEpGoHC1"
      },
      "source": [
        "#install.packages(\"rpart.plot\")\n",
        "#install.packages(\"visNetwork\")\n"
      ],
      "execution_count": null,
      "outputs": []
    },
    {
      "cell_type": "code",
      "metadata": {
        "id": "gcGJfWBaoCbF"
      },
      "source": [
        "library(rpart) # permite generar árboles de clasificación\n",
        "library(tidyverse)\n",
        "library(rpart.plot)#para visualizar un árbol un poco mejor\n",
        "library(visNetwork)\n"
      ],
      "execution_count": null,
      "outputs": []
    },
    {
      "cell_type": "code",
      "metadata": {
        "id": "NzDpsl3um7R_"
      },
      "source": [
        "\n",
        "\n",
        "data2 <- read.csv(\"https://raw.githubusercontent.com/majorquev/Introduccion_a_ciencia_de_datos_R/master/Clases/Clase7/titanic_v2.csv\")\n",
        "data2\n",
        "glimpse(data2)\n",
        "\n",
        "\n",
        "\n",
        "data2$Survived <- as.factor(data2$Survived)\n",
        "\n",
        "summary(data2$Survived)\n"
      ],
      "execution_count": null,
      "outputs": []
    },
    {
      "cell_type": "code",
      "metadata": {
        "id": "gFqmvIbSndak"
      },
      "source": [
        "\n",
        "#Dividimos en train y test\n",
        "set.seed(112)\n",
        "\n",
        "test <- sample_frac(data2, 0.3)\n",
        "train <- anti_join(data2,test)\n",
        "\n",
        "# guardamos en disco estos datasets para otros modelos y evaluaciones\n",
        "\n",
        "save(test,train,file= \"train_test.RData\")\n",
        "# load(\"train_test.RData\")\n",
        "\n",
        "\n",
        "\n"
      ],
      "execution_count": null,
      "outputs": []
    },
    {
      "cell_type": "code",
      "metadata": {
        "id": "eKV5jUFNndv7"
      },
      "source": [
        "# Árbol de decisión -------------------------------------------------------\n",
        "\n",
        "mod_arbol <- rpart(Survived ~ Pclass +\n",
        "                               Sex +\n",
        "                               Age +\n",
        "                               SibSp +\n",
        "                               Parch + \n",
        "                               Fare +\n",
        "                               Embarked +\n",
        "                               titulo + \n",
        "                               tipo_familia +\n",
        "                               menor + \n",
        "                               madre,\n",
        "          data = train\n",
        "      )\n",
        "\n",
        "\n"
      ],
      "execution_count": null,
      "outputs": []
    },
    {
      "cell_type": "code",
      "metadata": {
        "id": "D_wDbKzTneNi"
      },
      "source": [
        "class(mod_arbol)\n",
        "str(mod_arbol)\n",
        "\n",
        "mod_arbol$frame\n",
        "mod_arbol$where #el nodo al cual llegó cada observación de train\n",
        "mod_arbol$variable.importance # a mayor valor , más importante\n",
        "mod_arbol$cptable # contiene la complejidad del arbol según cantidad de nodos finales (nos va ayudar a evitar sobreajuste)\n",
        "\n",
        "\n"
      ],
      "execution_count": null,
      "outputs": []
    },
    {
      "cell_type": "code",
      "metadata": {
        "id": "FCcWIhIPneYn"
      },
      "source": [
        "# predicciones ------------------------------------------------------------\n",
        "\n",
        "predicciones <- predict(mod_arbol,test)\n",
        "prob_pred <- predicciones[,2]\n",
        "predicciones <- predicciones[,2] > 0.8\n",
        "\n",
        "\n",
        "mc <- table(test$Survived, predicciones)\n",
        "\n",
        "mc"
      ],
      "execution_count": null,
      "outputs": []
    },
    {
      "cell_type": "code",
      "metadata": {
        "id": "qzaefwinnecF"
      },
      "source": [
        "\n",
        "# Visualización arbol -----------------------------------------------------\n",
        "plot(mod_arbol)\n",
        "rpart.plot(mod_arbol)\n",
        "\n",
        "\n",
        "\n"
      ],
      "execution_count": null,
      "outputs": []
    },
    {
      "cell_type": "code",
      "metadata": {
        "id": "6Jlgoubyo8Mk"
      },
      "source": [
        "# utilizando visNetwork (puede requerir dependencia del package sparkline)\n",
        "\n",
        "visTree(mod_arbol) # En entornno de notebooks no funciona, si en Rstidio"
      ],
      "execution_count": null,
      "outputs": []
    },
    {
      "cell_type": "code",
      "metadata": {
        "id": "tgvW7oRsneRK"
      },
      "source": [
        "\n",
        "# Poda --------------------------------------------------------------------\n",
        "\n",
        "mod_arbol_2 <- rpart(Survived ~ Pclass +\n",
        "                     Sex +\n",
        "                     Age +\n",
        "                     SibSp +\n",
        "                     Parch + \n",
        "                     Fare +\n",
        "                     Embarked +\n",
        "                     titulo + \n",
        "                     tipo_familia +\n",
        "                     menor + \n",
        "                     madre,\n",
        "                   data = train,\n",
        "                   control = rpart.control(cp = 0.000001,minsplit = 2)\n",
        ")\n",
        "#cp : parámetro de complejidad. \n",
        "\n",
        "rpart.plot(mod_arbol_2)\n",
        "\n",
        "\n",
        "plotcp(mod_arbol_2)\n",
        "printcp(mod_arbol_2)\n",
        "\n",
        "arbol_pod <- prune(mod_arbol_2, cp = 0.034) #permite podar el arbol\n",
        "\n",
        "rpart.plot(arbol_pod)\n",
        "## Guardo test con predicciones de arbol podado y sobreajustado\n",
        "save(test,file = \"test_predicciones.RData\")\n",
        "\n",
        "\n"
      ],
      "execution_count": null,
      "outputs": []
    },
    {
      "cell_type": "code",
      "metadata": {
        "id": "iCJs3ZaFneGg"
      },
      "source": [
        "# Evaluación como modelo predictivo ---------------------------------------\n",
        "\n",
        "pred <- predict(arbol_pod,newdata = select(test,-Survived))\n",
        "pred_or <- predict(mod_arbol_2,newdata = select(test,-Survived))\n",
        "\n",
        "pred <- pred[,2]\n",
        "pred_or <- pred_or[,2]\n",
        "\n",
        "test$pred_arbol_pod <- pred\n",
        "test$pred_arbol <- pred_or\n",
        "\n",
        "## Asignamos categoría con un punto de corte en 0.5 \n",
        "test$pred_arbol_pod_clase <- ifelse(pred > 0.5,1,0)\n",
        "test$pred_arbol_clase <- ifelse(pred_or > 0.5,1,0)\n",
        "\n",
        "mc_sobre <- table(select(test,pred_arbol_clase,Survived))\n",
        "mc_pod <- table(select(test,pred_arbol_pod_clase,Survived))\n",
        "\n"
      ],
      "execution_count": null,
      "outputs": []
    }
  ]
}