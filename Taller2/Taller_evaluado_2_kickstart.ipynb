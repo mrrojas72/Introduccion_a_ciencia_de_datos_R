{
  "nbformat": 4,
  "nbformat_minor": 0,
  "metadata": {
    "colab": {
      "name": "Taller_evaluado_2.ipynb",
      "provenance": [],
      "collapsed_sections": [],
      "include_colab_link": true
    },
    "kernelspec": {
      "name": "ir",
      "display_name": "R"
    }
  },
  "cells": [
    {
      "cell_type": "markdown",
      "metadata": {
        "id": "view-in-github",
        "colab_type": "text"
      },
      "source": [
        "<a href=\"https://colab.research.google.com/github/majorquev/Introduccion_a_ciencia_de_datos_R/blob/master/Evaluaciones/Taller2/Taller_evaluado_2_kickstart.ipynb\" target=\"_parent\"><img src=\"https://colab.research.google.com/assets/colab-badge.svg\" alt=\"Open In Colab\"/></a>"
      ]
    },
    {
      "cell_type": "markdown",
      "metadata": {
        "id": "LKvBS_v2d5tB"
      },
      "source": [
        "# Introducción Ciencia de Datos con R: Taller 2\n",
        "\n",
        "\n",
        "\n",
        "Nombre 1: _Puede incluir su nombre acá haciendo doble click_                                                                                                                                      <br> \n",
        "Nombre 2: _Puede incluir su nombre acá haciendo doble click_   \n",
        "\n",
        "# Instrucciones\n",
        "\n",
        "El siguiente test podrá desarrollarlo de manera individual o en pareja con otro(a) de sus compañeros(as).<br>\n",
        "\n",
        "Lea atentamente cada una de las preguntas propuestas y sea claro en los comentarios (si es que los incluye) de los desarrollos de sus respuestas. Para el desarrollo de las mismas, dispone de celdas de código después de cada pregunta. Sin embargo podrá agregar más celdas si así lo estima conveniente.<br>\n",
        "Las preguntas formuladas en este test pueden ser abordadas con las herramientas trabajadas en clases y ayudantía, sin embargo, usted podrá hacer uso de las funcionalidades y/o packages que estime convenientes, a menos que se indique explícitamente lo contrario.\n",
        "\n",
        "## Tiempo y entrega\n",
        "Dispondrán hasta el día **domingo 08 de noviembre** hasta las 23:59 hrs para hacer envío de sus respuestas. Esto debido a temas administrativos para efectos del cierre del curso, por lo que no es posible extender dicha fecha de entrega más allá del plazo mencionado, razón por la cual esta evz la extensión del taller es considerablemente menor que el anterior.\n",
        "\n",
        "Una vez finalizado el desarrollo del taller, deberá entregarlo teniendo en cuenta las siguientes consideraciones :\n",
        "\n",
        " 1. Descargue el notebook en **formato ipynb** (uno por pareja), e indique en el nombre del archivo los nombres de los integrantes, Taller1_nombres_integrantes.ipynb. \n",
        "    En caso de trabajar en Rstudio, deberá enviar el script de extensión *.R con el siguiente nombre: Taller1_nombres_integrantes.R , **procurando indicar con comentarios claros, qué pregunta está respondiendo en cada caso**.\n",
        " * Envíe el archivo al correo bastian.aballayleiva@gmail.com, con copia a majorquev@gmail.com con el **asunto** \"ICD-SII-T2: 'nombre y apellido de los integrantes' \"\n",
        " \n",
        "**NOTA**: \n",
        "   * Los correos cuyo asunto no comiencen con \"ICD-SII-T2\" no llegarán a destino y por ende no serán calificados.\n",
        "   * Los archivos que no contengan nombre serán calificados con la nota mínima 1.0.\n",
        "   * Los correos enviados posterior a la fecha y hora de entrega indicados tendrán una penalización de 1 punto por día (o fracción) de retraso en la entrega, por ejemplo, si usted envía sus respuestas a las 00:05 hrs del lunes 09 de noviembre, su nota máxima será un 6.0.\n",
        "   \n",
        "   "
      ]
    },
    {
      "cell_type": "markdown",
      "metadata": {
        "id": "_y7nUaWkesSL"
      },
      "source": [
        "# Seguros médicos\n",
        "El siguiente taller tiene por objetivo comprender distintas variables que inciden en el valor de la prima de un determinado seguro médico. Para ello usted contará con un dataset con la siguiente información:\n",
        "\n",
        "* age: age of primary beneficiary\n",
        "\n",
        "* sex: insurance contractor gender, female, male\n",
        "\n",
        "* bmi: Body mass index, providing an understanding of body, weights that are relatively high or low relative to height,\n",
        "objective index of body weight (kg / m ^ 2) using the ratio of height to weight, ideally 18.5 to 24.9\n",
        "\n",
        "* children: Number of children covered by health insurance / Number of dependents\n",
        "\n",
        "* smoker: Smoking\n",
        "\n",
        "* region: the beneficiary's residential area in the US, northeast, southeast, southwest, northwest.\n",
        "\n",
        "* charges: Individual medical costs billed by health insurance\n",
        "\n",
        "\n",
        "Más info la puede encontrar en el siguiente link https://www.kaggle.com/mirichoi0218/insurance"
      ]
    },
    {
      "cell_type": "code",
      "metadata": {
        "id": "BIr9-rETfgww",
        "outputId": "6609a785-5636-4cb6-b6ca-b10d520a83d1",
        "colab": {
          "base_uri": "https://localhost:8080/"
        }
      },
      "source": [
        "## Carga de datos\n",
        "library(tidyverse)\n",
        "data <- read.csv(\"https://raw.githubusercontent.com/majorquev/Introduccion_a_ciencia_de_datos_R/master/Evaluaciones/Taller1/insurance.csv\")\n"
      ],
      "execution_count": 21,
      "outputs": [
        {
          "output_type": "stream",
          "text": [
            "── \u001b[1mAttaching packages\u001b[22m ─────────────────────────────────────── tidyverse 1.3.0 ──\n",
            "\n",
            "\u001b[32m✔\u001b[39m \u001b[34mggplot2\u001b[39m 3.3.2     \u001b[32m✔\u001b[39m \u001b[34mpurrr  \u001b[39m 0.3.4\n",
            "\u001b[32m✔\u001b[39m \u001b[34mtibble \u001b[39m 3.0.4     \u001b[32m✔\u001b[39m \u001b[34mdplyr  \u001b[39m 1.0.2\n",
            "\u001b[32m✔\u001b[39m \u001b[34mtidyr  \u001b[39m 1.1.2     \u001b[32m✔\u001b[39m \u001b[34mstringr\u001b[39m 1.4.0\n",
            "\u001b[32m✔\u001b[39m \u001b[34mreadr  \u001b[39m 1.4.0     \u001b[32m✔\u001b[39m \u001b[34mforcats\u001b[39m 0.5.0\n",
            "\n",
            "── \u001b[1mConflicts\u001b[22m ────────────────────────────────────────── tidyverse_conflicts() ──\n",
            "\u001b[31m✖\u001b[39m \u001b[34mdplyr\u001b[39m::\u001b[32mfilter()\u001b[39m masks \u001b[34mstats\u001b[39m::filter()\n",
            "\u001b[31m✖\u001b[39m \u001b[34mdplyr\u001b[39m::\u001b[32mlag()\u001b[39m    masks \u001b[34mstats\u001b[39m::lag()\n",
            "\n"
          ],
          "name": "stderr"
        }
      ]
    },
    {
      "cell_type": "code",
      "metadata": {
        "id": "3vb2VtQc6u1l",
        "outputId": "33a87527-c580-4ca5-9e2f-c4e2a697faa5",
        "colab": {
          "base_uri": "https://localhost:8080/",
          "height": 207
        }
      },
      "source": [
        "head(data)"
      ],
      "execution_count": 2,
      "outputs": [
        {
          "output_type": "display_data",
          "data": {
            "text/plain": [
              "  age sex    bmi    children smoker region    charges  \n",
              "1 19  female 27.900 0        yes    southwest 16884.924\n",
              "2 18  male   33.770 1        no     southeast  1725.552\n",
              "3 28  male   33.000 3        no     southeast  4449.462\n",
              "4 33  male   22.705 0        no     northwest 21984.471\n",
              "5 32  male   28.880 0        no     northwest  3866.855\n",
              "6 31  female 25.740 0        no     southeast  3756.622"
            ],
            "text/latex": "A data.frame: 6 × 7\n\\begin{tabular}{r|lllllll}\n  & age & sex & bmi & children & smoker & region & charges\\\\\n  & <int> & <chr> & <dbl> & <int> & <chr> & <chr> & <dbl>\\\\\n\\hline\n\t1 & 19 & female & 27.900 & 0 & yes & southwest & 16884.924\\\\\n\t2 & 18 & male   & 33.770 & 1 & no  & southeast &  1725.552\\\\\n\t3 & 28 & male   & 33.000 & 3 & no  & southeast &  4449.462\\\\\n\t4 & 33 & male   & 22.705 & 0 & no  & northwest & 21984.471\\\\\n\t5 & 32 & male   & 28.880 & 0 & no  & northwest &  3866.855\\\\\n\t6 & 31 & female & 25.740 & 0 & no  & southeast &  3756.622\\\\\n\\end{tabular}\n",
            "text/markdown": "\nA data.frame: 6 × 7\n\n| <!--/--> | age &lt;int&gt; | sex &lt;chr&gt; | bmi &lt;dbl&gt; | children &lt;int&gt; | smoker &lt;chr&gt; | region &lt;chr&gt; | charges &lt;dbl&gt; |\n|---|---|---|---|---|---|---|---|\n| 1 | 19 | female | 27.900 | 0 | yes | southwest | 16884.924 |\n| 2 | 18 | male   | 33.770 | 1 | no  | southeast |  1725.552 |\n| 3 | 28 | male   | 33.000 | 3 | no  | southeast |  4449.462 |\n| 4 | 33 | male   | 22.705 | 0 | no  | northwest | 21984.471 |\n| 5 | 32 | male   | 28.880 | 0 | no  | northwest |  3866.855 |\n| 6 | 31 | female | 25.740 | 0 | no  | southeast |  3756.622 |\n\n",
            "text/html": [
              "<table>\n",
              "<caption>A data.frame: 6 × 7</caption>\n",
              "<thead>\n",
              "\t<tr><th></th><th scope=col>age</th><th scope=col>sex</th><th scope=col>bmi</th><th scope=col>children</th><th scope=col>smoker</th><th scope=col>region</th><th scope=col>charges</th></tr>\n",
              "\t<tr><th></th><th scope=col>&lt;int&gt;</th><th scope=col>&lt;chr&gt;</th><th scope=col>&lt;dbl&gt;</th><th scope=col>&lt;int&gt;</th><th scope=col>&lt;chr&gt;</th><th scope=col>&lt;chr&gt;</th><th scope=col>&lt;dbl&gt;</th></tr>\n",
              "</thead>\n",
              "<tbody>\n",
              "\t<tr><th scope=row>1</th><td>19</td><td>female</td><td>27.900</td><td>0</td><td>yes</td><td>southwest</td><td>16884.924</td></tr>\n",
              "\t<tr><th scope=row>2</th><td>18</td><td>male  </td><td>33.770</td><td>1</td><td>no </td><td>southeast</td><td> 1725.552</td></tr>\n",
              "\t<tr><th scope=row>3</th><td>28</td><td>male  </td><td>33.000</td><td>3</td><td>no </td><td>southeast</td><td> 4449.462</td></tr>\n",
              "\t<tr><th scope=row>4</th><td>33</td><td>male  </td><td>22.705</td><td>0</td><td>no </td><td>northwest</td><td>21984.471</td></tr>\n",
              "\t<tr><th scope=row>5</th><td>32</td><td>male  </td><td>28.880</td><td>0</td><td>no </td><td>northwest</td><td> 3866.855</td></tr>\n",
              "\t<tr><th scope=row>6</th><td>31</td><td>female</td><td>25.740</td><td>0</td><td>no </td><td>southeast</td><td> 3756.622</td></tr>\n",
              "</tbody>\n",
              "</table>\n"
            ]
          },
          "metadata": {
            "tags": []
          }
        }
      ]
    },
    {
      "cell_type": "markdown",
      "metadata": {
        "id": "H4gB7kVwDcv2"
      },
      "source": [
        "**P1)** Con el objetivo de explorar los datos obtenidos y comprender  las relaciones existentes, genere un breve análisis descriptivo del dataset `data`. Para ello considere los siguientes aspectos a incluir, según el tipo de variable a analizar:\n",
        "\n",
        "  * Para el caso de las variables numéricas debe incluir al menos:\n",
        "    1. (1pt) Estadísticos descriptivos como cuantiles, promedios, desviación estándar de **todas** las variables numéricas.\n",
        "    2. (2pts) Uno o varios histogramas.\n",
        "    3. (2pts) Uno o varios boxplots.\n",
        "    4. (2pts) Uno o varios gráficos de dispersión entre dos variables de interés.\n",
        "    5. (2pts) Matriz de correlación y su visualización.\n",
        "    6. (3pts) Un breve análisis de outliers para el caso de la variable `charges` (prima del seguro). Para ello utilice el **criterio del rango intercuartílico** para identificar los casos atípicos. \n",
        "      * Identifique estos casos en el dataset original e **incluya una columna llamada `es_outlier`**, que idique un 1 en caso de ser una obs atípica y un 0 en caso contrario. Esta columna será utilizada más adelante \n",
        "\n",
        "  * Para el caso de las variables categóricas debe incluir al menos:\n",
        "    1. (2pts) Una o varias tablas con los conteos de una o más variables de interés y comentar.\n",
        "    2. (2pts) Uno o varios gráficos de barra para alguna(s) de las categorías de interés.\n",
        "    3. (2pts) Al menos un boxplot de una variable numérica, pero **aperturado por una variable categórica** (ejemplo: `aes(x = sex, y = charges)`)\n"
      ]
    },
    {
      "cell_type": "code",
      "metadata": {
        "id": "FeUdO_rLARSL",
        "outputId": "037effae-474f-446c-bd3e-f8294588f674",
        "colab": {
          "base_uri": "https://localhost:8080/",
          "height": 260
        }
      },
      "source": [
        "# Respuesta\n",
        "summary(data)\n",
        "data$sex <- as.factor(data$sex)\n",
        "data$smoker <- as.factor(data$smoker)\n",
        "data$region <- as.factor(data$region)"
      ],
      "execution_count": 43,
      "outputs": [
        {
          "output_type": "display_data",
          "data": {
            "text/plain": [
              "      age            sex           bmi           children     smoker    \n",
              " Min.   :18.00   female:662   Min.   :15.96   Min.   :0.000   no :1064  \n",
              " 1st Qu.:27.00   male  :676   1st Qu.:26.30   1st Qu.:0.000   yes: 274  \n",
              " Median :39.00                Median :30.40   Median :1.000             \n",
              " Mean   :39.21                Mean   :30.66   Mean   :1.095             \n",
              " 3rd Qu.:51.00                3rd Qu.:34.69   3rd Qu.:2.000             \n",
              " Max.   :64.00                Max.   :53.13   Max.   :5.000             \n",
              "       region       charges      es_outlier     \n",
              " northeast:324   Min.   : 1122   Mode :logical  \n",
              " northwest:325   1st Qu.: 4740   FALSE:1199     \n",
              " southeast:364   Median : 9382   TRUE :139      \n",
              " southwest:325   Mean   :13270                  \n",
              "                 3rd Qu.:16640                  \n",
              "                 Max.   :63770                  "
            ]
          },
          "metadata": {
            "tags": []
          }
        }
      ]
    },
    {
      "cell_type": "code",
      "metadata": {
        "id": "fZg3uf-DGXEO",
        "outputId": "1d837b4e-478c-4731-d962-7608c18fb556",
        "colab": {
          "base_uri": "https://localhost:8080/",
          "height": 1000
        }
      },
      "source": [
        "# P 1.6\n",
        "# limite_inf = Q1 - 1.5*IQR\n",
        "# limite_sup = Q3 + 1.5*IQR\n",
        "# x > limite_sup | x < limite_inf\n",
        "\n",
        "# IQR\n",
        "charges_iqr <- IQR(data$charges)\n",
        "charges_iqr\n",
        "# IQR2\n",
        "charges_iqr2 <- quantile(data$charges,0.75) -quantile(data$charges,0.25)\n",
        "charges_iqr2\n",
        "# Q1 - 1.5 * IQR\n",
        "lim_inf <- quantile(data$charges,0.25) - 1.5*IQR(data$charges)\n",
        "lim_inf\n",
        "# Q3 + 1.5 * IQR\n",
        "lim_sup <- quantile(data$charges,0.75) + 1.5*IQR(data$charges)\n",
        "lim_sup\n",
        "# outlier SI: x > limite_sup | x < limite_inf\n",
        "data$es_outlier <- data$charges > lim_sup | data$charges < lim_inf\n",
        "\n",
        "data %>% arrange(desc(charges))"
      ],
      "execution_count": 39,
      "outputs": [
        {
          "output_type": "display_data",
          "data": {
            "text/plain": [
              "[1] 11899.63"
            ],
            "text/latex": "11899.625365",
            "text/markdown": "11899.625365",
            "text/html": [
              "11899.625365"
            ]
          },
          "metadata": {
            "tags": []
          }
        },
        {
          "output_type": "display_data",
          "data": {
            "text/plain": [
              "     75% \n",
              "11899.63 "
            ],
            "text/latex": "\\textbf{75\\textbackslash{}\\%:} 11899.625365",
            "text/markdown": "**75%:** 11899.625365",
            "text/html": [
              "<strong>75%:</strong> 11899.625365"
            ]
          },
          "metadata": {
            "tags": []
          }
        },
        {
          "output_type": "display_data",
          "data": {
            "text/plain": [
              "      25% \n",
              "-13109.15 "
            ],
            "text/latex": "\\textbf{25\\textbackslash{}\\%:} -13109.1508975",
            "text/markdown": "**25%:** -13109.1508975",
            "text/html": [
              "<strong>25%:</strong> -13109.1508975"
            ]
          },
          "metadata": {
            "tags": []
          }
        },
        {
          "output_type": "display_data",
          "data": {
            "text/plain": [
              "     75% \n",
              "34489.35 "
            ],
            "text/latex": "\\textbf{75\\textbackslash{}\\%:} 34489.3505625",
            "text/markdown": "**75%:** 34489.3505625",
            "text/html": [
              "<strong>75%:</strong> 34489.3505625"
            ]
          },
          "metadata": {
            "tags": []
          }
        },
        {
          "output_type": "display_data",
          "data": {
            "text/plain": [
              "     age sex    bmi    children smoker region    charges  es_outlier\n",
              "1    54  female 47.410 0        yes    southeast 63770.43 TRUE      \n",
              "2    45  male   30.360 0        yes    southeast 62592.87 TRUE      \n",
              "3    52  male   34.485 3        yes    northwest 60021.40 TRUE      \n",
              "4    31  female 38.095 1        yes    northeast 58571.07 TRUE      \n",
              "5    33  female 35.530 0        yes    northwest 55135.40 TRUE      \n",
              "6    60  male   32.800 0        yes    southwest 52590.83 TRUE      \n",
              "7    28  male   36.400 1        yes    southwest 51194.56 TRUE      \n",
              "8    64  male   36.960 2        yes    southeast 49577.66 TRUE      \n",
              "9    59  male   41.140 1        yes    southeast 48970.25 TRUE      \n",
              "10   44  female 38.060 0        yes    southeast 48885.14 TRUE      \n",
              "11   63  female 37.700 0        yes    southwest 48824.45 TRUE      \n",
              "12   57  male   42.130 1        yes    southeast 48675.52 TRUE      \n",
              "13   60  male   40.920 0        yes    southeast 48673.56 TRUE      \n",
              "14   54  male   40.565 3        yes    northeast 48549.18 TRUE      \n",
              "15   61  female 36.385 1        yes    northeast 48517.56 TRUE      \n",
              "16   60  male   39.900 0        yes    southwest 48173.36 TRUE      \n",
              "17   64  female 33.800 1        yes    southwest 47928.03 TRUE      \n",
              "18   59  female 36.765 1        yes    northeast 47896.79 TRUE      \n",
              "19   58  male   36.955 2        yes    northwest 47496.49 TRUE      \n",
              "20   51  male   42.900 2        yes    southeast 47462.89 TRUE      \n",
              "21   61  male   36.300 1        yes    southwest 47403.88 TRUE      \n",
              "22   63  female 32.200 2        yes    southwest 47305.31 TRUE      \n",
              "23   64  female 31.300 2        yes    southwest 47291.06 TRUE      \n",
              "24   52  male   41.800 2        yes    southeast 47269.85 TRUE      \n",
              "25   63  male   35.090 0        yes    southeast 47055.53 TRUE      \n",
              "26   64  male   33.880 0        yes    southeast 46889.26 TRUE      \n",
              "27   62  male   30.875 3        yes    northwest 46718.16 TRUE      \n",
              "28   53  female 36.860 3        yes    northwest 46661.44 TRUE      \n",
              "29   61  male   35.860 0        yes    southeast 46599.11 TRUE      \n",
              "30   51  female 37.050 3        yes    northeast 46255.11 TRUE      \n",
              "⋮    ⋮   ⋮      ⋮      ⋮        ⋮      ⋮         ⋮        ⋮         \n",
              "1309 19  male   20.425 0        no     northwest 1625.434 FALSE     \n",
              "1310 18  female 31.350 0        no     southeast 1622.188 FALSE     \n",
              "1311 18  female 31.130 0        no     southeast 1621.883 FALSE     \n",
              "1312 19  male   17.480 0        no     northwest 1621.340 FALSE     \n",
              "1313 18  female 26.730 0        no     southeast 1615.767 FALSE     \n",
              "1314 18  female 20.790 0        no     southeast 1607.510 FALSE     \n",
              "1315 21  male   36.850 0        no     southeast 1534.304 FALSE     \n",
              "1316 21  male   35.530 0        no     southeast 1532.470 FALSE     \n",
              "1317 21  male   31.100 0        no     southwest 1526.312 FALSE     \n",
              "1318 21  male   23.210 0        no     southeast 1515.345 FALSE     \n",
              "1319 20  male   33.330 0        no     southeast 1391.529 FALSE     \n",
              "1320 19  male   35.400 0        no     southwest 1263.249 FALSE     \n",
              "1321 19  male   34.400 0        no     southwest 1261.859 FALSE     \n",
              "1322 19  male   34.100 0        no     southwest 1261.442 FALSE     \n",
              "1323 19  male   30.400 0        no     southwest 1256.299 FALSE     \n",
              "1324 19  male   28.700 0        no     southwest 1253.936 FALSE     \n",
              "1325 19  male   27.600 0        no     southwest 1252.407 FALSE     \n",
              "1326 19  male   20.700 0        no     southwest 1242.816 FALSE     \n",
              "1327 19  male   20.300 0        no     southwest 1242.260 FALSE     \n",
              "1328 19  male   19.800 0        no     southwest 1241.565 FALSE     \n",
              "1329 18  male   53.130 0        no     southeast 1163.463 FALSE     \n",
              "1330 18  male   43.010 0        no     southeast 1149.396 FALSE     \n",
              "1331 18  male   41.140 0        no     southeast 1146.797 FALSE     \n",
              "1332 18  male   37.290 0        no     southeast 1141.445 FALSE     \n",
              "1333 18  male   34.430 0        no     southeast 1137.470 FALSE     \n",
              "1334 18  male   34.100 0        no     southeast 1137.011 FALSE     \n",
              "1335 18  male   33.660 0        no     southeast 1136.399 FALSE     \n",
              "1336 18  male   33.330 0        no     southeast 1135.941 FALSE     \n",
              "1337 18  male   30.140 0        no     southeast 1131.507 FALSE     \n",
              "1338 18  male   23.210 0        no     southeast 1121.874 FALSE     "
            ],
            "text/latex": "A data.frame: 1338 × 8\n\\begin{tabular}{llllllll}\n age & sex & bmi & children & smoker & region & charges & es\\_outlier\\\\\n <int> & <chr> & <dbl> & <int> & <chr> & <chr> & <dbl> & <lgl>\\\\\n\\hline\n\t 54 & female & 47.410 & 0 & yes & southeast & 63770.43 & TRUE\\\\\n\t 45 & male   & 30.360 & 0 & yes & southeast & 62592.87 & TRUE\\\\\n\t 52 & male   & 34.485 & 3 & yes & northwest & 60021.40 & TRUE\\\\\n\t 31 & female & 38.095 & 1 & yes & northeast & 58571.07 & TRUE\\\\\n\t 33 & female & 35.530 & 0 & yes & northwest & 55135.40 & TRUE\\\\\n\t 60 & male   & 32.800 & 0 & yes & southwest & 52590.83 & TRUE\\\\\n\t 28 & male   & 36.400 & 1 & yes & southwest & 51194.56 & TRUE\\\\\n\t 64 & male   & 36.960 & 2 & yes & southeast & 49577.66 & TRUE\\\\\n\t 59 & male   & 41.140 & 1 & yes & southeast & 48970.25 & TRUE\\\\\n\t 44 & female & 38.060 & 0 & yes & southeast & 48885.14 & TRUE\\\\\n\t 63 & female & 37.700 & 0 & yes & southwest & 48824.45 & TRUE\\\\\n\t 57 & male   & 42.130 & 1 & yes & southeast & 48675.52 & TRUE\\\\\n\t 60 & male   & 40.920 & 0 & yes & southeast & 48673.56 & TRUE\\\\\n\t 54 & male   & 40.565 & 3 & yes & northeast & 48549.18 & TRUE\\\\\n\t 61 & female & 36.385 & 1 & yes & northeast & 48517.56 & TRUE\\\\\n\t 60 & male   & 39.900 & 0 & yes & southwest & 48173.36 & TRUE\\\\\n\t 64 & female & 33.800 & 1 & yes & southwest & 47928.03 & TRUE\\\\\n\t 59 & female & 36.765 & 1 & yes & northeast & 47896.79 & TRUE\\\\\n\t 58 & male   & 36.955 & 2 & yes & northwest & 47496.49 & TRUE\\\\\n\t 51 & male   & 42.900 & 2 & yes & southeast & 47462.89 & TRUE\\\\\n\t 61 & male   & 36.300 & 1 & yes & southwest & 47403.88 & TRUE\\\\\n\t 63 & female & 32.200 & 2 & yes & southwest & 47305.31 & TRUE\\\\\n\t 64 & female & 31.300 & 2 & yes & southwest & 47291.06 & TRUE\\\\\n\t 52 & male   & 41.800 & 2 & yes & southeast & 47269.85 & TRUE\\\\\n\t 63 & male   & 35.090 & 0 & yes & southeast & 47055.53 & TRUE\\\\\n\t 64 & male   & 33.880 & 0 & yes & southeast & 46889.26 & TRUE\\\\\n\t 62 & male   & 30.875 & 3 & yes & northwest & 46718.16 & TRUE\\\\\n\t 53 & female & 36.860 & 3 & yes & northwest & 46661.44 & TRUE\\\\\n\t 61 & male   & 35.860 & 0 & yes & southeast & 46599.11 & TRUE\\\\\n\t 51 & female & 37.050 & 3 & yes & northeast & 46255.11 & TRUE\\\\\n\t ⋮ & ⋮ & ⋮ & ⋮ & ⋮ & ⋮ & ⋮ & ⋮\\\\\n\t 19 & male   & 20.425 & 0 & no & northwest & 1625.434 & FALSE\\\\\n\t 18 & female & 31.350 & 0 & no & southeast & 1622.188 & FALSE\\\\\n\t 18 & female & 31.130 & 0 & no & southeast & 1621.883 & FALSE\\\\\n\t 19 & male   & 17.480 & 0 & no & northwest & 1621.340 & FALSE\\\\\n\t 18 & female & 26.730 & 0 & no & southeast & 1615.767 & FALSE\\\\\n\t 18 & female & 20.790 & 0 & no & southeast & 1607.510 & FALSE\\\\\n\t 21 & male   & 36.850 & 0 & no & southeast & 1534.304 & FALSE\\\\\n\t 21 & male   & 35.530 & 0 & no & southeast & 1532.470 & FALSE\\\\\n\t 21 & male   & 31.100 & 0 & no & southwest & 1526.312 & FALSE\\\\\n\t 21 & male   & 23.210 & 0 & no & southeast & 1515.345 & FALSE\\\\\n\t 20 & male   & 33.330 & 0 & no & southeast & 1391.529 & FALSE\\\\\n\t 19 & male   & 35.400 & 0 & no & southwest & 1263.249 & FALSE\\\\\n\t 19 & male   & 34.400 & 0 & no & southwest & 1261.859 & FALSE\\\\\n\t 19 & male   & 34.100 & 0 & no & southwest & 1261.442 & FALSE\\\\\n\t 19 & male   & 30.400 & 0 & no & southwest & 1256.299 & FALSE\\\\\n\t 19 & male   & 28.700 & 0 & no & southwest & 1253.936 & FALSE\\\\\n\t 19 & male   & 27.600 & 0 & no & southwest & 1252.407 & FALSE\\\\\n\t 19 & male   & 20.700 & 0 & no & southwest & 1242.816 & FALSE\\\\\n\t 19 & male   & 20.300 & 0 & no & southwest & 1242.260 & FALSE\\\\\n\t 19 & male   & 19.800 & 0 & no & southwest & 1241.565 & FALSE\\\\\n\t 18 & male   & 53.130 & 0 & no & southeast & 1163.463 & FALSE\\\\\n\t 18 & male   & 43.010 & 0 & no & southeast & 1149.396 & FALSE\\\\\n\t 18 & male   & 41.140 & 0 & no & southeast & 1146.797 & FALSE\\\\\n\t 18 & male   & 37.290 & 0 & no & southeast & 1141.445 & FALSE\\\\\n\t 18 & male   & 34.430 & 0 & no & southeast & 1137.470 & FALSE\\\\\n\t 18 & male   & 34.100 & 0 & no & southeast & 1137.011 & FALSE\\\\\n\t 18 & male   & 33.660 & 0 & no & southeast & 1136.399 & FALSE\\\\\n\t 18 & male   & 33.330 & 0 & no & southeast & 1135.941 & FALSE\\\\\n\t 18 & male   & 30.140 & 0 & no & southeast & 1131.507 & FALSE\\\\\n\t 18 & male   & 23.210 & 0 & no & southeast & 1121.874 & FALSE\\\\\n\\end{tabular}\n",
            "text/markdown": "\nA data.frame: 1338 × 8\n\n| age &lt;int&gt; | sex &lt;chr&gt; | bmi &lt;dbl&gt; | children &lt;int&gt; | smoker &lt;chr&gt; | region &lt;chr&gt; | charges &lt;dbl&gt; | es_outlier &lt;lgl&gt; |\n|---|---|---|---|---|---|---|---|\n| 54 | female | 47.410 | 0 | yes | southeast | 63770.43 | TRUE |\n| 45 | male   | 30.360 | 0 | yes | southeast | 62592.87 | TRUE |\n| 52 | male   | 34.485 | 3 | yes | northwest | 60021.40 | TRUE |\n| 31 | female | 38.095 | 1 | yes | northeast | 58571.07 | TRUE |\n| 33 | female | 35.530 | 0 | yes | northwest | 55135.40 | TRUE |\n| 60 | male   | 32.800 | 0 | yes | southwest | 52590.83 | TRUE |\n| 28 | male   | 36.400 | 1 | yes | southwest | 51194.56 | TRUE |\n| 64 | male   | 36.960 | 2 | yes | southeast | 49577.66 | TRUE |\n| 59 | male   | 41.140 | 1 | yes | southeast | 48970.25 | TRUE |\n| 44 | female | 38.060 | 0 | yes | southeast | 48885.14 | TRUE |\n| 63 | female | 37.700 | 0 | yes | southwest | 48824.45 | TRUE |\n| 57 | male   | 42.130 | 1 | yes | southeast | 48675.52 | TRUE |\n| 60 | male   | 40.920 | 0 | yes | southeast | 48673.56 | TRUE |\n| 54 | male   | 40.565 | 3 | yes | northeast | 48549.18 | TRUE |\n| 61 | female | 36.385 | 1 | yes | northeast | 48517.56 | TRUE |\n| 60 | male   | 39.900 | 0 | yes | southwest | 48173.36 | TRUE |\n| 64 | female | 33.800 | 1 | yes | southwest | 47928.03 | TRUE |\n| 59 | female | 36.765 | 1 | yes | northeast | 47896.79 | TRUE |\n| 58 | male   | 36.955 | 2 | yes | northwest | 47496.49 | TRUE |\n| 51 | male   | 42.900 | 2 | yes | southeast | 47462.89 | TRUE |\n| 61 | male   | 36.300 | 1 | yes | southwest | 47403.88 | TRUE |\n| 63 | female | 32.200 | 2 | yes | southwest | 47305.31 | TRUE |\n| 64 | female | 31.300 | 2 | yes | southwest | 47291.06 | TRUE |\n| 52 | male   | 41.800 | 2 | yes | southeast | 47269.85 | TRUE |\n| 63 | male   | 35.090 | 0 | yes | southeast | 47055.53 | TRUE |\n| 64 | male   | 33.880 | 0 | yes | southeast | 46889.26 | TRUE |\n| 62 | male   | 30.875 | 3 | yes | northwest | 46718.16 | TRUE |\n| 53 | female | 36.860 | 3 | yes | northwest | 46661.44 | TRUE |\n| 61 | male   | 35.860 | 0 | yes | southeast | 46599.11 | TRUE |\n| 51 | female | 37.050 | 3 | yes | northeast | 46255.11 | TRUE |\n| ⋮ | ⋮ | ⋮ | ⋮ | ⋮ | ⋮ | ⋮ | ⋮ |\n| 19 | male   | 20.425 | 0 | no | northwest | 1625.434 | FALSE |\n| 18 | female | 31.350 | 0 | no | southeast | 1622.188 | FALSE |\n| 18 | female | 31.130 | 0 | no | southeast | 1621.883 | FALSE |\n| 19 | male   | 17.480 | 0 | no | northwest | 1621.340 | FALSE |\n| 18 | female | 26.730 | 0 | no | southeast | 1615.767 | FALSE |\n| 18 | female | 20.790 | 0 | no | southeast | 1607.510 | FALSE |\n| 21 | male   | 36.850 | 0 | no | southeast | 1534.304 | FALSE |\n| 21 | male   | 35.530 | 0 | no | southeast | 1532.470 | FALSE |\n| 21 | male   | 31.100 | 0 | no | southwest | 1526.312 | FALSE |\n| 21 | male   | 23.210 | 0 | no | southeast | 1515.345 | FALSE |\n| 20 | male   | 33.330 | 0 | no | southeast | 1391.529 | FALSE |\n| 19 | male   | 35.400 | 0 | no | southwest | 1263.249 | FALSE |\n| 19 | male   | 34.400 | 0 | no | southwest | 1261.859 | FALSE |\n| 19 | male   | 34.100 | 0 | no | southwest | 1261.442 | FALSE |\n| 19 | male   | 30.400 | 0 | no | southwest | 1256.299 | FALSE |\n| 19 | male   | 28.700 | 0 | no | southwest | 1253.936 | FALSE |\n| 19 | male   | 27.600 | 0 | no | southwest | 1252.407 | FALSE |\n| 19 | male   | 20.700 | 0 | no | southwest | 1242.816 | FALSE |\n| 19 | male   | 20.300 | 0 | no | southwest | 1242.260 | FALSE |\n| 19 | male   | 19.800 | 0 | no | southwest | 1241.565 | FALSE |\n| 18 | male   | 53.130 | 0 | no | southeast | 1163.463 | FALSE |\n| 18 | male   | 43.010 | 0 | no | southeast | 1149.396 | FALSE |\n| 18 | male   | 41.140 | 0 | no | southeast | 1146.797 | FALSE |\n| 18 | male   | 37.290 | 0 | no | southeast | 1141.445 | FALSE |\n| 18 | male   | 34.430 | 0 | no | southeast | 1137.470 | FALSE |\n| 18 | male   | 34.100 | 0 | no | southeast | 1137.011 | FALSE |\n| 18 | male   | 33.660 | 0 | no | southeast | 1136.399 | FALSE |\n| 18 | male   | 33.330 | 0 | no | southeast | 1135.941 | FALSE |\n| 18 | male   | 30.140 | 0 | no | southeast | 1131.507 | FALSE |\n| 18 | male   | 23.210 | 0 | no | southeast | 1121.874 | FALSE |\n\n",
            "text/html": [
              "<table>\n",
              "<caption>A data.frame: 1338 × 8</caption>\n",
              "<thead>\n",
              "\t<tr><th scope=col>age</th><th scope=col>sex</th><th scope=col>bmi</th><th scope=col>children</th><th scope=col>smoker</th><th scope=col>region</th><th scope=col>charges</th><th scope=col>es_outlier</th></tr>\n",
              "\t<tr><th scope=col>&lt;int&gt;</th><th scope=col>&lt;chr&gt;</th><th scope=col>&lt;dbl&gt;</th><th scope=col>&lt;int&gt;</th><th scope=col>&lt;chr&gt;</th><th scope=col>&lt;chr&gt;</th><th scope=col>&lt;dbl&gt;</th><th scope=col>&lt;lgl&gt;</th></tr>\n",
              "</thead>\n",
              "<tbody>\n",
              "\t<tr><td>54</td><td>female</td><td>47.410</td><td>0</td><td>yes</td><td>southeast</td><td>63770.43</td><td>TRUE</td></tr>\n",
              "\t<tr><td>45</td><td>male  </td><td>30.360</td><td>0</td><td>yes</td><td>southeast</td><td>62592.87</td><td>TRUE</td></tr>\n",
              "\t<tr><td>52</td><td>male  </td><td>34.485</td><td>3</td><td>yes</td><td>northwest</td><td>60021.40</td><td>TRUE</td></tr>\n",
              "\t<tr><td>31</td><td>female</td><td>38.095</td><td>1</td><td>yes</td><td>northeast</td><td>58571.07</td><td>TRUE</td></tr>\n",
              "\t<tr><td>33</td><td>female</td><td>35.530</td><td>0</td><td>yes</td><td>northwest</td><td>55135.40</td><td>TRUE</td></tr>\n",
              "\t<tr><td>60</td><td>male  </td><td>32.800</td><td>0</td><td>yes</td><td>southwest</td><td>52590.83</td><td>TRUE</td></tr>\n",
              "\t<tr><td>28</td><td>male  </td><td>36.400</td><td>1</td><td>yes</td><td>southwest</td><td>51194.56</td><td>TRUE</td></tr>\n",
              "\t<tr><td>64</td><td>male  </td><td>36.960</td><td>2</td><td>yes</td><td>southeast</td><td>49577.66</td><td>TRUE</td></tr>\n",
              "\t<tr><td>59</td><td>male  </td><td>41.140</td><td>1</td><td>yes</td><td>southeast</td><td>48970.25</td><td>TRUE</td></tr>\n",
              "\t<tr><td>44</td><td>female</td><td>38.060</td><td>0</td><td>yes</td><td>southeast</td><td>48885.14</td><td>TRUE</td></tr>\n",
              "\t<tr><td>63</td><td>female</td><td>37.700</td><td>0</td><td>yes</td><td>southwest</td><td>48824.45</td><td>TRUE</td></tr>\n",
              "\t<tr><td>57</td><td>male  </td><td>42.130</td><td>1</td><td>yes</td><td>southeast</td><td>48675.52</td><td>TRUE</td></tr>\n",
              "\t<tr><td>60</td><td>male  </td><td>40.920</td><td>0</td><td>yes</td><td>southeast</td><td>48673.56</td><td>TRUE</td></tr>\n",
              "\t<tr><td>54</td><td>male  </td><td>40.565</td><td>3</td><td>yes</td><td>northeast</td><td>48549.18</td><td>TRUE</td></tr>\n",
              "\t<tr><td>61</td><td>female</td><td>36.385</td><td>1</td><td>yes</td><td>northeast</td><td>48517.56</td><td>TRUE</td></tr>\n",
              "\t<tr><td>60</td><td>male  </td><td>39.900</td><td>0</td><td>yes</td><td>southwest</td><td>48173.36</td><td>TRUE</td></tr>\n",
              "\t<tr><td>64</td><td>female</td><td>33.800</td><td>1</td><td>yes</td><td>southwest</td><td>47928.03</td><td>TRUE</td></tr>\n",
              "\t<tr><td>59</td><td>female</td><td>36.765</td><td>1</td><td>yes</td><td>northeast</td><td>47896.79</td><td>TRUE</td></tr>\n",
              "\t<tr><td>58</td><td>male  </td><td>36.955</td><td>2</td><td>yes</td><td>northwest</td><td>47496.49</td><td>TRUE</td></tr>\n",
              "\t<tr><td>51</td><td>male  </td><td>42.900</td><td>2</td><td>yes</td><td>southeast</td><td>47462.89</td><td>TRUE</td></tr>\n",
              "\t<tr><td>61</td><td>male  </td><td>36.300</td><td>1</td><td>yes</td><td>southwest</td><td>47403.88</td><td>TRUE</td></tr>\n",
              "\t<tr><td>63</td><td>female</td><td>32.200</td><td>2</td><td>yes</td><td>southwest</td><td>47305.31</td><td>TRUE</td></tr>\n",
              "\t<tr><td>64</td><td>female</td><td>31.300</td><td>2</td><td>yes</td><td>southwest</td><td>47291.06</td><td>TRUE</td></tr>\n",
              "\t<tr><td>52</td><td>male  </td><td>41.800</td><td>2</td><td>yes</td><td>southeast</td><td>47269.85</td><td>TRUE</td></tr>\n",
              "\t<tr><td>63</td><td>male  </td><td>35.090</td><td>0</td><td>yes</td><td>southeast</td><td>47055.53</td><td>TRUE</td></tr>\n",
              "\t<tr><td>64</td><td>male  </td><td>33.880</td><td>0</td><td>yes</td><td>southeast</td><td>46889.26</td><td>TRUE</td></tr>\n",
              "\t<tr><td>62</td><td>male  </td><td>30.875</td><td>3</td><td>yes</td><td>northwest</td><td>46718.16</td><td>TRUE</td></tr>\n",
              "\t<tr><td>53</td><td>female</td><td>36.860</td><td>3</td><td>yes</td><td>northwest</td><td>46661.44</td><td>TRUE</td></tr>\n",
              "\t<tr><td>61</td><td>male  </td><td>35.860</td><td>0</td><td>yes</td><td>southeast</td><td>46599.11</td><td>TRUE</td></tr>\n",
              "\t<tr><td>51</td><td>female</td><td>37.050</td><td>3</td><td>yes</td><td>northeast</td><td>46255.11</td><td>TRUE</td></tr>\n",
              "\t<tr><td>⋮</td><td>⋮</td><td>⋮</td><td>⋮</td><td>⋮</td><td>⋮</td><td>⋮</td><td>⋮</td></tr>\n",
              "\t<tr><td>19</td><td>male  </td><td>20.425</td><td>0</td><td>no</td><td>northwest</td><td>1625.434</td><td>FALSE</td></tr>\n",
              "\t<tr><td>18</td><td>female</td><td>31.350</td><td>0</td><td>no</td><td>southeast</td><td>1622.188</td><td>FALSE</td></tr>\n",
              "\t<tr><td>18</td><td>female</td><td>31.130</td><td>0</td><td>no</td><td>southeast</td><td>1621.883</td><td>FALSE</td></tr>\n",
              "\t<tr><td>19</td><td>male  </td><td>17.480</td><td>0</td><td>no</td><td>northwest</td><td>1621.340</td><td>FALSE</td></tr>\n",
              "\t<tr><td>18</td><td>female</td><td>26.730</td><td>0</td><td>no</td><td>southeast</td><td>1615.767</td><td>FALSE</td></tr>\n",
              "\t<tr><td>18</td><td>female</td><td>20.790</td><td>0</td><td>no</td><td>southeast</td><td>1607.510</td><td>FALSE</td></tr>\n",
              "\t<tr><td>21</td><td>male  </td><td>36.850</td><td>0</td><td>no</td><td>southeast</td><td>1534.304</td><td>FALSE</td></tr>\n",
              "\t<tr><td>21</td><td>male  </td><td>35.530</td><td>0</td><td>no</td><td>southeast</td><td>1532.470</td><td>FALSE</td></tr>\n",
              "\t<tr><td>21</td><td>male  </td><td>31.100</td><td>0</td><td>no</td><td>southwest</td><td>1526.312</td><td>FALSE</td></tr>\n",
              "\t<tr><td>21</td><td>male  </td><td>23.210</td><td>0</td><td>no</td><td>southeast</td><td>1515.345</td><td>FALSE</td></tr>\n",
              "\t<tr><td>20</td><td>male  </td><td>33.330</td><td>0</td><td>no</td><td>southeast</td><td>1391.529</td><td>FALSE</td></tr>\n",
              "\t<tr><td>19</td><td>male  </td><td>35.400</td><td>0</td><td>no</td><td>southwest</td><td>1263.249</td><td>FALSE</td></tr>\n",
              "\t<tr><td>19</td><td>male  </td><td>34.400</td><td>0</td><td>no</td><td>southwest</td><td>1261.859</td><td>FALSE</td></tr>\n",
              "\t<tr><td>19</td><td>male  </td><td>34.100</td><td>0</td><td>no</td><td>southwest</td><td>1261.442</td><td>FALSE</td></tr>\n",
              "\t<tr><td>19</td><td>male  </td><td>30.400</td><td>0</td><td>no</td><td>southwest</td><td>1256.299</td><td>FALSE</td></tr>\n",
              "\t<tr><td>19</td><td>male  </td><td>28.700</td><td>0</td><td>no</td><td>southwest</td><td>1253.936</td><td>FALSE</td></tr>\n",
              "\t<tr><td>19</td><td>male  </td><td>27.600</td><td>0</td><td>no</td><td>southwest</td><td>1252.407</td><td>FALSE</td></tr>\n",
              "\t<tr><td>19</td><td>male  </td><td>20.700</td><td>0</td><td>no</td><td>southwest</td><td>1242.816</td><td>FALSE</td></tr>\n",
              "\t<tr><td>19</td><td>male  </td><td>20.300</td><td>0</td><td>no</td><td>southwest</td><td>1242.260</td><td>FALSE</td></tr>\n",
              "\t<tr><td>19</td><td>male  </td><td>19.800</td><td>0</td><td>no</td><td>southwest</td><td>1241.565</td><td>FALSE</td></tr>\n",
              "\t<tr><td>18</td><td>male  </td><td>53.130</td><td>0</td><td>no</td><td>southeast</td><td>1163.463</td><td>FALSE</td></tr>\n",
              "\t<tr><td>18</td><td>male  </td><td>43.010</td><td>0</td><td>no</td><td>southeast</td><td>1149.396</td><td>FALSE</td></tr>\n",
              "\t<tr><td>18</td><td>male  </td><td>41.140</td><td>0</td><td>no</td><td>southeast</td><td>1146.797</td><td>FALSE</td></tr>\n",
              "\t<tr><td>18</td><td>male  </td><td>37.290</td><td>0</td><td>no</td><td>southeast</td><td>1141.445</td><td>FALSE</td></tr>\n",
              "\t<tr><td>18</td><td>male  </td><td>34.430</td><td>0</td><td>no</td><td>southeast</td><td>1137.470</td><td>FALSE</td></tr>\n",
              "\t<tr><td>18</td><td>male  </td><td>34.100</td><td>0</td><td>no</td><td>southeast</td><td>1137.011</td><td>FALSE</td></tr>\n",
              "\t<tr><td>18</td><td>male  </td><td>33.660</td><td>0</td><td>no</td><td>southeast</td><td>1136.399</td><td>FALSE</td></tr>\n",
              "\t<tr><td>18</td><td>male  </td><td>33.330</td><td>0</td><td>no</td><td>southeast</td><td>1135.941</td><td>FALSE</td></tr>\n",
              "\t<tr><td>18</td><td>male  </td><td>30.140</td><td>0</td><td>no</td><td>southeast</td><td>1131.507</td><td>FALSE</td></tr>\n",
              "\t<tr><td>18</td><td>male  </td><td>23.210</td><td>0</td><td>no</td><td>southeast</td><td>1121.874</td><td>FALSE</td></tr>\n",
              "</tbody>\n",
              "</table>\n"
            ]
          },
          "metadata": {
            "tags": []
          }
        }
      ]
    },
    {
      "cell_type": "code",
      "metadata": {
        "id": "9W7Hdy0cL76d",
        "outputId": "86c22dd7-b1a2-4abf-ca15-6ca9c14ab87a",
        "colab": {
          "base_uri": "https://localhost:8080/",
          "height": 437
        }
      },
      "source": [
        "ggplot(data, aes(x=sex, y=charges)) + \n",
        "  geom_boxplot()"
      ],
      "execution_count": 46,
      "outputs": [
        {
          "output_type": "display_data",
          "data": {
            "image/png": "[encoded data removed]",
            "text/plain": [
              "plot without title"
            ]
          },
          "metadata": {
            "tags": [],
            "image/png": {
              "width": 420,
              "height": 420
            }
          }
        }
      ]
    },
    {
      "cell_type": "code",
      "metadata": {
        "id": "CP3V02rMNcmW",
        "outputId": "b1388b99-cc29-483f-8c9a-1ef7366232c1",
        "colab": {
          "base_uri": "https://localhost:8080/",
          "height": 437
        }
      },
      "source": [
        "ggplot(data, aes(x=smoker, y=charges)) +\n",
        "  geom_bar(stat=\"identity\") # tendrá sentido este barplot?"
      ],
      "execution_count": 47,
      "outputs": [
        {
          "output_type": "display_data",
          "data": {
            "image/png": "[encoded data removed]",
            "text/plain": [
              "plot without title"
            ]
          },
          "metadata": {
            "tags": [],
            "image/png": {
              "width": 420,
              "height": 420
            }
          }
        }
      ]
    },
    {
      "cell_type": "markdown",
      "metadata": {
        "id": "GSlE3pnYwTe7"
      },
      "source": [
        "**P2)** En esta segunda etapa usted deberá explorar las variables que inciden en la asignación de la prima del seguro (charges). Para ello explore lo siguiente:\n",
        "  1. (1pt) Genere un árbol de decisión con el package rpart, que modele como variable respuesta la variable `charges` que indica el perio de la prima del seguro y como variables descriptoras `age, sex,\tbmi,\tchildren,\tsmoker,\tregion`. Considere **los parámetros por defectos para esta pregunta**, no es necesario realizar la poda del árbol (lo veremos la clase del 02 de noviembre).\n",
        "  2. (1pt) Visualice el árbol obtenido utilizando la función `rpart.plot::rpart.plot` (si está en colab) o `visNetwork::visTree` (si está en Rstuio)\n",
        "  3. (2pts) Comente sobre las variables más importantes en función de la visulaización generada.\n",
        "  4. (2pts) Describa los segmentos de interés. Por ejemplo ¿qué grupos de la muestra tienen mayores primas?¿Qué grupos de la muestra poseen primas menores?\n",
        "\n",
        "\n",
        "**NOTA:** Recuerde que en este caso su variable respuesta es una variable numérica, por tanto los nodos terminales contienen como respuesta el promedio de la prima de todas las observaciones del nodo respectivo.\n"
      ]
    },
    {
      "cell_type": "code",
      "metadata": {
        "id": "EH5HnwtxFT_r",
        "outputId": "ca91d056-b14b-4beb-be5d-14360d9774ba",
        "colab": {
          "base_uri": "https://localhost:8080/"
        }
      },
      "source": [
        "library(rpart)\n",
        "#install.packages(\"rpart.plot\")\n",
        "library(rpart.plot)"
      ],
      "execution_count": 49,
      "outputs": [
        {
          "output_type": "stream",
          "text": [
            "Installing package into ‘/usr/local/lib/R/site-library’\n",
            "(as ‘lib’ is unspecified)\n",
            "\n"
          ],
          "name": "stderr"
        }
      ]
    },
    {
      "cell_type": "code",
      "metadata": {
        "id": "UDQeumwEODIK"
      },
      "source": [
        "data_arbol <- data %>% select(-c(es_outlier))\n",
        "arbol <- rpart(charges ~ ., data = data_arbol) # 1pt"
      ],
      "execution_count": 57,
      "outputs": []
    },
    {
      "cell_type": "code",
      "metadata": {
        "id": "N0nLc2XGOKI8",
        "outputId": "bd0defa4-4670-4a63-8f92-12b61a3a68da",
        "colab": {
          "base_uri": "https://localhost:8080/",
          "height": 437
        }
      },
      "source": [
        "rpart.plot(arbol) # 1pt"
      ],
      "execution_count": 58,
      "outputs": [
        {
          "output_type": "display_data",
          "data": {
            "image/png": "[encoded data removed]",
            "text/plain": [
              "plot without title"
            ]
          },
          "metadata": {
            "tags": [],
            "image/png": {
              "width": 420,
              "height": 420
            }
          }
        }
      ]
    },
    {
      "cell_type": "markdown",
      "metadata": {
        "id": "pHMLDmOZFCFy"
      },
      "source": [
        "**P3)** Considerando sólo las variables numéricas, compare los algoritmos **k-means**  y **clustering jerárquico**, para identificar grupos en función de las siguientes variables `age, bmi` y `charges`.\n",
        "\n",
        "**NOTA1:** Para el cluster jerárquico considere como distancia el método **complete**.\n",
        "\n",
        "\n",
        "  1.(4pts) Decida una cantidad de clusters **no menor a 5** mediante el método del codo para el caso de k-means y mediante el ancho de siluetas para el caso de cluster jerárquico.\n",
        "\n",
        "  2.(2pts) Cree dos nuevas columnas en el dataset, llamadas `cl_km` y `cl_hc`, que contenga el número del cluster al cual fue asignado cada observación, según el algoritmo kmeans y cluster jerárquico respectivamente.\n",
        "\n",
        "  3.(3pts) Describa los grupos generados por ambos algoritmos (cantidad de registros por grupo, promedio de edad en cada grupo, promedio de bmi y promedio de charges) y escoja uno de los dos algoritmos.\n",
        "\n",
        "  4.(2pts) Genere un gráfico entre todos los pares de variables numéricas y coloree según el cluster al cual pertenece cada observación, de acuerdo al algoritmo seleccionado por usted.\n",
        "  \n",
        "  5.(2pts) Replique el gráfico anterior, pero esta vez coloree según el valor de la variable `es_outlier`, creada en la pregunta **P1.6**.\n",
        "\n",
        "\n",
        "  **NOTA2:** Considere **escalar** los datos antes de implementar los algortimos de clusterización."
      ]
    },
    {
      "cell_type": "code",
      "metadata": {
        "id": "VdUpDwRPPswH"
      },
      "source": [
        "data_num <- data %>% select(charges, bmi, age)\n",
        "scaled_data_num <- as.data.frame(scale(data_num))"
      ],
      "execution_count": 59,
      "outputs": []
    },
    {
      "cell_type": "code",
      "metadata": {
        "id": "qf05XBT2Quow"
      },
      "source": [
        "kmeans_cluster <- kmeans(x = scaled_data_num, centers = 10)"
      ],
      "execution_count": 64,
      "outputs": []
    },
    {
      "cell_type": "code",
      "metadata": {
        "id": "chMydCANQ0dX",
        "outputId": "fec564db-ed4d-4059-b277-e2898b13b77a",
        "colab": {
          "base_uri": "https://localhost:8080/"
        }
      },
      "source": [
        "str(kmeans_cluster)"
      ],
      "execution_count": 65,
      "outputs": [
        {
          "output_type": "stream",
          "text": [
            "List of 9\n",
            " $ cluster     : int [1:1338] 6 3 3 6 5 9 5 5 5 10 ...\n",
            " $ centers     : num [1:10, 1:3] 1.988 -0.48 -0.825 2.582 -0.493 ...\n",
            "  ..- attr(*, \"dimnames\")=List of 2\n",
            "  .. ..$ : chr [1:10] \"1\" \"2\" \"3\" \"4\" ...\n",
            "  .. ..$ : chr [1:3] \"charges\" \"bmi\" \"age\"\n",
            " $ totss       : num 4011\n",
            " $ withinss    : num [1:10] 82.6 59.7 74.8 69.3 66.9 ...\n",
            " $ tot.withinss: num 718\n",
            " $ betweenss   : num 3293\n",
            " $ size        : int [1:10] 86 73 179 74 201 91 173 122 179 160\n",
            " $ iter        : int 5\n",
            " $ ifault      : int 0\n",
            " - attr(*, \"class\")= chr \"kmeans\"\n"
          ],
          "name": "stdout"
        }
      ]
    },
    {
      "cell_type": "code",
      "metadata": {
        "id": "kggFptyqHtKg",
        "outputId": "15a16737-4fd8-4ed6-b093-292708cf3f83",
        "colab": {
          "base_uri": "https://localhost:8080/",
          "height": 502
        }
      },
      "source": [
        "# K-means\n",
        "ttwss_df <- data.frame()\n",
        "for (k in 2:20){\n",
        "  kmeans_cluster <- kmeans(x = scaled_data_num, centers = k)\n",
        "  ttwss <- kmeans_cluster$tot.withinss\n",
        "  aux <- data.frame(K = k, ttwss = ttwss)\n",
        "  ttwss_df <- bind_rows(ttwss_df, aux)\n",
        "}\n",
        " \n",
        "ttwss_df\n"
      ],
      "execution_count": 67,
      "outputs": [
        {
          "output_type": "display_data",
          "data": {
            "text/plain": [
              "   K  ttwss    \n",
              "1   2 2748.5516\n",
              "2   3 1973.4755\n",
              "3   4 1508.2054\n",
              "4   5 1229.2556\n",
              "5   6 1103.1337\n",
              "6   7 1010.9139\n",
              "7   8  878.6376\n",
              "8   9  873.7741\n",
              "9  10  716.7927\n",
              "10 11  673.1202\n",
              "11 12  600.1406\n",
              "12 13  568.3380\n",
              "13 14  532.6242\n",
              "14 15  509.6411\n",
              "15 16  473.9422\n",
              "16 17  449.3947\n",
              "17 18  448.8256\n",
              "18 19  415.7346\n",
              "19 20  418.8895"
            ],
            "text/latex": "A data.frame: 19 × 2\n\\begin{tabular}{ll}\n K & ttwss\\\\\n <int> & <dbl>\\\\\n\\hline\n\t  2 & 2748.5516\\\\\n\t  3 & 1973.4755\\\\\n\t  4 & 1508.2054\\\\\n\t  5 & 1229.2556\\\\\n\t  6 & 1103.1337\\\\\n\t  7 & 1010.9139\\\\\n\t  8 &  878.6376\\\\\n\t  9 &  873.7741\\\\\n\t 10 &  716.7927\\\\\n\t 11 &  673.1202\\\\\n\t 12 &  600.1406\\\\\n\t 13 &  568.3380\\\\\n\t 14 &  532.6242\\\\\n\t 15 &  509.6411\\\\\n\t 16 &  473.9422\\\\\n\t 17 &  449.3947\\\\\n\t 18 &  448.8256\\\\\n\t 19 &  415.7346\\\\\n\t 20 &  418.8895\\\\\n\\end{tabular}\n",
            "text/markdown": "\nA data.frame: 19 × 2\n\n| K &lt;int&gt; | ttwss &lt;dbl&gt; |\n|---|---|\n|  2 | 2748.5516 |\n|  3 | 1973.4755 |\n|  4 | 1508.2054 |\n|  5 | 1229.2556 |\n|  6 | 1103.1337 |\n|  7 | 1010.9139 |\n|  8 |  878.6376 |\n|  9 |  873.7741 |\n| 10 |  716.7927 |\n| 11 |  673.1202 |\n| 12 |  600.1406 |\n| 13 |  568.3380 |\n| 14 |  532.6242 |\n| 15 |  509.6411 |\n| 16 |  473.9422 |\n| 17 |  449.3947 |\n| 18 |  448.8256 |\n| 19 |  415.7346 |\n| 20 |  418.8895 |\n\n",
            "text/html": [
              "<table>\n",
              "<caption>A data.frame: 19 × 2</caption>\n",
              "<thead>\n",
              "\t<tr><th scope=col>K</th><th scope=col>ttwss</th></tr>\n",
              "\t<tr><th scope=col>&lt;int&gt;</th><th scope=col>&lt;dbl&gt;</th></tr>\n",
              "</thead>\n",
              "<tbody>\n",
              "\t<tr><td> 2</td><td>2748.5516</td></tr>\n",
              "\t<tr><td> 3</td><td>1973.4755</td></tr>\n",
              "\t<tr><td> 4</td><td>1508.2054</td></tr>\n",
              "\t<tr><td> 5</td><td>1229.2556</td></tr>\n",
              "\t<tr><td> 6</td><td>1103.1337</td></tr>\n",
              "\t<tr><td> 7</td><td>1010.9139</td></tr>\n",
              "\t<tr><td> 8</td><td> 878.6376</td></tr>\n",
              "\t<tr><td> 9</td><td> 873.7741</td></tr>\n",
              "\t<tr><td>10</td><td> 716.7927</td></tr>\n",
              "\t<tr><td>11</td><td> 673.1202</td></tr>\n",
              "\t<tr><td>12</td><td> 600.1406</td></tr>\n",
              "\t<tr><td>13</td><td> 568.3380</td></tr>\n",
              "\t<tr><td>14</td><td> 532.6242</td></tr>\n",
              "\t<tr><td>15</td><td> 509.6411</td></tr>\n",
              "\t<tr><td>16</td><td> 473.9422</td></tr>\n",
              "\t<tr><td>17</td><td> 449.3947</td></tr>\n",
              "\t<tr><td>18</td><td> 448.8256</td></tr>\n",
              "\t<tr><td>19</td><td> 415.7346</td></tr>\n",
              "\t<tr><td>20</td><td> 418.8895</td></tr>\n",
              "</tbody>\n",
              "</table>\n"
            ]
          },
          "metadata": {
            "tags": []
          }
        }
      ]
    },
    {
      "cell_type": "code",
      "metadata": {
        "id": "o3azSaBwR0uH",
        "outputId": "cade127b-e705-4c87-9d37-6e265ca8c328",
        "colab": {
          "base_uri": "https://localhost:8080/",
          "height": 437
        }
      },
      "source": [
        "ggplot(data = ttwss_df, aes(x = K, y = ttwss)) + geom_point() + geom_line()\n",
        "# 8"
      ],
      "execution_count": 70,
      "outputs": [
        {
          "output_type": "display_data",
          "data": {
            "image/png": "[encoded data removed]",
            "text/plain": [
              "plot without title"
            ]
          },
          "metadata": {
            "tags": [],
            "image/png": {
              "width": 420,
              "height": 420
            }
          }
        }
      ]
    },
    {
      "cell_type": "code",
      "metadata": {
        "id": "tITcdNmTShSn"
      },
      "source": [
        "hc_cluster <- hclust(dist(data_num), method=\"complete\")"
      ],
      "execution_count": 72,
      "outputs": []
    },
    {
      "cell_type": "code",
      "metadata": {
        "id": "PVPpE3qFTKdh",
        "outputId": "e73cad66-0e94-4f20-d48a-af0dc84185aa",
        "colab": {
          "base_uri": "https://localhost:8080/",
          "height": 437
        }
      },
      "source": [
        "plot(hc_cluster, \n",
        "     hang   = -1, #posición inicio dendograma\n",
        "     cex    = .6)\n",
        "\n"
      ],
      "execution_count": 75,
      "outputs": [
        {
          "output_type": "display_data",
          "data": {
            "image/png": "[encoded data removed]",
            "text/plain": [
              "Plot with title “Cluster Dendrogram”"
            ]
          },
          "metadata": {
            "tags": [],
            "image/png": {
              "width": 420,
              "height": 420
            }
          }
        }
      ]
    },
    {
      "cell_type": "markdown",
      "metadata": {
        "id": "pKXFW0xbX-9m"
      },
      "source": [
        "**P4)** A continuación usted deberá modelar el valor de la prima del seguro (variable charges), mediante un modelo de regresión lineal. Para ello considere como variables predictoras todas las variables del dataset salvo las columnas `charges`, `cl_km` y `cl_hc`\n",
        "\n",
        " 1. Mediante la función `lm`, implemente un modelo de regresión con todas las variables indicadas en el párrafo anterior, pero **excluya** los registros con primas atípicamente altas, para ello no considere los registros en que el campo `es_outlier` es igual a 1.\n",
        "\n",
        " 2.(2pts) Comente sobre la calidad del ajuste de este modelo. Para ello considere el valor-p asociado al estadístico F del resumen del modelo. ¿Es un modelo pertinente?\n",
        " 3.(2pts) Comente sobre la calidad del ajuste en términos del valor de $R^2$ . ¿Cuánta de la variabilidad real es explicada por este modelo?\n",
        " 4.(3pts) Comente sobre la significancia de las variables incluídas en este modelo. ¿Son todas significativas? Recuerde lo indicado en ayudantía respecto de la interpretación de los coeficientes estimados asociados a una variable categórica en un modelo lineal.\n",
        " 5.(2pts) Teniendo en cuenta el signifiado de los coeficientes de un modelo de regresión lineal ¿cuál es la variable más importante en este modelo al momento de estimar la prima del seguro?¿se condice con lo estudiado en el árbol de decisión?\n",
        " 6.(2pts) ¿En cuánto aumenta la prima esperada si una persona tiene un hijo adicional?\n",
        " 7.(2pts) ¿En cuánto varía la prima esperada de un fumador respecto de un no fumador?\n",
        " 8.(3pts) Repita las preguntas desde P4.1 hasta P4.4 pero ahora considerando las obervaciones atípicas y no atípicas. ¿Cambia la calidad del modelo?\n",
        "\n"
      ]
    },
    {
      "cell_type": "code",
      "metadata": {
        "id": "NdSpRnaqftXH"
      },
      "source": [
        "## Respuesta"
      ],
      "execution_count": null,
      "outputs": []
    },
    {
      "cell_type": "code",
      "metadata": {
        "id": "y0UheSh8ProE",
        "outputId": "58114321-3d86-4c20-9529-4472ca63d2f4",
        "colab": {
          "base_uri": "https://localhost:8080/",
          "height": 1000
        }
      },
      "source": [
        "data_lm <- data %>% filter(es_outlier == FALSE) %>% select(-es_outlier)\n",
        "data_lm"
      ],
      "execution_count": 78,
      "outputs": [
        {
          "output_type": "display_data",
          "data": {
            "text/plain": [
              "     age sex    bmi    children smoker region    charges  \n",
              "1    19  female 27.900 0        yes    southwest 16884.924\n",
              "2    18  male   33.770 1        no     southeast  1725.552\n",
              "3    28  male   33.000 3        no     southeast  4449.462\n",
              "4    33  male   22.705 0        no     northwest 21984.471\n",
              "5    32  male   28.880 0        no     northwest  3866.855\n",
              "6    31  female 25.740 0        no     southeast  3756.622\n",
              "7    46  female 33.440 1        no     southeast  8240.590\n",
              "8    37  female 27.740 3        no     northwest  7281.506\n",
              "9    37  male   29.830 2        no     northeast  6406.411\n",
              "10   60  female 25.840 0        no     northwest 28923.137\n",
              "11   25  male   26.220 0        no     northeast  2721.321\n",
              "12   62  female 26.290 0        yes    southeast 27808.725\n",
              "13   23  male   34.400 0        no     southwest  1826.843\n",
              "14   56  female 39.820 0        no     southeast 11090.718\n",
              "15   19  male   24.600 1        no     southwest  1837.237\n",
              "16   52  female 30.780 1        no     northeast 10797.336\n",
              "17   23  male   23.845 0        no     northeast  2395.172\n",
              "18   56  male   40.300 0        no     southwest 10602.385\n",
              "19   60  female 36.005 0        no     northeast 13228.847\n",
              "20   30  female 32.400 1        no     southwest  4149.736\n",
              "21   18  male   34.100 0        no     southeast  1137.011\n",
              "22   37  male   28.025 2        no     northwest  6203.902\n",
              "23   59  female 27.720 3        no     southeast 14001.134\n",
              "24   63  female 23.085 0        no     northeast 14451.835\n",
              "25   55  female 32.775 2        no     northwest 12268.632\n",
              "26   23  male   17.385 1        no     northwest  2775.192\n",
              "27   18  female 26.315 0        no     northeast  2198.190\n",
              "28   19  female 28.600 5        no     southwest  4687.797\n",
              "29   63  male   28.310 0        no     northwest 13770.098\n",
              "30   19  male   20.425 0        no     northwest  1625.434\n",
              "⋮    ⋮   ⋮      ⋮      ⋮        ⋮      ⋮         ⋮        \n",
              "1170 29  female 21.850 0        yes    northeast 16115.305\n",
              "1171 32  male   28.120 4        yes    northwest 21472.479\n",
              "1172 25  female 30.200 0        yes    southwest 33900.653\n",
              "1173 41  male   32.200 2        no     southwest  6875.961\n",
              "1174 42  male   26.315 1        no     northwest  6940.910\n",
              "1175 33  female 26.695 0        no     northwest  4571.413\n",
              "1176 34  male   42.900 1        no     southwest  4536.259\n",
              "1177 30  female 23.655 3        yes    northwest 18765.875\n",
              "1178 18  male   28.310 1        no     northeast 11272.331\n",
              "1179 19  female 20.600 0        no     southwest  1731.677\n",
              "1180 18  male   53.130 0        no     southeast  1163.463\n",
              "1181 35  male   39.710 4        no     northeast 19496.719\n",
              "1182 39  female 26.315 2        no     northwest  7201.701\n",
              "1183 31  male   31.065 3        no     northwest  5425.023\n",
              "1184 62  male   26.695 0        yes    northeast 28101.333\n",
              "1185 62  male   38.830 0        no     southeast 12981.346\n",
              "1186 31  male   25.935 1        no     northwest  4239.893\n",
              "1187 61  male   33.535 0        no     northeast 13143.337\n",
              "1188 42  female 32.870 0        no     northeast  7050.021\n",
              "1189 51  male   30.030 1        no     southeast  9377.905\n",
              "1190 23  female 24.225 2        no     northeast 22395.744\n",
              "1191 52  male   38.600 2        no     southwest 10325.206\n",
              "1192 57  female 25.740 2        no     southeast 12629.166\n",
              "1193 23  female 33.400 0        no     southwest 10795.937\n",
              "1194 52  female 44.700 3        no     southwest 11411.685\n",
              "1195 50  male   30.970 3        no     northwest 10600.548\n",
              "1196 18  female 31.920 0        no     northeast  2205.981\n",
              "1197 18  female 36.850 0        no     southeast  1629.833\n",
              "1198 21  female 25.800 0        no     southwest  2007.945\n",
              "1199 61  female 29.070 0        yes    northwest 29141.360"
            ],
            "text/latex": "A data.frame: 1199 × 7\n\\begin{tabular}{lllllll}\n age & sex & bmi & children & smoker & region & charges\\\\\n <int> & <fct> & <dbl> & <int> & <fct> & <fct> & <dbl>\\\\\n\\hline\n\t 19 & female & 27.900 & 0 & yes & southwest & 16884.924\\\\\n\t 18 & male   & 33.770 & 1 & no  & southeast &  1725.552\\\\\n\t 28 & male   & 33.000 & 3 & no  & southeast &  4449.462\\\\\n\t 33 & male   & 22.705 & 0 & no  & northwest & 21984.471\\\\\n\t 32 & male   & 28.880 & 0 & no  & northwest &  3866.855\\\\\n\t 31 & female & 25.740 & 0 & no  & southeast &  3756.622\\\\\n\t 46 & female & 33.440 & 1 & no  & southeast &  8240.590\\\\\n\t 37 & female & 27.740 & 3 & no  & northwest &  7281.506\\\\\n\t 37 & male   & 29.830 & 2 & no  & northeast &  6406.411\\\\\n\t 60 & female & 25.840 & 0 & no  & northwest & 28923.137\\\\\n\t 25 & male   & 26.220 & 0 & no  & northeast &  2721.321\\\\\n\t 62 & female & 26.290 & 0 & yes & southeast & 27808.725\\\\\n\t 23 & male   & 34.400 & 0 & no  & southwest &  1826.843\\\\\n\t 56 & female & 39.820 & 0 & no  & southeast & 11090.718\\\\\n\t 19 & male   & 24.600 & 1 & no  & southwest &  1837.237\\\\\n\t 52 & female & 30.780 & 1 & no  & northeast & 10797.336\\\\\n\t 23 & male   & 23.845 & 0 & no  & northeast &  2395.172\\\\\n\t 56 & male   & 40.300 & 0 & no  & southwest & 10602.385\\\\\n\t 60 & female & 36.005 & 0 & no  & northeast & 13228.847\\\\\n\t 30 & female & 32.400 & 1 & no  & southwest &  4149.736\\\\\n\t 18 & male   & 34.100 & 0 & no  & southeast &  1137.011\\\\\n\t 37 & male   & 28.025 & 2 & no  & northwest &  6203.902\\\\\n\t 59 & female & 27.720 & 3 & no  & southeast & 14001.134\\\\\n\t 63 & female & 23.085 & 0 & no  & northeast & 14451.835\\\\\n\t 55 & female & 32.775 & 2 & no  & northwest & 12268.632\\\\\n\t 23 & male   & 17.385 & 1 & no  & northwest &  2775.192\\\\\n\t 18 & female & 26.315 & 0 & no  & northeast &  2198.190\\\\\n\t 19 & female & 28.600 & 5 & no  & southwest &  4687.797\\\\\n\t 63 & male   & 28.310 & 0 & no  & northwest & 13770.098\\\\\n\t 19 & male   & 20.425 & 0 & no  & northwest &  1625.434\\\\\n\t ⋮ & ⋮ & ⋮ & ⋮ & ⋮ & ⋮ & ⋮\\\\\n\t 29 & female & 21.850 & 0 & yes & northeast & 16115.305\\\\\n\t 32 & male   & 28.120 & 4 & yes & northwest & 21472.479\\\\\n\t 25 & female & 30.200 & 0 & yes & southwest & 33900.653\\\\\n\t 41 & male   & 32.200 & 2 & no  & southwest &  6875.961\\\\\n\t 42 & male   & 26.315 & 1 & no  & northwest &  6940.910\\\\\n\t 33 & female & 26.695 & 0 & no  & northwest &  4571.413\\\\\n\t 34 & male   & 42.900 & 1 & no  & southwest &  4536.259\\\\\n\t 30 & female & 23.655 & 3 & yes & northwest & 18765.875\\\\\n\t 18 & male   & 28.310 & 1 & no  & northeast & 11272.331\\\\\n\t 19 & female & 20.600 & 0 & no  & southwest &  1731.677\\\\\n\t 18 & male   & 53.130 & 0 & no  & southeast &  1163.463\\\\\n\t 35 & male   & 39.710 & 4 & no  & northeast & 19496.719\\\\\n\t 39 & female & 26.315 & 2 & no  & northwest &  7201.701\\\\\n\t 31 & male   & 31.065 & 3 & no  & northwest &  5425.023\\\\\n\t 62 & male   & 26.695 & 0 & yes & northeast & 28101.333\\\\\n\t 62 & male   & 38.830 & 0 & no  & southeast & 12981.346\\\\\n\t 31 & male   & 25.935 & 1 & no  & northwest &  4239.893\\\\\n\t 61 & male   & 33.535 & 0 & no  & northeast & 13143.337\\\\\n\t 42 & female & 32.870 & 0 & no  & northeast &  7050.021\\\\\n\t 51 & male   & 30.030 & 1 & no  & southeast &  9377.905\\\\\n\t 23 & female & 24.225 & 2 & no  & northeast & 22395.744\\\\\n\t 52 & male   & 38.600 & 2 & no  & southwest & 10325.206\\\\\n\t 57 & female & 25.740 & 2 & no  & southeast & 12629.166\\\\\n\t 23 & female & 33.400 & 0 & no  & southwest & 10795.937\\\\\n\t 52 & female & 44.700 & 3 & no  & southwest & 11411.685\\\\\n\t 50 & male   & 30.970 & 3 & no  & northwest & 10600.548\\\\\n\t 18 & female & 31.920 & 0 & no  & northeast &  2205.981\\\\\n\t 18 & female & 36.850 & 0 & no  & southeast &  1629.833\\\\\n\t 21 & female & 25.800 & 0 & no  & southwest &  2007.945\\\\\n\t 61 & female & 29.070 & 0 & yes & northwest & 29141.360\\\\\n\\end{tabular}\n",
            "text/markdown": "\nA data.frame: 1199 × 7\n\n| age &lt;int&gt; | sex &lt;fct&gt; | bmi &lt;dbl&gt; | children &lt;int&gt; | smoker &lt;fct&gt; | region &lt;fct&gt; | charges &lt;dbl&gt; |\n|---|---|---|---|---|---|---|\n| 19 | female | 27.900 | 0 | yes | southwest | 16884.924 |\n| 18 | male   | 33.770 | 1 | no  | southeast |  1725.552 |\n| 28 | male   | 33.000 | 3 | no  | southeast |  4449.462 |\n| 33 | male   | 22.705 | 0 | no  | northwest | 21984.471 |\n| 32 | male   | 28.880 | 0 | no  | northwest |  3866.855 |\n| 31 | female | 25.740 | 0 | no  | southeast |  3756.622 |\n| 46 | female | 33.440 | 1 | no  | southeast |  8240.590 |\n| 37 | female | 27.740 | 3 | no  | northwest |  7281.506 |\n| 37 | male   | 29.830 | 2 | no  | northeast |  6406.411 |\n| 60 | female | 25.840 | 0 | no  | northwest | 28923.137 |\n| 25 | male   | 26.220 | 0 | no  | northeast |  2721.321 |\n| 62 | female | 26.290 | 0 | yes | southeast | 27808.725 |\n| 23 | male   | 34.400 | 0 | no  | southwest |  1826.843 |\n| 56 | female | 39.820 | 0 | no  | southeast | 11090.718 |\n| 19 | male   | 24.600 | 1 | no  | southwest |  1837.237 |\n| 52 | female | 30.780 | 1 | no  | northeast | 10797.336 |\n| 23 | male   | 23.845 | 0 | no  | northeast |  2395.172 |\n| 56 | male   | 40.300 | 0 | no  | southwest | 10602.385 |\n| 60 | female | 36.005 | 0 | no  | northeast | 13228.847 |\n| 30 | female | 32.400 | 1 | no  | southwest |  4149.736 |\n| 18 | male   | 34.100 | 0 | no  | southeast |  1137.011 |\n| 37 | male   | 28.025 | 2 | no  | northwest |  6203.902 |\n| 59 | female | 27.720 | 3 | no  | southeast | 14001.134 |\n| 63 | female | 23.085 | 0 | no  | northeast | 14451.835 |\n| 55 | female | 32.775 | 2 | no  | northwest | 12268.632 |\n| 23 | male   | 17.385 | 1 | no  | northwest |  2775.192 |\n| 18 | female | 26.315 | 0 | no  | northeast |  2198.190 |\n| 19 | female | 28.600 | 5 | no  | southwest |  4687.797 |\n| 63 | male   | 28.310 | 0 | no  | northwest | 13770.098 |\n| 19 | male   | 20.425 | 0 | no  | northwest |  1625.434 |\n| ⋮ | ⋮ | ⋮ | ⋮ | ⋮ | ⋮ | ⋮ |\n| 29 | female | 21.850 | 0 | yes | northeast | 16115.305 |\n| 32 | male   | 28.120 | 4 | yes | northwest | 21472.479 |\n| 25 | female | 30.200 | 0 | yes | southwest | 33900.653 |\n| 41 | male   | 32.200 | 2 | no  | southwest |  6875.961 |\n| 42 | male   | 26.315 | 1 | no  | northwest |  6940.910 |\n| 33 | female | 26.695 | 0 | no  | northwest |  4571.413 |\n| 34 | male   | 42.900 | 1 | no  | southwest |  4536.259 |\n| 30 | female | 23.655 | 3 | yes | northwest | 18765.875 |\n| 18 | male   | 28.310 | 1 | no  | northeast | 11272.331 |\n| 19 | female | 20.600 | 0 | no  | southwest |  1731.677 |\n| 18 | male   | 53.130 | 0 | no  | southeast |  1163.463 |\n| 35 | male   | 39.710 | 4 | no  | northeast | 19496.719 |\n| 39 | female | 26.315 | 2 | no  | northwest |  7201.701 |\n| 31 | male   | 31.065 | 3 | no  | northwest |  5425.023 |\n| 62 | male   | 26.695 | 0 | yes | northeast | 28101.333 |\n| 62 | male   | 38.830 | 0 | no  | southeast | 12981.346 |\n| 31 | male   | 25.935 | 1 | no  | northwest |  4239.893 |\n| 61 | male   | 33.535 | 0 | no  | northeast | 13143.337 |\n| 42 | female | 32.870 | 0 | no  | northeast |  7050.021 |\n| 51 | male   | 30.030 | 1 | no  | southeast |  9377.905 |\n| 23 | female | 24.225 | 2 | no  | northeast | 22395.744 |\n| 52 | male   | 38.600 | 2 | no  | southwest | 10325.206 |\n| 57 | female | 25.740 | 2 | no  | southeast | 12629.166 |\n| 23 | female | 33.400 | 0 | no  | southwest | 10795.937 |\n| 52 | female | 44.700 | 3 | no  | southwest | 11411.685 |\n| 50 | male   | 30.970 | 3 | no  | northwest | 10600.548 |\n| 18 | female | 31.920 | 0 | no  | northeast |  2205.981 |\n| 18 | female | 36.850 | 0 | no  | southeast |  1629.833 |\n| 21 | female | 25.800 | 0 | no  | southwest |  2007.945 |\n| 61 | female | 29.070 | 0 | yes | northwest | 29141.360 |\n\n",
            "text/html": [
              "<table>\n",
              "<caption>A data.frame: 1199 × 7</caption>\n",
              "<thead>\n",
              "\t<tr><th scope=col>age</th><th scope=col>sex</th><th scope=col>bmi</th><th scope=col>children</th><th scope=col>smoker</th><th scope=col>region</th><th scope=col>charges</th></tr>\n",
              "\t<tr><th scope=col>&lt;int&gt;</th><th scope=col>&lt;fct&gt;</th><th scope=col>&lt;dbl&gt;</th><th scope=col>&lt;int&gt;</th><th scope=col>&lt;fct&gt;</th><th scope=col>&lt;fct&gt;</th><th scope=col>&lt;dbl&gt;</th></tr>\n",
              "</thead>\n",
              "<tbody>\n",
              "\t<tr><td>19</td><td>female</td><td>27.900</td><td>0</td><td>yes</td><td>southwest</td><td>16884.924</td></tr>\n",
              "\t<tr><td>18</td><td>male  </td><td>33.770</td><td>1</td><td>no </td><td>southeast</td><td> 1725.552</td></tr>\n",
              "\t<tr><td>28</td><td>male  </td><td>33.000</td><td>3</td><td>no </td><td>southeast</td><td> 4449.462</td></tr>\n",
              "\t<tr><td>33</td><td>male  </td><td>22.705</td><td>0</td><td>no </td><td>northwest</td><td>21984.471</td></tr>\n",
              "\t<tr><td>32</td><td>male  </td><td>28.880</td><td>0</td><td>no </td><td>northwest</td><td> 3866.855</td></tr>\n",
              "\t<tr><td>31</td><td>female</td><td>25.740</td><td>0</td><td>no </td><td>southeast</td><td> 3756.622</td></tr>\n",
              "\t<tr><td>46</td><td>female</td><td>33.440</td><td>1</td><td>no </td><td>southeast</td><td> 8240.590</td></tr>\n",
              "\t<tr><td>37</td><td>female</td><td>27.740</td><td>3</td><td>no </td><td>northwest</td><td> 7281.506</td></tr>\n",
              "\t<tr><td>37</td><td>male  </td><td>29.830</td><td>2</td><td>no </td><td>northeast</td><td> 6406.411</td></tr>\n",
              "\t<tr><td>60</td><td>female</td><td>25.840</td><td>0</td><td>no </td><td>northwest</td><td>28923.137</td></tr>\n",
              "\t<tr><td>25</td><td>male  </td><td>26.220</td><td>0</td><td>no </td><td>northeast</td><td> 2721.321</td></tr>\n",
              "\t<tr><td>62</td><td>female</td><td>26.290</td><td>0</td><td>yes</td><td>southeast</td><td>27808.725</td></tr>\n",
              "\t<tr><td>23</td><td>male  </td><td>34.400</td><td>0</td><td>no </td><td>southwest</td><td> 1826.843</td></tr>\n",
              "\t<tr><td>56</td><td>female</td><td>39.820</td><td>0</td><td>no </td><td>southeast</td><td>11090.718</td></tr>\n",
              "\t<tr><td>19</td><td>male  </td><td>24.600</td><td>1</td><td>no </td><td>southwest</td><td> 1837.237</td></tr>\n",
              "\t<tr><td>52</td><td>female</td><td>30.780</td><td>1</td><td>no </td><td>northeast</td><td>10797.336</td></tr>\n",
              "\t<tr><td>23</td><td>male  </td><td>23.845</td><td>0</td><td>no </td><td>northeast</td><td> 2395.172</td></tr>\n",
              "\t<tr><td>56</td><td>male  </td><td>40.300</td><td>0</td><td>no </td><td>southwest</td><td>10602.385</td></tr>\n",
              "\t<tr><td>60</td><td>female</td><td>36.005</td><td>0</td><td>no </td><td>northeast</td><td>13228.847</td></tr>\n",
              "\t<tr><td>30</td><td>female</td><td>32.400</td><td>1</td><td>no </td><td>southwest</td><td> 4149.736</td></tr>\n",
              "\t<tr><td>18</td><td>male  </td><td>34.100</td><td>0</td><td>no </td><td>southeast</td><td> 1137.011</td></tr>\n",
              "\t<tr><td>37</td><td>male  </td><td>28.025</td><td>2</td><td>no </td><td>northwest</td><td> 6203.902</td></tr>\n",
              "\t<tr><td>59</td><td>female</td><td>27.720</td><td>3</td><td>no </td><td>southeast</td><td>14001.134</td></tr>\n",
              "\t<tr><td>63</td><td>female</td><td>23.085</td><td>0</td><td>no </td><td>northeast</td><td>14451.835</td></tr>\n",
              "\t<tr><td>55</td><td>female</td><td>32.775</td><td>2</td><td>no </td><td>northwest</td><td>12268.632</td></tr>\n",
              "\t<tr><td>23</td><td>male  </td><td>17.385</td><td>1</td><td>no </td><td>northwest</td><td> 2775.192</td></tr>\n",
              "\t<tr><td>18</td><td>female</td><td>26.315</td><td>0</td><td>no </td><td>northeast</td><td> 2198.190</td></tr>\n",
              "\t<tr><td>19</td><td>female</td><td>28.600</td><td>5</td><td>no </td><td>southwest</td><td> 4687.797</td></tr>\n",
              "\t<tr><td>63</td><td>male  </td><td>28.310</td><td>0</td><td>no </td><td>northwest</td><td>13770.098</td></tr>\n",
              "\t<tr><td>19</td><td>male  </td><td>20.425</td><td>0</td><td>no </td><td>northwest</td><td> 1625.434</td></tr>\n",
              "\t<tr><td>⋮</td><td>⋮</td><td>⋮</td><td>⋮</td><td>⋮</td><td>⋮</td><td>⋮</td></tr>\n",
              "\t<tr><td>29</td><td>female</td><td>21.850</td><td>0</td><td>yes</td><td>northeast</td><td>16115.305</td></tr>\n",
              "\t<tr><td>32</td><td>male  </td><td>28.120</td><td>4</td><td>yes</td><td>northwest</td><td>21472.479</td></tr>\n",
              "\t<tr><td>25</td><td>female</td><td>30.200</td><td>0</td><td>yes</td><td>southwest</td><td>33900.653</td></tr>\n",
              "\t<tr><td>41</td><td>male  </td><td>32.200</td><td>2</td><td>no </td><td>southwest</td><td> 6875.961</td></tr>\n",
              "\t<tr><td>42</td><td>male  </td><td>26.315</td><td>1</td><td>no </td><td>northwest</td><td> 6940.910</td></tr>\n",
              "\t<tr><td>33</td><td>female</td><td>26.695</td><td>0</td><td>no </td><td>northwest</td><td> 4571.413</td></tr>\n",
              "\t<tr><td>34</td><td>male  </td><td>42.900</td><td>1</td><td>no </td><td>southwest</td><td> 4536.259</td></tr>\n",
              "\t<tr><td>30</td><td>female</td><td>23.655</td><td>3</td><td>yes</td><td>northwest</td><td>18765.875</td></tr>\n",
              "\t<tr><td>18</td><td>male  </td><td>28.310</td><td>1</td><td>no </td><td>northeast</td><td>11272.331</td></tr>\n",
              "\t<tr><td>19</td><td>female</td><td>20.600</td><td>0</td><td>no </td><td>southwest</td><td> 1731.677</td></tr>\n",
              "\t<tr><td>18</td><td>male  </td><td>53.130</td><td>0</td><td>no </td><td>southeast</td><td> 1163.463</td></tr>\n",
              "\t<tr><td>35</td><td>male  </td><td>39.710</td><td>4</td><td>no </td><td>northeast</td><td>19496.719</td></tr>\n",
              "\t<tr><td>39</td><td>female</td><td>26.315</td><td>2</td><td>no </td><td>northwest</td><td> 7201.701</td></tr>\n",
              "\t<tr><td>31</td><td>male  </td><td>31.065</td><td>3</td><td>no </td><td>northwest</td><td> 5425.023</td></tr>\n",
              "\t<tr><td>62</td><td>male  </td><td>26.695</td><td>0</td><td>yes</td><td>northeast</td><td>28101.333</td></tr>\n",
              "\t<tr><td>62</td><td>male  </td><td>38.830</td><td>0</td><td>no </td><td>southeast</td><td>12981.346</td></tr>\n",
              "\t<tr><td>31</td><td>male  </td><td>25.935</td><td>1</td><td>no </td><td>northwest</td><td> 4239.893</td></tr>\n",
              "\t<tr><td>61</td><td>male  </td><td>33.535</td><td>0</td><td>no </td><td>northeast</td><td>13143.337</td></tr>\n",
              "\t<tr><td>42</td><td>female</td><td>32.870</td><td>0</td><td>no </td><td>northeast</td><td> 7050.021</td></tr>\n",
              "\t<tr><td>51</td><td>male  </td><td>30.030</td><td>1</td><td>no </td><td>southeast</td><td> 9377.905</td></tr>\n",
              "\t<tr><td>23</td><td>female</td><td>24.225</td><td>2</td><td>no </td><td>northeast</td><td>22395.744</td></tr>\n",
              "\t<tr><td>52</td><td>male  </td><td>38.600</td><td>2</td><td>no </td><td>southwest</td><td>10325.206</td></tr>\n",
              "\t<tr><td>57</td><td>female</td><td>25.740</td><td>2</td><td>no </td><td>southeast</td><td>12629.166</td></tr>\n",
              "\t<tr><td>23</td><td>female</td><td>33.400</td><td>0</td><td>no </td><td>southwest</td><td>10795.937</td></tr>\n",
              "\t<tr><td>52</td><td>female</td><td>44.700</td><td>3</td><td>no </td><td>southwest</td><td>11411.685</td></tr>\n",
              "\t<tr><td>50</td><td>male  </td><td>30.970</td><td>3</td><td>no </td><td>northwest</td><td>10600.548</td></tr>\n",
              "\t<tr><td>18</td><td>female</td><td>31.920</td><td>0</td><td>no </td><td>northeast</td><td> 2205.981</td></tr>\n",
              "\t<tr><td>18</td><td>female</td><td>36.850</td><td>0</td><td>no </td><td>southeast</td><td> 1629.833</td></tr>\n",
              "\t<tr><td>21</td><td>female</td><td>25.800</td><td>0</td><td>no </td><td>southwest</td><td> 2007.945</td></tr>\n",
              "\t<tr><td>61</td><td>female</td><td>29.070</td><td>0</td><td>yes</td><td>northwest</td><td>29141.360</td></tr>\n",
              "</tbody>\n",
              "</table>\n"
            ]
          },
          "metadata": {
            "tags": []
          }
        }
      ]
    },
    {
      "cell_type": "code",
      "metadata": {
        "id": "rQp1Gno8T6rY",
        "outputId": "83f676cd-65fc-490b-a524-16289adc90c6",
        "colab": {
          "base_uri": "https://localhost:8080/",
          "height": 451
        }
      },
      "source": [
        "charges_lm <- lm(charges ~ ., data = data_lm)\n",
        "summary(charges_lm)"
      ],
      "execution_count": 80,
      "outputs": [
        {
          "output_type": "display_data",
          "data": {
            "text/plain": [
              "\n",
              "Call:\n",
              "lm(formula = charges ~ ., data = data_lm)\n",
              "\n",
              "Residuals:\n",
              "    Min      1Q  Median      3Q     Max \n",
              "-5620.4 -1833.6 -1318.0  -563.7 24344.6 \n",
              "\n",
              "Coefficients:\n",
              "                 Estimate Std. Error t value Pr(>|t|)    \n",
              "(Intercept)     -2879.209    812.499  -3.544 0.000410 ***\n",
              "age               242.517      9.479  25.585  < 2e-16 ***\n",
              "sexmale          -365.922    264.236  -1.385 0.166364    \n",
              "bmi                68.182     23.735   2.873 0.004144 ** \n",
              "children          415.537    108.877   3.817 0.000142 ***\n",
              "smokeryes       14646.328    429.073  34.135  < 2e-16 ***\n",
              "regionnorthwest  -280.175    372.909  -0.751 0.452606    \n",
              "regionsoutheast -1048.608    383.307  -2.736 0.006318 ** \n",
              "regionsouthwest -1310.633    378.886  -3.459 0.000561 ***\n",
              "---\n",
              "Signif. codes:  0 ‘***’ 0.001 ‘**’ 0.01 ‘*’ 0.05 ‘.’ 0.1 ‘ ’ 1\n",
              "\n",
              "Residual standard error: 4569 on 1190 degrees of freedom\n",
              "Multiple R-squared:  0.6045,\tAdjusted R-squared:  0.6018 \n",
              "F-statistic: 227.4 on 8 and 1190 DF,  p-value: < 2.2e-16\n"
            ]
          },
          "metadata": {
            "tags": []
          }
        }
      ]
    },
    {
      "cell_type": "code",
      "metadata": {
        "id": "AFQaiDgMTt0U"
      },
      "source": [
        ""
      ],
      "execution_count": null,
      "outputs": []
    }
  ]
}